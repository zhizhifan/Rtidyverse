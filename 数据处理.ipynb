{
 "cells": [
  {
   "attachments": {},
   "cell_type": "markdown",
   "metadata": {},
   "source": [
    "## 数据类型（结构）"
   ]
  },
  {
   "cell_type": "markdown",
   "metadata": {},
   "source": [
    "### 向量"
   ]
  },
  {
   "cell_type": "markdown",
   "metadata": {},
   "source": [
    "#### 访问向量子集"
   ]
  },
  {
   "cell_type": "markdown",
   "metadata": {},
   "source": [
    "##### 通过which()返回符合条件的向量子集位置"
   ]
  },
  {
   "cell_type": "code",
   "execution_count": 4,
   "metadata": {
    "vscode": {
     "languageId": "r"
    }
   },
   "outputs": [
    {
     "data": {
      "text/html": [
       "<style>\n",
       ".list-inline {list-style: none; margin:0; padding: 0}\n",
       ".list-inline>li {display: inline-block}\n",
       ".list-inline>li:not(:last-child)::after {content: \"\\00b7\"; padding: 0 .5ex}\n",
       "</style>\n",
       "<ol class=list-inline><li>1</li><li>2</li></ol>\n"
      ],
      "text/latex": [
       "\\begin{enumerate*}\n",
       "\\item 1\n",
       "\\item 2\n",
       "\\end{enumerate*}\n"
      ],
      "text/markdown": [
       "1. 1\n",
       "2. 2\n",
       "\n",
       "\n"
      ],
      "text/plain": [
       "[1] 1 2"
      ]
     },
     "metadata": {},
     "output_type": "display_data"
    },
    {
     "data": {
      "text/html": [
       "<style>\n",
       ".list-inline {list-style: none; margin:0; padding: 0}\n",
       ".list-inline>li {display: inline-block}\n",
       ".list-inline>li:not(:last-child)::after {content: \"\\00b7\"; padding: 0 .5ex}\n",
       "</style>\n",
       "<ol class=list-inline><li>4</li><li>5</li></ol>\n"
      ],
      "text/latex": [
       "\\begin{enumerate*}\n",
       "\\item 4\n",
       "\\item 5\n",
       "\\end{enumerate*}\n"
      ],
      "text/markdown": [
       "1. 4\n",
       "2. 5\n",
       "\n",
       "\n"
      ],
      "text/plain": [
       "[1] 4 5"
      ]
     },
     "metadata": {},
     "output_type": "display_data"
    }
   ],
   "source": [
    "v <- 4:10\n",
    "which(v < 6)\n",
    "v[which(v < 6)]"
   ]
  },
  {
   "cell_type": "markdown",
   "metadata": {},
   "source": [
    "`which.max()`和`which.min()`作为扩展可以返回向量最值的位置"
   ]
  },
  {
   "cell_type": "code",
   "execution_count": 5,
   "metadata": {
    "vscode": {
     "languageId": "r"
    }
   },
   "outputs": [
    {
     "data": {
      "text/html": [
       "7"
      ],
      "text/latex": [
       "7"
      ],
      "text/markdown": [
       "7"
      ],
      "text/plain": [
       "[1] 7"
      ]
     },
     "metadata": {},
     "output_type": "display_data"
    },
    {
     "data": {
      "text/html": [
       "1"
      ],
      "text/latex": [
       "1"
      ],
      "text/markdown": [
       "1"
      ],
      "text/plain": [
       "[1] 1"
      ]
     },
     "metadata": {},
     "output_type": "display_data"
    },
    {
     "data": {
      "text/html": [
       "10"
      ],
      "text/latex": [
       "10"
      ],
      "text/markdown": [
       "10"
      ],
      "text/plain": [
       "[1] 10"
      ]
     },
     "metadata": {},
     "output_type": "display_data"
    }
   ],
   "source": [
    "which.max(v)\n",
    "which.min(v)\n",
    "\n",
    "v[which.max(v)]"
   ]
  },
  {
   "cell_type": "markdown",
   "metadata": {},
   "source": [
    "#### 为向量元素命名"
   ]
  },
  {
   "cell_type": "markdown",
   "metadata": {},
   "source": [
    "可以在创建时进行命名，然后通过names()函数进行名字的修改。"
   ]
  },
  {
   "cell_type": "code",
   "execution_count": 7,
   "metadata": {
    "vscode": {
     "languageId": "r"
    }
   },
   "outputs": [
    {
     "name": "stdout",
     "output_type": "stream",
     "text": [
      "a b c \n",
      "1 2 3 \n"
     ]
    }
   ],
   "source": [
    "v2 <- c(\"a\" = 1, \"b\" = 2, \"c\" = 3)\n",
    "print(v2)"
   ]
  },
  {
   "cell_type": "code",
   "execution_count": 9,
   "metadata": {
    "vscode": {
     "languageId": "r"
    }
   },
   "outputs": [
    {
     "name": "stdout",
     "output_type": "stream",
     "text": [
      "d e f \n",
      "1 2 3 \n"
     ]
    }
   ],
   "source": [
    "names(v2) <- letters[4:6]\n",
    "print(v2)"
   ]
  },
  {
   "cell_type": "markdown",
   "metadata": {},
   "source": [
    "然后可以对其中的元素进行提取，这其中需要区分`[]`和`[[]]`，`[]`可以提取对象的子集，`[[]]`可以提取对象内的元素。当元素未命名时，两者没有区别，但当命名时："
   ]
  },
  {
   "cell_type": "code",
   "execution_count": 11,
   "metadata": {
    "vscode": {
     "languageId": "r"
    }
   },
   "outputs": [
    {
     "name": "stdout",
     "output_type": "stream",
     "text": [
      "e \n",
      "2 \n",
      "[1] 2\n",
      "e \n",
      "2 \n",
      "[1] 2\n"
     ]
    }
   ],
   "source": [
    "print(v2[2])\n",
    "print(v2[[2]])\n",
    "\n",
    "print(v2[\"e\"])\n",
    "print(v2[[\"e\"]])"
   ]
  },
  {
   "attachments": {},
   "cell_type": "markdown",
   "metadata": {},
   "source": [
    "### 矩阵"
   ]
  },
  {
   "attachments": {},
   "cell_type": "markdown",
   "metadata": {},
   "source": [
    "#### 矩阵生成"
   ]
  },
  {
   "attachments": {},
   "cell_type": "markdown",
   "metadata": {},
   "source": [
    "matrix()函数,常用参数：\n",
    "- `data`：输入矩阵的数据。\n",
    "- `nrow/ncol`：决定矩阵的行列数。\n",
    "- `byrow`：布尔值，决定是否按行创建矩阵。默认按列进行排列。"
   ]
  },
  {
   "cell_type": "code",
   "execution_count": 6,
   "metadata": {
    "vscode": {
     "languageId": "r"
    }
   },
   "outputs": [
    {
     "name": "stdout",
     "output_type": "stream",
     "text": [
      "     [,1] [,2] [,3] [,4] [,5]\n",
      "[1,]    1    2    3    4    5\n",
      "[2,]    6    7    8    9   10\n",
      "[3,]   11   12   13   14   15\n",
      "[4,]   16   17   18   19   20\n"
     ]
    }
   ],
   "source": [
    "print(\n",
    "  matrix(seq(1, 20), nrow = 4, byrow = TRUE)\n",
    ")"
   ]
  },
  {
   "cell_type": "markdown",
   "metadata": {},
   "source": [
    "#### 矩阵命名"
   ]
  },
  {
   "cell_type": "markdown",
   "metadata": {},
   "source": [
    "可以在生成时创建："
   ]
  },
  {
   "cell_type": "code",
   "execution_count": 4,
   "metadata": {
    "vscode": {
     "languageId": "r"
    }
   },
   "outputs": [
    {
     "name": "stdout",
     "output_type": "stream",
     "text": [
      "  A  B  C  D\n",
      "a 1  2  3  4\n",
      "b 5  6  7  8\n",
      "c 9 10 11 12\n"
     ]
    }
   ],
   "source": [
    "mat <- matrix(\n",
    "  seq(1, 12),\n",
    "  nrow = 3,\n",
    "  byrow = TRUE,\n",
    "  dimnames = list(letters[1:3], LETTERS[1:4])\n",
    ")\n",
    "#! dimnames赋值的列表中，第一个元素指定了矩阵的行名，第二个元素指定了矩阵的列名 # nolint: line_length_linter.\n",
    "print(mat)"
   ]
  },
  {
   "cell_type": "markdown",
   "metadata": {},
   "source": [
    "也可以生成后在进行修改："
   ]
  },
  {
   "cell_type": "code",
   "execution_count": 8,
   "metadata": {
    "vscode": {
     "languageId": "r"
    }
   },
   "outputs": [
    {
     "name": "stdout",
     "output_type": "stream",
     "text": [
      "  D  E  F  G\n",
      "d 1  2  3  4\n",
      "e 5  6  7  8\n",
      "f 9 10 11 12\n"
     ]
    }
   ],
   "source": [
    "dimnames(mat) <- list(letters[4:6], LETTERS[4:7])\n",
    "print(mat)"
   ]
  },
  {
   "cell_type": "code",
   "execution_count": 9,
   "metadata": {
    "vscode": {
     "languageId": "r"
    }
   },
   "outputs": [
    {
     "name": "stdout",
     "output_type": "stream",
     "text": [
      "  G  H  I  J\n",
      "g 1  2  3  4\n",
      "h 5  6  7  8\n",
      "i 9 10 11 12\n"
     ]
    }
   ],
   "source": [
    "rownames(mat) <- letters[7:9]\n",
    "colnames(mat) <- LETTERS[7:10]\n",
    "print(mat)"
   ]
  },
  {
   "cell_type": "markdown",
   "metadata": {},
   "source": [
    "#### 访问矩阵子集"
   ]
  },
  {
   "cell_type": "markdown",
   "metadata": {},
   "source": [
    "通常在进行矩阵子集的提取时，会使用一个二维存取器`[,]`来访问。虽然矩阵是用两个维度表示和访问，但它本质上仍然是向量，因此，<span style = 'color:red'><strong>向量的一维存取器也可以用来构建矩阵子集。</span></strong>"
   ]
  },
  {
   "cell_type": "code",
   "execution_count": 10,
   "metadata": {
    "vscode": {
     "languageId": "r"
    }
   },
   "outputs": [
    {
     "name": "stdout",
     "output_type": "stream",
     "text": [
      "      G     H     I     J\n",
      "g FALSE FALSE FALSE FALSE\n",
      "h FALSE  TRUE  TRUE  TRUE\n",
      "i  TRUE  TRUE  TRUE  TRUE\n",
      "[1]  9  6 10  7 11  8 12\n"
     ]
    }
   ],
   "source": [
    "print(mat > 5)"
   ]
  },
  {
   "cell_type": "code",
   "execution_count": 11,
   "metadata": {
    "vscode": {
     "languageId": "r"
    }
   },
   "outputs": [
    {
     "name": "stdout",
     "output_type": "stream",
     "text": [
      "[1]  9  6 10  7 11  8 12\n"
     ]
    }
   ],
   "source": [
    "print(mat[mat > 5]) #! 提取后为向量形式"
   ]
  },
  {
   "attachments": {},
   "cell_type": "markdown",
   "metadata": {},
   "source": [
    "#### 矩阵操作以及计算"
   ]
  },
  {
   "attachments": {},
   "cell_type": "markdown",
   "metadata": {},
   "source": [
    "查看行列数"
   ]
  },
  {
   "cell_type": "code",
   "execution_count": 5,
   "metadata": {
    "vscode": {
     "languageId": "r"
    }
   },
   "outputs": [
    {
     "data": {
      "text/html": [
       "4"
      ],
      "text/latex": [
       "4"
      ],
      "text/markdown": [
       "4"
      ],
      "text/plain": [
       "[1] 4"
      ]
     },
     "metadata": {},
     "output_type": "display_data"
    },
    {
     "data": {
      "text/html": [
       "5"
      ],
      "text/latex": [
       "5"
      ],
      "text/markdown": [
       "5"
      ],
      "text/plain": [
       "[1] 5"
      ]
     },
     "metadata": {},
     "output_type": "display_data"
    }
   ],
   "source": [
    "data <- matrix(seq(1, 20), nrow = 4, byrow = TRUE)\n",
    "nrow(data)\n",
    "ncol(data)"
   ]
  },
  {
   "cell_type": "markdown",
   "metadata": {},
   "source": [
    "### 数组"
   ]
  },
  {
   "cell_type": "markdown",
   "metadata": {},
   "source": [
    "具体来说，多维数据就是一个维度更高（通常大于2）、可访问的向量，是向量/矩阵向更高维度的自然推广。多维数组也要求元素是同一类型。"
   ]
  },
  {
   "attachments": {},
   "cell_type": "markdown",
   "metadata": {},
   "source": [
    "#### 数组创建"
   ]
  },
  {
   "cell_type": "markdown",
   "metadata": {},
   "source": [
    "```r\n",
    "array(data = NA, dim = length(data), dimnames = NULL)\n",
    "```"
   ]
  },
  {
   "cell_type": "code",
   "execution_count": 21,
   "metadata": {
    "vscode": {
     "languageId": "r"
    }
   },
   "outputs": [
    {
     "name": "stdout",
     "output_type": "stream",
     "text": [
      ", , 1\n",
      "\n",
      "     [,1] [,2] [,3] [,4]\n",
      "[1,]    1    3    5    7\n",
      "[2,]    2    4    6    8\n",
      "\n",
      ", , 2\n",
      "\n",
      "     [,1] [,2] [,3] [,4]\n",
      "[1,]    9   11   13   15\n",
      "[2,]   10   12   14   16\n",
      "\n",
      ", , 3\n",
      "\n",
      "     [,1] [,2] [,3] [,4]\n",
      "[1,]   17   19   21   23\n",
      "[2,]   18   20   22   24\n",
      "\n"
     ]
    }
   ],
   "source": [
    "a1 <- array(data = seq(1, 24), dim = c(2, 4, 3))\n",
    "print(a1)"
   ]
  },
  {
   "cell_type": "markdown",
   "metadata": {},
   "source": [
    "#### 数组命名"
   ]
  },
  {
   "cell_type": "markdown",
   "metadata": {},
   "source": [
    "可以在创建时命名，或者直接重命名："
   ]
  },
  {
   "cell_type": "code",
   "execution_count": 12,
   "metadata": {
    "vscode": {
     "languageId": "r"
    }
   },
   "outputs": [
    {
     "name": "stdout",
     "output_type": "stream",
     "text": [
      ", , p1\n",
      "\n",
      "  A B C D\n",
      "a 1 3 5 7\n",
      "b 2 4 6 8\n",
      "\n",
      ", , p2\n",
      "\n",
      "   A  B  C  D\n",
      "a  9 11 13 15\n",
      "b 10 12 14 16\n",
      "\n",
      ", , p3\n",
      "\n",
      "   A  B  C  D\n",
      "a 17 19 21 23\n",
      "b 18 20 22 24\n",
      "\n"
     ]
    }
   ],
   "source": [
    "a1 <- array(\n",
    "  data = seq(1, 24),\n",
    "  dim = c(2, 4, 3),\n",
    "  dimnames = list(\n",
    "    letters[1:2],\n",
    "    LETTERS[1:4],\n",
    "    paste0(\"p\", 1:3)\n",
    "  )\n",
    ")\n",
    "#! 类似地，命名的顺序依次为行，列，页名\n",
    "print(a1)"
   ]
  },
  {
   "cell_type": "markdown",
   "metadata": {},
   "source": [
    "#### 访问多维数组子集"
   ]
  },
  {
   "cell_type": "markdown",
   "metadata": {},
   "source": [
    "类似地，利用三维存取器进行子集的访问："
   ]
  },
  {
   "cell_type": "code",
   "execution_count": 13,
   "metadata": {
    "vscode": {
     "languageId": "r"
    }
   },
   "outputs": [
    {
     "name": "stdout",
     "output_type": "stream",
     "text": [
      "[1] 3\n",
      "   A  B  C  D\n",
      "a 17 19 21 23\n",
      "b 18 20 22 24\n"
     ]
    }
   ],
   "source": [
    "print(a1[1, 2, 1]) #! 访问第一页第一行第二列的内容"
   ]
  },
  {
   "cell_type": "code",
   "execution_count": 14,
   "metadata": {
    "vscode": {
     "languageId": "r"
    }
   },
   "outputs": [
    {
     "name": "stdout",
     "output_type": "stream",
     "text": [
      "   A  B  C  D\n",
      "a 17 19 21 23\n",
      "b 18 20 22 24\n"
     ]
    }
   ],
   "source": [
    "print(a1[, , \"p3\"]) #! 访问第三页的所有数据"
   ]
  },
  {
   "cell_type": "markdown",
   "metadata": {},
   "source": [
    "### 列表"
   ]
  },
  {
   "cell_type": "markdown",
   "metadata": {},
   "source": [
    "列表可以包含不同类型的对象，甚至可以包括其他列表，正是因为其能够将不同类型的对象打包到一起，所以可以十分方便的根据位置和名字进行访问。"
   ]
  },
  {
   "cell_type": "markdown",
   "metadata": {},
   "source": [
    "#### 创建列表"
   ]
  },
  {
   "cell_type": "markdown",
   "metadata": {},
   "source": [
    "```r\n",
    "list()\n",
    "```"
   ]
  },
  {
   "cell_type": "markdown",
   "metadata": {},
   "source": [
    "#### 列表命名"
   ]
  },
  {
   "cell_type": "markdown",
   "metadata": {},
   "source": [
    "可以在创建时命名，或者后续重命名（这与向量的做法是类似的）："
   ]
  },
  {
   "cell_type": "code",
   "execution_count": 15,
   "metadata": {
    "vscode": {
     "languageId": "r"
    }
   },
   "outputs": [
    {
     "name": "stdout",
     "output_type": "stream",
     "text": [
      "$a\n",
      "[1] 1 2 3 4\n",
      "\n",
      "$b\n",
      "[1]  TRUE FALSE\n",
      "\n",
      "$c\n",
      "     [,1] [,2] [,3]\n",
      "[1,]    1    4    7\n",
      "[2,]    2    5    8\n",
      "[3,]    3    6    9\n",
      "\n"
     ]
    }
   ],
   "source": [
    "l1 <- list(a = 1:4, b = c(TRUE, FALSE), c = matrix(1:9, nrow = 3))\n",
    "#! 创建的列表分为3个部分，分别是数值向量，逻辑向量，矩阵\n",
    "print(l1)"
   ]
  },
  {
   "cell_type": "code",
   "execution_count": 16,
   "metadata": {
    "vscode": {
     "languageId": "r"
    }
   },
   "outputs": [
    {
     "name": "stdout",
     "output_type": "stream",
     "text": [
      "$A\n",
      "[1] 1 2 3 4\n",
      "\n",
      "$B\n",
      "[1]  TRUE FALSE\n",
      "\n",
      "$C\n",
      "     [,1] [,2] [,3]\n",
      "[1,]    1    4    7\n",
      "[2,]    2    5    8\n",
      "[3,]    3    6    9\n",
      "\n"
     ]
    }
   ],
   "source": [
    "names(l1) <- LETTERS[1:3]\n",
    "print(l1)"
   ]
  },
  {
   "cell_type": "code",
   "execution_count": 17,
   "metadata": {
    "vscode": {
     "languageId": "r"
    }
   },
   "outputs": [
    {
     "name": "stdout",
     "output_type": "stream",
     "text": [
      "[[1]]\n",
      "[1] 1 2 3 4\n",
      "\n",
      "[[2]]\n",
      "[1]  TRUE FALSE\n",
      "\n",
      "[[3]]\n",
      "     [,1] [,2] [,3]\n",
      "[1,]    1    4    7\n",
      "[2,]    2    5    8\n",
      "[3,]    3    6    9\n",
      "\n"
     ]
    }
   ],
   "source": [
    "names(l1) <- NULL #! 移除列表名字\n",
    "print(l1)"
   ]
  },
  {
   "cell_type": "markdown",
   "metadata": {},
   "source": [
    "#### 提取列表成分"
   ]
  },
  {
   "cell_type": "code",
   "execution_count": 19,
   "metadata": {
    "vscode": {
     "languageId": "r"
    }
   },
   "outputs": [
    {
     "name": "stdout",
     "output_type": "stream",
     "text": [
      "[1] 1 2 3 4\n",
      "[1] 1 2 3 4\n",
      "[1] 1 2 3 4\n"
     ]
    }
   ],
   "source": [
    "l2 <- list(a = 1:4, b = c(TRUE, FALSE), c = matrix(1:9, nrow = 3))\n",
    "#step 三种提取方式\n",
    "print(l2[[1]])\n",
    "#! 如果列表已经命名，可以使用以下两种方式，提取的是具体元素\n",
    "print(l2$a)\n",
    "print(l2[[\"a\"]])"
   ]
  },
  {
   "cell_type": "markdown",
   "metadata": {},
   "source": [
    "#### 提取列表子集"
   ]
  },
  {
   "cell_type": "markdown",
   "metadata": {},
   "source": [
    "有些时候需要从列表中提取多个成分及其内容，由这些成分组成的列表构成了原列表的一个子集。就像提取向量和矩阵的子集一样，提取一个列表子集也用`[]`，`[]`中可以填入数值向量表示成分的位置，也可以直接用字符向量表示成分名字，更加地，用逻辑向量指定是否选择来取出列表成分。"
   ]
  },
  {
   "cell_type": "code",
   "execution_count": 20,
   "metadata": {
    "vscode": {
     "languageId": "r"
    }
   },
   "outputs": [
    {
     "name": "stdout",
     "output_type": "stream",
     "text": [
      "$a\n",
      "[1] 1 2 3 4\n",
      "\n",
      "$b\n",
      "[1]  TRUE FALSE\n",
      "\n",
      "$a\n",
      "[1] 1 2 3 4\n",
      "\n"
     ]
    }
   ],
   "source": [
    "# 提取的列表子集属性还是列表\n",
    "print(l2[c(1, 2)])\n",
    "print(l2[\"a\"])"
   ]
  },
  {
   "cell_type": "markdown",
   "metadata": {},
   "source": [
    "此时仍然要区分`[]`和`[[]]`的区别，用`[]`提取若干成分时，返回列表的子集，即还是列表。但是用`[[]]`提取只会返回对应成分的元素。"
   ]
  },
  {
   "cell_type": "code",
   "execution_count": 11,
   "metadata": {
    "vscode": {
     "languageId": "r"
    }
   },
   "outputs": [
    {
     "name": "stdout",
     "output_type": "stream",
     "text": [
      "[1] \"integer\"\n",
      "[1] \"list\"\n"
     ]
    }
   ],
   "source": [
    "test1 <- l2[[\"a\"]]\n",
    "test2 <- l2[\"a\"]\n",
    "print(class(test1)) # 返回对应成分元素的数据类型\n",
    "print(class(test2))"
   ]
  },
  {
   "cell_type": "markdown",
   "metadata": {},
   "source": [
    "#### 列表函数"
   ]
  },
  {
   "cell_type": "markdown",
   "metadata": {},
   "source": [
    "##### unlist()"
   ]
  },
  {
   "cell_type": "markdown",
   "metadata": {},
   "source": [
    "unlist()函数可以对列表进行去列表化，将一个列表<span style = 'color:red'><strong>打破成分界线</strong></span>，强制转换成一个向量（若列表的成分具有不同类型，则自动<span style = 'color:red'><strong>向下兼容到同一类型。</strong></span>）"
   ]
  },
  {
   "cell_type": "code",
   "execution_count": 12,
   "metadata": {
    "vscode": {
     "languageId": "r"
    }
   },
   "outputs": [
    {
     "name": "stdout",
     "output_type": "stream",
     "text": [
      "a1 a2 b1 b2 \n",
      " 1  2  3  4 \n"
     ]
    }
   ],
   "source": [
    "l3 <- list(a = 1:2, b = 3:4)\n",
    "print(unlist(l3))"
   ]
  },
  {
   "cell_type": "code",
   "execution_count": 15,
   "metadata": {
    "vscode": {
     "languageId": "r"
    }
   },
   "outputs": [
    {
     "name": "stdout",
     "output_type": "stream",
     "text": [
      " a1  a2  a3  b1  b2  b3 \n",
      "\"1\" \"2\" \"3\" \"a\" \"b\" \"c\" \n"
     ]
    }
   ],
   "source": [
    "l4 <- list(a = 1:3, b = letters[1:3])\n",
    "print(unlist(l4))"
   ]
  },
  {
   "cell_type": "markdown",
   "metadata": {},
   "source": [
    "tidyverse系列中的purrr包提供了一系列列表相关的函数，需要我们进一步学习："
   ]
  },
  {
   "cell_type": "markdown",
   "metadata": {},
   "source": [
    "##### pluck()"
   ]
  },
  {
   "cell_type": "markdown",
   "metadata": {},
   "source": [
    "`pluck()`函数实现了一种广义的`[[`，这种提取方法能够在数据结构中更加深入而灵活地进行索引。如果尝试访问的索引不存在或为NULL，则返回.default。\n",
    "```r\n",
    "pluck(.x, ..., .default = NULL)\n",
    "```\n",
    "`pluck <- value`是赋值的等价物，这将允许在嵌套数据结构中修改对象。\n",
    "\n",
    "参数解释：\n",
    "- `...`：一组访问器，用于索引对象。可以是正整数、负整数（从右边索引）、<span style = 'color:red'><strong>字符串（用于索引名称）</strong></span>或访问器函数（除了只支持名称和位置的赋值变种）。\n",
    "参数支持动态点号（dynamic dots），这在进行<span style = 'color:red'><strong>多层级的访问</strong></span>时十分重要。\n",
    "- `.default`：如果目标为NULL或不存在，则要使用的值（相当于对不存在的值进行赋值）。"
   ]
  },
  {
   "cell_type": "code",
   "execution_count": 3,
   "metadata": {
    "vscode": {
     "languageId": "r"
    }
   },
   "outputs": [
    {
     "name": "stdout",
     "output_type": "stream",
     "text": [
      "[[1]]\n",
      "[[1]][[1]]\n",
      "[1] \"a\"\n",
      "\n",
      "[[1]][[2]]\n",
      "[[1]][[2]][[1]]\n",
      "[1] 1\n",
      "\n",
      "[[1]][[2]]$elt\n",
      "[1] \"foo\"\n",
      "\n",
      "\n",
      "\n",
      "[[2]]\n",
      "[[2]][[1]]\n",
      "[1] \"b\"\n",
      "\n",
      "[[2]][[2]]\n",
      "[[2]][[2]][[1]]\n",
      "[1] 2\n",
      "\n",
      "[[2]][[2]]$elt\n",
      "[1] \"bar\"\n",
      "\n",
      "\n",
      "\n"
     ]
    }
   ],
   "source": [
    "# create a list:\n",
    "obj1 <- list(\"a\", list(1, elt = \"foo\"))\n",
    "obj2 <- list(\"b\", list(2, elt = \"bar\"))\n",
    "x <- list(obj1, obj2)\n",
    "print(x)\n",
    "# pluck() provides a way of retrieving objects from such data\n",
    "# structures using a combination of numeric positions, vector or\n",
    "# list names, and accessor functions."
   ]
  },
  {
   "cell_type": "code",
   "execution_count": 4,
   "metadata": {
    "vscode": {
     "languageId": "r"
    }
   },
   "outputs": [
    {
     "name": "stdout",
     "output_type": "stream",
     "text": [
      "[[1]]\n",
      "[1] \"a\"\n",
      "\n",
      "[[2]]\n",
      "[[2]][[1]]\n",
      "[1] 1\n",
      "\n",
      "[[2]]$elt\n",
      "[1] \"foo\"\n",
      "\n",
      "\n"
     ]
    }
   ],
   "source": [
    "library(purrr)\n",
    "# Numeric positions index into the list by position, just like `[[`:\n",
    "print(pluck(x, 1))\n",
    "# same as x[[1]]"
   ]
  },
  {
   "cell_type": "code",
   "execution_count": 5,
   "metadata": {
    "vscode": {
     "languageId": "r"
    }
   },
   "outputs": [
    {
     "name": "stdout",
     "output_type": "stream",
     "text": [
      "[[1]]\n",
      "[1] \"b\"\n",
      "\n",
      "[[2]]\n",
      "[[2]][[1]]\n",
      "[1] 2\n",
      "\n",
      "[[2]]$elt\n",
      "[1] \"bar\"\n",
      "\n",
      "\n"
     ]
    }
   ],
   "source": [
    "# Index from the back\n",
    "print(pluck(x, -1))\n",
    "# same as x[[2]]"
   ]
  },
  {
   "cell_type": "code",
   "execution_count": 6,
   "metadata": {
    "vscode": {
     "languageId": "r"
    }
   },
   "outputs": [
    {
     "name": "stdout",
     "output_type": "stream",
     "text": [
      "[[1]]\n",
      "[1] 1\n",
      "\n",
      "$elt\n",
      "[1] \"foo\"\n",
      "\n"
     ]
    }
   ],
   "source": [
    "print(pluck(x, 1, 2))\n",
    "# same as x[[1]][[2]]"
   ]
  },
  {
   "cell_type": "code",
   "execution_count": 7,
   "metadata": {
    "vscode": {
     "languageId": "r"
    }
   },
   "outputs": [
    {
     "name": "stdout",
     "output_type": "stream",
     "text": [
      "[1] \"foo\"\n"
     ]
    }
   ],
   "source": [
    "# Supply names to index into named vectors:\n",
    "print(pluck(x, 1, 2, \"elt\"))\n",
    "# same as x[[1]][[2]][[\"elt\"]]"
   ]
  },
  {
   "cell_type": "markdown",
   "metadata": {},
   "source": [
    "### 数据框"
   ]
  },
  {
   "cell_type": "markdown",
   "metadata": {},
   "source": [
    "更多的细节想看tibble部分，关于分析数据框的一些有用函数："
   ]
  },
  {
   "cell_type": "markdown",
   "metadata": {},
   "source": [
    "#### str()"
   ]
  },
  {
   "cell_type": "markdown",
   "metadata": {},
   "source": [
    "str()函数或者glimpse()函数作用在对象上可以查看其结构："
   ]
  },
  {
   "cell_type": "code",
   "execution_count": 17,
   "metadata": {
    "vscode": {
     "languageId": "r"
    }
   },
   "outputs": [
    {
     "name": "stdout",
     "output_type": "stream",
     "text": [
      "tibble [150 × 5] (S3: tbl_df/tbl/data.frame)\n",
      " $ Sepal.Length: num [1:150] 5.1 4.9 4.7 4.6 5 5.4 4.6 5 4.4 4.9 ...\n",
      " $ Sepal.Width : num [1:150] 3.5 3 3.2 3.1 3.6 3.9 3.4 3.4 2.9 3.1 ...\n",
      " $ Petal.Length: num [1:150] 1.4 1.4 1.3 1.5 1.4 1.7 1.4 1.5 1.4 1.5 ...\n",
      " $ Petal.Width : num [1:150] 0.2 0.2 0.2 0.2 0.2 0.4 0.3 0.2 0.2 0.1 ...\n",
      " $ Species     : Factor w/ 3 levels \"setosa\",\"versicolor\",..: 1 1 1 1 1 1 1 1 1 1 ...\n"
     ]
    }
   ],
   "source": [
    "library(tidyverse)\n",
    "str(as_tibble(iris))"
   ]
  },
  {
   "cell_type": "markdown",
   "metadata": {},
   "source": [
    "#### summary()"
   ]
  },
  {
   "cell_type": "markdown",
   "metadata": {},
   "source": [
    "或者summray()函数查看各成分汇总信息："
   ]
  },
  {
   "cell_type": "code",
   "execution_count": 30,
   "metadata": {
    "vscode": {
     "languageId": "r"
    }
   },
   "outputs": [
    {
     "data": {
      "text/plain": [
       "  Sepal.Length    Sepal.Width     Petal.Length    Petal.Width   \n",
       " Min.   :4.300   Min.   :2.000   Min.   :1.000   Min.   :0.100  \n",
       " 1st Qu.:5.100   1st Qu.:2.800   1st Qu.:1.600   1st Qu.:0.300  \n",
       " Median :5.800   Median :3.000   Median :4.350   Median :1.300  \n",
       " Mean   :5.843   Mean   :3.057   Mean   :3.758   Mean   :1.199  \n",
       " 3rd Qu.:6.400   3rd Qu.:3.300   3rd Qu.:5.100   3rd Qu.:1.800  \n",
       " Max.   :7.900   Max.   :4.400   Max.   :6.900   Max.   :2.500  \n",
       "       Species  \n",
       " setosa    :50  \n",
       " versicolor:50  \n",
       " virginica :50  \n",
       "                \n",
       "                \n",
       "                "
      ]
     },
     "metadata": {},
     "output_type": "display_data"
    }
   ],
   "source": [
    "summary(as_tibble(iris))"
   ]
  },
  {
   "cell_type": "markdown",
   "metadata": {},
   "source": [
    "## 时间序列对象"
   ]
  },
  {
   "cell_type": "markdown",
   "metadata": {},
   "source": [
    "### 生成"
   ]
  },
  {
   "cell_type": "markdown",
   "metadata": {},
   "source": [
    "可以用`ts()`函数生成时间序列对象，但只推荐利用该函数生成年度，季度，月度数据，周度、日度数据不是很推荐。这些对象是带有 \"ts\" 类别（和一些其他属性）的向量或矩阵。数据创建后便于进一步的时间序列分析：\n",
    "```r\n",
    "ts(data = NA, start = 1, end = numeric(), frequency = 1,\n",
    "   deltat = 1, ts.eps = getOption(\"ts.eps\"), class = , names = )\n",
    "```"
   ]
  },
  {
   "cell_type": "markdown",
   "metadata": {},
   "source": [
    "参数解释：\n",
    "- `data`：观察到的时间序列<span style = 'color:red'><strong>值的向量或矩阵</strong></span>。注意，如果传入数据框，则将通过`data.matrix`强制转换为数值矩阵，然后再进行转换。对数值向量来说，生成后只有一个时间序列。但对数值矩阵来说，矩阵的每一列都是一个单独的时间序列。\n",
    "- `start`：参数指定第一次观察的时间。可以是一个数字或两个数字的向量（第二个数字是整数）。如果参数只指定一个数字，那么该数字常常被指定为起始年份（此时frequency指定为1）。如果参数指定为两个数字的向量，那么第二个数字与`frequency`或者`deltat`参数有关。以`frequency`参数为例，如果`frequency`分别为4，12，52， 365那么第二个数字代表具体的季度，月，周，日。\n",
    "- `end`：最后一次观察的时间，用法同`start`参数。\n",
    "- `frequency`：单位时间内的观测次数。例如：特别是当`start`参数的第一个数字指定自然时间为年份时，`frequency`取值为1，4，12，52，365代表时间跨度为年，季度，月，周，日。\n",
    "- `deltat`：连续观测之间的采样周期分数；例如，月度数据的`deltat`为1/12。只能提供`frequency`或`deltat`中的一个。\n",
    "- `class`：决定输出结果的类别，如果为NULL或 \"none\" 则为none。对于单个序列，默认为\"ts\"类型；对于多个序列（如依据矩阵生成的），可以在c(\"mts\", \"ts\", \"matrix\")中选择一个。\n",
    "- `names`：参数为指定多个时间序列名称的字符向量（特别是依据矩阵生成的多时间序列）：默认为数据的列名（colnames），如果没有指定列名和`names`参数，自动设置为 Series 1，Series 2 等等。"
   ]
  },
  {
   "cell_type": "code",
   "execution_count": 21,
   "metadata": {
    "vscode": {
     "languageId": "r"
    }
   },
   "outputs": [],
   "source": [
    "ts1 <- ts(\n",
    "  data = matrix(1:20, ncol = 4),\n",
    "  start = c(2023, 2),\n",
    "  frequency = 4,\n",
    "  names = letters[1:4]\n",
    ")\n",
    "\n",
    "ts2 <- ts(\n",
    "  data = 1:20,\n",
    "  start = 2023,\n",
    "  deltat = 1 / 12\n",
    ")"
   ]
  },
  {
   "cell_type": "code",
   "execution_count": 38,
   "metadata": {
    "vscode": {
     "languageId": "r"
    }
   },
   "outputs": [
    {
     "name": "stdout",
     "output_type": "stream",
     "text": [
      "        a  b  c  d\n",
      "2023 Q2 1  6 11 16\n",
      "2023 Q3 2  7 12 17\n",
      "2023 Q4 3  8 13 18\n",
      "2024 Q1 4  9 14 19\n",
      "2024 Q2 5 10 15 20\n"
     ]
    }
   ],
   "source": [
    "print(ts1)"
   ]
  },
  {
   "cell_type": "code",
   "execution_count": 39,
   "metadata": {
    "vscode": {
     "languageId": "r"
    }
   },
   "outputs": [
    {
     "name": "stdout",
     "output_type": "stream",
     "text": [
      "     Jan Feb Mar Apr May Jun Jul Aug Sep Oct Nov Dec\n",
      "2023   1   2   3   4   5   6   7   8   9  10  11  12\n",
      "2024  13  14  15  16  17  18  19  20                \n"
     ]
    }
   ],
   "source": [
    "print(ts2)"
   ]
  },
  {
   "cell_type": "markdown",
   "metadata": {},
   "source": [
    "### 提取属性"
   ]
  },
  {
   "cell_type": "markdown",
   "metadata": {},
   "source": [
    "#### attributes()"
   ]
  },
  {
   "cell_type": "markdown",
   "metadata": {},
   "source": [
    "可以用`attributes()`查看所有时间序列的属性，再用`$`提取。不过关于时间的属性信息是tsp格式的。"
   ]
  },
  {
   "cell_type": "code",
   "execution_count": 22,
   "metadata": {
    "vscode": {
     "languageId": "r"
    }
   },
   "outputs": [
    {
     "name": "stdout",
     "output_type": "stream",
     "text": [
      "$dim\n",
      "[1] 5 4\n",
      "\n",
      "$dimnames\n",
      "$dimnames[[1]]\n",
      "NULL\n",
      "\n",
      "$dimnames[[2]]\n",
      "[1] \"a\" \"b\" \"c\" \"d\"\n",
      "\n",
      "\n",
      "$tsp\n",
      "[1] 2023.25 2024.25    4.00\n",
      "\n",
      "$class\n",
      "[1] \"mts\"    \"ts\"     \"matrix\"\n",
      "\n"
     ]
    }
   ],
   "source": [
    "print(\n",
    "  attributes(ts1)\n",
    ")"
   ]
  },
  {
   "cell_type": "markdown",
   "metadata": {},
   "source": [
    "#### as.Date.ts()"
   ]
  },
  {
   "cell_type": "markdown",
   "metadata": {},
   "source": [
    "`zoo`包中的`as.Date.ts()`函数可以直接提取时间序列中的时间信息，这更符合我们的需求。"
   ]
  },
  {
   "cell_type": "code",
   "execution_count": 23,
   "metadata": {
    "vscode": {
     "languageId": "r"
    }
   },
   "outputs": [
    {
     "name": "stderr",
     "output_type": "stream",
     "text": [
      "\n",
      "Attaching package: 'zoo'\n",
      "\n",
      "\n",
      "The following objects are masked from 'package:base':\n",
      "\n",
      "    as.Date, as.Date.numeric\n",
      "\n",
      "\n"
     ]
    },
    {
     "name": "stdout",
     "output_type": "stream",
     "text": [
      " [1] \"2023-01-01\" \"2023-02-01\" \"2023-03-01\" \"2023-04-01\" \"2023-05-01\"\n",
      " [6] \"2023-06-01\" \"2023-07-01\" \"2023-08-01\" \"2023-09-01\" \"2023-10-01\"\n",
      "[11] \"2023-11-01\" \"2023-12-01\" \"2024-01-01\" \"2024-02-01\" \"2024-03-01\"\n",
      "[16] \"2024-04-01\" \"2024-05-01\" \"2024-06-01\" \"2024-07-01\" \"2024-08-01\"\n"
     ]
    }
   ],
   "source": [
    "library(zoo)\n",
    "print(\n",
    "  as.Date.ts(ts2)\n",
    ")"
   ]
  },
  {
   "cell_type": "markdown",
   "metadata": {},
   "source": [
    "## 用fpp3处理时间数据"
   ]
  },
  {
   "cell_type": "markdown",
   "metadata": {},
   "source": [
    "时间序列可以认为是“指标数据+时间索引”（或者再加上“分组索引”）的形式。fpp3生态下的tsibble包提供了整洁的时间序列数据结构tsibble。这里推荐一本书<span style = 'color:red'><strong>《Forecasting: Principles and Practice (3rd)》</strong></span>，可以更加全面的了解该R包和时间序列预测。"
   ]
  },
  {
   "cell_type": "markdown",
   "metadata": {},
   "source": [
    "### tsibble"
   ]
  },
  {
   "cell_type": "markdown",
   "metadata": {},
   "source": [
    "tsibble包认为，对于一个数据框，若其包含分组时间序列数据，那么只要指定对应的指标数据列，时间索引列，分组索引列（用于唯一识别），就能变成时间序列数据结构，就可以进行下一步的建模分析。"
   ]
  },
  {
   "cell_type": "markdown",
   "metadata": {},
   "source": [
    "```r\n",
    "as_tsibble(\n",
    "  x,\n",
    "  key = NULL,\n",
    "  index,\n",
    "  regular = TRUE,\n",
    "  validate = TRUE,\n",
    "  .drop = TRUE,\n",
    "  ...\n",
    ")\n",
    "```\n",
    "`as_tsibble()`函数将数据框对象转换成tsibble对象，同时利用`key`参数指定分组索引，`index`参数指定时间索引。"
   ]
  },
  {
   "cell_type": "code",
   "execution_count": 22,
   "metadata": {
    "vscode": {
     "languageId": "r"
    }
   },
   "outputs": [
    {
     "name": "stdout",
     "output_type": "stream",
     "text": [
      "\u001b[90m# A tibble: 6 × 3\u001b[39m\n",
      "  Date       Stock  Close\n",
      "  \u001b[3m\u001b[90m<date>\u001b[39m\u001b[23m     \u001b[3m\u001b[90m<chr>\u001b[39m\u001b[23m  \u001b[3m\u001b[90m<dbl>\u001b[39m\u001b[23m\n",
      "\u001b[90m1\u001b[39m 2017-01-03 Google  786.\n",
      "\u001b[90m2\u001b[39m 2017-01-03 Amazon  754.\n",
      "\u001b[90m3\u001b[39m 2017-01-03 Apple   116.\n",
      "\u001b[90m4\u001b[39m 2017-01-04 Google  787.\n",
      "\u001b[90m5\u001b[39m 2017-01-04 Amazon  757.\n",
      "\u001b[90m6\u001b[39m 2017-01-04 Apple   116.\n"
     ]
    }
   ],
   "source": [
    "load(\"data/stocks.rda\")\n",
    "print(head(stocks))"
   ]
  },
  {
   "cell_type": "code",
   "execution_count": 23,
   "metadata": {
    "vscode": {
     "languageId": "r"
    }
   },
   "outputs": [
    {
     "name": "stdout",
     "output_type": "stream",
     "text": [
      "\u001b[90m# A tsibble: 6 x 3 [1D]\u001b[39m\n",
      "\u001b[90m# Key:       Stock [1]\u001b[39m\n",
      "  Date       Stock  Close\n",
      "  \u001b[3m\u001b[90m<date>\u001b[39m\u001b[23m     \u001b[3m\u001b[90m<chr>\u001b[39m\u001b[23m  \u001b[3m\u001b[90m<dbl>\u001b[39m\u001b[23m\n",
      "\u001b[90m1\u001b[39m 2017-01-03 Amazon  754.\n",
      "\u001b[90m2\u001b[39m 2017-01-04 Amazon  757.\n",
      "\u001b[90m3\u001b[39m 2017-01-05 Amazon  780.\n",
      "\u001b[90m4\u001b[39m 2017-01-06 Amazon  796.\n",
      "\u001b[90m5\u001b[39m 2017-01-09 Amazon  797.\n",
      "\u001b[90m6\u001b[39m 2017-01-10 Amazon  796.\n"
     ]
    }
   ],
   "source": [
    "library(tsibble)\n",
    "tbl_ts <- as_tsibble(\n",
    "  stocks,\n",
    "  key = Stock,\n",
    "  index = Date\n",
    ")\n",
    "print(head(tbl_ts))   #! 第一行的“1D”表示，该时间序列间隔为一天"
   ]
  },
  {
   "cell_type": "markdown",
   "metadata": {},
   "source": [
    "可是index参数对应的时间索引列，并非每次都不需要进行转换。对于每年一次以上的观测，我们需要对索引使用时间类函数：\n",
    "| 频率                  | 函数                    |\n",
    "| ----------------------| ------------------------|\n",
    "| 年（annual）          |`start:end`（不需要进行转换）             |\n",
    "| 季（quarterly）       |`yearquarter()`          |\n",
    "| 月（monthly）         |`yearmonth()`            |\n",
    "| 周（weekly）          |`yearweek()`             |\n",
    "| 日（daily）           |`as_date()`, `ymd()`     |\n",
    "| 小于一日（sub-daily） |`as_datetime()`, `ymd_hms()`|\n"
   ]
  },
  {
   "cell_type": "code",
   "execution_count": 13,
   "metadata": {
    "vscode": {
     "languageId": "r"
    }
   },
   "outputs": [
    {
     "name": "stderr",
     "output_type": "stream",
     "text": [
      "\u001b[1mRows: \u001b[22m\u001b[34m3072\u001b[39m \u001b[1mColumns: \u001b[22m\u001b[34m6\u001b[39m\n",
      "\u001b[36m──\u001b[39m \u001b[1mColumn specification\u001b[22m \u001b[36m────────────────────────────────────────────────────────\u001b[39m\n",
      "\u001b[1mDelimiter:\u001b[22m \",\"\n",
      "\u001b[31mchr\u001b[39m  (4): State, Gender, Legal, Indigenous\n",
      "\u001b[32mdbl\u001b[39m  (1): Count\n",
      "\u001b[34mdate\u001b[39m (1): Date\n",
      "\n",
      "\u001b[36mℹ\u001b[39m Use `spec()` to retrieve the full column specification for this data.\n",
      "\u001b[36mℹ\u001b[39m Specify the column types or set `show_col_types = FALSE` to quiet this message.\n"
     ]
    }
   ],
   "source": [
    "library(readr)\n",
    "library(tidyverse)\n",
    "prison <- read_csv(\"https://OTexts.com/fpp3/extrafiles/prison_population.csv\")"
   ]
  },
  {
   "cell_type": "code",
   "execution_count": 14,
   "metadata": {
    "vscode": {
     "languageId": "r"
    }
   },
   "outputs": [
    {
     "name": "stdout",
     "output_type": "stream",
     "text": [
      "\u001b[90m# A tibble: 6 × 6\u001b[39m\n",
      "  Date       State Gender Legal     Indigenous Count\n",
      "  \u001b[3m\u001b[90m<date>\u001b[39m\u001b[23m     \u001b[3m\u001b[90m<chr>\u001b[39m\u001b[23m \u001b[3m\u001b[90m<chr>\u001b[39m\u001b[23m  \u001b[3m\u001b[90m<chr>\u001b[39m\u001b[23m     \u001b[3m\u001b[90m<chr>\u001b[39m\u001b[23m      \u001b[3m\u001b[90m<dbl>\u001b[39m\u001b[23m\n",
      "\u001b[90m1\u001b[39m 2005-03-01 ACT   Female Remanded  ATSI           0\n",
      "\u001b[90m2\u001b[39m 2005-03-01 ACT   Female Remanded  Non-ATSI       2\n",
      "\u001b[90m3\u001b[39m 2005-03-01 ACT   Female Sentenced ATSI           0\n",
      "\u001b[90m4\u001b[39m 2005-03-01 ACT   Female Sentenced Non-ATSI       5\n",
      "\u001b[90m5\u001b[39m 2005-03-01 ACT   Male   Remanded  ATSI           7\n",
      "\u001b[90m6\u001b[39m 2005-03-01 ACT   Male   Remanded  Non-ATSI      58\n"
     ]
    }
   ],
   "source": [
    "print(head(prison))"
   ]
  },
  {
   "cell_type": "code",
   "execution_count": 15,
   "metadata": {
    "vscode": {
     "languageId": "r"
    }
   },
   "outputs": [
    {
     "name": "stdout",
     "output_type": "stream",
     "text": [
      "\u001b[90m# A tibble: 48 × 1\u001b[39m\n",
      "   Date      \n",
      "   \u001b[3m\u001b[90m<date>\u001b[39m\u001b[23m    \n",
      "\u001b[90m 1\u001b[39m 2005-03-01\n",
      "\u001b[90m 2\u001b[39m 2005-06-01\n",
      "\u001b[90m 3\u001b[39m 2005-09-01\n",
      "\u001b[90m 4\u001b[39m 2005-12-01\n",
      "\u001b[90m 5\u001b[39m 2006-03-01\n",
      "\u001b[90m 6\u001b[39m 2006-06-01\n",
      "\u001b[90m 7\u001b[39m 2006-09-01\n",
      "\u001b[90m 8\u001b[39m 2006-12-01\n",
      "\u001b[90m 9\u001b[39m 2007-03-01\n",
      "\u001b[90m10\u001b[39m 2007-06-01\n",
      "\u001b[90m# ℹ 38 more rows\u001b[39m\n"
     ]
    }
   ],
   "source": [
    "print(\n",
    "  distinct(prison, Date)\n",
    ")\n",
    "#! 数据虽然显示到具体的日，但实际上却是季度数据，需要利用函数进行转换"
   ]
  },
  {
   "cell_type": "code",
   "execution_count": 18,
   "metadata": {
    "vscode": {
     "languageId": "r"
    }
   },
   "outputs": [
    {
     "name": "stdout",
     "output_type": "stream",
     "text": [
      "\u001b[90m# A tsibble: 6 x 6 [1Q]\u001b[39m\n",
      "\u001b[90m# Key:       State, Gender, Legal, Indigenous [1]\u001b[39m\n",
      "     Date State Gender Legal    Indigenous Count\n",
      "    \u001b[3m\u001b[90m<qtr>\u001b[39m\u001b[23m \u001b[3m\u001b[90m<chr>\u001b[39m\u001b[23m \u001b[3m\u001b[90m<chr>\u001b[39m\u001b[23m  \u001b[3m\u001b[90m<chr>\u001b[39m\u001b[23m    \u001b[3m\u001b[90m<chr>\u001b[39m\u001b[23m      \u001b[3m\u001b[90m<dbl>\u001b[39m\u001b[23m\n",
      "\u001b[90m1\u001b[39m 2005 Q1 ACT   Female Remanded ATSI           0\n",
      "\u001b[90m2\u001b[39m 2005 Q2 ACT   Female Remanded ATSI           1\n",
      "\u001b[90m3\u001b[39m 2005 Q3 ACT   Female Remanded ATSI           0\n",
      "\u001b[90m4\u001b[39m 2005 Q4 ACT   Female Remanded ATSI           0\n",
      "\u001b[90m5\u001b[39m 2006 Q1 ACT   Female Remanded ATSI           1\n",
      "\u001b[90m6\u001b[39m 2006 Q2 ACT   Female Remanded ATSI           1\n"
     ]
    }
   ],
   "source": [
    "output <- prison %>%\n",
    "  mutate(Date = yearquarter(Date)) %>%\n",
    "  as_tsibble(\n",
    "    index = Date,\n",
    "    key = where(is.character)\n",
    "  )\n",
    "print(head(output))"
   ]
  },
  {
   "cell_type": "markdown",
   "metadata": {},
   "source": [
    "有时候虽然已经有了tsibble对象，但是它的index或者key需要发生改变（这是非常可能的），此时`update_tsibble()`函数可以解决该问题：\n",
    "```r\n",
    "update_tsibble(\n",
    "  x,\n",
    "  key,\n",
    "  index,\n",
    "  regular = is_regular(x),\n",
    "  validate = TRUE,\n",
    "  .drop = key_drop_default(x)\n",
    ")\n",
    "```\n",
    "其中参数：\n",
    "- `x`：一个tsibble对象。\n",
    "- `key`：更新唯一确定时间索引的变量（即分组索引列）。如果解除原有键（即生成空键）使用NULL，生成多个变量键使用c()。\n",
    "- `index`：更新时间索引的变量。\n",
    "- `regular`：是否为规则的时间间隔（TRUE）或不规则的（FALSE）。如果为TRUE，则间隔由索引列的最大公约数确定。\n",
    "- `validate`：参数为TRUE时，表示验证每个键或每个键变量组合是否会导致唯一的时间索引（即产生有效的tsibble）。可以指定FALSE以跳过检查。\n",
    "- `.drop`：如果为TRUE，空键组将被删除。"
   ]
  },
  {
   "cell_type": "code",
   "execution_count": 4,
   "metadata": {
    "vscode": {
     "languageId": "r"
    }
   },
   "outputs": [
    {
     "name": "stdout",
     "output_type": "stream",
     "text": [
      "\u001b[90m# A tsibble: 6 x 8 [!]\u001b[39m\n",
      "\u001b[90m# Key:       Symbol [1]\u001b[39m\n",
      "  Symbol Date        Open  High   Low Close Adj_Close  Volume\n",
      "  \u001b[3m\u001b[90m<chr>\u001b[39m\u001b[23m  \u001b[3m\u001b[90m<date>\u001b[39m\u001b[23m     \u001b[3m\u001b[90m<dbl>\u001b[39m\u001b[23m \u001b[3m\u001b[90m<dbl>\u001b[39m\u001b[23m \u001b[3m\u001b[90m<dbl>\u001b[39m\u001b[23m \u001b[3m\u001b[90m<dbl>\u001b[39m\u001b[23m     \u001b[3m\u001b[90m<dbl>\u001b[39m\u001b[23m   \u001b[3m\u001b[90m<dbl>\u001b[39m\u001b[23m\n",
      "\u001b[90m1\u001b[39m GOOG   2018-01-02 \u001b[4m1\u001b[24m048. \u001b[4m1\u001b[24m067. \u001b[4m1\u001b[24m045. \u001b[4m1\u001b[24m065      \u001b[4m1\u001b[24m065  1\u001b[4m2\u001b[24m\u001b[4m3\u001b[24m\u001b[4m7\u001b[24m600\n",
      "\u001b[90m2\u001b[39m GOOG   2018-01-03 \u001b[4m1\u001b[24m064. \u001b[4m1\u001b[24m086. \u001b[4m1\u001b[24m063. \u001b[4m1\u001b[24m082.     \u001b[4m1\u001b[24m082. 1\u001b[4m4\u001b[24m\u001b[4m3\u001b[24m\u001b[4m0\u001b[24m200\n",
      "\u001b[90m3\u001b[39m GOOG   2018-01-04 \u001b[4m1\u001b[24m088  \u001b[4m1\u001b[24m094. \u001b[4m1\u001b[24m084. \u001b[4m1\u001b[24m086.     \u001b[4m1\u001b[24m086. 1\u001b[4m0\u001b[24m\u001b[4m0\u001b[24m\u001b[4m4\u001b[24m600\n",
      "\u001b[90m4\u001b[39m GOOG   2018-01-05 \u001b[4m1\u001b[24m094  \u001b[4m1\u001b[24m104. \u001b[4m1\u001b[24m092  \u001b[4m1\u001b[24m102.     \u001b[4m1\u001b[24m102. 1\u001b[4m2\u001b[24m\u001b[4m7\u001b[24m\u001b[4m9\u001b[24m100\n",
      "\u001b[90m5\u001b[39m GOOG   2018-01-08 \u001b[4m1\u001b[24m102. \u001b[4m1\u001b[24m111. \u001b[4m1\u001b[24m102. \u001b[4m1\u001b[24m107.     \u001b[4m1\u001b[24m107. 1\u001b[4m0\u001b[24m\u001b[4m4\u001b[24m\u001b[4m7\u001b[24m600\n",
      "\u001b[90m6\u001b[39m GOOG   2018-01-09 \u001b[4m1\u001b[24m109. \u001b[4m1\u001b[24m111. \u001b[4m1\u001b[24m101. \u001b[4m1\u001b[24m106.     \u001b[4m1\u001b[24m106.  \u001b[4m9\u001b[24m\u001b[4m0\u001b[24m\u001b[4m2\u001b[24m500\n"
     ]
    }
   ],
   "source": [
    "#! 可以看出数据index时间索引并非等间距的\n",
    "library(fpp3)\n",
    "library(tidyverse)\n",
    "before <- gafa_stock %>%\n",
    "  filter(Symbol == \"GOOG\", year(Date) >= 2018)\n",
    "print(head(before))"
   ]
  },
  {
   "cell_type": "code",
   "execution_count": 8,
   "metadata": {
    "vscode": {
     "languageId": "r"
    }
   },
   "outputs": [
    {
     "name": "stderr",
     "output_type": "stream",
     "text": [
      "Warning message:\n",
      "\"Provided data has an irregular interval, results should be treated with caution. Computing ACF by observation.\"\n"
     ]
    },
    {
     "name": "stdout",
     "output_type": "stream",
     "text": [
      "\u001b[90m# A tsibble: 6 x 3 [1]\u001b[39m\n",
      "\u001b[90m# Key:       Symbol [1]\u001b[39m\n",
      "  Symbol      lag      acf\n",
      "  \u001b[3m\u001b[90m<chr>\u001b[39m\u001b[23m  \u001b[3m\u001b[90m<cf_lag>\u001b[39m\u001b[23m    \u001b[3m\u001b[90m<dbl>\u001b[39m\u001b[23m\n",
      "\u001b[90m1\u001b[39m GOOG          1  0.010\u001b[4m7\u001b[24m \n",
      "\u001b[90m2\u001b[39m GOOG          2 -\u001b[31m0\u001b[39m\u001b[31m.\u001b[39m\u001b[31m102\u001b[39m  \n",
      "\u001b[90m3\u001b[39m GOOG          3  0.109  \n",
      "\u001b[90m4\u001b[39m GOOG          4  0.008\u001b[4m4\u001b[24m\u001b[4m0\u001b[24m\n",
      "\u001b[90m5\u001b[39m GOOG          5 -\u001b[31m0\u001b[39m\u001b[31m.\u001b[39m\u001b[31m0\u001b[39m\u001b[31m75\u001b[4m5\u001b[24m\u001b[39m \n",
      "\u001b[90m6\u001b[39m GOOG          6 -\u001b[31m0\u001b[39m\u001b[31m.\u001b[39m\u001b[31m0\u001b[39m\u001b[31m85\u001b[4m0\u001b[24m\u001b[39m \n"
     ]
    }
   ],
   "source": [
    "error <- gafa_stock %>%\n",
    "  filter(Symbol == \"GOOG\", year(Date) >= 2018) %>%\n",
    "  mutate(diff = difference(Close)) %>%\n",
    "  ACF(diff, lag_max = 48)\n",
    "print(head(error))\n",
    "#! 在时间序列分析中，很多方法（如自相关函数ACF）都基于数据的等间隔性进行开发。如果数据的时间间隔不是规则的，那么这些方法可能不会提供准确的结果。"
   ]
  },
  {
   "cell_type": "code",
   "execution_count": 9,
   "metadata": {
    "vscode": {
     "languageId": "r"
    }
   },
   "outputs": [
    {
     "name": "stdout",
     "output_type": "stream",
     "text": [
      "\u001b[90m# A tsibble: 6 x 3 [1]\u001b[39m\n",
      "\u001b[90m# Key:       Symbol [1]\u001b[39m\n",
      "  Symbol      lag      acf\n",
      "  \u001b[3m\u001b[90m<chr>\u001b[39m\u001b[23m  \u001b[3m\u001b[90m<cf_lag>\u001b[39m\u001b[23m    \u001b[3m\u001b[90m<dbl>\u001b[39m\u001b[23m\n",
      "\u001b[90m1\u001b[39m GOOG          1  0.010\u001b[4m7\u001b[24m \n",
      "\u001b[90m2\u001b[39m GOOG          2 -\u001b[31m0\u001b[39m\u001b[31m.\u001b[39m\u001b[31m102\u001b[39m  \n",
      "\u001b[90m3\u001b[39m GOOG          3  0.109  \n",
      "\u001b[90m4\u001b[39m GOOG          4  0.008\u001b[4m4\u001b[24m\u001b[4m0\u001b[24m\n",
      "\u001b[90m5\u001b[39m GOOG          5 -\u001b[31m0\u001b[39m\u001b[31m.\u001b[39m\u001b[31m0\u001b[39m\u001b[31m75\u001b[4m5\u001b[24m\u001b[39m \n",
      "\u001b[90m6\u001b[39m GOOG          6 -\u001b[31m0\u001b[39m\u001b[31m.\u001b[39m\u001b[31m0\u001b[39m\u001b[31m85\u001b[4m0\u001b[24m\u001b[39m \n"
     ]
    }
   ],
   "source": [
    "#step 正确的做法是重新确定等间距的时间索引列\n",
    "correction <- gafa_stock %>%\n",
    "  filter(Symbol == \"GOOG\", year(Date) >= 2018) %>%\n",
    "  mutate(trading_day = row_number()) %>%\n",
    "  update_tsibble(index = trading_day, regular = TRUE) %>%     #! 重新指定\n",
    "  mutate(diff = difference(Close)) %>%\n",
    "  ACF(diff, lag_max = 48)\n",
    "print(head(correction))\n"
   ]
  },
  {
   "cell_type": "markdown",
   "metadata": {},
   "source": [
    "可以使用操作tibble对象的函数操作tsibble对象，例如dplyr的`mutate()`，`filter()`，`select()`，`summarise()`等函数。tsibble和tibble有一些不同，在选择列时，即使没有选择key列，最终结果仍然会包括这些index，key列（这样是为了确保每一行都包含键和索引的唯一组合）："
   ]
  },
  {
   "cell_type": "code",
   "execution_count": 2,
   "metadata": {
    "vscode": {
     "languageId": "r"
    }
   },
   "outputs": [
    {
     "name": "stdout",
     "output_type": "stream",
     "text": [
      "\u001b[90m# A tsibble: 6 x 9 [1M]\u001b[39m\n",
      "\u001b[90m# Key:       Concession, Type, ATC1, ATC2 [1]\u001b[39m\n",
      "      Month Concession   Type      ATC1  ATC1_desc ATC2  ATC2_desc Scripts  Cost\n",
      "      \u001b[3m\u001b[90m<mth>\u001b[39m\u001b[23m \u001b[3m\u001b[90m<chr>\u001b[39m\u001b[23m        \u001b[3m\u001b[90m<chr>\u001b[39m\u001b[23m     \u001b[3m\u001b[90m<chr>\u001b[39m\u001b[23m \u001b[3m\u001b[90m<chr>\u001b[39m\u001b[23m     \u001b[3m\u001b[90m<chr>\u001b[39m\u001b[23m \u001b[3m\u001b[90m<chr>\u001b[39m\u001b[23m       \u001b[3m\u001b[90m<dbl>\u001b[39m\u001b[23m \u001b[3m\u001b[90m<dbl>\u001b[39m\u001b[23m\n",
      "\u001b[90m1\u001b[39m  1991 7月 Concessional Co-payme… A     Alimenta… A01   STOMATOL…   \u001b[4m1\u001b[24m\u001b[4m8\u001b[24m228 \u001b[4m6\u001b[24m\u001b[4m7\u001b[24m877\n",
      "\u001b[90m2\u001b[39m  1991 8月 Concessional Co-payme… A     Alimenta… A01   STOMATOL…   \u001b[4m1\u001b[24m\u001b[4m5\u001b[24m327 \u001b[4m5\u001b[24m\u001b[4m7\u001b[24m011\n",
      "\u001b[90m3\u001b[39m  1991 9月 Concessional Co-payme… A     Alimenta… A01   STOMATOL…   \u001b[4m1\u001b[24m\u001b[4m4\u001b[24m775 \u001b[4m5\u001b[24m\u001b[4m5\u001b[24m020\n",
      "\u001b[90m4\u001b[39m 1991 10月 Concessional Co-payme… A     Alimenta… A01   STOMATOL…   \u001b[4m1\u001b[24m\u001b[4m5\u001b[24m380 \u001b[4m5\u001b[24m\u001b[4m7\u001b[24m222\n",
      "\u001b[90m5\u001b[39m 1991 11月 Concessional Co-payme… A     Alimenta… A01   STOMATOL…   \u001b[4m1\u001b[24m\u001b[4m4\u001b[24m371 \u001b[4m5\u001b[24m\u001b[4m2\u001b[24m120\n",
      "\u001b[90m6\u001b[39m 1991 12月 Concessional Co-payme… A     Alimenta… A01   STOMATOL…   \u001b[4m1\u001b[24m\u001b[4m5\u001b[24m028 \u001b[4m5\u001b[24m\u001b[4m4\u001b[24m299\n"
     ]
    }
   ],
   "source": [
    "library(fpp3)\n",
    "print(head(PBS))"
   ]
  },
  {
   "cell_type": "code",
   "execution_count": 6,
   "metadata": {
    "vscode": {
     "languageId": "r"
    }
   },
   "outputs": [
    {
     "name": "stdout",
     "output_type": "stream",
     "text": [
      "\u001b[90m# A tsibble: 6 x 7 [1M]\u001b[39m\n",
      "\u001b[90m# Key:       Concession, Type, ATC1, ATC2 [1]\u001b[39m\n",
      "  Scripts  Cost     Month Concession   Type        ATC1  ATC2 \n",
      "    \u001b[3m\u001b[90m<dbl>\u001b[39m\u001b[23m \u001b[3m\u001b[90m<dbl>\u001b[39m\u001b[23m     \u001b[3m\u001b[90m<mth>\u001b[39m\u001b[23m \u001b[3m\u001b[90m<chr>\u001b[39m\u001b[23m        \u001b[3m\u001b[90m<chr>\u001b[39m\u001b[23m       \u001b[3m\u001b[90m<chr>\u001b[39m\u001b[23m \u001b[3m\u001b[90m<chr>\u001b[39m\u001b[23m\n",
      "\u001b[90m1\u001b[39m   \u001b[4m1\u001b[24m\u001b[4m8\u001b[24m228 \u001b[4m6\u001b[24m\u001b[4m7\u001b[24m877  1991 7月 Concessional Co-payments A     A01  \n",
      "\u001b[90m2\u001b[39m   \u001b[4m1\u001b[24m\u001b[4m5\u001b[24m327 \u001b[4m5\u001b[24m\u001b[4m7\u001b[24m011  1991 8月 Concessional Co-payments A     A01  \n",
      "\u001b[90m3\u001b[39m   \u001b[4m1\u001b[24m\u001b[4m4\u001b[24m775 \u001b[4m5\u001b[24m\u001b[4m5\u001b[24m020  1991 9月 Concessional Co-payments A     A01  \n",
      "\u001b[90m4\u001b[39m   \u001b[4m1\u001b[24m\u001b[4m5\u001b[24m380 \u001b[4m5\u001b[24m\u001b[4m7\u001b[24m222 1991 10月 Concessional Co-payments A     A01  \n",
      "\u001b[90m5\u001b[39m   \u001b[4m1\u001b[24m\u001b[4m4\u001b[24m371 \u001b[4m5\u001b[24m\u001b[4m2\u001b[24m120 1991 11月 Concessional Co-payments A     A01  \n",
      "\u001b[90m6\u001b[39m   \u001b[4m1\u001b[24m\u001b[4m5\u001b[24m028 \u001b[4m5\u001b[24m\u001b[4m4\u001b[24m299 1991 12月 Concessional Co-payments A     A01  \n"
     ]
    }
   ],
   "source": [
    "select_data <- PBS %>%\n",
    "  filter(ATC2 == \"A01\") %>%\n",
    "  select(Scripts, Cost)\n",
    "print(head(select_data))\n",
    "#! 选择的列置于所有index列和key列的前面"
   ]
  },
  {
   "cell_type": "markdown",
   "metadata": {},
   "source": [
    "另一个不同之处，也是方便之处，tsibble可以跨键进行数据的汇总融合：我们可能有很多的分组索引（key列），但不管如何，时间索引（index列）会始终作为一个默认的分组进行汇总统计，即使我们不通过`group_by()`指定任何分组列。"
   ]
  },
  {
   "cell_type": "code",
   "execution_count": 8,
   "metadata": {
    "vscode": {
     "languageId": "r"
    }
   },
   "outputs": [
    {
     "name": "stdout",
     "output_type": "stream",
     "text": [
      "\u001b[90m# A tsibble: 6 x 2 [1M]\u001b[39m\n",
      "      Month total_cost\n",
      "      \u001b[3m\u001b[90m<mth>\u001b[39m\u001b[23m      \u001b[3m\u001b[90m<dbl>\u001b[39m\u001b[23m\n",
      "\u001b[90m1\u001b[39m  1991 7月      \u001b[4m9\u001b[24m\u001b[4m4\u001b[24m351\n",
      "\u001b[90m2\u001b[39m  1991 8月      \u001b[4m8\u001b[24m\u001b[4m7\u001b[24m899\n",
      "\u001b[90m3\u001b[39m  1991 9月      \u001b[4m9\u001b[24m\u001b[4m4\u001b[24m949\n",
      "\u001b[90m4\u001b[39m 1991 10月     \u001b[4m1\u001b[24m\u001b[4m0\u001b[24m\u001b[4m7\u001b[24m926\n",
      "\u001b[90m5\u001b[39m 1991 11月     \u001b[4m1\u001b[24m\u001b[4m0\u001b[24m\u001b[4m7\u001b[24m032\n",
      "\u001b[90m6\u001b[39m 1991 12月     \u001b[4m1\u001b[24m\u001b[4m2\u001b[24m\u001b[4m3\u001b[24m000\n"
     ]
    }
   ],
   "source": [
    "sum1 <- select_data %>%\n",
    "  summarise(total_cost = sum(Cost))\n",
    "print(head(sum1))"
   ]
  },
  {
   "cell_type": "code",
   "execution_count": 11,
   "metadata": {
    "vscode": {
     "languageId": "r"
    }
   },
   "outputs": [
    {
     "name": "stdout",
     "output_type": "stream",
     "text": [
      "\u001b[90m# A tsibble: 6 x 3 [1M]\u001b[39m\n",
      "\u001b[90m# Key:       Concession [1]\u001b[39m\n",
      "  Concession       Month total_cost\n",
      "  \u001b[3m\u001b[90m<chr>\u001b[39m\u001b[23m            \u001b[3m\u001b[90m<mth>\u001b[39m\u001b[23m      \u001b[3m\u001b[90m<dbl>\u001b[39m\u001b[23m\n",
      "\u001b[90m1\u001b[39m Concessional  1991 7月      \u001b[4m9\u001b[24m\u001b[4m2\u001b[24m572\n",
      "\u001b[90m2\u001b[39m Concessional  1991 8月      \u001b[4m8\u001b[24m\u001b[4m5\u001b[24m451\n",
      "\u001b[90m3\u001b[39m Concessional  1991 9月      \u001b[4m9\u001b[24m\u001b[4m1\u001b[24m406\n",
      "\u001b[90m4\u001b[39m Concessional 1991 10月     \u001b[4m1\u001b[24m\u001b[4m0\u001b[24m\u001b[4m3\u001b[24m476\n",
      "\u001b[90m5\u001b[39m Concessional 1991 11月     \u001b[4m1\u001b[24m\u001b[4m0\u001b[24m\u001b[4m1\u001b[24m565\n",
      "\u001b[90m6\u001b[39m Concessional 1991 12月     \u001b[4m1\u001b[24m\u001b[4m1\u001b[24m\u001b[4m6\u001b[24m198\n"
     ]
    }
   ],
   "source": [
    "sum2 <- select_data %>%\n",
    "  group_by(Concession) %>%\n",
    "  summarise(total_cost = sum(Cost))\n",
    "#! 在默认的时间分组上，再加上一个分组因子\n",
    "print(head(sum2))"
   ]
  },
  {
   "cell_type": "markdown",
   "metadata": {},
   "source": [
    "可是这时又出现一个问题，tsibble可以根据index列自动进行汇总的分组，但这可能会是个麻烦：例如数据的时间索引是月度的，但却想要根据每年来汇总统计，该如何处理？"
   ]
  },
  {
   "cell_type": "code",
   "execution_count": 2,
   "metadata": {
    "vscode": {
     "languageId": "r"
    }
   },
   "outputs": [
    {
     "name": "stdout",
     "output_type": "stream",
     "text": [
      "\u001b[90m# A tsibble: 441 x 2 [1M]\u001b[39m\n",
      "       Month Turnover\n",
      "       \u001b[3m\u001b[90m<mth>\u001b[39m\u001b[23m    \u001b[3m\u001b[90m<dbl>\u001b[39m\u001b[23m\n",
      "\u001b[90m 1\u001b[39m  1982 4月     134 \n",
      "\u001b[90m 2\u001b[39m  1982 5月     134.\n",
      "\u001b[90m 3\u001b[39m  1982 6月     127.\n",
      "\u001b[90m 4\u001b[39m  1982 7月     128.\n",
      "\u001b[90m 5\u001b[39m  1982 8月     131.\n",
      "\u001b[90m 6\u001b[39m  1982 9月     134.\n",
      "\u001b[90m 7\u001b[39m 1982 10月     139.\n",
      "\u001b[90m 8\u001b[39m 1982 11月     144.\n",
      "\u001b[90m 9\u001b[39m 1982 12月     192.\n",
      "\u001b[90m10\u001b[39m  1983 1月     137.\n",
      "\u001b[90m# ℹ 431 more rows\u001b[39m\n"
     ]
    }
   ],
   "source": [
    "#! 自动按照每月进行分组\n",
    "library(tidyverse)\n",
    "library(fpp3)\n",
    "print(\n",
    "  aus_retail %>%\n",
    "    filter(Industry == \"Newspaper and book retailing\") %>%\n",
    "    summarise(Turnover = sum(Turnover))\n",
    ")"
   ]
  },
  {
   "cell_type": "code",
   "execution_count": 4,
   "metadata": {
    "vscode": {
     "languageId": "r"
    }
   },
   "outputs": [
    {
     "name": "stdout",
     "output_type": "stream",
     "text": [
      "\u001b[90m# A tsibble: 441 x 3 [1M]\u001b[39m\n",
      "\u001b[90m# Key:       Year [37]\u001b[39m\n",
      "    Year     Month Turnover\n",
      "   \u001b[3m\u001b[90m<dbl>\u001b[39m\u001b[23m     \u001b[3m\u001b[90m<mth>\u001b[39m\u001b[23m    \u001b[3m\u001b[90m<dbl>\u001b[39m\u001b[23m\n",
      "\u001b[90m 1\u001b[39m  \u001b[4m1\u001b[24m982  1982 4月     134 \n",
      "\u001b[90m 2\u001b[39m  \u001b[4m1\u001b[24m982  1982 5月     134.\n",
      "\u001b[90m 3\u001b[39m  \u001b[4m1\u001b[24m982  1982 6月     127.\n",
      "\u001b[90m 4\u001b[39m  \u001b[4m1\u001b[24m982  1982 7月     128.\n",
      "\u001b[90m 5\u001b[39m  \u001b[4m1\u001b[24m982  1982 8月     131.\n",
      "\u001b[90m 6\u001b[39m  \u001b[4m1\u001b[24m982  1982 9月     134.\n",
      "\u001b[90m 7\u001b[39m  \u001b[4m1\u001b[24m982 1982 10月     139.\n",
      "\u001b[90m 8\u001b[39m  \u001b[4m1\u001b[24m982 1982 11月     144.\n",
      "\u001b[90m 9\u001b[39m  \u001b[4m1\u001b[24m982 1982 12月     192.\n",
      "\u001b[90m10\u001b[39m  \u001b[4m1\u001b[24m983  1983 1月     137.\n",
      "\u001b[90m# ℹ 431 more rows\u001b[39m\n"
     ]
    }
   ],
   "source": [
    "#! 仍是按照每月进行分组\n",
    "print(\n",
    "  aus_retail %>%\n",
    "    filter(Industry == \"Newspaper and book retailing\") %>%\n",
    "    mutate(Year = year(Month)) %>%\n",
    "    group_by(Year) %>%\n",
    "    summarise(Turnover = sum(Turnover))\n",
    ")"
   ]
  },
  {
   "cell_type": "code",
   "execution_count": 6,
   "metadata": {
    "vscode": {
     "languageId": "r"
    }
   },
   "outputs": [
    {
     "ename": "ERROR",
     "evalue": "\u001b[1m\u001b[33mError\u001b[39m in `validate_tsibble()`:\u001b[22m\n\u001b[33m!\u001b[39m A valid tsibble must have distinct rows identified by key and index.\n\u001b[34mℹ\u001b[39m Please use `duplicates()` to check the duplicated rows.\n",
     "output_type": "error",
     "traceback": [
      "\u001b[1m\u001b[33mError\u001b[39m in `validate_tsibble()`:\u001b[22m\n\u001b[33m!\u001b[39m A valid tsibble must have distinct rows identified by key and index.\n\u001b[34mℹ\u001b[39m Please use `duplicates()` to check the duplicated rows.\nTraceback:\n",
      "1. print(aus_retail %>% filter(Industry == \"Newspaper and book retailing\") %>% \n .     mutate(Year = year(Month)) %>% update_tsibble(index = Year) %>% \n .     summarise(Turnover = sum(Turnover)))",
      "2. aus_retail %>% filter(Industry == \"Newspaper and book retailing\") %>% \n .     mutate(Year = year(Month)) %>% update_tsibble(index = Year) %>% \n .     summarise(Turnover = sum(Turnover))",
      "3. summarise(., Turnover = sum(Turnover))",
      "4. update_tsibble(., index = Year)",
      "5. build_tsibble(as_tibble(x), key = !!key, index = !!idx, index2 = if (is_idx_idx2) !!idx else !!index2(x), \n .     interval = int, validate = validate, .drop = .drop)",
      "6. validate_tsibble(data = tbl, key = key_vars, key_data = key_data, \n .     index = index)",
      "7. abort(c(\"A valid tsibble must have distinct rows identified by key and index.\", \n .     i = \"Please use `duplicates()` to check the duplicated rows.\"))",
      "8. signal_abort(cnd, .file)"
     ]
    }
   ],
   "source": [
    "#! 索引要求不重复，更新时间索引的方法也不可行\n",
    "print(\n",
    "  aus_retail %>%\n",
    "    filter(Industry == \"Newspaper and book retailing\") %>%\n",
    "    mutate(Year = year(Month)) %>%\n",
    "    update_tsibble(index = Year) %>% \n",
    "    summarise(Turnover = sum(Turnover))\n",
    ")"
   ]
  },
  {
   "cell_type": "markdown",
   "metadata": {},
   "source": [
    "正确的方法应该是使用`index_by()`函数。`index_by()`是`group_by()`在时间上的对应函数，但它只对时间索引进行分组。设置函数之后，接下来的所有操作都将应用于时间索引的每个间隔（例如一年，一月...）。index_by() + summarise()处理后的数据框，会更新分组索引变量以成为新索引。然后可以使用`ungroup()`来移除索引分组变量。\n",
    "```r\n",
    "index_by(.data, ...)\n",
    "```\n",
    "参数解释：\n",
    "- `.data`: 一个tsibbble对象。\n",
    "- `...`: 如果为空，则对当前索引进行分组。如果不为空，则需要一个表达式，用于操作改变现有的时间索引变量。支持purrr风格的匿名函数表达式，例如 ~ as.Date(.)，也可以直接使用封装好的索引函数，例如：\n",
    "  - `yearquarter()`: 季度聚合；`yearmonth()`: 月度聚合；`yearweek()`: 周聚合（这些函数在需要对日度数据进行汇总时，非常有用）\n",
    "  - `year()`, `month()`等等。\n"
   ]
  },
  {
   "cell_type": "code",
   "execution_count": 7,
   "metadata": {
    "vscode": {
     "languageId": "r"
    }
   },
   "outputs": [
    {
     "name": "stdout",
     "output_type": "stream",
     "text": [
      "\u001b[90m# A tsibble: 6 x 5 [30m] <Australia/Melbourne>\u001b[39m\n",
      "  Time                Demand Temperature Date       Holiday\n",
      "  \u001b[3m\u001b[90m<dttm>\u001b[39m\u001b[23m               \u001b[3m\u001b[90m<dbl>\u001b[39m\u001b[23m       \u001b[3m\u001b[90m<dbl>\u001b[39m\u001b[23m \u001b[3m\u001b[90m<date>\u001b[39m\u001b[23m     \u001b[3m\u001b[90m<lgl>\u001b[39m\u001b[23m  \n",
      "\u001b[90m1\u001b[39m 2012-01-01 \u001b[90m00:00:00\u001b[39m  \u001b[4m4\u001b[24m383.        21.4 2012-01-01 TRUE   \n",
      "\u001b[90m2\u001b[39m 2012-01-01 \u001b[90m00:30:00\u001b[39m  \u001b[4m4\u001b[24m263.        21.0 2012-01-01 TRUE   \n",
      "\u001b[90m3\u001b[39m 2012-01-01 \u001b[90m01:00:00\u001b[39m  \u001b[4m4\u001b[24m049.        20.7 2012-01-01 TRUE   \n",
      "\u001b[90m4\u001b[39m 2012-01-01 \u001b[90m01:30:00\u001b[39m  \u001b[4m3\u001b[24m878.        20.6 2012-01-01 TRUE   \n",
      "\u001b[90m5\u001b[39m 2012-01-01 \u001b[90m02:00:00\u001b[39m  \u001b[4m4\u001b[24m036.        20.4 2012-01-01 TRUE   \n",
      "\u001b[90m6\u001b[39m 2012-01-01 \u001b[90m02:30:00\u001b[39m  \u001b[4m3\u001b[24m866.        20.2 2012-01-01 TRUE   \n"
     ]
    }
   ],
   "source": [
    "#! 电力数据是日度数据\n",
    "print(\n",
    "  head(vic_elec)\n",
    ")"
   ]
  },
  {
   "cell_type": "code",
   "execution_count": 10,
   "metadata": {
    "vscode": {
     "languageId": "r"
    }
   },
   "outputs": [
    {
     "name": "stdout",
     "output_type": "stream",
     "text": [
      "\u001b[90m# A tsibble: 12 x 2 [1Q]\u001b[39m\n",
      "   new_index  Turnover\n",
      "       \u001b[3m\u001b[90m<qtr>\u001b[39m\u001b[23m     \u001b[3m\u001b[90m<dbl>\u001b[39m\u001b[23m\n",
      "\u001b[90m 1\u001b[39m   2012 Q1 20\u001b[4m8\u001b[24m\u001b[4m6\u001b[24m\u001b[4m2\u001b[24m152.\n",
      "\u001b[90m 2\u001b[39m   2012 Q2 21\u001b[4m1\u001b[24m\u001b[4m6\u001b[24m\u001b[4m4\u001b[24m711.\n",
      "\u001b[90m 3\u001b[39m   2012 Q3 21\u001b[4m6\u001b[24m\u001b[4m2\u001b[24m\u001b[4m7\u001b[24m571.\n",
      "\u001b[90m 4\u001b[39m   2012 Q4 19\u001b[4m5\u001b[24m\u001b[4m5\u001b[24m\u001b[4m1\u001b[24m925.\n",
      "\u001b[90m 5\u001b[39m   2013 Q1 20\u001b[4m6\u001b[24m\u001b[4m4\u001b[24m\u001b[4m9\u001b[24m940.\n",
      "\u001b[90m 6\u001b[39m   2013 Q2 20\u001b[4m6\u001b[24m\u001b[4m6\u001b[24m\u001b[4m0\u001b[24m816.\n",
      "\u001b[90m 7\u001b[39m   2013 Q3 20\u001b[4m8\u001b[24m\u001b[4m9\u001b[24m\u001b[4m1\u001b[24m548.\n",
      "\u001b[90m 8\u001b[39m   2013 Q4 19\u001b[4m2\u001b[24m\u001b[4m6\u001b[24m\u001b[4m4\u001b[24m216.\n",
      "\u001b[90m 9\u001b[39m   2014 Q1 20\u001b[4m1\u001b[24m\u001b[4m9\u001b[24m\u001b[4m8\u001b[24m184.\n",
      "\u001b[90m10\u001b[39m   2014 Q2 20\u001b[4m0\u001b[24m\u001b[4m0\u001b[24m\u001b[4m3\u001b[24m637.\n",
      "\u001b[90m11\u001b[39m   2014 Q3 21\u001b[4m3\u001b[24m\u001b[4m5\u001b[24m\u001b[4m3\u001b[24m187.\n",
      "\u001b[90m12\u001b[39m   2014 Q4 19\u001b[4m2\u001b[24m\u001b[4m1\u001b[24m\u001b[4m1\u001b[24m202.\n"
     ]
    }
   ],
   "source": [
    "print(\n",
    "  vic_elec %>%\n",
    "    index_by(new_index = yearquarter(Time)) %>%\n",
    "    summarise(Turnover = sum(Demand))\n",
    ")"
   ]
  },
  {
   "cell_type": "code",
   "execution_count": 8,
   "metadata": {
    "vscode": {
     "languageId": "r"
    }
   },
   "outputs": [
    {
     "name": "stdout",
     "output_type": "stream",
     "text": [
      "\u001b[90m# A tsibble: 36 x 2 [1M]\u001b[39m\n",
      "   new_index Turnover\n",
      "       \u001b[3m\u001b[90m<mth>\u001b[39m\u001b[23m    \u001b[3m\u001b[90m<dbl>\u001b[39m\u001b[23m\n",
      "\u001b[90m 1\u001b[39m  2012 1月 7\u001b[4m2\u001b[24m\u001b[4m4\u001b[24m\u001b[4m1\u001b[24m049.\n",
      "\u001b[90m 2\u001b[39m  2012 2月 6\u001b[4m8\u001b[24m\u001b[4m7\u001b[24m\u001b[4m4\u001b[24m543.\n",
      "\u001b[90m 3\u001b[39m  2012 3月 6\u001b[4m7\u001b[24m\u001b[4m4\u001b[24m\u001b[4m6\u001b[24m560.\n",
      "\u001b[90m 4\u001b[39m  2012 4月 6\u001b[4m4\u001b[24m\u001b[4m0\u001b[24m\u001b[4m1\u001b[24m078.\n",
      "\u001b[90m 5\u001b[39m  2012 5月 7\u001b[4m3\u001b[24m\u001b[4m7\u001b[24m\u001b[4m5\u001b[24m177.\n",
      "\u001b[90m 6\u001b[39m  2012 6月 7\u001b[4m3\u001b[24m\u001b[4m8\u001b[24m\u001b[4m8\u001b[24m456.\n",
      "\u001b[90m 7\u001b[39m  2012 7月 7\u001b[4m5\u001b[24m\u001b[4m6\u001b[24m\u001b[4m8\u001b[24m114.\n",
      "\u001b[90m 8\u001b[39m  2012 8月 7\u001b[4m4\u001b[24m\u001b[4m9\u001b[24m\u001b[4m2\u001b[24m261.\n",
      "\u001b[90m 9\u001b[39m  2012 9月 6\u001b[4m5\u001b[24m\u001b[4m6\u001b[24m\u001b[4m7\u001b[24m196.\n",
      "\u001b[90m10\u001b[39m 2012 10月 6\u001b[4m6\u001b[24m\u001b[4m8\u001b[24m\u001b[4m0\u001b[24m705.\n",
      "\u001b[90m# ℹ 26 more rows\u001b[39m\n"
     ]
    }
   ],
   "source": [
    "print(\n",
    "  vic_elec %>%\n",
    "    index_by(new_index = yearmonth(Time)) %>%\n",
    "    summarise(Turnover = sum(Demand))\n",
    ")"
   ]
  },
  {
   "cell_type": "code",
   "execution_count": 11,
   "metadata": {
    "vscode": {
     "languageId": "r"
    }
   },
   "outputs": [
    {
     "name": "stdout",
     "output_type": "stream",
     "text": [
      "\u001b[90m# A tsibble: 3 x 2 [1Y]\u001b[39m\n",
      "   Year  Turnover\n",
      "  \u001b[3m\u001b[90m<dbl>\u001b[39m\u001b[23m     \u001b[3m\u001b[90m<dbl>\u001b[39m\u001b[23m\n",
      "\u001b[90m1\u001b[39m  \u001b[4m2\u001b[24m012 83\u001b[4m2\u001b[24m\u001b[4m0\u001b[24m\u001b[4m6\u001b[24m359.\n",
      "\u001b[90m2\u001b[39m  \u001b[4m2\u001b[24m013 81\u001b[4m4\u001b[24m\u001b[4m6\u001b[24m\u001b[4m6\u001b[24m520.\n",
      "\u001b[90m3\u001b[39m  \u001b[4m2\u001b[24m014 80\u001b[4m7\u001b[24m\u001b[4m6\u001b[24m\u001b[4m6\u001b[24m210.\n"
     ]
    }
   ],
   "source": [
    "print(\n",
    "  vic_elec %>%\n",
    "    index_by(Year = year(Time)) %>%\n",
    "    summarise(Turnover = sum(Demand))\n",
    ")"
   ]
  },
  {
   "cell_type": "markdown",
   "metadata": {},
   "source": [
    "tsibble对象可以直接使用`autoplot()`函数进行时间序列图的绘制（只要指定了index和key），并且该图像还可以继续使用ggplot2的思想进行修改："
   ]
  },
  {
   "cell_type": "code",
   "execution_count": 26,
   "metadata": {
    "vscode": {
     "languageId": "r"
    }
   },
   "outputs": [
    {
     "name": "stderr",
     "output_type": "stream",
     "text": [
      "Plot variable not specified, automatically selected `.vars = Close`\n"
     ]
    },
    {
     "data": {
      "image/png": "[encoded data removed]",
      "text/plain": [
       "plot without title"
      ]
     },
     "metadata": {
      "image/png": {
       "height": 420,
       "width": 420
      }
     },
     "output_type": "display_data"
    }
   ],
   "source": [
    "library(ggpubr)\n",
    "library(ggsci)\n",
    "autoplot(tbl_ts) +\n",
    "  scale_color_aaas() +\n",
    "  theme_pubr() +\n",
    "  theme(\n",
    "    panel.grid.major = element_line()\n",
    "  )"
   ]
  },
  {
   "attachments": {},
   "cell_type": "markdown",
   "metadata": {
    "vscode": {
     "languageId": "r"
    }
   },
   "source": [
    "## 用tibble创建数据框"
   ]
  },
  {
   "attachments": {},
   "cell_type": "markdown",
   "metadata": {},
   "source": [
    "tibble包可以创建tibble类型的数据集并进行相关操作。tibble是一种简单数据框，它对传统数据框dataframe的功能进行了一些修改，以便更易于使用。"
   ]
  },
  {
   "attachments": {},
   "cell_type": "markdown",
   "metadata": {},
   "source": [
    "### as_tibble()"
   ]
  },
  {
   "attachments": {},
   "cell_type": "markdown",
   "metadata": {},
   "source": [
    "转换成tibble格式的数据框。"
   ]
  },
  {
   "cell_type": "code",
   "execution_count": 21,
   "metadata": {
    "vscode": {
     "languageId": "r"
    }
   },
   "outputs": [
    {
     "name": "stdout",
     "output_type": "stream",
     "text": [
      "\u001b[90m# A tibble: 150 × 5\u001b[39m\n",
      "   Sepal.Length Sepal.Width Petal.Length Petal.Width Species\n",
      "          \u001b[3m\u001b[90m<dbl>\u001b[39m\u001b[23m       \u001b[3m\u001b[90m<dbl>\u001b[39m\u001b[23m        \u001b[3m\u001b[90m<dbl>\u001b[39m\u001b[23m       \u001b[3m\u001b[90m<dbl>\u001b[39m\u001b[23m \u001b[3m\u001b[90m<fct>\u001b[39m\u001b[23m  \n",
      "\u001b[90m 1\u001b[39m          5.1         3.5          1.4         0.2 setosa \n",
      "\u001b[90m 2\u001b[39m          4.9         3            1.4         0.2 setosa \n",
      "\u001b[90m 3\u001b[39m          4.7         3.2          1.3         0.2 setosa \n",
      "\u001b[90m 4\u001b[39m          4.6         3.1          1.5         0.2 setosa \n",
      "\u001b[90m 5\u001b[39m          5           3.6          1.4         0.2 setosa \n",
      "\u001b[90m 6\u001b[39m          5.4         3.9          1.7         0.4 setosa \n",
      "\u001b[90m 7\u001b[39m          4.6         3.4          1.4         0.3 setosa \n",
      "\u001b[90m 8\u001b[39m          5           3.4          1.5         0.2 setosa \n",
      "\u001b[90m 9\u001b[39m          4.4         2.9          1.4         0.2 setosa \n",
      "\u001b[90m10\u001b[39m          4.9         3.1          1.5         0.1 setosa \n",
      "\u001b[90m# ℹ 140 more rows\u001b[39m\n"
     ]
    }
   ],
   "source": [
    "as_tibble(iris) %>%\n",
    "  print()"
   ]
  },
  {
   "attachments": {},
   "cell_type": "markdown",
   "metadata": {},
   "source": [
    "### tibble()和tribble()"
   ]
  },
  {
   "cell_type": "markdown",
   "metadata": {},
   "source": [
    "tibble()和tribble()都可以创建数据框，两者略有不同：tribble是按行输入。"
   ]
  },
  {
   "cell_type": "code",
   "execution_count": 22,
   "metadata": {
    "vscode": {
     "languageId": "r"
    }
   },
   "outputs": [
    {
     "name": "stdout",
     "output_type": "stream",
     "text": [
      "\u001b[90m# A tibble: 5 × 3\u001b[39m\n",
      "    col1   col2   col3\n",
      "   \u001b[3m\u001b[90m<dbl>\u001b[39m\u001b[23m  \u001b[3m\u001b[90m<dbl>\u001b[39m\u001b[23m  \u001b[3m\u001b[90m<dbl>\u001b[39m\u001b[23m\n",
      "\u001b[90m1\u001b[39m -\u001b[31m0\u001b[39m\u001b[31m.\u001b[39m\u001b[31m854\u001b[39m -\u001b[31m1\u001b[39m\u001b[31m.\u001b[39m\u001b[31m18\u001b[39m   1.89 \n",
      "\u001b[90m2\u001b[39m -\u001b[31m0\u001b[39m\u001b[31m.\u001b[39m\u001b[31m353\u001b[39m -\u001b[31m1\u001b[39m\u001b[31m.\u001b[39m\u001b[31m94\u001b[39m   0.836\n",
      "\u001b[90m3\u001b[39m  0.890  2.09   1.35 \n",
      "\u001b[90m4\u001b[39m  1.74   0.225 -\u001b[31m0\u001b[39m\u001b[31m.\u001b[39m\u001b[31m192\u001b[39m\n",
      "\u001b[90m5\u001b[39m  0.916  1.18   0.193\n",
      "\u001b[90m# A tibble: 3 × 2\u001b[39m\n",
      "  col1   col2\n",
      "  \u001b[3m\u001b[90m<chr>\u001b[39m\u001b[23m \u001b[3m\u001b[90m<dbl>\u001b[39m\u001b[23m\n",
      "\u001b[90m1\u001b[39m a         1\n",
      "\u001b[90m2\u001b[39m b         2\n",
      "\u001b[90m3\u001b[39m c         3\n"
     ]
    }
   ],
   "source": [
    "set.seed(2000)\n",
    "test1 <- tibble(\n",
    "    col1 = rnorm(5),\n",
    "    col2 = rnorm(5),\n",
    "    col3 = rnorm(5),\n",
    ")\n",
    "\n",
    "test2 <- tribble(\n",
    "    ~col1, ~col2,\n",
    "    \"a\", 1,\n",
    "    \"b\", 2,\n",
    "    \"c\", 3\n",
    ")\n",
    "print(test1)\n",
    "print(test2)"
   ]
  },
  {
   "attachments": {},
   "cell_type": "markdown",
   "metadata": {},
   "source": [
    "### add_column()和add_row()"
   ]
  },
  {
   "attachments": {},
   "cell_type": "markdown",
   "metadata": {},
   "source": [
    "两个函数分别用来添加列和行。"
   ]
  },
  {
   "attachments": {},
   "cell_type": "markdown",
   "metadata": {},
   "source": [
    "add_column()有两点要注意：\n",
    "- 不能覆写已经存在的字段列，即列名不能一样。\n",
    "- 值的个数要保持与其他列一致。\n",
    " \n",
    "函数参数：\n",
    "- `.data`：进行操作的数据集。\n",
    "- `...`：指定添加的列名和值。中间用等号连接。\n",
    "- `.before, .after`：指定添加的位置，用数字表示，默认最后一列。"
   ]
  },
  {
   "cell_type": "code",
   "execution_count": 23,
   "metadata": {
    "vscode": {
     "languageId": "r"
    }
   },
   "outputs": [
    {
     "name": "stdout",
     "output_type": "stream",
     "text": [
      "\u001b[90m# A tibble: 3 × 3\u001b[39m\n",
      "      z     x     y\n",
      "  \u001b[3m\u001b[90m<dbl>\u001b[39m\u001b[23m \u001b[3m\u001b[90m<int>\u001b[39m\u001b[23m \u001b[3m\u001b[90m<int>\u001b[39m\u001b[23m\n",
      "\u001b[90m1\u001b[39m  -\u001b[31m1\u001b[39m\u001b[31m.\u001b[39m\u001b[31m9\u001b[39m     1     3\n",
      "\u001b[90m2\u001b[39m   0.6     2     2\n",
      "\u001b[90m3\u001b[39m  -\u001b[31m2\u001b[39m\u001b[31m.\u001b[39m\u001b[31m2\u001b[39m     3     1\n",
      "\u001b[90m# A tibble: 3 × 3\u001b[39m\n",
      "      x     y     z\n",
      "  \u001b[3m\u001b[90m<int>\u001b[39m\u001b[23m \u001b[3m\u001b[90m<int>\u001b[39m\u001b[23m \u001b[3m\u001b[90m<dbl>\u001b[39m\u001b[23m\n",
      "\u001b[90m1\u001b[39m     1     3   0.5\n",
      "\u001b[90m2\u001b[39m     2     2  -\u001b[31m0\u001b[39m\u001b[31m.\u001b[39m\u001b[31m6\u001b[39m\n",
      "\u001b[90m3\u001b[39m     3     1   0.6\n"
     ]
    }
   ],
   "source": [
    "library(tidyverse)\n",
    "set.seed(199)\n",
    "tibb1 <- tibble(x = 1:3, y = 3:1)%>%\n",
    "  add_column(z = round(rnorm(n = 3), 1), .before = 1)\n",
    "\n",
    "tibb2 <- tibble(x = 1:3, y = 3:1)%>%\n",
    "  add_column(z = round(rnorm(n = 3), 1), .after = 2)\n",
    "\n",
    "print(tibb1)\n",
    "print(tibb2)"
   ]
  },
  {
   "attachments": {},
   "cell_type": "markdown",
   "metadata": {},
   "source": [
    "add_row()有两点要注意：\n",
    "- 必须一一对应哪一列添加哪个或添加哪些值，若指定不全会用`NA`代替。\n",
    "- 不能通过添加行的方式增加新的变量列。\n",
    " \n",
    "函数参数：\n",
    "- `.data`：进行操作的数据集。\n",
    "- `...`：指定添加的行名和值。\n",
    "- `.before, .after`：指定添加的位置，用数字表示，默认最后一行。"
   ]
  },
  {
   "cell_type": "code",
   "execution_count": 24,
   "metadata": {
    "vscode": {
     "languageId": "r"
    }
   },
   "outputs": [
    {
     "name": "stdout",
     "output_type": "stream",
     "text": [
      "\u001b[90m# A tibble: 4 × 2\u001b[39m\n",
      "      x     y\n",
      "  \u001b[3m\u001b[90m<dbl>\u001b[39m\u001b[23m \u001b[3m\u001b[90m<dbl>\u001b[39m\u001b[23m\n",
      "\u001b[90m1\u001b[39m     0     0\n",
      "\u001b[90m2\u001b[39m     1     3\n",
      "\u001b[90m3\u001b[39m     2     2\n",
      "\u001b[90m4\u001b[39m     3     1\n",
      "\u001b[90m# A tibble: 4 × 2\u001b[39m\n",
      "      x     y\n",
      "  \u001b[3m\u001b[90m<dbl>\u001b[39m\u001b[23m \u001b[3m\u001b[90m<int>\u001b[39m\u001b[23m\n",
      "\u001b[90m1\u001b[39m     1     3\n",
      "\u001b[90m2\u001b[39m     2     2\n",
      "\u001b[90m3\u001b[39m     0    \u001b[31mNA\u001b[39m\n",
      "\u001b[90m4\u001b[39m     3     1\n"
     ]
    }
   ],
   "source": [
    "set.seed(199)\n",
    "tbl1 <- tibble(x = 1:3, y = 3:1)%>%\n",
    "  add_row(x = 0, y = 0, .before = 1)\n",
    "\n",
    "tbl2 <- tibble(x = 1:3, y = 3:1)%>%\n",
    "  add_row(x = 0, .after = 2)\n",
    "\n",
    "print(tbl1)\n",
    "print(tbl2)"
   ]
  },
  {
   "cell_type": "markdown",
   "metadata": {},
   "source": [
    "此外`cind()`和`rbind()`也可以进行对应的操作："
   ]
  },
  {
   "cell_type": "markdown",
   "metadata": {},
   "source": [
    "### 规范操作"
   ]
  },
  {
   "cell_type": "markdown",
   "metadata": {},
   "source": [
    "#### 行名操作"
   ]
  },
  {
   "cell_type": "markdown",
   "metadata": {},
   "source": [
    "判断是否有行名：\n",
    "```r\n",
    "has_rownames(.data)\n",
    "```\n",
    "删除行名：\n",
    "```r\n",
    "remove_rownames(.data)\n",
    "```\n",
    "行名转换成列：\n",
    "```r\n",
    "rownames_to_column(.data, var = \"\")\n",
    "```\n",
    "列转换成行名\n",
    "```r\n",
    "column_to_rownames(.data, var = \"\")\n",
    "```"
   ]
  },
  {
   "cell_type": "markdown",
   "metadata": {},
   "source": [
    "### 提取数据框元素，子集"
   ]
  },
  {
   "cell_type": "markdown",
   "metadata": {},
   "source": [
    "#### 以列表方式提取数据框的元素，子集"
   ]
  },
  {
   "cell_type": "markdown",
   "metadata": {},
   "source": [
    "若把数据框看做由向量组成的列表，则可以沿用列表的操作方式提取元素或构建子集。"
   ]
  },
  {
   "cell_type": "code",
   "execution_count": 25,
   "metadata": {
    "vscode": {
     "languageId": "r"
    }
   },
   "outputs": [
    {
     "name": "stdout",
     "output_type": "stream",
     "text": [
      " [1] 517 533 542 544 554 554 555 557 557 558\n"
     ]
    }
   ],
   "source": [
    "tbl <- head(nycflights13::flights, 10)\n",
    "print(tbl$dep_time)"
   ]
  },
  {
   "cell_type": "code",
   "execution_count": 26,
   "metadata": {
    "vscode": {
     "languageId": "r"
    }
   },
   "outputs": [
    {
     "name": "stdout",
     "output_type": "stream",
     "text": [
      " [1] 517 533 542 544 554 554 555 557 557 558\n"
     ]
    }
   ],
   "source": [
    "print(tbl[[\"dep_time\"]])"
   ]
  },
  {
   "cell_type": "code",
   "execution_count": 27,
   "metadata": {
    "vscode": {
     "languageId": "r"
    }
   },
   "outputs": [
    {
     "name": "stdout",
     "output_type": "stream",
     "text": [
      "\u001b[90m# A tibble: 10 × 1\u001b[39m\n",
      "   dep_time\n",
      "      \u001b[3m\u001b[90m<int>\u001b[39m\u001b[23m\n",
      "\u001b[90m 1\u001b[39m      517\n",
      "\u001b[90m 2\u001b[39m      533\n",
      "\u001b[90m 3\u001b[39m      542\n",
      "\u001b[90m 4\u001b[39m      544\n",
      "\u001b[90m 5\u001b[39m      554\n",
      "\u001b[90m 6\u001b[39m      554\n",
      "\u001b[90m 7\u001b[39m      555\n",
      "\u001b[90m 8\u001b[39m      557\n",
      "\u001b[90m 9\u001b[39m      557\n",
      "\u001b[90m10\u001b[39m      558\n"
     ]
    }
   ],
   "source": [
    "print(tbl[\"dep_time\"])"
   ]
  },
  {
   "cell_type": "markdown",
   "metadata": {},
   "source": [
    "#### 以矩阵方式提取数据框的元素，子集"
   ]
  },
  {
   "cell_type": "markdown",
   "metadata": {},
   "source": [
    "以列表形式操作并不支持行选择，以矩阵选择操作则更加灵活。仍然使用二维提取器的方式。"
   ]
  },
  {
   "cell_type": "code",
   "execution_count": 28,
   "metadata": {
    "vscode": {
     "languageId": "r"
    }
   },
   "outputs": [
    {
     "name": "stdout",
     "output_type": "stream",
     "text": [
      "\u001b[90m# A tibble: 2 × 19\u001b[39m\n",
      "   year month   day dep_time sched_dep_time dep_delay arr_time sched_arr_time\n",
      "  \u001b[3m\u001b[90m<int>\u001b[39m\u001b[23m \u001b[3m\u001b[90m<int>\u001b[39m\u001b[23m \u001b[3m\u001b[90m<int>\u001b[39m\u001b[23m    \u001b[3m\u001b[90m<int>\u001b[39m\u001b[23m          \u001b[3m\u001b[90m<int>\u001b[39m\u001b[23m     \u001b[3m\u001b[90m<dbl>\u001b[39m\u001b[23m    \u001b[3m\u001b[90m<int>\u001b[39m\u001b[23m          \u001b[3m\u001b[90m<int>\u001b[39m\u001b[23m\n",
      "\u001b[90m1\u001b[39m  \u001b[4m2\u001b[24m013     1     1      517            515         2      830            819\n",
      "\u001b[90m2\u001b[39m  \u001b[4m2\u001b[24m013     1     1      533            529         4      850            830\n",
      "\u001b[90m# ℹ 11 more variables: arr_delay <dbl>, carrier <chr>, flight <int>,\u001b[39m\n",
      "\u001b[90m#   tailnum <chr>, origin <chr>, dest <chr>, air_time <dbl>, distance <dbl>,\u001b[39m\n",
      "\u001b[90m#   hour <dbl>, minute <dbl>, time_hour <dttm>\u001b[39m\n"
     ]
    }
   ],
   "source": [
    "print(tbl[1:2, ])"
   ]
  },
  {
   "cell_type": "code",
   "execution_count": 29,
   "metadata": {
    "vscode": {
     "languageId": "r"
    }
   },
   "outputs": [
    {
     "ename": "ERROR",
     "evalue": "\u001b[1m\u001b[33mError\u001b[39m in `tbl[[1:2, ]]`:\u001b[22m\n\u001b[1m\u001b[22m\u001b[33m!\u001b[39m Subscript can't be missing for tibbles in `[[`.\n",
     "output_type": "error",
     "traceback": [
      "\u001b[1m\u001b[33mError\u001b[39m in `tbl[[1:2, ]]`:\u001b[22m\n\u001b[1m\u001b[22m\u001b[33m!\u001b[39m Subscript can't be missing for tibbles in `[[`.\nTraceback:\n",
      "1. print(tbl[[1:2, ]])",
      "2. tbl[[1:2, ]]",
      "3. `[[.tbl_df`(tbl, 1:2, )",
      "4. abort_subset_columns_non_missing_only()",
      "5. tibble_abort(call = call, \"Subscript can't be missing for tibbles in `[[`.\")",
      "6. abort(x, class, ..., call = call, parent = parent, use_cli_format = TRUE)",
      "7. signal_abort(cnd, .file)"
     ]
    }
   ],
   "source": [
    "print(tbl[[1:2, ]])"
   ]
  },
  {
   "cell_type": "markdown",
   "metadata": {},
   "source": [
    "可以看到tibbles在使用`$`、`[[`和`[`访问列、行或单元格时的行为会有差异：\n",
    "- `[` 默认情况下<span style = 'color:red'><strong>总是返回一个tibble对象</strong></span>，即使只访问一个列。这意味着提取的是数据集的子集：即使只选择一个列，也会返回一个包含该列的tibble，而不是返回一个向量或列表。\n",
    "- 对于`$`和`[[`，它们提取的是数据框的元素。不支持使用<span style = 'color:red'><strong>部分匹配</strong></span>的列名，如果尝试这样做，将返回NULL并给出警告。这意味着无法使用部分列名来访问列，必须使用完全匹配的列名。\n",
    "- 只能使用标量（长度为1的向量）或与行数相同长度的向量进行赋值操作。这意味着在更新tibble的列时，只能使用长度与行数相同的向量或标量。\n",
    "- 不能访问超出tibble边界之外的行。这意味着无法通过索引访问不存在的行。\n",
    "- 当使用`[[<-`和`[<-`进行更新时，整列的类型转换是支持的，但是更新列的一部分时，新值必须可以转换为现有类型。这意味着在更新tibble的部分列时，新值的类型必须与原始列的类型兼容。"
   ]
  },
  {
   "attachments": {},
   "cell_type": "markdown",
   "metadata": {},
   "source": [
    "此外若要想在管道中使用这些提取操作，需要使用特殊的占位符 `.`："
   ]
  },
  {
   "cell_type": "code",
   "execution_count": null,
   "metadata": {
    "vscode": {
     "languageId": "r"
    }
   },
   "outputs": [
    {
     "data": {
      "text/html": [
       "<style>\n",
       ".list-inline {list-style: none; margin:0; padding: 0}\n",
       ".list-inline>li {display: inline-block}\n",
       ".list-inline>li:not(:last-child)::after {content: \"\\00b7\"; padding: 0 .5ex}\n",
       "</style>\n",
       "<ol class=list-inline><li>517</li><li>533</li><li>542</li><li>544</li><li>554</li><li>554</li><li>555</li><li>557</li><li>557</li><li>558</li></ol>\n"
      ],
      "text/latex": [
       "\\begin{enumerate*}\n",
       "\\item 517\n",
       "\\item 533\n",
       "\\item 542\n",
       "\\item 544\n",
       "\\item 554\n",
       "\\item 554\n",
       "\\item 555\n",
       "\\item 557\n",
       "\\item 557\n",
       "\\item 558\n",
       "\\end{enumerate*}\n"
      ],
      "text/markdown": [
       "1. 517\n",
       "2. 533\n",
       "3. 542\n",
       "4. 544\n",
       "5. 554\n",
       "6. 554\n",
       "7. 555\n",
       "8. 557\n",
       "9. 557\n",
       "10. 558\n",
       "\n",
       "\n"
      ],
      "text/plain": [
       " [1] 517 533 542 544 554 554 555 557 557 558"
      ]
     },
     "metadata": {},
     "output_type": "display_data"
    },
    {
     "data": {
      "text/html": [
       "<style>\n",
       ".list-inline {list-style: none; margin:0; padding: 0}\n",
       ".list-inline>li {display: inline-block}\n",
       ".list-inline>li:not(:last-child)::after {content: \"\\00b7\"; padding: 0 .5ex}\n",
       "</style>\n",
       "<ol class=list-inline><li>517</li><li>533</li><li>542</li><li>544</li><li>554</li><li>554</li><li>555</li><li>557</li><li>557</li><li>558</li></ol>\n"
      ],
      "text/latex": [
       "\\begin{enumerate*}\n",
       "\\item 517\n",
       "\\item 533\n",
       "\\item 542\n",
       "\\item 544\n",
       "\\item 554\n",
       "\\item 554\n",
       "\\item 555\n",
       "\\item 557\n",
       "\\item 557\n",
       "\\item 558\n",
       "\\end{enumerate*}\n"
      ],
      "text/markdown": [
       "1. 517\n",
       "2. 533\n",
       "3. 542\n",
       "4. 544\n",
       "5. 554\n",
       "6. 554\n",
       "7. 555\n",
       "8. 557\n",
       "9. 557\n",
       "10. 558\n",
       "\n",
       "\n"
      ],
      "text/plain": [
       " [1] 517 533 542 544 554 554 555 557 557 558"
      ]
     },
     "metadata": {},
     "output_type": "display_data"
    },
    {
     "data": {
      "text/html": [
       "<table class=\"dataframe\">\n",
       "<caption>A tibble: 10 × 1</caption>\n",
       "<thead>\n",
       "\t<tr><th scope=col>dep_time</th></tr>\n",
       "\t<tr><th scope=col>&lt;int&gt;</th></tr>\n",
       "</thead>\n",
       "<tbody>\n",
       "\t<tr><td>517</td></tr>\n",
       "\t<tr><td>533</td></tr>\n",
       "\t<tr><td>542</td></tr>\n",
       "\t<tr><td>544</td></tr>\n",
       "\t<tr><td>554</td></tr>\n",
       "\t<tr><td>554</td></tr>\n",
       "\t<tr><td>555</td></tr>\n",
       "\t<tr><td>557</td></tr>\n",
       "\t<tr><td>557</td></tr>\n",
       "\t<tr><td>558</td></tr>\n",
       "</tbody>\n",
       "</table>\n"
      ],
      "text/latex": [
       "A tibble: 10 × 1\n",
       "\\begin{tabular}{l}\n",
       " dep\\_time\\\\\n",
       " <int>\\\\\n",
       "\\hline\n",
       "\t 517\\\\\n",
       "\t 533\\\\\n",
       "\t 542\\\\\n",
       "\t 544\\\\\n",
       "\t 554\\\\\n",
       "\t 554\\\\\n",
       "\t 555\\\\\n",
       "\t 557\\\\\n",
       "\t 557\\\\\n",
       "\t 558\\\\\n",
       "\\end{tabular}\n"
      ],
      "text/markdown": [
       "\n",
       "A tibble: 10 × 1\n",
       "\n",
       "| dep_time &lt;int&gt; |\n",
       "|---|\n",
       "| 517 |\n",
       "| 533 |\n",
       "| 542 |\n",
       "| 544 |\n",
       "| 554 |\n",
       "| 554 |\n",
       "| 555 |\n",
       "| 557 |\n",
       "| 557 |\n",
       "| 558 |\n",
       "\n"
      ],
      "text/plain": [
       "   dep_time\n",
       "1  517     \n",
       "2  533     \n",
       "3  542     \n",
       "4  544     \n",
       "5  554     \n",
       "6  554     \n",
       "7  555     \n",
       "8  557     \n",
       "9  557     \n",
       "10 558     "
      ]
     },
     "metadata": {},
     "output_type": "display_data"
    }
   ],
   "source": [
    "tbl %>%\n",
    "  .$dep_time\n",
    "\n",
    "tbl %>%\n",
    "  .[[\"dep_time\"]]\n",
    "\n",
    "tbl %>%\n",
    "  .[\"dep_time\"]"
   ]
  },
  {
   "attachments": {},
   "cell_type": "markdown",
   "metadata": {},
   "source": [
    "### 打印"
   ]
  },
  {
   "attachments": {},
   "cell_type": "markdown",
   "metadata": {},
   "source": [
    "tibble的打印方法进行了优化，只显示前10行结果，并且列也是适合屏幕的，这种方式非常适合大数据集。此外，除了打印列名，tibble还会打印出列的类型。可以通过传入参数`n`决定打印的行数。"
   ]
  },
  {
   "cell_type": "code",
   "execution_count": null,
   "metadata": {
    "vscode": {
     "languageId": "r"
    }
   },
   "outputs": [
    {
     "name": "stdout",
     "output_type": "stream",
     "text": [
      "\u001b[90m# A tibble: 234 × 11\u001b[39m\n",
      "   manufacturer model      displ  year   cyl trans drv     cty   hwy fl    class\n",
      "   \u001b[3m\u001b[90m<chr>\u001b[39m\u001b[23m        \u001b[3m\u001b[90m<chr>\u001b[39m\u001b[23m      \u001b[3m\u001b[90m<dbl>\u001b[39m\u001b[23m \u001b[3m\u001b[90m<int>\u001b[39m\u001b[23m \u001b[3m\u001b[90m<int>\u001b[39m\u001b[23m \u001b[3m\u001b[90m<chr>\u001b[39m\u001b[23m \u001b[3m\u001b[90m<chr>\u001b[39m\u001b[23m \u001b[3m\u001b[90m<int>\u001b[39m\u001b[23m \u001b[3m\u001b[90m<int>\u001b[39m\u001b[23m \u001b[3m\u001b[90m<chr>\u001b[39m\u001b[23m \u001b[3m\u001b[90m<chr>\u001b[39m\u001b[23m\n",
      "\u001b[90m 1\u001b[39m audi         a4           1.8  \u001b[4m1\u001b[24m999     4 auto… f        18    29 p     comp…\n",
      "\u001b[90m 2\u001b[39m audi         a4           1.8  \u001b[4m1\u001b[24m999     4 manu… f        21    29 p     comp…\n",
      "\u001b[90m 3\u001b[39m audi         a4           2    \u001b[4m2\u001b[24m008     4 manu… f        20    31 p     comp…\n",
      "\u001b[90m 4\u001b[39m audi         a4           2    \u001b[4m2\u001b[24m008     4 auto… f        21    30 p     comp…\n",
      "\u001b[90m 5\u001b[39m audi         a4           2.8  \u001b[4m1\u001b[24m999     6 auto… f        16    26 p     comp…\n",
      "\u001b[90m 6\u001b[39m audi         a4           2.8  \u001b[4m1\u001b[24m999     6 manu… f        18    26 p     comp…\n",
      "\u001b[90m 7\u001b[39m audi         a4           3.1  \u001b[4m2\u001b[24m008     6 auto… f        18    27 p     comp…\n",
      "\u001b[90m 8\u001b[39m audi         a4 quattro   1.8  \u001b[4m1\u001b[24m999     4 manu… 4        18    26 p     comp…\n",
      "\u001b[90m 9\u001b[39m audi         a4 quattro   1.8  \u001b[4m1\u001b[24m999     4 auto… 4        16    25 p     comp…\n",
      "\u001b[90m10\u001b[39m audi         a4 quattro   2    \u001b[4m2\u001b[24m008     4 manu… 4        20    28 p     comp…\n",
      "\u001b[90m# ℹ 224 more rows\u001b[39m\n"
     ]
    }
   ],
   "source": [
    "as_tibble(mpg)%>%\n",
    "    print(n = 10)"
   ]
  },
  {
   "attachments": {},
   "cell_type": "markdown",
   "metadata": {},
   "source": [
    "## 使用forcats处理因子"
   ]
  },
  {
   "attachments": {},
   "cell_type": "markdown",
   "metadata": {},
   "source": [
    "### 创建因子"
   ]
  },
  {
   "attachments": {},
   "cell_type": "markdown",
   "metadata": {},
   "source": [
    "创建因子的步骤主要分为两个，<span style = 'color:red'><strong>一是输入因子，二是定义水平</strong></span>。"
   ]
  },
  {
   "cell_type": "markdown",
   "metadata": {},
   "source": [
    "一种可行的方法是`factor()`函数：\n",
    "```r\n",
    "factor(x = character(), levels, labels = levels,\n",
    "       exclude = NA, ordered = is.ordered(x), nmax = NA)\n",
    "```\n",
    "其中labels设置各水平名称（前缀），它是与水平名称一一对应的。ordered设置是否对因子水平排序，若设置为TRUE则为有序因子。"
   ]
  },
  {
   "attachments": {},
   "cell_type": "markdown",
   "metadata": {},
   "source": [
    "正确的做法：\n",
    "```r\n",
    "x1 <- c(\"Dec\", \"Apr\", \"Jan\", \"Mar\")\n",
    "x2 <- c(\"Dec\", \"Apr\", \"Jam\", \"Mar\")\n",
    "month_levels <- c(\n",
    " \"Jan\", \"Feb\", \"Mar\", \"Apr\", \"May\", \"Jun\",\n",
    " \"Jul\", \"Aug\", \"Sep\", \"Oct\", \"Nov\", \"Dec\"\n",
    ") # 水平的顺序要注意\n",
    "\n",
    "y1 <- factor(x1, levels = month_levels)\n",
    "y1\n",
    "#> [1] Dec Apr Jan Mar\n",
    "#> Levels: Jan Feb Mar Apr May Jun Jul Aug Sep Oct Nov Dec\n",
    "```\n",
    "\n",
    "此时将因子进行排序，会按照定义的水平进行排序：\n",
    "```r\n",
    "sort(y1)\n",
    "#> [1] Jan Mar Apr Dec\n",
    "#> Levels: Jan Feb Mar Apr May Jun Jul Aug Sep Oct Nov Dec\n",
    "```\n",
    "\n",
    "不在有效水平集合内的所有值都会自动转换为 NA：\n",
    "```r\n",
    "y2 <- factor(x2, levels = month_levels)\n",
    "y2\n",
    "#> [1] Dec Apr <NA> Mar\n",
    "#> Levels: Jan Feb Mar Apr May Jun Jul Aug Sep Oct Nov Dec\n",
    "```\n",
    "\n",
    "如果省略了定义水平的这个步骤，那么会将<span style = 'color:red'><strong>按字母顺序排序的数据</strong></span>作为水平：\n",
    "```r\n",
    "factor(x1)\n",
    "#> [1] Dec Apr Jan Mar\n",
    "#> Levels: Apr Dec Jan Mar\n",
    "sort(x1)\n",
    "#> [1] Apr Dec Jan Mar\n",
    "#> Levels: Apr Dec Jan Mar\n",
    "```\n",
    "\n",
    "有时会想让因子的顺序与初始数据的顺序保持一致。这在转换数据集中字符串类型数据时常常有用。在创建因子时，将水平设置为unique(x)，或者在创建因子后再对其使用 fct_inorder() 函数，就可以达到这个目的：\n",
    "```r\n",
    "f1 <- factor(x1, levels = unique(x1))\n",
    "f1\n",
    "#> [1] Dec Apr Jan Mar\n",
    "#> Levels: Dec Apr Jan Mar\n",
    "f2 <- x1 %>% factor() %>% fct_inorder()\n",
    "f2\n",
    "#> [1] Dec Apr Jan Mar\n",
    "#> Levels: Dec Apr Jan Mar"
   ]
  },
  {
   "attachments": {},
   "cell_type": "markdown",
   "metadata": {},
   "source": [
    "而forcats包中的fct()函数则与factor()有两点不同\n",
    "1. 指定的因子必须在水平之中，不在水平中的因子要通过`na`参数指明，否则报错。\n",
    "2. `fct()`若不指定levels水平，会自动让因子水平的顺序与原数据保持一致。\n",
    "\n",
    "**此外还需注意，fct()接受的输入必须为字符串向量。**"
   ]
  },
  {
   "cell_type": "code",
   "execution_count": null,
   "metadata": {
    "vscode": {
     "languageId": "r"
    }
   },
   "outputs": [
    {
     "ename": "ERROR",
     "evalue": "\u001b[1m\u001b[33mError\u001b[39m in `fct()`:\u001b[22m\n\u001b[1m\u001b[22m\u001b[33m!\u001b[39m All values of `x` must appear in `levels` or `na`\n\u001b[36mℹ\u001b[39m Missing level: \"Jam\"\n",
     "output_type": "error",
     "traceback": [
      "\u001b[1m\u001b[33mError\u001b[39m in `fct()`:\u001b[22m\n\u001b[1m\u001b[22m\u001b[33m!\u001b[39m All values of `x` must appear in `levels` or `na`\n\u001b[36mℹ\u001b[39m Missing level: \"Jam\"\nTraceback:\n",
      "1. fct(x2, levels = month_levels)",
      "2. cli::cli_abort(c(\"All values of {.arg x} must appear in {.arg levels} or {.arg na}\", \n .     i = \"Missing level{?s}: {.str {invalid}}\"))",
      "3. rlang::abort(message, ..., call = call, use_cli_format = TRUE, \n .     .frame = .frame)",
      "4. signal_abort(cnd, .file)"
     ]
    }
   ],
   "source": [
    "x1 <- c(\"Dec\", \"Apr\", \"Jan\", \"Mar\")\n",
    "x2 <- c(\"Dec\", \"Apr\", \"Jam\", \"Mar\")\n",
    "month_levels <- c(\n",
    " \"Jan\", \"Feb\", \"Mar\", \"Apr\", \"May\", \"Jun\",\n",
    " \"Jul\", \"Aug\", \"Sep\", \"Oct\", \"Nov\", \"Dec\"\n",
    ")\n",
    "\n",
    "fct(x2, levels = month_levels)"
   ]
  },
  {
   "cell_type": "code",
   "execution_count": null,
   "metadata": {
    "vscode": {
     "languageId": "r"
    }
   },
   "outputs": [
    {
     "data": {
      "text/html": [
       "<style>\n",
       ".list-inline {list-style: none; margin:0; padding: 0}\n",
       ".list-inline>li {display: inline-block}\n",
       ".list-inline>li:not(:last-child)::after {content: \"\\00b7\"; padding: 0 .5ex}\n",
       "</style>\n",
       "<ol class=list-inline><li>Dec</li><li>Apr</li><li>Jan</li><li>Mar</li></ol>\n",
       "\n",
       "<details>\n",
       "\t<summary style=display:list-item;cursor:pointer>\n",
       "\t\t<strong>Levels</strong>:\n",
       "\t</summary>\n",
       "\t<style>\n",
       "\t.list-inline {list-style: none; margin:0; padding: 0}\n",
       "\t.list-inline>li {display: inline-block}\n",
       "\t.list-inline>li:not(:last-child)::after {content: \"\\00b7\"; padding: 0 .5ex}\n",
       "\t</style>\n",
       "\t<ol class=list-inline><li>'Dec'</li><li>'Apr'</li><li>'Jan'</li><li>'Mar'</li></ol>\n",
       "</details>"
      ],
      "text/latex": [
       "\\begin{enumerate*}\n",
       "\\item Dec\n",
       "\\item Apr\n",
       "\\item Jan\n",
       "\\item Mar\n",
       "\\end{enumerate*}\n",
       "\n",
       "\\emph{Levels}: \\begin{enumerate*}\n",
       "\\item 'Dec'\n",
       "\\item 'Apr'\n",
       "\\item 'Jan'\n",
       "\\item 'Mar'\n",
       "\\end{enumerate*}\n"
      ],
      "text/markdown": [
       "1. Dec\n",
       "2. Apr\n",
       "3. Jan\n",
       "4. Mar\n",
       "\n",
       "\n",
       "\n",
       "**Levels**: 1. 'Dec'\n",
       "2. 'Apr'\n",
       "3. 'Jan'\n",
       "4. 'Mar'\n",
       "\n",
       "\n"
      ],
      "text/plain": [
       "[1] Dec Apr Jan Mar\n",
       "Levels: Dec Apr Jan Mar"
      ]
     },
     "metadata": {},
     "output_type": "display_data"
    }
   ],
   "source": [
    "fct(x1)"
   ]
  },
  {
   "cell_type": "markdown",
   "metadata": {},
   "source": [
    "### 计算因子各水平频数"
   ]
  },
  {
   "cell_type": "markdown",
   "metadata": {},
   "source": [
    "一种可用的方法是用`table()`函数："
   ]
  },
  {
   "cell_type": "code",
   "execution_count": 15,
   "metadata": {
    "vscode": {
     "languageId": "r"
    }
   },
   "outputs": [
    {
     "name": "stdout",
     "output_type": "stream",
     "text": [
      "\n",
      "         No answer         Don't know        Other party  Strong republican \n",
      "               154                  1                393               2314 \n",
      "Not str republican       Ind,near rep        Independent       Ind,near dem \n",
      "              3032               1791               4119               2499 \n",
      "  Not str democrat    Strong democrat \n",
      "              3690               3490 \n"
     ]
    }
   ],
   "source": [
    "print(\n",
    "    table(gss_cat$partyid)\n",
    ")"
   ]
  },
  {
   "cell_type": "markdown",
   "metadata": {},
   "source": [
    "`fct_count()`可以计算因子隔水平频数，占比，可按频数排序：\n",
    "```r\n",
    "fct_count(f, sort = FALSE, prop = FALSE)\n",
    "```"
   ]
  },
  {
   "cell_type": "code",
   "execution_count": 13,
   "metadata": {
    "vscode": {
     "languageId": "r"
    }
   },
   "outputs": [
    {
     "data": {
      "text/html": [
       "<table class=\"dataframe\">\n",
       "<caption>A tibble: 10 × 3</caption>\n",
       "<thead>\n",
       "\t<tr><th scope=col>f</th><th scope=col>n</th><th scope=col>p</th></tr>\n",
       "\t<tr><th scope=col>&lt;fct&gt;</th><th scope=col>&lt;int&gt;</th><th scope=col>&lt;dbl&gt;</th></tr>\n",
       "</thead>\n",
       "<tbody>\n",
       "\t<tr><td>Independent       </td><td>4119</td><td>1.917330e-01</td></tr>\n",
       "\t<tr><td>Not str democrat  </td><td>3690</td><td>1.717637e-01</td></tr>\n",
       "\t<tr><td>Strong democrat   </td><td>3490</td><td>1.624540e-01</td></tr>\n",
       "\t<tr><td>Not str republican</td><td>3032</td><td>1.411349e-01</td></tr>\n",
       "\t<tr><td>Ind,near dem      </td><td>2499</td><td>1.163245e-01</td></tr>\n",
       "\t<tr><td>Strong republican </td><td>2314</td><td>1.077131e-01</td></tr>\n",
       "\t<tr><td>Ind,near rep      </td><td>1791</td><td>8.336824e-02</td></tr>\n",
       "\t<tr><td>Other party       </td><td> 393</td><td>1.829353e-02</td></tr>\n",
       "\t<tr><td>No answer         </td><td> 154</td><td>7.168459e-03</td></tr>\n",
       "\t<tr><td>Don't know        </td><td>   1</td><td>4.654843e-05</td></tr>\n",
       "</tbody>\n",
       "</table>\n"
      ],
      "text/latex": [
       "A tibble: 10 × 3\n",
       "\\begin{tabular}{lll}\n",
       " f & n & p\\\\\n",
       " <fct> & <int> & <dbl>\\\\\n",
       "\\hline\n",
       "\t Independent        & 4119 & 1.917330e-01\\\\\n",
       "\t Not str democrat   & 3690 & 1.717637e-01\\\\\n",
       "\t Strong democrat    & 3490 & 1.624540e-01\\\\\n",
       "\t Not str republican & 3032 & 1.411349e-01\\\\\n",
       "\t Ind,near dem       & 2499 & 1.163245e-01\\\\\n",
       "\t Strong republican  & 2314 & 1.077131e-01\\\\\n",
       "\t Ind,near rep       & 1791 & 8.336824e-02\\\\\n",
       "\t Other party        &  393 & 1.829353e-02\\\\\n",
       "\t No answer          &  154 & 7.168459e-03\\\\\n",
       "\t Don't know         &    1 & 4.654843e-05\\\\\n",
       "\\end{tabular}\n"
      ],
      "text/markdown": [
       "\n",
       "A tibble: 10 × 3\n",
       "\n",
       "| f &lt;fct&gt; | n &lt;int&gt; | p &lt;dbl&gt; |\n",
       "|---|---|---|\n",
       "| Independent        | 4119 | 1.917330e-01 |\n",
       "| Not str democrat   | 3690 | 1.717637e-01 |\n",
       "| Strong democrat    | 3490 | 1.624540e-01 |\n",
       "| Not str republican | 3032 | 1.411349e-01 |\n",
       "| Ind,near dem       | 2499 | 1.163245e-01 |\n",
       "| Strong republican  | 2314 | 1.077131e-01 |\n",
       "| Ind,near rep       | 1791 | 8.336824e-02 |\n",
       "| Other party        |  393 | 1.829353e-02 |\n",
       "| No answer          |  154 | 7.168459e-03 |\n",
       "| Don't know         |    1 | 4.654843e-05 |\n",
       "\n"
      ],
      "text/plain": [
       "   f                  n    p           \n",
       "1  Independent        4119 1.917330e-01\n",
       "2  Not str democrat   3690 1.717637e-01\n",
       "3  Strong democrat    3490 1.624540e-01\n",
       "4  Not str republican 3032 1.411349e-01\n",
       "5  Ind,near dem       2499 1.163245e-01\n",
       "6  Strong republican  2314 1.077131e-01\n",
       "7  Ind,near rep       1791 8.336824e-02\n",
       "8  Other party         393 1.829353e-02\n",
       "9  No answer           154 7.168459e-03\n",
       "10 Don't know            1 4.654843e-05"
      ]
     },
     "metadata": {},
     "output_type": "display_data"
    }
   ],
   "source": [
    "fct_count(gss_cat$partyid, sort = T, prop = T)"
   ]
  },
  {
   "attachments": {},
   "cell_type": "markdown",
   "metadata": {},
   "source": [
    "### 改变因子水平的顺序"
   ]
  },
  {
   "attachments": {},
   "cell_type": "markdown",
   "metadata": {},
   "source": [
    "在R中，因子变量的水平具有一定的顺序。如果没有明确指定因子水平的顺序，R会默认排序，可能是根据因子的字母顺序或数值大小等规则自动创建水平（这一点在factor()函数部分讲到过）。这些函数可以对因子水平的顺序进行重排。"
   ]
  },
  {
   "cell_type": "markdown",
   "metadata": {},
   "source": [
    "`fct_relevel()`函数可以手动对水平值重新排序：\n",
    "```r\n",
    "fct_relevel(.f, ..., after = 0L)\n",
    "```"
   ]
  },
  {
   "cell_type": "code",
   "execution_count": 16,
   "metadata": {
    "vscode": {
     "languageId": "r"
    }
   },
   "outputs": [
    {
     "name": "stdout",
     "output_type": "stream",
     "text": [
      "[1] \"a\" \"b\" \"c\"\n",
      "[1] \"b\" \"a\" \"c\"\n"
     ]
    }
   ],
   "source": [
    "f <- factor(letters[1:3])\n",
    "print(levels(f))\n",
    "adj.f <- fct_relevel(f, c(\"b\", \"a\", \"c\"))\n",
    "print(levels(adj.f))"
   ]
  },
  {
   "cell_type": "markdown",
   "metadata": {},
   "source": [
    "`fct_infreq()`函数可以按照高频优先顺序对因子水平进行重排序：\n",
    "```r\n",
    "fct_infreq(f, w = NULL, ordered = NA)\n",
    "```\n",
    "其中w参数表示权重，ordered参数表示是否转换成有序因子。"
   ]
  },
  {
   "cell_type": "code",
   "execution_count": 22,
   "metadata": {
    "vscode": {
     "languageId": "r"
    }
   },
   "outputs": [
    {
     "name": "stdout",
     "output_type": "stream",
     "text": [
      " [1] \"No answer\"          \"Don't know\"         \"Other party\"       \n",
      " [4] \"Strong republican\"  \"Not str republican\" \"Ind,near rep\"      \n",
      " [7] \"Independent\"        \"Ind,near dem\"       \"Not str democrat\"  \n",
      "[10] \"Strong democrat\"   \n"
     ]
    },
    {
     "data": {
      "text/html": [
       "<table class=\"dataframe\">\n",
       "<caption>A tibble: 10 × 2</caption>\n",
       "<thead>\n",
       "\t<tr><th scope=col>f</th><th scope=col>n</th></tr>\n",
       "\t<tr><th scope=col>&lt;fct&gt;</th><th scope=col>&lt;int&gt;</th></tr>\n",
       "</thead>\n",
       "<tbody>\n",
       "\t<tr><td>No answer         </td><td> 154</td></tr>\n",
       "\t<tr><td>Don't know        </td><td>   1</td></tr>\n",
       "\t<tr><td>Other party       </td><td> 393</td></tr>\n",
       "\t<tr><td>Strong republican </td><td>2314</td></tr>\n",
       "\t<tr><td>Not str republican</td><td>3032</td></tr>\n",
       "\t<tr><td>Ind,near rep      </td><td>1791</td></tr>\n",
       "\t<tr><td>Independent       </td><td>4119</td></tr>\n",
       "\t<tr><td>Ind,near dem      </td><td>2499</td></tr>\n",
       "\t<tr><td>Not str democrat  </td><td>3690</td></tr>\n",
       "\t<tr><td>Strong democrat   </td><td>3490</td></tr>\n",
       "</tbody>\n",
       "</table>\n"
      ],
      "text/latex": [
       "A tibble: 10 × 2\n",
       "\\begin{tabular}{ll}\n",
       " f & n\\\\\n",
       " <fct> & <int>\\\\\n",
       "\\hline\n",
       "\t No answer          &  154\\\\\n",
       "\t Don't know         &    1\\\\\n",
       "\t Other party        &  393\\\\\n",
       "\t Strong republican  & 2314\\\\\n",
       "\t Not str republican & 3032\\\\\n",
       "\t Ind,near rep       & 1791\\\\\n",
       "\t Independent        & 4119\\\\\n",
       "\t Ind,near dem       & 2499\\\\\n",
       "\t Not str democrat   & 3690\\\\\n",
       "\t Strong democrat    & 3490\\\\\n",
       "\\end{tabular}\n"
      ],
      "text/markdown": [
       "\n",
       "A tibble: 10 × 2\n",
       "\n",
       "| f &lt;fct&gt; | n &lt;int&gt; |\n",
       "|---|---|\n",
       "| No answer          |  154 |\n",
       "| Don't know         |    1 |\n",
       "| Other party        |  393 |\n",
       "| Strong republican  | 2314 |\n",
       "| Not str republican | 3032 |\n",
       "| Ind,near rep       | 1791 |\n",
       "| Independent        | 4119 |\n",
       "| Ind,near dem       | 2499 |\n",
       "| Not str democrat   | 3690 |\n",
       "| Strong democrat    | 3490 |\n",
       "\n"
      ],
      "text/plain": [
       "   f                  n   \n",
       "1  No answer           154\n",
       "2  Don't know            1\n",
       "3  Other party         393\n",
       "4  Strong republican  2314\n",
       "5  Not str republican 3032\n",
       "6  Ind,near rep       1791\n",
       "7  Independent        4119\n",
       "8  Ind,near dem       2499\n",
       "9  Not str democrat   3690\n",
       "10 Strong democrat    3490"
      ]
     },
     "metadata": {},
     "output_type": "display_data"
    },
    {
     "name": "stdout",
     "output_type": "stream",
     "text": [
      " [1] \"Independent\"        \"Not str democrat\"   \"Strong democrat\"   \n",
      " [4] \"Not str republican\" \"Ind,near dem\"       \"Strong republican\" \n",
      " [7] \"Ind,near rep\"       \"Other party\"        \"No answer\"         \n",
      "[10] \"Don't know\"        \n"
     ]
    },
    {
     "data": {
      "text/html": [
       "<table class=\"dataframe\">\n",
       "<caption>A tibble: 10 × 2</caption>\n",
       "<thead>\n",
       "\t<tr><th scope=col>f</th><th scope=col>n</th></tr>\n",
       "\t<tr><th scope=col>&lt;fct&gt;</th><th scope=col>&lt;int&gt;</th></tr>\n",
       "</thead>\n",
       "<tbody>\n",
       "\t<tr><td>Independent       </td><td>4119</td></tr>\n",
       "\t<tr><td>Not str democrat  </td><td>3690</td></tr>\n",
       "\t<tr><td>Strong democrat   </td><td>3490</td></tr>\n",
       "\t<tr><td>Not str republican</td><td>3032</td></tr>\n",
       "\t<tr><td>Ind,near dem      </td><td>2499</td></tr>\n",
       "\t<tr><td>Strong republican </td><td>2314</td></tr>\n",
       "\t<tr><td>Ind,near rep      </td><td>1791</td></tr>\n",
       "\t<tr><td>Other party       </td><td> 393</td></tr>\n",
       "\t<tr><td>No answer         </td><td> 154</td></tr>\n",
       "\t<tr><td>Don't know        </td><td>   1</td></tr>\n",
       "</tbody>\n",
       "</table>\n"
      ],
      "text/latex": [
       "A tibble: 10 × 2\n",
       "\\begin{tabular}{ll}\n",
       " f & n\\\\\n",
       " <fct> & <int>\\\\\n",
       "\\hline\n",
       "\t Independent        & 4119\\\\\n",
       "\t Not str democrat   & 3690\\\\\n",
       "\t Strong democrat    & 3490\\\\\n",
       "\t Not str republican & 3032\\\\\n",
       "\t Ind,near dem       & 2499\\\\\n",
       "\t Strong republican  & 2314\\\\\n",
       "\t Ind,near rep       & 1791\\\\\n",
       "\t Other party        &  393\\\\\n",
       "\t No answer          &  154\\\\\n",
       "\t Don't know         &    1\\\\\n",
       "\\end{tabular}\n"
      ],
      "text/markdown": [
       "\n",
       "A tibble: 10 × 2\n",
       "\n",
       "| f &lt;fct&gt; | n &lt;int&gt; |\n",
       "|---|---|\n",
       "| Independent        | 4119 |\n",
       "| Not str democrat   | 3690 |\n",
       "| Strong democrat    | 3490 |\n",
       "| Not str republican | 3032 |\n",
       "| Ind,near dem       | 2499 |\n",
       "| Strong republican  | 2314 |\n",
       "| Ind,near rep       | 1791 |\n",
       "| Other party        |  393 |\n",
       "| No answer          |  154 |\n",
       "| Don't know         |    1 |\n",
       "\n"
      ],
      "text/plain": [
       "   f                  n   \n",
       "1  Independent        4119\n",
       "2  Not str democrat   3690\n",
       "3  Strong democrat    3490\n",
       "4  Not str republican 3032\n",
       "5  Ind,near dem       2499\n",
       "6  Strong republican  2314\n",
       "7  Ind,near rep       1791\n",
       "8  Other party         393\n",
       "9  No answer           154\n",
       "10 Don't know            1"
      ]
     },
     "metadata": {},
     "output_type": "display_data"
    }
   ],
   "source": [
    "print(levels(gss_cat$partyid))\n",
    "fct_count(gss_cat$partyid)\n",
    "\n",
    "adj.df <- mutate(gss_cat, partyid = fct_infreq(partyid))\n",
    "print(levels(adj.df$partyid))\n",
    "fct_count(adj.df$partyid)"
   ]
  },
  {
   "attachments": {},
   "cell_type": "markdown",
   "metadata": {},
   "source": [
    "`fct_reorder()`函数根据其他变量或函数的结果进行因子水平的重排序。参数较多，可以自行查阅官方文档，最主要用两个参数：\n",
    "- `.f`: 要重新排序的因子变量。\n",
    "- `.x`: 用于排序的指标变量。可以是一个数值向量、一个函数或一个公式。最常见的还是数值向量的形式。"
   ]
  },
  {
   "attachments": {},
   "cell_type": "markdown",
   "metadata": {},
   "source": [
    "> 需要区分的是，虽然arrange()和fct_reorder()可能要达到的效果是相似的，但arrange()不能改变因子水平的本质顺序，虽然它确实按照条件重排了因子。而fct_reorder()改变了因子水平的顺序（内在存储发生了改变），虽然没有显现出来。"
   ]
  },
  {
   "cell_type": "code",
   "execution_count": 17,
   "metadata": {
    "vscode": {
     "languageId": "r"
    }
   },
   "outputs": [
    {
     "data": {
      "text/html": [
       "<table class=\"dataframe\">\n",
       "<caption>A tibble: 6 × 2</caption>\n",
       "<thead>\n",
       "\t<tr><th scope=col>marital</th><th scope=col>sum_hour</th></tr>\n",
       "\t<tr><th scope=col>&lt;fct&gt;</th><th scope=col>&lt;int&gt;</th></tr>\n",
       "</thead>\n",
       "<tbody>\n",
       "\t<tr><td>No answer    </td><td>   23</td></tr>\n",
       "\t<tr><td>Never married</td><td> 9300</td></tr>\n",
       "\t<tr><td>Separated    </td><td> 1395</td></tr>\n",
       "\t<tr><td>Divorced     </td><td> 5455</td></tr>\n",
       "\t<tr><td>Widowed      </td><td> 3912</td></tr>\n",
       "\t<tr><td>Married      </td><td>13708</td></tr>\n",
       "</tbody>\n",
       "</table>\n"
      ],
      "text/latex": [
       "A tibble: 6 × 2\n",
       "\\begin{tabular}{ll}\n",
       " marital & sum\\_hour\\\\\n",
       " <fct> & <int>\\\\\n",
       "\\hline\n",
       "\t No answer     &    23\\\\\n",
       "\t Never married &  9300\\\\\n",
       "\t Separated     &  1395\\\\\n",
       "\t Divorced      &  5455\\\\\n",
       "\t Widowed       &  3912\\\\\n",
       "\t Married       & 13708\\\\\n",
       "\\end{tabular}\n"
      ],
      "text/markdown": [
       "\n",
       "A tibble: 6 × 2\n",
       "\n",
       "| marital &lt;fct&gt; | sum_hour &lt;int&gt; |\n",
       "|---|---|\n",
       "| No answer     |    23 |\n",
       "| Never married |  9300 |\n",
       "| Separated     |  1395 |\n",
       "| Divorced      |  5455 |\n",
       "| Widowed       |  3912 |\n",
       "| Married       | 13708 |\n",
       "\n"
      ],
      "text/plain": [
       "  marital       sum_hour\n",
       "1 No answer        23   \n",
       "2 Never married  9300   \n",
       "3 Separated      1395   \n",
       "4 Divorced       5455   \n",
       "5 Widowed        3912   \n",
       "6 Married       13708   "
      ]
     },
     "metadata": {},
     "output_type": "display_data"
    },
    {
     "name": "stdout",
     "output_type": "stream",
     "text": [
      "[1] \"Married\"       \"Never married\" \"Divorced\"      \"Widowed\"      \n",
      "[5] \"Separated\"     \"No answer\"    \n"
     ]
    },
    {
     "data": {
      "text/html": [
       "<table class=\"dataframe\">\n",
       "<caption>A tibble: 6 × 2</caption>\n",
       "<thead>\n",
       "\t<tr><th scope=col>marital</th><th scope=col>sum_hour</th></tr>\n",
       "\t<tr><th scope=col>&lt;fct&gt;</th><th scope=col>&lt;int&gt;</th></tr>\n",
       "</thead>\n",
       "<tbody>\n",
       "\t<tr><td>Married      </td><td>13708</td></tr>\n",
       "\t<tr><td>Never married</td><td> 9300</td></tr>\n",
       "\t<tr><td>Divorced     </td><td> 5455</td></tr>\n",
       "\t<tr><td>Widowed      </td><td> 3912</td></tr>\n",
       "\t<tr><td>Separated    </td><td> 1395</td></tr>\n",
       "\t<tr><td>No answer    </td><td>   23</td></tr>\n",
       "</tbody>\n",
       "</table>\n"
      ],
      "text/latex": [
       "A tibble: 6 × 2\n",
       "\\begin{tabular}{ll}\n",
       " marital & sum\\_hour\\\\\n",
       " <fct> & <int>\\\\\n",
       "\\hline\n",
       "\t Married       & 13708\\\\\n",
       "\t Never married &  9300\\\\\n",
       "\t Divorced      &  5455\\\\\n",
       "\t Widowed       &  3912\\\\\n",
       "\t Separated     &  1395\\\\\n",
       "\t No answer     &    23\\\\\n",
       "\\end{tabular}\n"
      ],
      "text/markdown": [
       "\n",
       "A tibble: 6 × 2\n",
       "\n",
       "| marital &lt;fct&gt; | sum_hour &lt;int&gt; |\n",
       "|---|---|\n",
       "| Married       | 13708 |\n",
       "| Never married |  9300 |\n",
       "| Divorced      |  5455 |\n",
       "| Widowed       |  3912 |\n",
       "| Separated     |  1395 |\n",
       "| No answer     |    23 |\n",
       "\n"
      ],
      "text/plain": [
       "  marital       sum_hour\n",
       "1 Married       13708   \n",
       "2 Never married  9300   \n",
       "3 Divorced       5455   \n",
       "4 Widowed        3912   \n",
       "5 Separated      1395   \n",
       "6 No answer        23   "
      ]
     },
     "metadata": {},
     "output_type": "display_data"
    },
    {
     "name": "stdout",
     "output_type": "stream",
     "text": [
      "[1] \"No answer\"     \"Never married\" \"Separated\"     \"Divorced\"     \n",
      "[5] \"Widowed\"       \"Married\"      \n"
     ]
    }
   ],
   "source": [
    "df1 <- gss_cat %>%\n",
    "  group_by(marital) %>%\n",
    "    summarise(\n",
    "      sum_hour = sum(tvhours, na.rm = TRUE)\n",
    "    ) %>%\n",
    "      mutate(marital = fct_reorder(marital, desc(sum_hour))) \n",
    "df1\n",
    "print(levels(df1$marital))\n",
    "\n",
    "df2 <- gss_cat %>%\n",
    "  group_by(marital) %>%\n",
    "    summarise(\n",
    "      sum_hour = sum(tvhours, na.rm = TRUE)\n",
    "    ) %>%\n",
    "      arrange(desc(sum_hour))\n",
    "df2\n",
    "print(levels(df2$marital))"
   ]
  },
  {
   "cell_type": "code",
   "execution_count": 20,
   "metadata": {
    "vscode": {
     "languageId": "r"
    }
   },
   "outputs": [
    {
     "data": {
      "image/png": "[encoded data removed]",
      "text/plain": [
       "plot without title"
      ]
     },
     "metadata": {
      "image/png": {
       "height": 420,
       "width": 420
      }
     },
     "output_type": "display_data"
    }
   ],
   "source": [
    "library(tidyverse)\n",
    "library(ggthemes)\n",
    "gss_cat %>%\n",
    "  group_by(marital) %>%\n",
    "    summarise(\n",
    "      sum_hour = sum(tvhours, na.rm = TRUE)\n",
    "    ) %>%\n",
    "      mutate(marital = fct_reorder(marital, desc(sum_hour))) %>%\n",
    "        ggplot(aes(x = marital, y = sum_hour)) +\n",
    "          geom_point(size = 3) +\n",
    "          theme_fivethirtyeight()"
   ]
  },
  {
   "attachments": {},
   "cell_type": "markdown",
   "metadata": {},
   "source": [
    "### 添加和删除因子水平"
   ]
  },
  {
   "attachments": {},
   "cell_type": "markdown",
   "metadata": {},
   "source": [
    "`fct_expand()`函数可以用于添加因子水平，其参数：\n",
    "- `f`：一个因子或者字符串向量（特别注意，当输入为字符串向量时，会默认按照字母顺序重新排序新水平）。\n",
    "- `...`：将要添加的新水平，重复的水平会被忽略。\n",
    "- `after`：新水平将要被放置的位置，以数字的形式给出。默认为Inf，即被添加至最后。"
   ]
  },
  {
   "cell_type": "code",
   "execution_count": null,
   "metadata": {
    "vscode": {
     "languageId": "r"
    }
   },
   "outputs": [
    {
     "data": {
      "text/html": [
       "<style>\n",
       ".list-inline {list-style: none; margin:0; padding: 0}\n",
       ".list-inline>li {display: inline-block}\n",
       ".list-inline>li:not(:last-child)::after {content: \"\\00b7\"; padding: 0 .5ex}\n",
       "</style>\n",
       "<ol class=list-inline><li>Feb</li><li>Oct</li><li>Jan</li><li>Jul</li></ol>\n",
       "\n",
       "<details>\n",
       "\t<summary style=display:list-item;cursor:pointer>\n",
       "\t\t<strong>Levels</strong>:\n",
       "\t</summary>\n",
       "\t<style>\n",
       "\t.list-inline {list-style: none; margin:0; padding: 0}\n",
       "\t.list-inline>li {display: inline-block}\n",
       "\t.list-inline>li:not(:last-child)::after {content: \"\\00b7\"; padding: 0 .5ex}\n",
       "\t</style>\n",
       "\t<ol class=list-inline><li>'Jan'</li><li>'Feb'</li><li>'May'</li><li>'Jun'</li><li>'Jul'</li><li>'Aug'</li><li>'Sep'</li><li>'Oct'</li><li>'Nov'</li><li>'Dec'</li></ol>\n",
       "</details>"
      ],
      "text/latex": [
       "\\begin{enumerate*}\n",
       "\\item Feb\n",
       "\\item Oct\n",
       "\\item Jan\n",
       "\\item Jul\n",
       "\\end{enumerate*}\n",
       "\n",
       "\\emph{Levels}: \\begin{enumerate*}\n",
       "\\item 'Jan'\n",
       "\\item 'Feb'\n",
       "\\item 'May'\n",
       "\\item 'Jun'\n",
       "\\item 'Jul'\n",
       "\\item 'Aug'\n",
       "\\item 'Sep'\n",
       "\\item 'Oct'\n",
       "\\item 'Nov'\n",
       "\\item 'Dec'\n",
       "\\end{enumerate*}\n"
      ],
      "text/markdown": [
       "1. Feb\n",
       "2. Oct\n",
       "3. Jan\n",
       "4. Jul\n",
       "\n",
       "\n",
       "\n",
       "**Levels**: 1. 'Jan'\n",
       "2. 'Feb'\n",
       "3. 'May'\n",
       "4. 'Jun'\n",
       "5. 'Jul'\n",
       "6. 'Aug'\n",
       "7. 'Sep'\n",
       "8. 'Oct'\n",
       "9. 'Nov'\n",
       "10. 'Dec'\n",
       "\n",
       "\n"
      ],
      "text/plain": [
       "[1] Feb Oct Jan Jul\n",
       "Levels: Jan Feb May Jun Jul Aug Sep Oct Nov Dec"
      ]
     },
     "metadata": {},
     "output_type": "display_data"
    },
    {
     "data": {
      "text/html": [
       "<style>\n",
       ".list-inline {list-style: none; margin:0; padding: 0}\n",
       ".list-inline>li {display: inline-block}\n",
       ".list-inline>li:not(:last-child)::after {content: \"\\00b7\"; padding: 0 .5ex}\n",
       "</style>\n",
       "<ol class=list-inline><li>Feb</li><li>Oct</li><li>Jan</li><li>Jul</li></ol>\n",
       "\n",
       "<details>\n",
       "\t<summary style=display:list-item;cursor:pointer>\n",
       "\t\t<strong>Levels</strong>:\n",
       "\t</summary>\n",
       "\t<style>\n",
       "\t.list-inline {list-style: none; margin:0; padding: 0}\n",
       "\t.list-inline>li {display: inline-block}\n",
       "\t.list-inline>li:not(:last-child)::after {content: \"\\00b7\"; padding: 0 .5ex}\n",
       "\t</style>\n",
       "\t<ol class=list-inline><li>'Jan'</li><li>'Feb'</li><li>'Mar'</li><li>'Apr'</li><li>'May'</li><li>'Jun'</li><li>'Jul'</li><li>'Aug'</li><li>'Sep'</li><li>'Oct'</li><li>'Nov'</li><li>'Dec'</li></ol>\n",
       "</details>"
      ],
      "text/latex": [
       "\\begin{enumerate*}\n",
       "\\item Feb\n",
       "\\item Oct\n",
       "\\item Jan\n",
       "\\item Jul\n",
       "\\end{enumerate*}\n",
       "\n",
       "\\emph{Levels}: \\begin{enumerate*}\n",
       "\\item 'Jan'\n",
       "\\item 'Feb'\n",
       "\\item 'Mar'\n",
       "\\item 'Apr'\n",
       "\\item 'May'\n",
       "\\item 'Jun'\n",
       "\\item 'Jul'\n",
       "\\item 'Aug'\n",
       "\\item 'Sep'\n",
       "\\item 'Oct'\n",
       "\\item 'Nov'\n",
       "\\item 'Dec'\n",
       "\\end{enumerate*}\n"
      ],
      "text/markdown": [
       "1. Feb\n",
       "2. Oct\n",
       "3. Jan\n",
       "4. Jul\n",
       "\n",
       "\n",
       "\n",
       "**Levels**: 1. 'Jan'\n",
       "2. 'Feb'\n",
       "3. 'Mar'\n",
       "4. 'Apr'\n",
       "5. 'May'\n",
       "6. 'Jun'\n",
       "7. 'Jul'\n",
       "8. 'Aug'\n",
       "9. 'Sep'\n",
       "10. 'Oct'\n",
       "11. 'Nov'\n",
       "12. 'Dec'\n",
       "\n",
       "\n"
      ],
      "text/plain": [
       "[1] Feb Oct Jan Jul\n",
       "Levels: Jan Feb Mar Apr May Jun Jul Aug Sep Oct Nov Dec"
      ]
     },
     "metadata": {},
     "output_type": "display_data"
    }
   ],
   "source": [
    "x1 <- c(\"Feb\", \"Oct\", \"Jan\", \"Jul\")\n",
    "month_levels <- c(\n",
    " \"Jan\", \"Feb\", \"May\", \"Jun\",\n",
    " \"Jul\", \"Aug\", \"Sep\", \"Oct\", \"Nov\", \"Dec\"\n",
    ")\n",
    "x2 <- fct(x1, levels = month_levels)\n",
    "x2\n",
    "fct_expand(x2, c(\"Mar\", \"Apr\"), after = 2)"
   ]
  },
  {
   "attachments": {},
   "cell_type": "markdown",
   "metadata": {},
   "source": [
    "`fct_drop()`函数可以用于删除因子水平（且只删除未被使用的水平），其参数：\n",
    "- `f`：一个因子或者字符串向量（特别注意，当输入为字符串向量时，会默认按照字母顺序重新排序新水平）。\n",
    "- `only`：指定将要删除的水平，不赋值则默认删除所有水平。"
   ]
  },
  {
   "cell_type": "code",
   "execution_count": null,
   "metadata": {
    "vscode": {
     "languageId": "r"
    }
   },
   "outputs": [
    {
     "data": {
      "text/html": [
       "<style>\n",
       ".list-inline {list-style: none; margin:0; padding: 0}\n",
       ".list-inline>li {display: inline-block}\n",
       ".list-inline>li:not(:last-child)::after {content: \"\\00b7\"; padding: 0 .5ex}\n",
       "</style>\n",
       "<ol class=list-inline><li>Feb</li><li>Oct</li><li>Jan</li><li>Jul</li></ol>\n",
       "\n",
       "<details>\n",
       "\t<summary style=display:list-item;cursor:pointer>\n",
       "\t\t<strong>Levels</strong>:\n",
       "\t</summary>\n",
       "\t<style>\n",
       "\t.list-inline {list-style: none; margin:0; padding: 0}\n",
       "\t.list-inline>li {display: inline-block}\n",
       "\t.list-inline>li:not(:last-child)::after {content: \"\\00b7\"; padding: 0 .5ex}\n",
       "\t</style>\n",
       "\t<ol class=list-inline><li>'Jan'</li><li>'Feb'</li><li>'May'</li><li>'Jun'</li><li>'Jul'</li><li>'Aug'</li><li>'Sep'</li><li>'Oct'</li><li>'Nov'</li><li>'Dec'</li></ol>\n",
       "</details>"
      ],
      "text/latex": [
       "\\begin{enumerate*}\n",
       "\\item Feb\n",
       "\\item Oct\n",
       "\\item Jan\n",
       "\\item Jul\n",
       "\\end{enumerate*}\n",
       "\n",
       "\\emph{Levels}: \\begin{enumerate*}\n",
       "\\item 'Jan'\n",
       "\\item 'Feb'\n",
       "\\item 'May'\n",
       "\\item 'Jun'\n",
       "\\item 'Jul'\n",
       "\\item 'Aug'\n",
       "\\item 'Sep'\n",
       "\\item 'Oct'\n",
       "\\item 'Nov'\n",
       "\\item 'Dec'\n",
       "\\end{enumerate*}\n"
      ],
      "text/markdown": [
       "1. Feb\n",
       "2. Oct\n",
       "3. Jan\n",
       "4. Jul\n",
       "\n",
       "\n",
       "\n",
       "**Levels**: 1. 'Jan'\n",
       "2. 'Feb'\n",
       "3. 'May'\n",
       "4. 'Jun'\n",
       "5. 'Jul'\n",
       "6. 'Aug'\n",
       "7. 'Sep'\n",
       "8. 'Oct'\n",
       "9. 'Nov'\n",
       "10. 'Dec'\n",
       "\n",
       "\n"
      ],
      "text/plain": [
       "[1] Feb Oct Jan Jul\n",
       "Levels: Jan Feb May Jun Jul Aug Sep Oct Nov Dec"
      ]
     },
     "metadata": {},
     "output_type": "display_data"
    }
   ],
   "source": [
    "fct_drop(x2, only = c(\"Mar\", \"Apr\"))"
   ]
  },
  {
   "attachments": {},
   "cell_type": "markdown",
   "metadata": {},
   "source": [
    "### 修改因子水平"
   ]
  },
  {
   "attachments": {},
   "cell_type": "markdown",
   "metadata": {},
   "source": [
    "修改水平不仅可以使得图形标签更美观清晰，还可以将水平汇集成更高层次的显示。一种可行的方法是通过`levels(x) <- `赋值："
   ]
  },
  {
   "cell_type": "markdown",
   "metadata": {},
   "source": [
    "`fct_recode()`函数对水平值逐个重编码："
   ]
  },
  {
   "cell_type": "code",
   "execution_count": 6,
   "metadata": {
    "vscode": {
     "languageId": "r"
    }
   },
   "outputs": [
    {
     "data": {
      "text/html": [
       "<table class=\"dataframe\">\n",
       "<caption>A tibble: 10 × 2</caption>\n",
       "<thead>\n",
       "\t<tr><th scope=col>partyid</th><th scope=col>n</th></tr>\n",
       "\t<tr><th scope=col>&lt;fct&gt;</th><th scope=col>&lt;int&gt;</th></tr>\n",
       "</thead>\n",
       "<tbody>\n",
       "\t<tr><td>No answer         </td><td> 154</td></tr>\n",
       "\t<tr><td>Don't know        </td><td>   1</td></tr>\n",
       "\t<tr><td>Other party       </td><td> 393</td></tr>\n",
       "\t<tr><td>Strong republican </td><td>2314</td></tr>\n",
       "\t<tr><td>Not str republican</td><td>3032</td></tr>\n",
       "\t<tr><td>Ind,near rep      </td><td>1791</td></tr>\n",
       "\t<tr><td>Independent       </td><td>4119</td></tr>\n",
       "\t<tr><td>Ind,near dem      </td><td>2499</td></tr>\n",
       "\t<tr><td>Not str democrat  </td><td>3690</td></tr>\n",
       "\t<tr><td>Strong democrat   </td><td>3490</td></tr>\n",
       "</tbody>\n",
       "</table>\n"
      ],
      "text/latex": [
       "A tibble: 10 × 2\n",
       "\\begin{tabular}{ll}\n",
       " partyid & n\\\\\n",
       " <fct> & <int>\\\\\n",
       "\\hline\n",
       "\t No answer          &  154\\\\\n",
       "\t Don't know         &    1\\\\\n",
       "\t Other party        &  393\\\\\n",
       "\t Strong republican  & 2314\\\\\n",
       "\t Not str republican & 3032\\\\\n",
       "\t Ind,near rep       & 1791\\\\\n",
       "\t Independent        & 4119\\\\\n",
       "\t Ind,near dem       & 2499\\\\\n",
       "\t Not str democrat   & 3690\\\\\n",
       "\t Strong democrat    & 3490\\\\\n",
       "\\end{tabular}\n"
      ],
      "text/markdown": [
       "\n",
       "A tibble: 10 × 2\n",
       "\n",
       "| partyid &lt;fct&gt; | n &lt;int&gt; |\n",
       "|---|---|\n",
       "| No answer          |  154 |\n",
       "| Don't know         |    1 |\n",
       "| Other party        |  393 |\n",
       "| Strong republican  | 2314 |\n",
       "| Not str republican | 3032 |\n",
       "| Ind,near rep       | 1791 |\n",
       "| Independent        | 4119 |\n",
       "| Ind,near dem       | 2499 |\n",
       "| Not str democrat   | 3690 |\n",
       "| Strong democrat    | 3490 |\n",
       "\n"
      ],
      "text/plain": [
       "   partyid            n   \n",
       "1  No answer           154\n",
       "2  Don't know            1\n",
       "3  Other party         393\n",
       "4  Strong republican  2314\n",
       "5  Not str republican 3032\n",
       "6  Ind,near rep       1791\n",
       "7  Independent        4119\n",
       "8  Ind,near dem       2499\n",
       "9  Not str democrat   3690\n",
       "10 Strong democrat    3490"
      ]
     },
     "metadata": {},
     "output_type": "display_data"
    },
    {
     "name": "stdout",
     "output_type": "stream",
     "text": [
      " [1] \"No answer\"          \"Don't know\"         \"Other party\"       \n",
      " [4] \"Strong republican\"  \"Not str republican\" \"Ind,near rep\"      \n",
      " [7] \"Independent\"        \"Ind,near dem\"       \"Not str democrat\"  \n",
      "[10] \"Strong democrat\"   \n"
     ]
    }
   ],
   "source": [
    "library(tidyverse)\n",
    "# 未修改因子水平之前，对数据集的partyid列进行频数统计\n",
    "gss_cat%>%\n",
    "    count(partyid)\n",
    "print(levels(gss_cat$partyid))"
   ]
  },
  {
   "cell_type": "code",
   "execution_count": 8,
   "metadata": {
    "vscode": {
     "languageId": "r"
    }
   },
   "outputs": [
    {
     "data": {
      "text/html": [
       "<table class=\"dataframe\">\n",
       "<caption>A tibble: 10 × 2</caption>\n",
       "<thead>\n",
       "\t<tr><th scope=col>partyid</th><th scope=col>n</th></tr>\n",
       "\t<tr><th scope=col>&lt;fct&gt;</th><th scope=col>&lt;int&gt;</th></tr>\n",
       "</thead>\n",
       "<tbody>\n",
       "\t<tr><td>No answer            </td><td> 154</td></tr>\n",
       "\t<tr><td>Don't know           </td><td>   1</td></tr>\n",
       "\t<tr><td>Other party          </td><td> 393</td></tr>\n",
       "\t<tr><td>Republican, strong   </td><td>2314</td></tr>\n",
       "\t<tr><td>Republican, weak     </td><td>3032</td></tr>\n",
       "\t<tr><td>Independent, near rep</td><td>1791</td></tr>\n",
       "\t<tr><td>Independent          </td><td>4119</td></tr>\n",
       "\t<tr><td>Independent, near dem</td><td>2499</td></tr>\n",
       "\t<tr><td>Democrat, weak       </td><td>3690</td></tr>\n",
       "\t<tr><td>Democrat, strong     </td><td>3490</td></tr>\n",
       "</tbody>\n",
       "</table>\n"
      ],
      "text/latex": [
       "A tibble: 10 × 2\n",
       "\\begin{tabular}{ll}\n",
       " partyid & n\\\\\n",
       " <fct> & <int>\\\\\n",
       "\\hline\n",
       "\t No answer             &  154\\\\\n",
       "\t Don't know            &    1\\\\\n",
       "\t Other party           &  393\\\\\n",
       "\t Republican, strong    & 2314\\\\\n",
       "\t Republican, weak      & 3032\\\\\n",
       "\t Independent, near rep & 1791\\\\\n",
       "\t Independent           & 4119\\\\\n",
       "\t Independent, near dem & 2499\\\\\n",
       "\t Democrat, weak        & 3690\\\\\n",
       "\t Democrat, strong      & 3490\\\\\n",
       "\\end{tabular}\n"
      ],
      "text/markdown": [
       "\n",
       "A tibble: 10 × 2\n",
       "\n",
       "| partyid &lt;fct&gt; | n &lt;int&gt; |\n",
       "|---|---|\n",
       "| No answer             |  154 |\n",
       "| Don't know            |    1 |\n",
       "| Other party           |  393 |\n",
       "| Republican, strong    | 2314 |\n",
       "| Republican, weak      | 3032 |\n",
       "| Independent, near rep | 1791 |\n",
       "| Independent           | 4119 |\n",
       "| Independent, near dem | 2499 |\n",
       "| Democrat, weak        | 3690 |\n",
       "| Democrat, strong      | 3490 |\n",
       "\n"
      ],
      "text/plain": [
       "   partyid               n   \n",
       "1  No answer              154\n",
       "2  Don't know               1\n",
       "3  Other party            393\n",
       "4  Republican, strong    2314\n",
       "5  Republican, weak      3032\n",
       "6  Independent, near rep 1791\n",
       "7  Independent           4119\n",
       "8  Independent, near dem 2499\n",
       "9  Democrat, weak        3690\n",
       "10 Democrat, strong      3490"
      ]
     },
     "metadata": {},
     "output_type": "display_data"
    },
    {
     "name": "stdout",
     "output_type": "stream",
     "text": [
      " [1] \"No answer\"             \"Don't know\"            \"Other party\"          \n",
      " [4] \"Republican, strong\"    \"Republican, weak\"      \"Independent, near rep\"\n",
      " [7] \"Independent\"           \"Independent, near dem\" \"Democrat, weak\"       \n",
      "[10] \"Democrat, strong\"     \n"
     ]
    }
   ],
   "source": [
    "# fct_recode()会让没有明确提及的因子水平保持原样，其余则会修改。修改时原先的因子水平在右手边：\n",
    "frame <- as_tibble(gss_cat)%>%\n",
    "   mutate(partyid = fct_recode(partyid,\n",
    "      \"Republican, strong\" = \"Strong republican\",\n",
    "      \"Republican, weak\" = \"Not str republican\",\n",
    "      \"Independent, near rep\" = \"Ind,near rep\",\n",
    "      \"Independent, near dem\" = \"Ind,near dem\",\n",
    "      \"Democrat, weak\" = \"Not str democrat\",\n",
    "      \"Democrat, strong\" = \"Strong democrat\"\n",
    "   )\n",
    "   ) %>%\n",
    "      count(partyid)\n",
    "frame\n",
    "print(levels(frame$partyid))"
   ]
  },
  {
   "attachments": {},
   "cell_type": "markdown",
   "metadata": {},
   "source": [
    "`fct_collapse()`函数是`fct_recode()` 函数的变体，该函数可以按照自定义方式合并水平。"
   ]
  },
  {
   "cell_type": "code",
   "execution_count": 8,
   "metadata": {
    "vscode": {
     "languageId": "r"
    }
   },
   "outputs": [
    {
     "name": "stdout",
     "output_type": "stream",
     "text": [
      "\u001b[90m# A tibble: 6 × 2\u001b[39m\n",
      "  new_partyid     n\n",
      "  \u001b[3m\u001b[90m<fct>\u001b[39m\u001b[23m       \u001b[3m\u001b[90m<int>\u001b[39m\u001b[23m\n",
      "\u001b[90m1\u001b[39m ind          \u001b[4m8\u001b[24m409\n",
      "\u001b[90m2\u001b[39m dem          \u001b[4m7\u001b[24m180\n",
      "\u001b[90m3\u001b[39m rep          \u001b[4m5\u001b[24m346\n",
      "\u001b[90m4\u001b[39m Other party   393\n",
      "\u001b[90m5\u001b[39m other         154\n",
      "\u001b[90m6\u001b[39m Don't know      1\n",
      "[1] \"other\"       \"Don't know\"  \"Other party\" \"rep\"         \"ind\"        \n",
      "[6] \"dem\"        \n"
     ]
    }
   ],
   "source": [
    "df <- gss_cat %>%\n",
    "  mutate(new_partyid = fct_collapse(partyid,\n",
    "    \"other\" = \"No answer\",\n",
    "    \"rep\" = c(\"Strong republican\", \"Not str republican\"),\n",
    "    \"ind\" = c(\"Ind,near rep\", \"Independent\", \"Ind,near dem\"),\n",
    "    \"dem\" = c(\"Not str democrat\", \"Strong democrat\")\n",
    "  )) %>%\n",
    "  count(new_partyid, sort = TRUE)\n",
    "print(df)\n",
    "\n",
    "df %>%\n",
    "  pull(new_partyid) %>%\n",
    "  levels() %>%\n",
    "  print()"
   ]
  },
  {
   "cell_type": "markdown",
   "metadata": {},
   "source": [
    "`fct_lump_*()`族函数将不常见的因子水平合并为\"other\"，也是一种合并形式，几种常见的族函数：\n",
    "```r\n",
    "fct_lump_min(f, min, w = NULL, other_level = \"Other\") # 合并出现次数小于min次的水平\n",
    "```\n",
    "\n",
    "```r\n",
    "fct_lump_prop(f, prop, w = NULL, other_level = \"Other\") # 合并出现次数少于（或等于）prop * n 次的水平。\n",
    "```\n",
    "\n",
    "```r\n",
    "fct_lump_n( \n",
    "  f,\n",
    "  n,\n",
    "  w = NULL,\n",
    "  other_level = \"Other\",\n",
    "  ties.method = c(\"min\", \"average\", \"first\", \"last\", \"random\", \"max\")\n",
    "  ) # 合并除了n个最常见的水平之外的所有水平（即一共有n+1个水平）。（如果n < 0，则是最不常见的水平）\n",
    "```"
   ]
  },
  {
   "cell_type": "code",
   "execution_count": 5,
   "metadata": {
    "vscode": {
     "languageId": "r"
    }
   },
   "outputs": [
    {
     "name": "stdout",
     "output_type": "stream",
     "text": [
      "\u001b[90m# A tibble: 6 × 2\u001b[39m\n",
      "  f              n\n",
      "  \u001b[3m\u001b[90m<fct>\u001b[39m\u001b[23m      \u001b[3m\u001b[90m<int>\u001b[39m\u001b[23m\n",
      "\u001b[90m1\u001b[39m compact       47\n",
      "\u001b[90m2\u001b[39m midsize       41\n",
      "\u001b[90m3\u001b[39m pickup        33\n",
      "\u001b[90m4\u001b[39m subcompact    35\n",
      "\u001b[90m5\u001b[39m suv           62\n",
      "\u001b[90m6\u001b[39m others        16\n"
     ]
    }
   ],
   "source": [
    "lump_n <- mpg %>%\n",
    "  mutate(class = fct_lump_n(class, n = 5, other_level = \"others\")) # 选出5个最常见的水平\n",
    "\n",
    "lump_n %>%\n",
    "  pull(class) %>%\n",
    "  fct_count() %>%\n",
    "  print()"
   ]
  },
  {
   "cell_type": "code",
   "execution_count": 6,
   "metadata": {
    "vscode": {
     "languageId": "r"
    }
   },
   "outputs": [
    {
     "name": "stdout",
     "output_type": "stream",
     "text": [
      "\u001b[90m# A tibble: 7 × 2\u001b[39m\n",
      "  f              n\n",
      "  \u001b[3m\u001b[90m<fct>\u001b[39m\u001b[23m      \u001b[3m\u001b[90m<int>\u001b[39m\u001b[23m\n",
      "\u001b[90m1\u001b[39m compact       47\n",
      "\u001b[90m2\u001b[39m midsize       41\n",
      "\u001b[90m3\u001b[39m minivan       11\n",
      "\u001b[90m4\u001b[39m pickup        33\n",
      "\u001b[90m5\u001b[39m subcompact    35\n",
      "\u001b[90m6\u001b[39m suv           62\n",
      "\u001b[90m7\u001b[39m others         5\n"
     ]
    }
   ],
   "source": [
    "lump_min <- mpg %>% \n",
    "  mutate(class = fct_lump_min(class, min = 6, other_level = \"others\"))\n",
    "\n",
    "lump_min %>%\n",
    "  pull(class) %>%\n",
    "  fct_count() %>%\n",
    "  print()"
   ]
  },
  {
   "attachments": {},
   "cell_type": "markdown",
   "metadata": {},
   "source": [
    "## 使用lubridate进行日期时间处理"
   ]
  },
  {
   "cell_type": "markdown",
   "metadata": {},
   "source": [
    "日期时间值通常以字符串形式传入R中，然后转换为以数值形式存储的日期时间变量。lubridate包是用于处理日期和时间数据的常用工具包。它提供了许多方便的函数和方法，用于解析、操作和格式化日期时间对象。"
   ]
  },
  {
   "cell_type": "code",
   "execution_count": 19,
   "metadata": {
    "vscode": {
     "languageId": "r"
    }
   },
   "outputs": [],
   "source": [
    "library(lubridate)"
   ]
  },
  {
   "attachments": {},
   "cell_type": "markdown",
   "metadata": {},
   "source": [
    "### 创建日期或时间"
   ]
  },
  {
   "attachments": {},
   "cell_type": "markdown",
   "metadata": {},
   "source": [
    "表示日期或时间的数据有 3 种类型。\n",
    "- 日期：在 tibble 中显示为 `<date>`。\n",
    "- 时间：一天中的某个时刻，在 tibble 中显示为 `<time>`。\n",
    "- 日期时间：可以唯一标识某个时刻（通常精确到秒）的日期加时间，在 tibble 中显示为`<dttm>`。而这种类型在 R 语言的其他地方称为`POSIXct`。\n",
    "  \n",
    "以下 3 种方法可以创建日期或时间。\n",
    "- 通过字符串创建。\n",
    "- 通过日期时间的各个成分创建。\n",
    "- 通过其他形式的数据或现有日期数据创建。"
   ]
  },
  {
   "cell_type": "markdown",
   "metadata": {},
   "source": [
    "1. 通过字符串创建"
   ]
  },
  {
   "cell_type": "markdown",
   "metadata": {},
   "source": [
    "最常见的方法："
   ]
  },
  {
   "cell_type": "code",
   "execution_count": 18,
   "metadata": {
    "vscode": {
     "languageId": "r"
    }
   },
   "outputs": [
    {
     "name": "stdout",
     "output_type": "stream",
     "text": [
      "[1] \"Date\"\n",
      "[1] \"2023-09-18\"\n"
     ]
    }
   ],
   "source": [
    "date <- as_date(\"2023-09-18\")\n",
    "print(class(date))\n",
    "print(date)"
   ]
  },
  {
   "cell_type": "markdown",
   "metadata": {},
   "source": [
    "也可以通过后面介绍的解析字符串的方式创建日期或时间，但这样不便于创建时间序列。在此介绍一些生成时间序列的方法。"
   ]
  },
  {
   "cell_type": "markdown",
   "metadata": {},
   "source": [
    "#### 时间间隔"
   ]
  },
  {
   "cell_type": "markdown",
   "metadata": {},
   "source": [
    "在生成时间序列之前需要先了解时间间隔的知识，方便后续的时间数学运算。"
   ]
  },
  {
   "cell_type": "markdown",
   "metadata": {},
   "source": [
    "##### 时期"
   ]
  },
  {
   "cell_type": "markdown",
   "metadata": {},
   "source": [
    "`duration()`是一个用于创建持续时间对象的函数，它可以根据指定的数值创建一个持续时间对象。不同单位的数值是累积的。持续时间以<span style = 'color:red'><strong>秒</strong></span>为单位来显示时间跨度。当时间跨度很大时，持续时间也会用更大的单位来估算显示，但底层的对象始终以固定的秒数进行记录。为了显示和创建方便，各个单位会使用它们在秒钟中最常见的长度来进行转换，如：1分钟 = 60秒，1小时 = 3600秒，天 = 86400秒，1周 = 604800秒。"
   ]
  },
  {
   "cell_type": "markdown",
   "metadata": {},
   "source": [
    "```r\n",
    "duration(num = NULL, units = \"seconds\", ...)\n",
    "```"
   ]
  },
  {
   "cell_type": "markdown",
   "metadata": {},
   "source": [
    "参数：\n",
    "- `num`：可以是数字或字符向量，表示时间单位的数量。一般赋值数字即可。\n",
    "- `units`：字符字符串，指定 num 所涉及的单位类型。当 num 是字符向量时，此参数将被忽略。默认为seconds。\n",
    "- `...`：测量持续时间的时间单位列表。支持秒、分钟、小时、天、周、月和年的持续时间计算。月和年的持续时间假设一年包含365.25天。"
   ]
  },
  {
   "cell_type": "markdown",
   "metadata": {},
   "source": [
    "duration()函数的变体可以有`dseconds(x)，,dminutes(x), dhours(x), ddays(x = 1), dweeks(x = 1), dmonths(x = 1), dyears(x = 1)`，这样书写更加简洁。"
   ]
  },
  {
   "cell_type": "code",
   "execution_count": null,
   "metadata": {
    "vscode": {
     "languageId": "r"
    }
   },
   "outputs": [
    {
     "data": {
      "text/html": [
       "33717600s (~1.07 years)"
      ],
      "text/latex": [
       "33717600s (\\textasciitilde{}1.07 years)"
      ],
      "text/markdown": [
       "33717600s (~1.07 years)"
      ],
      "text/plain": [
       "[1] \"33717600s (~1.07 years)\""
      ]
     },
     "metadata": {},
     "output_type": "display_data"
    }
   ],
   "source": [
    "ddays(25) + dyears(1)"
   ]
  },
  {
   "cell_type": "markdown",
   "metadata": {},
   "source": [
    "##### 阶段"
   ]
  },
  {
   "cell_type": "markdown",
   "metadata": {},
   "source": [
    "阶段也是一种时间间隔，与时期duration不同，它不以秒为单位；相反，<span style = 'color:red'><strong>它使用“人工”时间</strong></span>，比如日和月。这使得它们使用起来更加直观，更容易符合我们的预期：不必考虑一些精确度。"
   ]
  },
  {
   "cell_type": "markdown",
   "metadata": {},
   "source": [
    "```r\n",
    "period(num = NULL, units = \"second\", ...)\n",
    "```"
   ]
  },
  {
   "cell_type": "markdown",
   "metadata": {},
   "source": [
    "同样具有简洁的变体函数：`seconds(x), minutes(x), hours(x), days(x), weeks(x), years(x)`。"
   ]
  },
  {
   "cell_type": "code",
   "execution_count": 20,
   "metadata": {
    "vscode": {
     "languageId": "r"
    }
   },
   "outputs": [
    {
     "name": "stdout",
     "output_type": "stream",
     "text": [
      "[1] \"2016-12-31 06:00:00 UTC\"\n",
      "[1] \"2017-01-01\"\n"
     ]
    }
   ],
   "source": [
    "#! 时期和阶段的区别\n",
    "\n",
    "#! 闰年\n",
    "time1 <- ymd(\"2016-01-01\") + dyears(1)\n",
    "time2 <- ymd(\"2016-01-01\") + years(1)\n",
    "print(time1)\n",
    "print(time2)"
   ]
  },
  {
   "cell_type": "code",
   "execution_count": null,
   "metadata": {
    "vscode": {
     "languageId": "r"
    }
   },
   "outputs": [
    {
     "data": {
      "text/plain": [
       "[1] \"2016-03-13 14:00:00 EDT\""
      ]
     },
     "metadata": {},
     "output_type": "display_data"
    },
    {
     "data": {
      "text/plain": [
       "[1] \"2016-03-13 13:00:00 EDT\""
      ]
     },
     "metadata": {},
     "output_type": "display_data"
    }
   ],
   "source": [
    "#! 夏时制\n",
    "one_pm <- ymd_hms(\"2016-03-12 13:00:00\", tz = \"America/New_York\")\n",
    "\n",
    "one_pm + ddays(1) #! 由于夏时制，12日只有23h，而ddays指定的秒数为1天24h。\n",
    "one_pm + days(1)"
   ]
  },
  {
   "cell_type": "markdown",
   "metadata": {},
   "source": [
    "#### 生成日期时间向量"
   ]
  },
  {
   "cell_type": "markdown",
   "metadata": {},
   "source": [
    "##### 利用函数"
   ]
  },
  {
   "cell_type": "markdown",
   "metadata": {},
   "source": [
    "使用`seq.Date()`函数可以实现“人工”方法的日期（date）序列生成，这更符合我们的预期：\n",
    "```r\n",
    "seq.Date(from, to, by, length.out = NULL, along.with = NULL, ...)\n",
    "```\n",
    "使用`seq.POSIXt()`函数可以实现datetime型数据序列的生成。"
   ]
  },
  {
   "cell_type": "markdown",
   "metadata": {},
   "source": [
    "主要参数解释：\n",
    "- `from, to`：起始日期或时间。\n",
    "- `by`：序列的递增值。\n",
    "    - 一个数字，如果是date类型，则表示间隔为天数；如果是datetime类型，则表示间隔是秒。\n",
    "    - 一个difftime类的对象。\n",
    "    - 一个包含`\"day\"、\"week\"、\"month\"、\"quarter\"、\"year\"`之一的字符字符串（date类型）。或者\"sec\", \"min\", \"hour\"（datetime类型）。可以选择地以（正数或负数的）整数和一个空格开头，或者以\"s\"结尾。\n",
    "- `length.out`：整数，一般与by参数一起使用，指定所需序列的长度。"
   ]
  },
  {
   "cell_type": "code",
   "execution_count": 25,
   "metadata": {
    "vscode": {
     "languageId": "r"
    }
   },
   "outputs": [
    {
     "name": "stdout",
     "output_type": "stream",
     "text": [
      "[1] \"2023-09-18\" \"2023-09-19\" \"2023-09-20\" \"2023-09-21\" \"2023-09-22\"\n",
      "[6] \"2023-09-23\"\n"
     ]
    }
   ],
   "source": [
    "seqdate <- seq.Date(\n",
    "  from = as_date(\"2023-09-18\"),\n",
    "  by = \"1 day\",\n",
    "  length.out = 200\n",
    ")\n",
    "print(head(seqdate))"
   ]
  },
  {
   "cell_type": "markdown",
   "metadata": {},
   "source": [
    "##### 利用计算"
   ]
  },
  {
   "cell_type": "markdown",
   "metadata": {},
   "source": [
    "直接生成一个日期对象，然后通过年月日的相加（之前提到的日期间隔period）获得日期向量："
   ]
  },
  {
   "cell_type": "code",
   "execution_count": 33,
   "metadata": {
    "vscode": {
     "languageId": "r"
    }
   },
   "outputs": [],
   "source": [
    "seqdate1 <- as_date(\"2023-09-18\") + years(1:6)\n",
    "seqdate2 <- as_date(\"2023-09-18\") %m+% months(1:6)     #! 注意下月份加的规范写法\n",
    "seqdate3 <- as_date(\"2023-09-18\") + days(1:6)"
   ]
  },
  {
   "cell_type": "code",
   "execution_count": 34,
   "metadata": {
    "vscode": {
     "languageId": "r"
    }
   },
   "outputs": [
    {
     "name": "stdout",
     "output_type": "stream",
     "text": [
      "[1] \"2024-09-18\" \"2025-09-18\" \"2026-09-18\" \"2027-09-18\" \"2028-09-18\"\n",
      "[6] \"2029-09-18\"\n"
     ]
    }
   ],
   "source": [
    "print(seqdate1)"
   ]
  },
  {
   "cell_type": "code",
   "execution_count": 35,
   "metadata": {
    "vscode": {
     "languageId": "r"
    }
   },
   "outputs": [
    {
     "name": "stdout",
     "output_type": "stream",
     "text": [
      "[1] \"2023-10-18\" \"2023-11-18\" \"2023-12-18\" \"2024-01-18\" \"2024-02-18\"\n",
      "[6] \"2024-03-18\"\n"
     ]
    }
   ],
   "source": [
    "print(seqdate2)"
   ]
  },
  {
   "cell_type": "code",
   "execution_count": 32,
   "metadata": {
    "vscode": {
     "languageId": "r"
    }
   },
   "outputs": [
    {
     "name": "stdout",
     "output_type": "stream",
     "text": [
      "[1] \"2023-09-19\" \"2023-09-20\" \"2023-09-21\" \"2023-09-22\" \"2023-09-23\"\n",
      "[6] \"2023-09-24\"\n"
     ]
    }
   ],
   "source": [
    "print(seqdate3)"
   ]
  },
  {
   "attachments": {},
   "cell_type": "markdown",
   "metadata": {},
   "source": [
    "2. 通过日期时间的各个成分创建，可以通过`make_date()`, `make_datetime()`函数来生成，这种方法也可以通过输入向量快速生成多个时间,前者生成日期型，后者生成日期时间型。\n",
    "```r\n",
    "make_date(\n",
    "  year = 1970L,\n",
    "  month = 1L,\n",
    "  day = 1L\n",
    ")\n",
    "\n",
    "make_datetime(\n",
    "  year = 1970L,\n",
    "  month = 1L,\n",
    "  day = 1L,\n",
    "  hour = 0L,\n",
    "  min = 0L,\n",
    "  sec = 0,\n",
    "  tz = \"UTC\"\n",
    ")\n",
    "```"
   ]
  },
  {
   "cell_type": "code",
   "execution_count": 27,
   "metadata": {
    "vscode": {
     "languageId": "r"
    }
   },
   "outputs": [
    {
     "name": "stdout",
     "output_type": "stream",
     "text": [
      " [1] \"2023-01-01\" \"2023-02-02\" \"2023-03-03\" \"2023-04-01\" \"2023-05-02\"\n",
      " [6] \"2023-06-03\" \"2023-07-01\" \"2023-08-02\" \"2023-09-03\" \"2023-10-01\"\n",
      "[11] \"2023-11-02\" \"2023-12-03\"\n"
     ]
    }
   ],
   "source": [
    "year <- rep(2023, 12)\n",
    "month <- seq(1, 12)\n",
    "day <- rep(c(1, 2, 3), times = 4)\n",
    "date <- make_date(year, month, day)\n",
    "print(date)"
   ]
  },
  {
   "cell_type": "code",
   "execution_count": 28,
   "metadata": {
    "vscode": {
     "languageId": "r"
    }
   },
   "outputs": [
    {
     "name": "stdout",
     "output_type": "stream",
     "text": [
      " [1] \"2023-01-01 01:11:22 CST\" \"2023-02-02 02:12:23 CST\"\n",
      " [3] \"2023-03-03 03:13:24 CST\" \"2023-04-01 04:14:25 CST\"\n",
      " [5] \"2023-05-02 05:15:26 CST\" \"2023-06-03 06:16:27 CST\"\n",
      " [7] \"2023-07-01 07:17:28 CST\" \"2023-08-02 08:18:29 CST\"\n",
      " [9] \"2023-09-03 09:19:30 CST\" \"2023-10-01 10:20:31 CST\"\n",
      "[11] \"2023-11-02 11:21:32 CST\" \"2023-12-03 12:22:22 CST\"\n"
     ]
    }
   ],
   "source": [
    "hour <- 1:12\n",
    "min <- 11:22\n",
    "sec <- 22:32\n",
    "datetime <- make_datetime(\n",
    "  year,\n",
    "  month,\n",
    "  day,\n",
    "  hour,\n",
    "  min,\n",
    "  sec,\n",
    "  tz = \"Asia/Shanghai\"\n",
    ")\n",
    "print(datetime)"
   ]
  },
  {
   "cell_type": "markdown",
   "metadata": {},
   "source": [
    "3.通过其他类型数据进行创建，也就是转换的思想。在日期时间型数据和日期型数据之间进行转换，正是`as_datetime()`和`as_date()`函数的功能。例如：\n",
    "```r\n",
    "as_date(now())\n",
    "ae_datetime(now())\n",
    "```\n",
    "函数的参数：\n",
    "- `x`：一个包含POSIXt对象、数值或字符对象的向量。\n",
    "- `tz`：一个时区名称（默认为x中POSIXt对象的时区）。参见`OlsonNames()`获取可用的时区名称。\n",
    "- `origin`：一个Date对象或可以通过as.Date(origin, ...)转换成Date对象的内容（默认为\"1970-01-01\"的Unix纪元）。请注意，在这种情况下，x被假定为\"UTC\"时区下自\"origin\"起的天数。（见下面的解释）\n",
    "- `format`：用于字符方法的格式参数。当提供此参数时，解析由parse_date_time(x, orders = formats, exact = TRUE)执行。因此，支持多个格式，并依次尝试。"
   ]
  },
  {
   "cell_type": "markdown",
   "metadata": {},
   "source": [
    "有时我们会使用“Unix 时间戳”（即 1970-01-01）的偏移量来表示日期时间。如果偏移量单位是<span style = 'color:red'><strong>秒</strong></span>，那么就使用`as_datetime()`函数来转换；如果偏移量单位是<span style = 'color:red'><strong>天</strong></span>，则使用`as_date()`函数来转换。"
   ]
  },
  {
   "cell_type": "code",
   "execution_count": null,
   "metadata": {
    "vscode": {
     "languageId": "r"
    }
   },
   "outputs": [
    {
     "data": {
      "text/plain": [
       "[1] \"1970-01-01 10:00:00 UTC\""
      ]
     },
     "metadata": {},
     "output_type": "display_data"
    },
    {
     "data": {
      "text/html": [
       "<time datetime=\"1980-01-01\">1980-01-01</time>"
      ],
      "text/latex": [
       "1980-01-01"
      ],
      "text/markdown": [
       "1980-01-01"
      ],
      "text/plain": [
       "[1] \"1980-01-01\""
      ]
     },
     "metadata": {},
     "output_type": "display_data"
    }
   ],
   "source": [
    "as_datetime(60 * 60 * 10)\n",
    "as_date(365 * 10 + 2)"
   ]
  },
  {
   "attachments": {},
   "cell_type": "markdown",
   "metadata": {},
   "source": [
    "### 提取日期和时间中的独立成分"
   ]
  },
  {
   "attachments": {},
   "cell_type": "markdown",
   "metadata": {},
   "source": [
    "如果想要提取出日期中的独立成分，可以使用以下访问器函数：`year()`、`quarter()`、`month()`、`mday()`（一个月中的第几天）、`yday()`（一年中的第几天）、`wday()`（一周中的第几天）、`hour()`、`minute()` 和 `second()`。"
   ]
  },
  {
   "cell_type": "markdown",
   "metadata": {},
   "source": [
    "#### month()"
   ]
  },
  {
   "cell_type": "markdown",
   "metadata": {},
   "source": [
    "获取或设置日期时间中的“月”部分。其参数和`wday()`函数中的参数是相同的。"
   ]
  },
  {
   "cell_type": "markdown",
   "metadata": {},
   "source": [
    "```r\n",
    "month(x, label = FALSE, abbr = TRUE, locale = Sys.getlocale(\"LC_TIME\"))\n",
    "```"
   ]
  },
  {
   "cell_type": "markdown",
   "metadata": {},
   "source": [
    "#### day()"
   ]
  },
  {
   "cell_type": "markdown",
   "metadata": {},
   "source": [
    "```r\n",
    "1. day(x)\n",
    "2. mday(x)\n",
    "3. wday(x, label = FALSE, abbr = TRUE, week_start = getOption(\"lubridate.week.start\", 7), locale = Sys.getlocale(\"LC_TIME\"))\n",
    "4. qday(x)\n",
    "5. yday(x)\n",
    "```"
   ]
  },
  {
   "cell_type": "markdown",
   "metadata": {},
   "source": [
    "获取或设置日期时间中的“天”部分。其中参数x必须为日期类型的数据。其余可能参数解释：\n",
    "- `label`：逻辑值，只在wday()中可用。当label为`TRUE`时，星期几会以有序的字符字符串形式显示，例如 \"Sunday\"。当label为`FALSE`时，星期几会以数字形式显示。\n",
    "- `abbr`：逻辑值，只在wday中可用。当abbr为`FALSE`时，星期几会以有序的字符字符串形式显示，不进行缩写。例如 \"Sunday\"。当 abbr 为`TRUE`时，星期几会以缩写形式显示，例如 \"Sun\"。\n",
    "- `week_start`：参数用于指定一周的起始日期，遵循 ISO 约定：1 表示星期一，7 表示星期日（默认值）。当label为`FALSE`且week_start为 7 时，星期日对应的数字为 1，星期一对应的数字为 2，依此类推。当 label为TRUE时，返回的值是一个因子，其中第一个级别是指定的一周的起始日期（例如，如果 week_start 为 7，则第一个级别是“Sunday”）。可以设置 `lubridate.week.start` 选项来全局控制这个参数。\n",
    "- `locale`：是用于指定日期名称的区域设置。默认为当前区域设置。"
   ]
  },
  {
   "cell_type": "markdown",
   "metadata": {},
   "source": [
    "### 进行日期与时间的解析"
   ]
  },
  {
   "cell_type": "markdown",
   "metadata": {},
   "source": [
    "#### ymd()系列函数"
   ]
  },
  {
   "cell_type": "markdown",
   "metadata": {},
   "source": [
    "包括：`ymd(), ydm(), mdy(), myd(), dmy(), dym(), yq(), ym(), my()`。"
   ]
  },
  {
   "cell_type": "markdown",
   "metadata": {},
   "source": [
    "这一系列的函数都是有关日期处理的。它们可以将存储在字符或数字向量中的`日期`转换为`Date或POSIXct`对象（请参见tz参数）（不过一般就是转换成日期date对象）。这些函数能够识别<span style = 'color:red'><strong>任意非数字分隔符以及没有分隔符</strong></span>的日期格式。只要格式的顺序正确，即使输入向量包含不同格式的日期，这些函数也能正确解析日期。"
   ]
  },
  {
   "cell_type": "markdown",
   "metadata": {},
   "source": [
    "函数参数解释：\n",
    "- `...`：包含待解析日期的字符或数字向量。\n",
    "- `quiet`：逻辑值，默认为FALSE。如果设置为TRUE，该函数在执行期间将不显示任何消息或通知。\n",
    "- `tz`：时区指示符。如果为NULL（默认值），将返回一个Date对象。否则是将时区属性设置为tz参数指定的POSIXct。\n",
    "- `locale`：用于日期解析的区域设置。在Linux系统上，可以使用system(\"locale -a\")列出所有已安装的区域设置。\n",
    "- `truncated`：整数值。参数解释为允许截断的格式数量，默认为0。通俗地说当truncated参数为0时，ymd函数会严格按照给定的日期时间格式进行解析，如果日期时间字符串与格式不完全匹配，将会产生解析错误。如果truncated参数非零，ymd()系列函数还会检查是否存在截断的日期格式。例如，对于truncated = 2，ymd()函数还可以解析不完整的日期，如2012-06和2012。通常情况下，将truncated参数设置为非零值可以增加日期时间数据的灵活性，特别是在处理可能存在缺失或不完整日期时间字符串时，可以避免解析错误。<em>然而，需要注意的是，过度截断可能会导致解析结果不够精确，因为忽略掉的信息可能对数据分析造成影响。</em>"
   ]
  },
  {
   "cell_type": "markdown",
   "metadata": {},
   "source": [
    ">解析函数也不是万能的，某些极端奇怪的情况可能无法正确解析，如当其中一个分隔符为空（\"\"），且分隔符相邻的格式不是双位数字时。对于具有不同日期格式的向量，ymd()系列函数会基于输入向量的子集来猜测格式。如果输入向量包含许多缺失值或非日期字符串，子集可能不包含有意义的日期，因此日期时间格式将无法猜测，从而导致出现\"All formats failed to parse\"错误。在这种情况下，参阅`parse_date_time()`函数以获得更灵活的解析接口。"
   ]
  },
  {
   "cell_type": "markdown",
   "metadata": {},
   "source": [
    ">如果字符串中只包含年月，而不包含日。函数解析时会自动默认为天数为1。"
   ]
  },
  {
   "cell_type": "code",
   "execution_count": null,
   "metadata": {
    "vscode": {
     "languageId": "r"
    }
   },
   "outputs": [
    {
     "data": {
      "text/html": [
       "<style>\n",
       ".list-inline {list-style: none; margin:0; padding: 0}\n",
       ".list-inline>li {display: inline-block}\n",
       ".list-inline>li:not(:last-child)::after {content: \"\\00b7\"; padding: 0 .5ex}\n",
       "</style>\n",
       "<ol class=list-inline><li><time datetime=\"2023-07-21\">2023-07-21</time></li><li><time datetime=\"2023-07-22\">2023-07-22</time></li><li><time datetime=\"2023-07-23\">2023-07-23</time></li><li><time datetime=\"2023-07-01\">2023-07-01</time></li></ol>\n"
      ],
      "text/latex": [
       "\\begin{enumerate*}\n",
       "\\item 2023-07-21\n",
       "\\item 2023-07-22\n",
       "\\item 2023-07-23\n",
       "\\item 2023-07-01\n",
       "\\end{enumerate*}\n"
      ],
      "text/markdown": [
       "1. 2023-07-21\n",
       "2. 2023-07-22\n",
       "3. 2023-07-23\n",
       "4. 2023-07-01\n",
       "\n",
       "\n"
      ],
      "text/plain": [
       "[1] \"2023-07-21\" \"2023-07-22\" \"2023-07-23\" \"2023-07-01\""
      ]
     },
     "metadata": {},
     "output_type": "display_data"
    }
   ],
   "source": [
    "library(lubridate)\n",
    "date <- c(\"2023年7月21日\", \"2023-07-22\", \"2023 7 23\", \"2023 7\")\n",
    "ymd(date, truncated = 2)"
   ]
  },
  {
   "cell_type": "markdown",
   "metadata": {},
   "source": [
    "#### hms()系列函数"
   ]
  },
  {
   "cell_type": "markdown",
   "metadata": {},
   "source": [
    "包括`ms()`（格式为\"MM:SS\"），`hm()`（格式为\"HH:MM\"），`hms()`（格式为\"HH:MM:SS\"）"
   ]
  },
  {
   "cell_type": "markdown",
   "metadata": {},
   "source": [
    "这一系列函数用于将字符或数字向量转换为具有指定小时、分钟和秒数的周期（period）对象，即time对象。hms()函数识别除了连字符（'-'）以外的所有非数字字符作为分隔符（连字符用于表示负持续时间）。在解析了小时、分钟和秒之后，剩余的输入将被忽略。"
   ]
  },
  {
   "cell_type": "markdown",
   "metadata": {},
   "source": [
    "参数解释：\n",
    "- `...`: 由小时、分钟、秒组成的字符向量。\n",
    "- `quiet`: 逻辑值。如果为TRUE，则函数在执行时不显示通常的消息。\n",
    "- `roll`: 逻辑值。如果为TRUE，则如果小于单位的值超过了常规限制，较小的单位会被滚动到更高的单位。例如，hms(\"01:59:120\", roll = TRUE)将产生持续时间 \"2小时 1分钟 0秒\"。"
   ]
  },
  {
   "cell_type": "markdown",
   "metadata": {},
   "source": [
    "#### ymd_hms()系列函数"
   ]
  },
  {
   "cell_type": "markdown",
   "metadata": {},
   "source": [
    "`ymd_hms()`函数族将存储为字符或数字向量的日期转换为POSIXct对象（或者说是datetime对象）。他们识别所有非字母数字的分隔符（如果frac = TRUE，则除了\".\"以外的分隔符），并正确处理不同类型的日期时间表示。为了更灵活地处理不同格式的日期时间，可以参考低级解析器parse_date_time()。"
   ]
  },
  {
   "cell_type": "markdown",
   "metadata": {},
   "source": [
    "包括：`ymd_hms(), ymd_hm(), ymd_h(), dmy_hms(), dmy_hm(), dmy_h(), mdy_hms(), mdy_hm(), mdy_h(), ydm_hms(), ydm_hm(), ydm_h()`"
   ]
  },
  {
   "cell_type": "markdown",
   "metadata": {},
   "source": [
    "参数解释：\n",
    "- `...`：包含待解析日期的字符或数字向量。\n",
    "- `quiet`：逻辑值，默认为FALSE。如果设置为TRUE，该函数在执行期间将不显示任何消息或通知。\n",
    "- `tz`：时区指示符。如果为NULL（默认值），将返回一个Date对象。否则是将时区属性设置为tz参数指定的POSIXct。由于`ymd_hms()`函数族设计具体时间，所以时区指定很重要。\n",
    "- `locale`：用于日期解析的区域设置。在Linux系统上，可以使用system(\"locale -a\")列出所有已安装的区域设置。\n",
    "- `truncated`：整数值。参数解释为允许截断的格式数量，默认为0。如果参数非零，ymd_hms()函数还会检查截断的格式，允许出现不严格匹配地情况。例如，使用truncated = 3的ymd_hms()函数将解析不完整的日期，如\"2012-06-01 12:23\"、\"2012-06-01 12\"和\"2012-06-01\"。"
   ]
  },
  {
   "cell_type": "markdown",
   "metadata": {},
   "source": [
    "关于tz参数的设置：时区的指定的一般的形式为<span style = 'color:red'><strong>< 大陆 >/< 城市 ></strong></span>（存在例外，因为不是所有城市都位于一块大陆）。如“America/\n",
    "New_York”、“Europe/Paris”和“Pacific/Auckland”等等。可以通过<span style = 'color:red'><strong>OlsonNames()</strong></span>函数查看所有时区。需要注意的是，ymd_hms()函数自动将协调世界时（UTC）时区分配给解析后的日期时间数据。除了指定tz参数意外，还可以使用`force_tz()`函数更改该时区设置。"
   ]
  },
  {
   "cell_type": "code",
   "execution_count": null,
   "metadata": {
    "vscode": {
     "languageId": "r"
    }
   },
   "outputs": [
    {
     "name": "stdout",
     "output_type": "stream",
     "text": [
      " [1] \"Africa/Abidjan\"     \"Africa/Accra\"       \"Africa/Addis_Ababa\"\n",
      " [4] \"Africa/Algiers\"     \"Africa/Asmara\"      \"Africa/Asmera\"     \n",
      " [7] \"Africa/Bamako\"      \"Africa/Bangui\"      \"Africa/Banjul\"     \n",
      "[10] \"Africa/Bissau\"     \n"
     ]
    }
   ],
   "source": [
    "print(head(OlsonNames(), 10))"
   ]
  },
  {
   "cell_type": "code",
   "execution_count": null,
   "metadata": {
    "vscode": {
     "languageId": "r"
    }
   },
   "outputs": [
    {
     "name": "stderr",
     "output_type": "stream",
     "text": [
      "Date in ISO8601 format; converting timezone from UTC to \"Asia/Shanghai\".\n",
      "\n",
      "Date in ISO8601 format; converting timezone from UTC to \"Asia/Shanghai\".\n",
      "\n"
     ]
    },
    {
     "data": {
      "text/plain": [
       "[1] \"2010-01-01 12:01:01 CST\" \"2009-01-02 12:01:02 CST\"\n",
       "[3] \"2009-01-03 12:01:03 CST\" \"2009-01-04 12:01:04 CST\"\n",
       "[5] \"2009-01-05 12:01:05 CST\" \"2009-01-08 00:00:00 CST\""
      ]
     },
     "metadata": {},
     "output_type": "display_data"
    }
   ],
   "source": [
    "x <- c(20100101120101, \"2009-01-02 12-01-02\", \"2009.01.03 12:01:03\",\n",
    "       \"2009-1-4 12-1-4\",\n",
    "       \"2009-1, 5 12:1, 5\",\n",
    "       \"200901-08\"\n",
    "       )\n",
    "ymd_hms(x, truncated = 3, tz = \"Asia/Shanghai\")"
   ]
  },
  {
   "cell_type": "markdown",
   "metadata": {},
   "source": [
    ">同样，由于可能存在异构形式，解析可能出现偏差。"
   ]
  },
  {
   "cell_type": "markdown",
   "metadata": {},
   "source": [
    "#### parse_date_time()函数"
   ]
  },
  {
   "cell_type": "markdown",
   "metadata": {},
   "source": [
    "parse_date_time()函数将输入向量解析为POSIXct日期时间对象。解析时间过程中如果遇到年月日无序排列的情况，该函数十分有用。"
   ]
  },
  {
   "cell_type": "markdown",
   "metadata": {},
   "source": [
    "```r\n",
    "parse_date_time(\n",
    "x,\n",
    "orders,\n",
    "tz = \"UTC\",\n",
    "truncated = 0,\n",
    "quiet = FALSE,\n",
    "locale = Sys.getlocale(\"LC_TIME\"),\n",
    "select_formats = .select_formats,\n",
    "exact = FALSE,\n",
    "train = TRUE,\n",
    "drop = FALSE\n",
    ")\n",
    "```"
   ]
  },
  {
   "cell_type": "markdown",
   "metadata": {},
   "source": [
    "- `x`: 一个日期的字符或数值向量。\n",
    "- `orders`: 一个表示日期时间格式`顺序`的格式字符串向量。每个<span style = 'color:#008c8c'><strong>格式字符串包含一系列的格式化字符</strong></span>，这些字符类似于`base::strptime()`函数中列出的格式，但`可能不包括%`前缀。（例如，\"ymd\"将匹配所有可能的日期，按照年、月、日的顺序）。对于parse_date_time()函数，应用这些格式的顺序由`select_formats`参数决定。\n",
    "- `tz`: 具有规范格式的字符串，指定用于解析日期的时区。\n",
    "- `truncated`: 整数，指定可以缺失的日期时间格式数量。如果truncated参数非零，则parse_date_time()函数还会检查截断的格式。例如，如果格式顺序是\"ymdHMS\"，且truncated = 3，parse_date_time()将正确解析不完整的日期时间，如\"2012-06-01 12:23\"、\"2012-06-01 12\"和\"2012-06-01\"（尽管这样会缺失一定的精度）。注意：ymd()函数族基于base::strptime()，后者目前无法解析%Y-%m格式。\n",
    "- `quiet`: 逻辑值。如果为TRUE，则不打印进度消息，并且抑制\"No formats found\"错误，函数只会返回NA向量。\n",
    "- `locale`: 区域设置，用于指定要使用的区域设置。有关区域设置的详细信息，请参见`locales`。\n",
    "- `select_formats`: 一个函数，用于从匹配输入向量的一组格式中选择实际格式。\n",
    "- `exact`: 逻辑值，默认为FALSE。如果为TRUE，则`orders`参数<span style = 'color:red'><strong>被解释为精确的base::strptime()格式，不进行训练或猜测（即忽略train和drop参数）</strong></span>。\n",
    "- `train`: 逻辑值，默认为TRUE。是否在输入向量的子集上训练格式。\n",
    "- `drop`: 逻辑值，默认为FALSE。是否丢弃在训练集上未匹配的格式。如果为FALSE，则在解析队列的末尾尝试未在训练集上匹配的格式。仅在`train = TRUE`时应用。将此参数设置为TRUE可能会在涉及多个格式的情况下稍微加快解析速度。"
   ]
  },
  {
   "cell_type": "markdown",
   "metadata": {},
   "source": [
    ">简单来说，如果`orders`为模糊匹配，那么需要`train`训练时间日期集，不需要`exact`进行精准匹配（参考ymd()系列函数）。相反，如果需要`%`和`分隔符`的精确匹配，就需要`exact`，而忽略`train`进行训练。"
   ]
  },
  {
   "cell_type": "markdown",
   "metadata": {},
   "source": [
    "1. 如果选择模糊匹配，使用`parse_date_time()`的格式化字符，包括（常见如下，可以自行查阅官方文档）：\n",
    "- `y`: 不带世纪的年份（00-99或0-99）。在`parse_date_time()`函数中，也会匹配带有世纪的年份（即Y格式）。\n",
    "- `Y`: 带有世纪的年份。\n",
    "- `m`: 以十进制数字表示的月份（01-12或1-12）。对于`parse_date_time()`函数，也会匹配缩写和完整的月份名称（即b和B）。\n",
    "- `b, B`: 本地化环境中的缩写或完整月份名称。\n",
    "- `d`: 以十进制数字表示的日期（01-31或0-31）。\n",
    "- `H`: 以十进制数字表示的小时（00-24或0-24）。\n",
    "- `M`: 以十进制数字表示的分钟（00-59或0-59）。\n",
    "- `S`: 以十进制数字表示的秒（00-61或0-61）。\n",
    "- `w`: 以十进制数字表示的工作日<span style = 'color:red'><strong>（0-6，星期日是0）</strong></span>。\n",
    "- `a`: 当前环境的本地化缩写星期几名称。（也匹配输入时的完整名称。）\n",
    "- `A`: 当前环境的本地化完整星期几名称。（也匹配输入时的缩写名称。）\n",
    "- `W`: 以十进制数字表示的年份中的第几周（00-53或0-53），使用星期一作为一周的第一天（通常将年的第一个星期一作为第1周的第1天）。"
   ]
  },
  {
   "cell_type": "markdown",
   "metadata": {},
   "source": [
    "2. 如果选择精确匹配，使用`strptime()`中的格式化字符和分隔符，格式化字符包括（常见如下，可自行查阅官方文档）："
   ]
  },
  {
   "cell_type": "markdown",
   "metadata": {},
   "source": [
    "- `%y`: 不带世纪的年份（00-99）。输出时，00-68的值前面会加上20，69-99的值前面会加上19。\n",
    "- `%Y:` 带有世纪的年份。\n",
    "- `%b`: 当前环境的本地化缩写月份名称。（也匹配输入时的完整名称：在某些环境中可能没有名称的缩写形式。）\n",
    "- `%B`: 当前环境的本地化完整月份名称。（也匹配输入时的缩写名称。）\n",
    "- `%m`: 以十进制数字表示的月份（01-12）。\n",
    "- `%d`: 以十进制数字表示的日期（01-31）。\n",
    "- `%H`: 以十进制数字表示的小时（00-23）。\n",
    "- `%M`: 以十进制数字表示的分钟（00-59）。\n",
    "- `%S:` 以整数表示的秒（00-61）。\n",
    "- `%w`: 以十进制数字表示的工作日<span style = 'color:red'><strong>（0-6，星期日是0）</strong></span>。\n",
    "- `%a`: 当前环境的本地化缩写星期几名称。（也匹配输入时的完整名称。）\n",
    "- `%A`: 当前环境的本地化完整星期几名称。（也匹配输入时的缩写名称。）\n",
    "- `%W`: 以十进制数字表示的年份中的第几周（00-53），使用星期一作为一周的第一天（通常将年的第一个星期一作为第1周的第1天）。"
   ]
  },
  {
   "cell_type": "code",
   "execution_count": null,
   "metadata": {
    "vscode": {
     "languageId": "r"
    }
   },
   "outputs": [
    {
     "data": {
      "text/plain": [
       "[1] \"2021-07-22 CST\""
      ]
     },
     "metadata": {},
     "output_type": "display_data"
    },
    {
     "data": {
      "text/plain": [
       "[1] \"2021-07-22 18:00:00 CST\""
      ]
     },
     "metadata": {},
     "output_type": "display_data"
    }
   ],
   "source": [
    "library(lubridate)\n",
    "parse_date_time(\"2021年07月22日\", \"%Y年%m月%d日\", tz = \"Asia/Shanghai\", exact = TRUE)\n",
    "parse_date_time(\"2021年07月22日 18:00:00\", \"ymdHMS\", tz = \"Asia/Shanghai\")"
   ]
  },
  {
   "cell_type": "markdown",
   "metadata": {},
   "source": [
    "#### with_tz(), force_tz()函数"
   ]
  },
  {
   "cell_type": "markdown",
   "metadata": {},
   "source": [
    "两种函数对应了两种修改时区的方法。\n",
    "- 对于`with_tz()`函数，该函数保持时间不变，只是修改其显示方式。当时间正确，但需要更直观的表示时，可以使用这种方法：\n",
    "- 对于`force_tz()`函数，用于修改内部时间。即当时间数据被标注了错误的时区，而想要改正过来时，可以使用这种方法。"
   ]
  },
  {
   "cell_type": "code",
   "execution_count": null,
   "metadata": {
    "vscode": {
     "languageId": "r"
    }
   },
   "outputs": [
    {
     "data": {
      "text/plain": [
       "[1] \"2015-06-01 14:00:00 EDT\""
      ]
     },
     "metadata": {},
     "output_type": "display_data"
    },
    {
     "data": {
      "text/plain": [
       "[1] \"2015-06-02 02:00:00 CST\""
      ]
     },
     "metadata": {},
     "output_type": "display_data"
    },
    {
     "data": {
      "text/plain": [
       "[1] \"2015-06-01 14:00:00 CST\""
      ]
     },
     "metadata": {},
     "output_type": "display_data"
    }
   ],
   "source": [
    "date <- ymd_hms(\"2015-06-01 14:00:00\", tz = \"America/New_York\")\n",
    "date\n",
    "with_tz(date, tzone = \"Asia/Shanghai\")\n",
    "force_tz(date, tzone = \"Asia/Shanghai\")"
   ]
  },
  {
   "attachments": {},
   "cell_type": "markdown",
   "metadata": {},
   "source": [
    "## 使用dplyr进行数据操作"
   ]
  },
  {
   "attachments": {},
   "cell_type": "markdown",
   "metadata": {},
   "source": [
    "- dplyr的五大核心操作函数都可以和`group_by()`函数联合起来使用，group_by()函数可以改变以上每个函数的作用范围，让其从在整个数据集上操作变为在每个分组上分别操作。所以这6个函数就构成了使用dplyr进行数据转换数据处理语言的基本操作。\n",
    "- 前面 5 个函数的工作方式都是相同的。\n",
    "    - 第一个参数是一个数据框。\n",
    "    - 随后的参数使用变量名称（不带引号）描述了在数据框上进行的操作。\n",
    "    - 输出结果是一个新数据框。值得注意的是，需要用`<-`来保存操作结果。"
   ]
  },
  {
   "attachments": {},
   "cell_type": "markdown",
   "metadata": {},
   "source": [
    "### 使用filter()函数筛选行"
   ]
  },
  {
   "cell_type": "markdown",
   "metadata": {},
   "source": [
    "`filter()`函数可以基于观测的值筛选出一个观测子集。第一个参数是数据框名称（便于管道），随后的参数是用来筛选数据框的表达式条件（多个条件之间用“,”分开）。此外，表达式常常与比较运算符，逻辑运算符（&, |），%in%等等结合使用。<span style = 'color:red'><strong>filter()只能筛选出条件为TRUE的行；它会排除那些条件为FALSE和NA的行。</strong></span>"
   ]
  },
  {
   "cell_type": "markdown",
   "metadata": {},
   "source": [
    "filter()可以与`if_any()`和`if_all()`函数结合使用，在限定列的范围内根据条件筛选行。这种操作逻辑类似across()，只不过返回的是关于行的逻辑向量（长度与数据框的行数一致），用于根据多列的值筛选行。具体来说，在.cols所选择的列范围内，分别对每一列应用函数.fns做判断，然后得到多个逻辑向量；if_all()是对这些逻辑向量依次取`&`，if_any()是对这些逻辑向量依次取`|`，最终得到一个逻辑向量并将其用于filter()筛选行。（这是向量化计算，相当于将函数.fns作用在所选列的每一行元素上，得到的判断结果，取&或|，再作为是否筛选改行的依据）"
   ]
  },
  {
   "cell_type": "markdown",
   "metadata": {},
   "source": [
    "```r\n",
    "if_any(.cols, .fns, ..., .names = NULL)\n",
    "\n",
    "if_all(.cols, .fns, ..., .names = NULL)\n",
    "```"
   ]
  },
  {
   "cell_type": "code",
   "execution_count": 4,
   "metadata": {
    "vscode": {
     "languageId": "r"
    }
   },
   "outputs": [],
   "source": [
    "library(readxl)\n",
    "df <- read.xlsx(\"data/ExamDatas.xlsx\")"
   ]
  },
  {
   "cell_type": "code",
   "execution_count": 9,
   "metadata": {
    "vscode": {
     "languageId": "r"
    }
   },
   "outputs": [
    {
     "data": {
      "text/html": [
       "<table class=\"dataframe\">\n",
       "<caption>A data.frame: 3 × 8</caption>\n",
       "<thead>\n",
       "\t<tr><th scope=col>class</th><th scope=col>name</th><th scope=col>sex</th><th scope=col>chinese</th><th scope=col>math</th><th scope=col>english</th><th scope=col>moral</th><th scope=col>science</th></tr>\n",
       "\t<tr><th scope=col>&lt;chr&gt;</th><th scope=col>&lt;chr&gt;</th><th scope=col>&lt;chr&gt;</th><th scope=col>&lt;dbl&gt;</th><th scope=col>&lt;dbl&gt;</th><th scope=col>&lt;dbl&gt;</th><th scope=col>&lt;dbl&gt;</th><th scope=col>&lt;dbl&gt;</th></tr>\n",
       "</thead>\n",
       "<tbody>\n",
       "\t<tr><td>六1班</td><td>何娜  </td><td>女</td><td>87</td><td>92</td><td>79</td><td> 9</td><td>10</td></tr>\n",
       "\t<tr><td>六4班</td><td>周婵  </td><td>女</td><td>92</td><td>94</td><td>77</td><td>10</td><td> 9</td></tr>\n",
       "\t<tr><td>六5班</td><td>符苡榕</td><td>女</td><td>85</td><td>89</td><td>76</td><td> 9</td><td>10</td></tr>\n",
       "</tbody>\n",
       "</table>\n"
      ],
      "text/latex": [
       "A data.frame: 3 × 8\n",
       "\\begin{tabular}{llllllll}\n",
       " class & name & sex & chinese & math & english & moral & science\\\\\n",
       " <chr> & <chr> & <chr> & <dbl> & <dbl> & <dbl> & <dbl> & <dbl>\\\\\n",
       "\\hline\n",
       "\t 六1班 & 何娜   & 女 & 87 & 92 & 79 &  9 & 10\\\\\n",
       "\t 六4班 & 周婵   & 女 & 92 & 94 & 77 & 10 &  9\\\\\n",
       "\t 六5班 & 符苡榕 & 女 & 85 & 89 & 76 &  9 & 10\\\\\n",
       "\\end{tabular}\n"
      ],
      "text/markdown": [
       "\n",
       "A data.frame: 3 × 8\n",
       "\n",
       "| class &lt;chr&gt; | name &lt;chr&gt; | sex &lt;chr&gt; | chinese &lt;dbl&gt; | math &lt;dbl&gt; | english &lt;dbl&gt; | moral &lt;dbl&gt; | science &lt;dbl&gt; |\n",
       "|---|---|---|---|---|---|---|---|\n",
       "| 六1班 | 何娜   | 女 | 87 | 92 | 79 |  9 | 10 |\n",
       "| 六4班 | 周婵   | 女 | 92 | 94 | 77 | 10 |  9 |\n",
       "| 六5班 | 符苡榕 | 女 | 85 | 89 | 76 |  9 | 10 |\n",
       "\n"
      ],
      "text/plain": [
       "  class name   sex chinese math english moral science\n",
       "1 六1班 何娜   女  87      92   79       9    10     \n",
       "2 六4班 周婵   女  92      94   77      10     9     \n",
       "3 六5班 符苡榕 女  85      89   76       9    10     "
      ]
     },
     "metadata": {},
     "output_type": "display_data"
    }
   ],
   "source": [
    "library(tidyverse)\n",
    "df %>% filter(if_all(4:6, ~ .x > 75))\n",
    "# 选择4到6列所有值都大于75的行"
   ]
  },
  {
   "cell_type": "code",
   "execution_count": 10,
   "metadata": {
    "vscode": {
     "languageId": "r"
    }
   },
   "outputs": [
    {
     "data": {
      "text/html": [
       "<table class=\"dataframe\">\n",
       "<caption>A data.frame: 8 × 8</caption>\n",
       "<thead>\n",
       "\t<tr><th scope=col>class</th><th scope=col>name</th><th scope=col>sex</th><th scope=col>chinese</th><th scope=col>math</th><th scope=col>english</th><th scope=col>moral</th><th scope=col>science</th></tr>\n",
       "\t<tr><th scope=col>&lt;chr&gt;</th><th scope=col>&lt;chr&gt;</th><th scope=col>&lt;chr&gt;</th><th scope=col>&lt;dbl&gt;</th><th scope=col>&lt;dbl&gt;</th><th scope=col>&lt;dbl&gt;</th><th scope=col>&lt;dbl&gt;</th><th scope=col>&lt;dbl&gt;</th></tr>\n",
       "</thead>\n",
       "<tbody>\n",
       "\t<tr><td>六1班</td><td>何娜  </td><td>女</td><td>87</td><td>92</td><td>79</td><td> 9</td><td>10</td></tr>\n",
       "\t<tr><td>六1班</td><td>黄才菊</td><td>女</td><td>95</td><td>77</td><td>75</td><td> 8</td><td> 9</td></tr>\n",
       "\t<tr><td>六2班</td><td>黄祖娜</td><td>女</td><td>94</td><td>88</td><td>75</td><td>10</td><td>10</td></tr>\n",
       "\t<tr><td>六2班</td><td>徐雅琦</td><td>女</td><td>92</td><td>86</td><td>72</td><td>10</td><td> 9</td></tr>\n",
       "\t<tr><td>六2班</td><td>陈华健</td><td>男</td><td>92</td><td>84</td><td>70</td><td> 9</td><td>10</td></tr>\n",
       "\t<tr><td>六2班</td><td>杨远芸</td><td>女</td><td>93</td><td>80</td><td>68</td><td> 9</td><td>10</td></tr>\n",
       "\t<tr><td>六4班</td><td>周婵  </td><td>女</td><td>92</td><td>94</td><td>77</td><td>10</td><td> 9</td></tr>\n",
       "\t<tr><td>六4班</td><td>陈丽丽</td><td>女</td><td>87</td><td>93</td><td>61</td><td> 8</td><td> 6</td></tr>\n",
       "</tbody>\n",
       "</table>\n"
      ],
      "text/latex": [
       "A data.frame: 8 × 8\n",
       "\\begin{tabular}{llllllll}\n",
       " class & name & sex & chinese & math & english & moral & science\\\\\n",
       " <chr> & <chr> & <chr> & <dbl> & <dbl> & <dbl> & <dbl> & <dbl>\\\\\n",
       "\\hline\n",
       "\t 六1班 & 何娜   & 女 & 87 & 92 & 79 &  9 & 10\\\\\n",
       "\t 六1班 & 黄才菊 & 女 & 95 & 77 & 75 &  8 &  9\\\\\n",
       "\t 六2班 & 黄祖娜 & 女 & 94 & 88 & 75 & 10 & 10\\\\\n",
       "\t 六2班 & 徐雅琦 & 女 & 92 & 86 & 72 & 10 &  9\\\\\n",
       "\t 六2班 & 陈华健 & 男 & 92 & 84 & 70 &  9 & 10\\\\\n",
       "\t 六2班 & 杨远芸 & 女 & 93 & 80 & 68 &  9 & 10\\\\\n",
       "\t 六4班 & 周婵   & 女 & 92 & 94 & 77 & 10 &  9\\\\\n",
       "\t 六4班 & 陈丽丽 & 女 & 87 & 93 & 61 &  8 &  6\\\\\n",
       "\\end{tabular}\n"
      ],
      "text/markdown": [
       "\n",
       "A data.frame: 8 × 8\n",
       "\n",
       "| class &lt;chr&gt; | name &lt;chr&gt; | sex &lt;chr&gt; | chinese &lt;dbl&gt; | math &lt;dbl&gt; | english &lt;dbl&gt; | moral &lt;dbl&gt; | science &lt;dbl&gt; |\n",
       "|---|---|---|---|---|---|---|---|\n",
       "| 六1班 | 何娜   | 女 | 87 | 92 | 79 |  9 | 10 |\n",
       "| 六1班 | 黄才菊 | 女 | 95 | 77 | 75 |  8 |  9 |\n",
       "| 六2班 | 黄祖娜 | 女 | 94 | 88 | 75 | 10 | 10 |\n",
       "| 六2班 | 徐雅琦 | 女 | 92 | 86 | 72 | 10 |  9 |\n",
       "| 六2班 | 陈华健 | 男 | 92 | 84 | 70 |  9 | 10 |\n",
       "| 六2班 | 杨远芸 | 女 | 93 | 80 | 68 |  9 | 10 |\n",
       "| 六4班 | 周婵   | 女 | 92 | 94 | 77 | 10 |  9 |\n",
       "| 六4班 | 陈丽丽 | 女 | 87 | 93 | 61 |  8 |  6 |\n",
       "\n"
      ],
      "text/plain": [
       "  class name   sex chinese math english moral science\n",
       "1 六1班 何娜   女  87      92   79       9    10     \n",
       "2 六1班 黄才菊 女  95      77   75       8     9     \n",
       "3 六2班 黄祖娜 女  94      88   75      10    10     \n",
       "4 六2班 徐雅琦 女  92      86   72      10     9     \n",
       "5 六2班 陈华健 男  92      84   70       9    10     \n",
       "6 六2班 杨远芸 女  93      80   68       9    10     \n",
       "7 六4班 周婵   女  92      94   77      10     9     \n",
       "8 六4班 陈丽丽 女  87      93   61       8     6     "
      ]
     },
     "metadata": {},
     "output_type": "display_data"
    }
   ],
   "source": [
    "df %>% filter(if_any(\n",
    "    where(is.numeric), ~.x > 90\n",
    "))\n",
    "# 选出数值列范围内，存在值大于90的行"
   ]
  },
  {
   "attachments": {},
   "cell_type": "markdown",
   "metadata": {},
   "source": [
    "### 使用arrange()函数排序行"
   ]
  },
  {
   "cell_type": "markdown",
   "metadata": {},
   "source": [
    "arrange()函数对行排序，默认是按照递增进行排序。"
   ]
  },
  {
   "cell_type": "markdown",
   "metadata": {},
   "source": [
    "```r\n",
    "arrange(.data, ..., .by_group = FALSE)\n",
    "```"
   ]
  },
  {
   "attachments": {},
   "cell_type": "markdown",
   "metadata": {},
   "source": [
    "1.  arrange()接受一个数据框和<span style = 'color:red'><strong>一组作为排序依据的列名（或者更复杂的表达式）作为参数</strong></span>。如果列名不只一个，那么就使用后面的列在前面排序的基础上继续排序。\n",
    "2.  若想按递减进行排序，可以嵌套`desc()`按列进行降序排序，或者在列名前加上`-`。排序默认将缺失值置于最后。"
   ]
  },
  {
   "attachments": {},
   "cell_type": "markdown",
   "metadata": {},
   "source": [
    "### 使用select()函数选择列"
   ]
  },
  {
   "cell_type": "markdown",
   "metadata": {},
   "source": [
    "`select()`函数可以通过使用列名或索引选择字段列："
   ]
  },
  {
   "cell_type": "code",
   "execution_count": 2,
   "metadata": {
    "vscode": {
     "languageId": "r"
    }
   },
   "outputs": [
    {
     "name": "stdout",
     "output_type": "stream",
     "text": [
      "\u001b[90m# A tibble: 6 × 2\u001b[39m\n",
      "  Sepal.Length Sepal.Width\n",
      "         \u001b[3m\u001b[90m<dbl>\u001b[39m\u001b[23m       \u001b[3m\u001b[90m<dbl>\u001b[39m\u001b[23m\n",
      "\u001b[90m1\u001b[39m          5.1         3.5\n",
      "\u001b[90m2\u001b[39m          4.9         3  \n",
      "\u001b[90m3\u001b[39m          4.7         3.2\n",
      "\u001b[90m4\u001b[39m          4.6         3.1\n",
      "\u001b[90m5\u001b[39m          5           3.6\n",
      "\u001b[90m6\u001b[39m          5.4         3.9\n"
     ]
    }
   ],
   "source": [
    "library(tidyverse)\n",
    "as_tibble(iris) %>%\n",
    "  select(1:2) %>%\n",
    "  head(6) %>%\n",
    "  print()"
   ]
  },
  {
   "cell_type": "markdown",
   "metadata": {},
   "source": [
    "可以借助一些运算符进行选择，例如`c()`表示合并多个选择，`:`选择连续的若干列等等。"
   ]
  },
  {
   "attachments": {},
   "cell_type": "markdown",
   "metadata": {},
   "source": [
    "也可以与一些辅助函数结合使用：\n",
    "- `starts_with()/ends_with()`：得到以某前缀（后缀）开头（结尾）的列。\n",
    "- `contains()`：得到包含某字符串的列。\n",
    "- `matches()`：匹配正则表达式的列。\n",
    "- `everything()`：选择所有列。\n",
    "- `last_col()`：选择最后一列。也可以带上参数，比如`last_col(5)`表示最后五列。\n",
    "- `where()`：把一个函数应用到所有列，选择返回结果为TRUE的所有列。"
   ]
  },
  {
   "cell_type": "code",
   "execution_count": 4,
   "metadata": {
    "vscode": {
     "languageId": "r"
    }
   },
   "outputs": [
    {
     "name": "stdout",
     "output_type": "stream",
     "text": [
      "\u001b[90m# A tibble: 6 × 2\u001b[39m\n",
      "  Sepal.Length Petal.Length\n",
      "         \u001b[3m\u001b[90m<dbl>\u001b[39m\u001b[23m        \u001b[3m\u001b[90m<dbl>\u001b[39m\u001b[23m\n",
      "\u001b[90m1\u001b[39m          5.1          1.4\n",
      "\u001b[90m2\u001b[39m          4.9          1.4\n",
      "\u001b[90m3\u001b[39m          4.7          1.3\n",
      "\u001b[90m4\u001b[39m          4.6          1.5\n",
      "\u001b[90m5\u001b[39m          5            1.4\n",
      "\u001b[90m6\u001b[39m          5.4          1.7\n"
     ]
    }
   ],
   "source": [
    "library(tidyverse)\n",
    "as_tibble(iris) %>%\n",
    "  select(ends_with(\"Length\")) %>%\n",
    "  head(6) %>%\n",
    "  print()"
   ]
  },
  {
   "cell_type": "code",
   "execution_count": 6,
   "metadata": {
    "vscode": {
     "languageId": "r"
    }
   },
   "outputs": [
    {
     "name": "stdout",
     "output_type": "stream",
     "text": [
      "\u001b[90m# A tibble: 6 × 4\u001b[39m\n",
      "  Sepal.Length Sepal.Width Petal.Length Petal.Width\n",
      "         \u001b[3m\u001b[90m<dbl>\u001b[39m\u001b[23m       \u001b[3m\u001b[90m<dbl>\u001b[39m\u001b[23m        \u001b[3m\u001b[90m<dbl>\u001b[39m\u001b[23m       \u001b[3m\u001b[90m<dbl>\u001b[39m\u001b[23m\n",
      "\u001b[90m1\u001b[39m          5.1         3.5          1.4         0.2\n",
      "\u001b[90m2\u001b[39m          4.9         3            1.4         0.2\n",
      "\u001b[90m3\u001b[39m          4.7         3.2          1.3         0.2\n",
      "\u001b[90m4\u001b[39m          4.6         3.1          1.5         0.2\n",
      "\u001b[90m5\u001b[39m          5           3.6          1.4         0.2\n",
      "\u001b[90m6\u001b[39m          5.4         3.9          1.7         0.4\n"
     ]
    }
   ],
   "source": [
    "tibble(iris) %>%\n",
    "  select(where(is.numeric)) %>%\n",
    "  head(6) %>%\n",
    "  print()"
   ]
  },
  {
   "cell_type": "markdown",
   "metadata": {},
   "source": [
    "### 使用pull()提取单列元素"
   ]
  },
  {
   "cell_type": "markdown",
   "metadata": {},
   "source": [
    "`pull(.data, var)`的形式允许提取单列的元素，var参数可以接受列名或者列数。该函数的效果和`[[]]`是类似的："
   ]
  },
  {
   "cell_type": "code",
   "execution_count": 7,
   "metadata": {
    "vscode": {
     "languageId": "r"
    }
   },
   "outputs": [
    {
     "name": "stdout",
     "output_type": "stream",
     "text": [
      "[1] 5.1 4.9 4.7 4.6 5.0 5.4\n"
     ]
    }
   ],
   "source": [
    "print(\n",
    "  iris %>%\n",
    "    pull(1) %>%\n",
    "    head()\n",
    ")"
   ]
  },
  {
   "cell_type": "code",
   "execution_count": 8,
   "metadata": {
    "vscode": {
     "languageId": "r"
    }
   },
   "outputs": [
    {
     "name": "stdout",
     "output_type": "stream",
     "text": [
      "[1] 5.1 4.9 4.7 4.6 5.0 5.4\n"
     ]
    }
   ],
   "source": [
    "print(\n",
    "  iris[[1]] %>%\n",
    "    head()\n",
    ")"
   ]
  },
  {
   "cell_type": "markdown",
   "metadata": {},
   "source": [
    "### 使用slice()函数对行进行切片"
   ]
  },
  {
   "cell_type": "markdown",
   "metadata": {},
   "source": [
    "slice()函数本身可以作为提取行的工具，同时它还有衍生函数。"
   ]
  },
  {
   "cell_type": "markdown",
   "metadata": {},
   "source": [
    "#### slice()函数"
   ]
  },
  {
   "cell_type": "markdown",
   "metadata": {},
   "source": [
    "传入需要提取的数据集后，同时传入要提取的行号。正值代表保留提取这些行，负值代表删除这些行后再提取。"
   ]
  },
  {
   "cell_type": "code",
   "execution_count": null,
   "metadata": {
    "vscode": {
     "languageId": "r"
    }
   },
   "outputs": [
    {
     "name": "stdout",
     "output_type": "stream",
     "text": [
      "\u001b[90m# A tibble: 3 × 19\u001b[39m\n",
      "   year month   day dep_time sched_dep_time dep_delay arr_time sched_arr_time\n",
      "  \u001b[3m\u001b[90m<int>\u001b[39m\u001b[23m \u001b[3m\u001b[90m<int>\u001b[39m\u001b[23m \u001b[3m\u001b[90m<int>\u001b[39m\u001b[23m    \u001b[3m\u001b[90m<int>\u001b[39m\u001b[23m          \u001b[3m\u001b[90m<int>\u001b[39m\u001b[23m     \u001b[3m\u001b[90m<dbl>\u001b[39m\u001b[23m    \u001b[3m\u001b[90m<int>\u001b[39m\u001b[23m          \u001b[3m\u001b[90m<int>\u001b[39m\u001b[23m\n",
      "\u001b[90m1\u001b[39m  \u001b[4m2\u001b[24m013     1     1      517            515         2      830            819\n",
      "\u001b[90m2\u001b[39m  \u001b[4m2\u001b[24m013     1     1      533            529         4      850            830\n",
      "\u001b[90m3\u001b[39m  \u001b[4m2\u001b[24m013     1     1      542            540         2      923            850\n",
      "\u001b[90m# ℹ 11 more variables: arr_delay <dbl>, carrier <chr>, flight <int>,\u001b[39m\n",
      "\u001b[90m#   tailnum <chr>, origin <chr>, dest <chr>, air_time <dbl>, distance <dbl>,\u001b[39m\n",
      "\u001b[90m#   hour <dbl>, minute <dbl>, time_hour <dttm>\u001b[39m\n",
      "\u001b[90m# A tibble: 336,773 × 19\u001b[39m\n",
      "    year month   day dep_time sched_dep_time dep_delay arr_time sched_arr_time\n",
      "   \u001b[3m\u001b[90m<int>\u001b[39m\u001b[23m \u001b[3m\u001b[90m<int>\u001b[39m\u001b[23m \u001b[3m\u001b[90m<int>\u001b[39m\u001b[23m    \u001b[3m\u001b[90m<int>\u001b[39m\u001b[23m          \u001b[3m\u001b[90m<int>\u001b[39m\u001b[23m     \u001b[3m\u001b[90m<dbl>\u001b[39m\u001b[23m    \u001b[3m\u001b[90m<int>\u001b[39m\u001b[23m          \u001b[3m\u001b[90m<int>\u001b[39m\u001b[23m\n",
      "\u001b[90m 1\u001b[39m  \u001b[4m2\u001b[24m013     1     1      544            545        -\u001b[31m1\u001b[39m     \u001b[4m1\u001b[24m004           \u001b[4m1\u001b[24m022\n",
      "\u001b[90m 2\u001b[39m  \u001b[4m2\u001b[24m013     1     1      554            600        -\u001b[31m6\u001b[39m      812            837\n",
      "\u001b[90m 3\u001b[39m  \u001b[4m2\u001b[24m013     1     1      554            558        -\u001b[31m4\u001b[39m      740            728\n",
      "\u001b[90m 4\u001b[39m  \u001b[4m2\u001b[24m013     1     1      555            600        -\u001b[31m5\u001b[39m      913            854\n",
      "\u001b[90m 5\u001b[39m  \u001b[4m2\u001b[24m013     1     1      557            600        -\u001b[31m3\u001b[39m      709            723\n",
      "\u001b[90m 6\u001b[39m  \u001b[4m2\u001b[24m013     1     1      557            600        -\u001b[31m3\u001b[39m      838            846\n",
      "\u001b[90m 7\u001b[39m  \u001b[4m2\u001b[24m013     1     1      558            600        -\u001b[31m2\u001b[39m      753            745\n",
      "\u001b[90m 8\u001b[39m  \u001b[4m2\u001b[24m013     1     1      558            600        -\u001b[31m2\u001b[39m      849            851\n",
      "\u001b[90m 9\u001b[39m  \u001b[4m2\u001b[24m013     1     1      558            600        -\u001b[31m2\u001b[39m      853            856\n",
      "\u001b[90m10\u001b[39m  \u001b[4m2\u001b[24m013     1     1      558            600        -\u001b[31m2\u001b[39m      924            917\n",
      "\u001b[90m# ℹ 336,763 more rows\u001b[39m\n",
      "\u001b[90m# ℹ 11 more variables: arr_delay <dbl>, carrier <chr>, flight <int>,\u001b[39m\n",
      "\u001b[90m#   tailnum <chr>, origin <chr>, dest <chr>, air_time <dbl>, distance <dbl>,\u001b[39m\n",
      "\u001b[90m#   hour <dbl>, minute <dbl>, time_hour <dttm>\u001b[39m\n"
     ]
    }
   ],
   "source": [
    "library(tidyverse)\n",
    "tbl1 <- nycflights13::flights %>%\n",
    "    slice(1:3)\n",
    "print(tbl1)\n",
    "\n",
    "tbl2 <- nycflights13::flights %>%\n",
    "    slice(-(1:3))\n",
    "print(tbl2)"
   ]
  },
  {
   "cell_type": "markdown",
   "metadata": {},
   "source": [
    "#### slice_head()和slice_tail()函数"
   ]
  },
  {
   "cell_type": "markdown",
   "metadata": {},
   "source": [
    "这两个函数类似head()以及tail()函数，默认参数n取值为1。也可以传入参数prop提取百分率的行数。"
   ]
  },
  {
   "cell_type": "code",
   "execution_count": 9,
   "metadata": {
    "vscode": {
     "languageId": "r"
    }
   },
   "outputs": [
    {
     "name": "stdout",
     "output_type": "stream",
     "text": [
      "\u001b[90m# A tibble: 1 × 19\u001b[39m\n",
      "   year month   day dep_time sched_dep_time dep_delay arr_time sched_arr_time\n",
      "  \u001b[3m\u001b[90m<int>\u001b[39m\u001b[23m \u001b[3m\u001b[90m<int>\u001b[39m\u001b[23m \u001b[3m\u001b[90m<int>\u001b[39m\u001b[23m    \u001b[3m\u001b[90m<int>\u001b[39m\u001b[23m          \u001b[3m\u001b[90m<int>\u001b[39m\u001b[23m     \u001b[3m\u001b[90m<dbl>\u001b[39m\u001b[23m    \u001b[3m\u001b[90m<int>\u001b[39m\u001b[23m          \u001b[3m\u001b[90m<int>\u001b[39m\u001b[23m\n",
      "\u001b[90m1\u001b[39m  \u001b[4m2\u001b[24m013     1     1      517            515         2      830            819\n",
      "\u001b[90m# ℹ 11 more variables: arr_delay <dbl>, carrier <chr>, flight <int>,\u001b[39m\n",
      "\u001b[90m#   tailnum <chr>, origin <chr>, dest <chr>, air_time <dbl>, distance <dbl>,\u001b[39m\n",
      "\u001b[90m#   hour <dbl>, minute <dbl>, time_hour <dttm>\u001b[39m\n",
      "\u001b[90m# A tibble: 4 × 19\u001b[39m\n",
      "   year month   day dep_time sched_dep_time dep_delay arr_time sched_arr_time\n",
      "  \u001b[3m\u001b[90m<int>\u001b[39m\u001b[23m \u001b[3m\u001b[90m<int>\u001b[39m\u001b[23m \u001b[3m\u001b[90m<int>\u001b[39m\u001b[23m    \u001b[3m\u001b[90m<int>\u001b[39m\u001b[23m          \u001b[3m\u001b[90m<int>\u001b[39m\u001b[23m     \u001b[3m\u001b[90m<dbl>\u001b[39m\u001b[23m    \u001b[3m\u001b[90m<int>\u001b[39m\u001b[23m          \u001b[3m\u001b[90m<int>\u001b[39m\u001b[23m\n",
      "\u001b[90m1\u001b[39m  \u001b[4m2\u001b[24m013     9    30       \u001b[31mNA\u001b[39m           \u001b[4m2\u001b[24m200        \u001b[31mNA\u001b[39m       \u001b[31mNA\u001b[39m           \u001b[4m2\u001b[24m312\n",
      "\u001b[90m2\u001b[39m  \u001b[4m2\u001b[24m013     9    30       \u001b[31mNA\u001b[39m           \u001b[4m1\u001b[24m210        \u001b[31mNA\u001b[39m       \u001b[31mNA\u001b[39m           \u001b[4m1\u001b[24m330\n",
      "\u001b[90m3\u001b[39m  \u001b[4m2\u001b[24m013     9    30       \u001b[31mNA\u001b[39m           \u001b[4m1\u001b[24m159        \u001b[31mNA\u001b[39m       \u001b[31mNA\u001b[39m           \u001b[4m1\u001b[24m344\n",
      "\u001b[90m4\u001b[39m  \u001b[4m2\u001b[24m013     9    30       \u001b[31mNA\u001b[39m            840        \u001b[31mNA\u001b[39m       \u001b[31mNA\u001b[39m           \u001b[4m1\u001b[24m020\n",
      "\u001b[90m# ℹ 11 more variables: arr_delay <dbl>, carrier <chr>, flight <int>,\u001b[39m\n",
      "\u001b[90m#   tailnum <chr>, origin <chr>, dest <chr>, air_time <dbl>, distance <dbl>,\u001b[39m\n",
      "\u001b[90m#   hour <dbl>, minute <dbl>, time_hour <dttm>\u001b[39m\n"
     ]
    }
   ],
   "source": [
    "tbl3 <- nycflights13::flights %>%\n",
    "    slice_head()\n",
    "print(tbl3)\n",
    "\n",
    "tbl4 <- nycflights13::flights %>%\n",
    "  slice_tail(n = 4)\n",
    "print(tbl4)"
   ]
  },
  {
   "cell_type": "markdown",
   "metadata": {},
   "source": [
    "### 使用多个函数进行行的删除"
   ]
  },
  {
   "cell_type": "markdown",
   "metadata": {},
   "source": [
    "#### 删除重复行"
   ]
  },
  {
   "cell_type": "markdown",
   "metadata": {},
   "source": [
    "```r\n",
    "distinct(.data, ..., .keep_all = FALSE)\n",
    "```\n",
    "distinct()函数对.data接受的数据框进行重复行的删除（只保留第一个，将其余重复的行删除）。此外还可以向函数输入列名（使函数根据某些列判断重复行）。"
   ]
  },
  {
   "attachments": {},
   "cell_type": "markdown",
   "metadata": {},
   "source": [
    "### 使用mutate()函数创建新列"
   ]
  },
  {
   "attachments": {},
   "cell_type": "markdown",
   "metadata": {},
   "source": [
    "mutate()总是将新列添加到数据集的最后,其基本形式如下：\n",
    "```r\n",
    "mutate(\n",
    "  .data,\n",
    "  ...,\n",
    "  .by = NULL,\n",
    "  .keep = c(\"all\", \"used\", \"unused\", \"none\"),\n",
    "  .before = NULL,\n",
    "  .after = NULL\n",
    ")\n",
    "```\n",
    "\n",
    "`.before`, `.after`参数可以设置新列的位置。可以和其他常用函数结合创建新变量。"
   ]
  },
  {
   "cell_type": "markdown",
   "metadata": {},
   "source": [
    "值得注意的是在同一个`mutate()`函数中可以同时创建或计算多个列，他们都是从前往后依次计算，所以<span style = 'color:red'><strong>可以使用前面新创建的列</strong></span>。"
   ]
  },
  {
   "attachments": {},
   "cell_type": "markdown",
   "metadata": {},
   "source": [
    "#### 计算类"
   ]
  },
  {
   "attachments": {},
   "cell_type": "markdown",
   "metadata": {},
   "source": [
    "```r\n",
    "算术运算符： +、 -、 *、 /、 ^、 %/%（整除）、%%（取余）\n",
    "对数函数：log()、log2()、log10()\n",
    "偏移函数：lead()领先一期、 lag()滞后一期\n",
    "累加和滚动聚合：cumsum()、cumprod()、cummean()（累加均值）"
   ]
  },
  {
   "cell_type": "markdown",
   "metadata": {},
   "source": [
    "在上述所有计算类型中，有一些窗口函数，我们对其进行一些简单介绍。"
   ]
  },
  {
   "cell_type": "markdown",
   "metadata": {},
   "source": [
    "#### 窗口函数"
   ]
  },
  {
   "cell_type": "markdown",
   "metadata": {},
   "source": [
    "##### 排名和排序函数"
   ]
  },
  {
   "cell_type": "markdown",
   "metadata": {},
   "source": [
    "共有6个排序函数，可以自行查阅帮助文档。比较常用的排序函数有`min_rank()`。该函数可以实现对数据进行升序排名，并为重复的值分配相同的最小排名。若想降序排名，则可以加上“-”号或者嵌套`desc()`函数。"
   ]
  },
  {
   "cell_type": "code",
   "execution_count": 4,
   "metadata": {
    "vscode": {
     "languageId": "r"
    }
   },
   "outputs": [
    {
     "name": "stdout",
     "output_type": "stream",
     "text": [
      "\u001b[90m# A tibble: 6 × 8\u001b[39m\n",
      "  class name   sex   chinese  math english moral science\n",
      "  \u001b[3m\u001b[90m<chr>\u001b[39m\u001b[23m \u001b[3m\u001b[90m<chr>\u001b[39m\u001b[23m  \u001b[3m\u001b[90m<chr>\u001b[39m\u001b[23m   \u001b[3m\u001b[90m<dbl>\u001b[39m\u001b[23m \u001b[3m\u001b[90m<dbl>\u001b[39m\u001b[23m   \u001b[3m\u001b[90m<dbl>\u001b[39m\u001b[23m \u001b[3m\u001b[90m<dbl>\u001b[39m\u001b[23m   \u001b[3m\u001b[90m<dbl>\u001b[39m\u001b[23m\n",
      "\u001b[90m1\u001b[39m 六1班 何娜   女         87    92      79     9      10\n",
      "\u001b[90m2\u001b[39m 六1班 黄才菊 女         95    77      75     8       9\n",
      "\u001b[90m3\u001b[39m 六1班 陈芳妹 女         79    87      66     9      10\n",
      "\u001b[90m4\u001b[39m 六1班 陈学勤 男         82    79      66     9      10\n",
      "\u001b[90m5\u001b[39m 六1班 陈祝贞 女         76    79      67     8      10\n",
      "\u001b[90m6\u001b[39m 六1班 何小薇 女         83    73      65     8       9\n"
     ]
    }
   ],
   "source": [
    "library(readxl)\n",
    "df <- read_xlsx(\"data/ExamDatas.xlsx\")\n",
    "print(head(df))"
   ]
  },
  {
   "cell_type": "code",
   "execution_count": 5,
   "metadata": {
    "vscode": {
     "languageId": "r"
    }
   },
   "outputs": [
    {
     "name": "stdout",
     "output_type": "stream",
     "text": [
      "\u001b[90m# A tibble: 50 × 9\u001b[39m\n",
      "   class name   sex   chinese  math english moral science ranks\n",
      "   \u001b[3m\u001b[90m<chr>\u001b[39m\u001b[23m \u001b[3m\u001b[90m<chr>\u001b[39m\u001b[23m  \u001b[3m\u001b[90m<chr>\u001b[39m\u001b[23m   \u001b[3m\u001b[90m<dbl>\u001b[39m\u001b[23m \u001b[3m\u001b[90m<dbl>\u001b[39m\u001b[23m   \u001b[3m\u001b[90m<dbl>\u001b[39m\u001b[23m \u001b[3m\u001b[90m<dbl>\u001b[39m\u001b[23m   \u001b[3m\u001b[90m<dbl>\u001b[39m\u001b[23m \u001b[3m\u001b[90m<int>\u001b[39m\u001b[23m\n",
      "\u001b[90m 1\u001b[39m 六4班 周婵   女         92    94      77    10       9     1\n",
      "\u001b[90m 2\u001b[39m 六4班 陈丽丽 女         87    93      61     8       6     2\n",
      "\u001b[90m 3\u001b[39m 六1班 何娜   女         87    92      79     9      10     3\n",
      "\u001b[90m 4\u001b[39m 六5班 符苡榕 女         85    89      76     9      10     4\n",
      "\u001b[90m 5\u001b[39m 六2班 黄祖娜 女         94    88      75    10      10     5\n",
      "\u001b[90m 6\u001b[39m 六1班 陈芳妹 女         79    87      66     9      10     6\n",
      "\u001b[90m 7\u001b[39m 六4班 李小龄 男         90    87      69    10      10     6\n",
      "\u001b[90m 8\u001b[39m 六2班 徐雅琦 女         92    86      72    10       9     8\n",
      "\u001b[90m 9\u001b[39m 六2班 徐达政 男         90    86      72     9      10     8\n",
      "\u001b[90m10\u001b[39m 六4班 杨昌晟 男         84    85      64     8      10    10\n",
      "\u001b[90m# ℹ 40 more rows\u001b[39m\n"
     ]
    }
   ],
   "source": [
    "library(tidyverse)\n",
    "test1 <- df %>%\n",
    "  mutate(ranks = min_rank(desc(math))) %>%    #! 按照数学成绩降序排名\n",
    "  arrange(ranks)\n",
    "print(test1)"
   ]
  },
  {
   "cell_type": "markdown",
   "metadata": {},
   "source": [
    "##### 移位函数"
   ]
  },
  {
   "cell_type": "markdown",
   "metadata": {},
   "source": [
    "1. lag()函数取前一个值，整体函数右移一位，相当于将时间滞后一个单位。\n",
    "2. lead()函数取后一个值，整体函数左移一位，相当于将时间超前一个单位。"
   ]
  },
  {
   "cell_type": "markdown",
   "metadata": {},
   "source": [
    "##### 累计汇总"
   ]
  },
  {
   "cell_type": "markdown",
   "metadata": {},
   "source": [
    "base R已经提供了`cumsum()`, `cummin()`, `cummax()`, `cumprod()`函数。此外dplyr包还提供了`cummean()`, `cumany()`, `cumall()`函数，特别是后两者可以与filter函数连用以选择行：\n",
    "- `cumany(x)`：用来选择遇到第一个满足条件之后的所有行。\n",
    "- `cumall(x)`：用来选择所有行直到遇到第一个不满足条件的行。"
   ]
  },
  {
   "cell_type": "code",
   "execution_count": 15,
   "metadata": {
    "vscode": {
     "languageId": "r"
    }
   },
   "outputs": [
    {
     "name": "stdout",
     "output_type": "stream",
     "text": [
      "\u001b[90m# A tibble: 6 × 8\u001b[39m\n",
      "  class name   sex   chinese  math english moral science\n",
      "  \u001b[3m\u001b[90m<chr>\u001b[39m\u001b[23m \u001b[3m\u001b[90m<chr>\u001b[39m\u001b[23m  \u001b[3m\u001b[90m<chr>\u001b[39m\u001b[23m   \u001b[3m\u001b[90m<dbl>\u001b[39m\u001b[23m \u001b[3m\u001b[90m<dbl>\u001b[39m\u001b[23m   \u001b[3m\u001b[90m<dbl>\u001b[39m\u001b[23m \u001b[3m\u001b[90m<dbl>\u001b[39m\u001b[23m   \u001b[3m\u001b[90m<dbl>\u001b[39m\u001b[23m\n",
      "\u001b[90m1\u001b[39m 六1班 何娜   女         87    92      79     9      10\n",
      "\u001b[90m2\u001b[39m 六1班 黄才菊 女         95    77      75     8       9\n",
      "\u001b[90m3\u001b[39m 六1班 陈芳妹 女         79    87      66     9      10\n",
      "\u001b[90m4\u001b[39m 六1班 陈学勤 男         82    79      66     9      10\n",
      "\u001b[90m5\u001b[39m 六1班 陈祝贞 女         76    79      67     8      10\n",
      "\u001b[90m6\u001b[39m 六1班 何小薇 女         83    73      65     8       9\n"
     ]
    }
   ],
   "source": [
    "print(head(df))"
   ]
  },
  {
   "cell_type": "code",
   "execution_count": 16,
   "metadata": {
    "vscode": {
     "languageId": "r"
    }
   },
   "outputs": [
    {
     "name": "stdout",
     "output_type": "stream",
     "text": [
      "\u001b[90m# A tibble: 6 × 8\u001b[39m\n",
      "  class name   sex   chinese  math english moral science\n",
      "  \u001b[3m\u001b[90m<chr>\u001b[39m\u001b[23m \u001b[3m\u001b[90m<chr>\u001b[39m\u001b[23m  \u001b[3m\u001b[90m<chr>\u001b[39m\u001b[23m   \u001b[3m\u001b[90m<dbl>\u001b[39m\u001b[23m \u001b[3m\u001b[90m<dbl>\u001b[39m\u001b[23m   \u001b[3m\u001b[90m<dbl>\u001b[39m\u001b[23m \u001b[3m\u001b[90m<dbl>\u001b[39m\u001b[23m   \u001b[3m\u001b[90m<dbl>\u001b[39m\u001b[23m\n",
      "\u001b[90m1\u001b[39m 六1班 黄才菊 女         95    77      75     8       9\n",
      "\u001b[90m2\u001b[39m 六1班 陈芳妹 女         79    87      66     9      10\n",
      "\u001b[90m3\u001b[39m 六1班 陈学勤 男         82    79      66     9      10\n",
      "\u001b[90m4\u001b[39m 六1班 陈祝贞 女         76    79      67     8      10\n",
      "\u001b[90m5\u001b[39m 六1班 何小薇 女         83    73      65     8       9\n",
      "\u001b[90m6\u001b[39m 六1班 雷旺   男         56    80      68     8       9\n"
     ]
    }
   ],
   "source": [
    "test2 <- df %>%\n",
    "  filter(cumany(chinese > 90))\n",
    "print(head(test2))"
   ]
  },
  {
   "cell_type": "code",
   "execution_count": 17,
   "metadata": {
    "vscode": {
     "languageId": "r"
    }
   },
   "outputs": [
    {
     "name": "stdout",
     "output_type": "stream",
     "text": [
      "\u001b[90m# A tibble: 1 × 8\u001b[39m\n",
      "  class name  sex   chinese  math english moral science\n",
      "  \u001b[3m\u001b[90m<chr>\u001b[39m\u001b[23m \u001b[3m\u001b[90m<chr>\u001b[39m\u001b[23m \u001b[3m\u001b[90m<chr>\u001b[39m\u001b[23m   \u001b[3m\u001b[90m<dbl>\u001b[39m\u001b[23m \u001b[3m\u001b[90m<dbl>\u001b[39m\u001b[23m   \u001b[3m\u001b[90m<dbl>\u001b[39m\u001b[23m \u001b[3m\u001b[90m<dbl>\u001b[39m\u001b[23m   \u001b[3m\u001b[90m<dbl>\u001b[39m\u001b[23m\n",
      "\u001b[90m1\u001b[39m 六1班 何娜  女         87    92      79     9      10\n"
     ]
    }
   ],
   "source": [
    "test3 <- df %>%\n",
    "  filter(cumall(chinese < 90))\n",
    "print(head(test3))"
   ]
  },
  {
   "cell_type": "markdown",
   "metadata": {},
   "source": [
    "#### 滑窗迭代"
   ]
  },
  {
   "cell_type": "markdown",
   "metadata": {},
   "source": [
    "窗口函数的典型应用包括滑动平均、累计以及更复杂如滑动回归。slider包提供了`slide_*()`系列函数实现滑窗迭代，其基本格式为："
   ]
  },
  {
   "cell_type": "markdown",
   "metadata": {},
   "source": [
    "```r\n",
    "slide(.x, .f, ..., .before = 0L, .after = 0L, .step = 1L, .complete = FALSE)\n",
    "```"
   ]
  },
  {
   "attachments": {},
   "cell_type": "markdown",
   "metadata": {},
   "source": [
    "### 使用rename()进行字段的重命名"
   ]
  },
  {
   "cell_type": "markdown",
   "metadata": {},
   "source": [
    "`rename()`函数只修改部分列名："
   ]
  },
  {
   "cell_type": "code",
   "execution_count": 10,
   "metadata": {
    "vscode": {
     "languageId": "r"
    }
   },
   "outputs": [
    {
     "data": {
      "text/html": [
       "<table class=\"dataframe\">\n",
       "<caption>A tibble: 10 × 2</caption>\n",
       "<thead>\n",
       "\t<tr><th scope=col>rx</th><th scope=col>ry</th></tr>\n",
       "\t<tr><th scope=col>&lt;dbl&gt;</th><th scope=col>&lt;dbl&gt;</th></tr>\n",
       "</thead>\n",
       "<tbody>\n",
       "\t<tr><td>-1.9091427</td><td>-1.76338525</td></tr>\n",
       "\t<tr><td> 0.5551667</td><td>-0.04973667</td></tr>\n",
       "\t<tr><td>-2.2163365</td><td> 0.56505908</td></tr>\n",
       "\t<tr><td> 0.4941455</td><td>-0.06946347</td></tr>\n",
       "\t<tr><td>-0.5805710</td><td> 1.29157391</td></tr>\n",
       "\t<tr><td> 0.5805856</td><td> 0.80563530</td></tr>\n",
       "\t<tr><td> 0.5416072</td><td> 0.73688424</td></tr>\n",
       "\t<tr><td> 0.7575659</td><td> 0.98448947</td></tr>\n",
       "\t<tr><td>-0.2988847</td><td> 0.27542518</td></tr>\n",
       "\t<tr><td>-1.1324552</td><td> 0.95177053</td></tr>\n",
       "</tbody>\n",
       "</table>\n"
      ],
      "text/latex": [
       "A tibble: 10 × 2\n",
       "\\begin{tabular}{ll}\n",
       " rx & ry\\\\\n",
       " <dbl> & <dbl>\\\\\n",
       "\\hline\n",
       "\t -1.9091427 & -1.76338525\\\\\n",
       "\t  0.5551667 & -0.04973667\\\\\n",
       "\t -2.2163365 &  0.56505908\\\\\n",
       "\t  0.4941455 & -0.06946347\\\\\n",
       "\t -0.5805710 &  1.29157391\\\\\n",
       "\t  0.5805856 &  0.80563530\\\\\n",
       "\t  0.5416072 &  0.73688424\\\\\n",
       "\t  0.7575659 &  0.98448947\\\\\n",
       "\t -0.2988847 &  0.27542518\\\\\n",
       "\t -1.1324552 &  0.95177053\\\\\n",
       "\\end{tabular}\n"
      ],
      "text/markdown": [
       "\n",
       "A tibble: 10 × 2\n",
       "\n",
       "| rx &lt;dbl&gt; | ry &lt;dbl&gt; |\n",
       "|---|---|\n",
       "| -1.9091427 | -1.76338525 |\n",
       "|  0.5551667 | -0.04973667 |\n",
       "| -2.2163365 |  0.56505908 |\n",
       "|  0.4941455 | -0.06946347 |\n",
       "| -0.5805710 |  1.29157391 |\n",
       "|  0.5805856 |  0.80563530 |\n",
       "|  0.5416072 |  0.73688424 |\n",
       "|  0.7575659 |  0.98448947 |\n",
       "| -0.2988847 |  0.27542518 |\n",
       "| -1.1324552 |  0.95177053 |\n",
       "\n"
      ],
      "text/plain": [
       "   rx         ry         \n",
       "1  -1.9091427 -1.76338525\n",
       "2   0.5551667 -0.04973667\n",
       "3  -2.2163365  0.56505908\n",
       "4   0.4941455 -0.06946347\n",
       "5  -0.5805710  1.29157391\n",
       "6   0.5805856  0.80563530\n",
       "7   0.5416072  0.73688424\n",
       "8   0.7575659  0.98448947\n",
       "9  -0.2988847  0.27542518\n",
       "10 -1.1324552  0.95177053"
      ]
     },
     "metadata": {},
     "output_type": "display_data"
    }
   ],
   "source": [
    "library(tidyverse)\n",
    "set.seed(199)\n",
    "tibble(x = rnorm(10),\n",
    "y = rnorm(10)) %>% \n",
    "rename(rx = x, ry = y)"
   ]
  },
  {
   "cell_type": "markdown",
   "metadata": {},
   "source": [
    "或者用`set_names()`函数为所有列设置新列名，这与`rownames() <-`的用法是一致的："
   ]
  },
  {
   "cell_type": "code",
   "execution_count": 11,
   "metadata": {
    "vscode": {
     "languageId": "r"
    }
   },
   "outputs": [
    {
     "data": {
      "text/html": [
       "<table class=\"dataframe\">\n",
       "<caption>A tibble: 6 × 5</caption>\n",
       "<thead>\n",
       "\t<tr><th scope=col>a</th><th scope=col>b</th><th scope=col>c</th><th scope=col>d</th><th scope=col>e</th></tr>\n",
       "\t<tr><th scope=col>&lt;dbl&gt;</th><th scope=col>&lt;dbl&gt;</th><th scope=col>&lt;dbl&gt;</th><th scope=col>&lt;dbl&gt;</th><th scope=col>&lt;fct&gt;</th></tr>\n",
       "</thead>\n",
       "<tbody>\n",
       "\t<tr><td>5.1</td><td>3.5</td><td>1.4</td><td>0.2</td><td>setosa</td></tr>\n",
       "\t<tr><td>4.9</td><td>3.0</td><td>1.4</td><td>0.2</td><td>setosa</td></tr>\n",
       "\t<tr><td>4.7</td><td>3.2</td><td>1.3</td><td>0.2</td><td>setosa</td></tr>\n",
       "\t<tr><td>4.6</td><td>3.1</td><td>1.5</td><td>0.2</td><td>setosa</td></tr>\n",
       "\t<tr><td>5.0</td><td>3.6</td><td>1.4</td><td>0.2</td><td>setosa</td></tr>\n",
       "\t<tr><td>5.4</td><td>3.9</td><td>1.7</td><td>0.4</td><td>setosa</td></tr>\n",
       "</tbody>\n",
       "</table>\n"
      ],
      "text/latex": [
       "A tibble: 6 × 5\n",
       "\\begin{tabular}{lllll}\n",
       " a & b & c & d & e\\\\\n",
       " <dbl> & <dbl> & <dbl> & <dbl> & <fct>\\\\\n",
       "\\hline\n",
       "\t 5.1 & 3.5 & 1.4 & 0.2 & setosa\\\\\n",
       "\t 4.9 & 3.0 & 1.4 & 0.2 & setosa\\\\\n",
       "\t 4.7 & 3.2 & 1.3 & 0.2 & setosa\\\\\n",
       "\t 4.6 & 3.1 & 1.5 & 0.2 & setosa\\\\\n",
       "\t 5.0 & 3.6 & 1.4 & 0.2 & setosa\\\\\n",
       "\t 5.4 & 3.9 & 1.7 & 0.4 & setosa\\\\\n",
       "\\end{tabular}\n"
      ],
      "text/markdown": [
       "\n",
       "A tibble: 6 × 5\n",
       "\n",
       "| a &lt;dbl&gt; | b &lt;dbl&gt; | c &lt;dbl&gt; | d &lt;dbl&gt; | e &lt;fct&gt; |\n",
       "|---|---|---|---|---|\n",
       "| 5.1 | 3.5 | 1.4 | 0.2 | setosa |\n",
       "| 4.9 | 3.0 | 1.4 | 0.2 | setosa |\n",
       "| 4.7 | 3.2 | 1.3 | 0.2 | setosa |\n",
       "| 4.6 | 3.1 | 1.5 | 0.2 | setosa |\n",
       "| 5.0 | 3.6 | 1.4 | 0.2 | setosa |\n",
       "| 5.4 | 3.9 | 1.7 | 0.4 | setosa |\n",
       "\n"
      ],
      "text/plain": [
       "  a   b   c   d   e     \n",
       "1 5.1 3.5 1.4 0.2 setosa\n",
       "2 4.9 3.0 1.4 0.2 setosa\n",
       "3 4.7 3.2 1.3 0.2 setosa\n",
       "4 4.6 3.1 1.5 0.2 setosa\n",
       "5 5.0 3.6 1.4 0.2 setosa\n",
       "6 5.4 3.9 1.7 0.4 setosa"
      ]
     },
     "metadata": {},
     "output_type": "display_data"
    }
   ],
   "source": [
    "as_tibble(iris) %>% \n",
    "set_names(letters[1:ncol(iris)]) %>% \n",
    "head(6)"
   ]
  },
  {
   "cell_type": "markdown",
   "metadata": {},
   "source": [
    "### 使用group_*()进行分组操作"
   ]
  },
  {
   "cell_type": "markdown",
   "metadata": {},
   "source": [
    "#### 创建分组"
   ]
  },
  {
   "cell_type": "markdown",
   "metadata": {},
   "source": [
    "`group_by()`函数可以创建分组，不过这<span style = 'color:red'><strong>只是对数据框增加了分组信息，实际上并没有将原数据框分割为多个数据框</strong></span>："
   ]
  },
  {
   "cell_type": "code",
   "execution_count": 12,
   "metadata": {
    "vscode": {
     "languageId": "r"
    }
   },
   "outputs": [
    {
     "data": {
      "text/html": [
       "<table class=\"dataframe\">\n",
       "<caption>A grouped_df: 12 × 8</caption>\n",
       "<thead>\n",
       "\t<tr><th scope=col>class</th><th scope=col>name</th><th scope=col>sex</th><th scope=col>chinese</th><th scope=col>math</th><th scope=col>english</th><th scope=col>moral</th><th scope=col>science</th></tr>\n",
       "\t<tr><th scope=col>&lt;chr&gt;</th><th scope=col>&lt;chr&gt;</th><th scope=col>&lt;chr&gt;</th><th scope=col>&lt;dbl&gt;</th><th scope=col>&lt;dbl&gt;</th><th scope=col>&lt;dbl&gt;</th><th scope=col>&lt;dbl&gt;</th><th scope=col>&lt;dbl&gt;</th></tr>\n",
       "</thead>\n",
       "<tbody>\n",
       "\t<tr><td>六1班</td><td>何娜  </td><td>女</td><td>87</td><td>92</td><td>79</td><td>9</td><td>10</td></tr>\n",
       "\t<tr><td>六1班</td><td>黄才菊</td><td>女</td><td>95</td><td>77</td><td>75</td><td>8</td><td> 9</td></tr>\n",
       "\t<tr><td>六1班</td><td>陈芳妹</td><td>女</td><td>79</td><td>87</td><td>66</td><td>9</td><td>10</td></tr>\n",
       "\t<tr><td>六1班</td><td>陈祝贞</td><td>女</td><td>76</td><td>79</td><td>67</td><td>8</td><td>10</td></tr>\n",
       "\t<tr><td>六1班</td><td>何小薇</td><td>女</td><td>83</td><td>73</td><td>65</td><td>8</td><td> 9</td></tr>\n",
       "\t<tr><td>六1班</td><td>黄亦婷</td><td>女</td><td>77</td><td>63</td><td>54</td><td>8</td><td>10</td></tr>\n",
       "\t<tr><td>六1班</td><td>陈学勤</td><td>男</td><td>82</td><td>79</td><td>66</td><td>9</td><td>10</td></tr>\n",
       "\t<tr><td>六1班</td><td>雷旺  </td><td>男</td><td>56</td><td>80</td><td>68</td><td>8</td><td> 9</td></tr>\n",
       "\t<tr><td>六1班</td><td>陈欣越</td><td>男</td><td>57</td><td>80</td><td>60</td><td>9</td><td> 9</td></tr>\n",
       "\t<tr><td>六2班</td><td>徐达政</td><td>男</td><td>90</td><td>86</td><td>72</td><td>9</td><td>10</td></tr>\n",
       "\t<tr><td>六2班</td><td>陈华健</td><td>男</td><td>92</td><td>84</td><td>70</td><td>9</td><td>10</td></tr>\n",
       "\t<tr><td>六2班</td><td>雷开茂</td><td>男</td><td>83</td><td>80</td><td>45</td><td>9</td><td> 7</td></tr>\n",
       "</tbody>\n",
       "</table>\n"
      ],
      "text/latex": [
       "A grouped\\_df: 12 × 8\n",
       "\\begin{tabular}{llllllll}\n",
       " class & name & sex & chinese & math & english & moral & science\\\\\n",
       " <chr> & <chr> & <chr> & <dbl> & <dbl> & <dbl> & <dbl> & <dbl>\\\\\n",
       "\\hline\n",
       "\t 六1班 & 何娜   & 女 & 87 & 92 & 79 & 9 & 10\\\\\n",
       "\t 六1班 & 黄才菊 & 女 & 95 & 77 & 75 & 8 &  9\\\\\n",
       "\t 六1班 & 陈芳妹 & 女 & 79 & 87 & 66 & 9 & 10\\\\\n",
       "\t 六1班 & 陈祝贞 & 女 & 76 & 79 & 67 & 8 & 10\\\\\n",
       "\t 六1班 & 何小薇 & 女 & 83 & 73 & 65 & 8 &  9\\\\\n",
       "\t 六1班 & 黄亦婷 & 女 & 77 & 63 & 54 & 8 & 10\\\\\n",
       "\t 六1班 & 陈学勤 & 男 & 82 & 79 & 66 & 9 & 10\\\\\n",
       "\t 六1班 & 雷旺   & 男 & 56 & 80 & 68 & 8 &  9\\\\\n",
       "\t 六1班 & 陈欣越 & 男 & 57 & 80 & 60 & 9 &  9\\\\\n",
       "\t 六2班 & 徐达政 & 男 & 90 & 86 & 72 & 9 & 10\\\\\n",
       "\t 六2班 & 陈华健 & 男 & 92 & 84 & 70 & 9 & 10\\\\\n",
       "\t 六2班 & 雷开茂 & 男 & 83 & 80 & 45 & 9 &  7\\\\\n",
       "\\end{tabular}\n"
      ],
      "text/markdown": [
       "\n",
       "A grouped_df: 12 × 8\n",
       "\n",
       "| class &lt;chr&gt; | name &lt;chr&gt; | sex &lt;chr&gt; | chinese &lt;dbl&gt; | math &lt;dbl&gt; | english &lt;dbl&gt; | moral &lt;dbl&gt; | science &lt;dbl&gt; |\n",
       "|---|---|---|---|---|---|---|---|\n",
       "| 六1班 | 何娜   | 女 | 87 | 92 | 79 | 9 | 10 |\n",
       "| 六1班 | 黄才菊 | 女 | 95 | 77 | 75 | 8 |  9 |\n",
       "| 六1班 | 陈芳妹 | 女 | 79 | 87 | 66 | 9 | 10 |\n",
       "| 六1班 | 陈祝贞 | 女 | 76 | 79 | 67 | 8 | 10 |\n",
       "| 六1班 | 何小薇 | 女 | 83 | 73 | 65 | 8 |  9 |\n",
       "| 六1班 | 黄亦婷 | 女 | 77 | 63 | 54 | 8 | 10 |\n",
       "| 六1班 | 陈学勤 | 男 | 82 | 79 | 66 | 9 | 10 |\n",
       "| 六1班 | 雷旺   | 男 | 56 | 80 | 68 | 8 |  9 |\n",
       "| 六1班 | 陈欣越 | 男 | 57 | 80 | 60 | 9 |  9 |\n",
       "| 六2班 | 徐达政 | 男 | 90 | 86 | 72 | 9 | 10 |\n",
       "| 六2班 | 陈华健 | 男 | 92 | 84 | 70 | 9 | 10 |\n",
       "| 六2班 | 雷开茂 | 男 | 83 | 80 | 45 | 9 |  7 |\n",
       "\n"
      ],
      "text/plain": [
       "   class name   sex chinese math english moral science\n",
       "1  六1班 何娜   女  87      92   79      9     10     \n",
       "2  六1班 黄才菊 女  95      77   75      8      9     \n",
       "3  六1班 陈芳妹 女  79      87   66      9     10     \n",
       "4  六1班 陈祝贞 女  76      79   67      8     10     \n",
       "5  六1班 何小薇 女  83      73   65      8      9     \n",
       "6  六1班 黄亦婷 女  77      63   54      8     10     \n",
       "7  六1班 陈学勤 男  82      79   66      9     10     \n",
       "8  六1班 雷旺   男  56      80   68      8      9     \n",
       "9  六1班 陈欣越 男  57      80   60      9      9     \n",
       "10 六2班 徐达政 男  90      86   72      9     10     \n",
       "11 六2班 陈华健 男  92      84   70      9     10     \n",
       "12 六2班 雷开茂 男  83      80   45      9      7     "
      ]
     },
     "metadata": {},
     "output_type": "display_data"
    }
   ],
   "source": [
    "library(openxlsx)\n",
    "library(tidyverse)\n",
    "df <- read.xlsx(\"data/ExamDatas.xlsx\")\n",
    "df_grp <- group_by(df, sex)\n",
    "slice_head(df_grp, n = 6)"
   ]
  },
  {
   "cell_type": "markdown",
   "metadata": {},
   "source": [
    "可以用`group_keys()`函数对分组的键值进行查看："
   ]
  },
  {
   "cell_type": "code",
   "execution_count": 13,
   "metadata": {
    "vscode": {
     "languageId": "r"
    }
   },
   "outputs": [
    {
     "data": {
      "text/html": [
       "<table class=\"dataframe\">\n",
       "<caption>A tibble: 2 × 1</caption>\n",
       "<thead>\n",
       "\t<tr><th scope=col>sex</th></tr>\n",
       "\t<tr><th scope=col>&lt;chr&gt;</th></tr>\n",
       "</thead>\n",
       "<tbody>\n",
       "\t<tr><td>女</td></tr>\n",
       "\t<tr><td>男</td></tr>\n",
       "</tbody>\n",
       "</table>\n"
      ],
      "text/latex": [
       "A tibble: 2 × 1\n",
       "\\begin{tabular}{l}\n",
       " sex\\\\\n",
       " <chr>\\\\\n",
       "\\hline\n",
       "\t 女\\\\\n",
       "\t 男\\\\\n",
       "\\end{tabular}\n"
      ],
      "text/markdown": [
       "\n",
       "A tibble: 2 × 1\n",
       "\n",
       "| sex &lt;chr&gt; |\n",
       "|---|\n",
       "| 女 |\n",
       "| 男 |\n",
       "\n"
      ],
      "text/plain": [
       "  sex\n",
       "1 女 \n",
       "2 男 "
      ]
     },
     "metadata": {},
     "output_type": "display_data"
    }
   ],
   "source": [
    "group_keys(df_grp)"
   ]
  },
  {
   "cell_type": "markdown",
   "metadata": {},
   "source": [
    "可以用`ungroup()`取消分组"
   ]
  },
  {
   "cell_type": "markdown",
   "metadata": {},
   "source": [
    "真正可以实现对数据进行分组，并且将其分割为多个分组的函数如下："
   ]
  },
  {
   "cell_type": "markdown",
   "metadata": {},
   "source": [
    "`group_split()`函数可以根据分组列，生成一个列表。该列表的每个成分都是一个分组数据框："
   ]
  },
  {
   "cell_type": "code",
   "execution_count": 14,
   "metadata": {
    "vscode": {
     "languageId": "r"
    }
   },
   "outputs": [
    {
     "name": "stdout",
     "output_type": "stream",
     "text": [
      "<list_of<\n",
      "  tbl_df<\n",
      "    class  : character\n",
      "    name   : character\n",
      "    sex    : character\n",
      "    chinese: double\n",
      "    math   : double\n",
      "    english: double\n",
      "    moral  : double\n",
      "    science: double\n",
      "  >\n",
      ">[2]>\n",
      "[[1]]\n",
      "\u001b[90m# A tibble: 26 × 8\u001b[39m\n",
      "   class name   sex   chinese  math english moral science\n",
      "   \u001b[3m\u001b[90m<chr>\u001b[39m\u001b[23m \u001b[3m\u001b[90m<chr>\u001b[39m\u001b[23m  \u001b[3m\u001b[90m<chr>\u001b[39m\u001b[23m   \u001b[3m\u001b[90m<dbl>\u001b[39m\u001b[23m \u001b[3m\u001b[90m<dbl>\u001b[39m\u001b[23m   \u001b[3m\u001b[90m<dbl>\u001b[39m\u001b[23m \u001b[3m\u001b[90m<dbl>\u001b[39m\u001b[23m   \u001b[3m\u001b[90m<dbl>\u001b[39m\u001b[23m\n",
      "\u001b[90m 1\u001b[39m 六1班 何娜   女         87    92      79     9      10\n",
      "\u001b[90m 2\u001b[39m 六1班 黄才菊 女         95    77      75     8       9\n",
      "\u001b[90m 3\u001b[39m 六1班 陈芳妹 女         79    87      66     9      10\n",
      "\u001b[90m 4\u001b[39m 六1班 陈祝贞 女         76    79      67     8      10\n",
      "\u001b[90m 5\u001b[39m 六1班 何小薇 女         83    73      65     8       9\n",
      "\u001b[90m 6\u001b[39m 六1班 黄亦婷 女         77    63      54     8      10\n",
      "\u001b[90m 7\u001b[39m 六1班 陈媚   女         68    55      66     8       9\n",
      "\u001b[90m 8\u001b[39m 六2班 黄祖娜 女         94    88      75    10      10\n",
      "\u001b[90m 9\u001b[39m 六2班 徐雅琦 女         92    86      72    10       9\n",
      "\u001b[90m10\u001b[39m 六2班 杨远芸 女         93    80      68     9      10\n",
      "\u001b[90m# ℹ 16 more rows\u001b[39m\n",
      "\n",
      "[[2]]\n",
      "\u001b[90m# A tibble: 24 × 8\u001b[39m\n",
      "   class name   sex   chinese  math english moral science\n",
      "   \u001b[3m\u001b[90m<chr>\u001b[39m\u001b[23m \u001b[3m\u001b[90m<chr>\u001b[39m\u001b[23m  \u001b[3m\u001b[90m<chr>\u001b[39m\u001b[23m   \u001b[3m\u001b[90m<dbl>\u001b[39m\u001b[23m \u001b[3m\u001b[90m<dbl>\u001b[39m\u001b[23m   \u001b[3m\u001b[90m<dbl>\u001b[39m\u001b[23m \u001b[3m\u001b[90m<dbl>\u001b[39m\u001b[23m   \u001b[3m\u001b[90m<dbl>\u001b[39m\u001b[23m\n",
      "\u001b[90m 1\u001b[39m 六1班 陈学勤 男         82    79      66     9      10\n",
      "\u001b[90m 2\u001b[39m 六1班 雷旺   男         56    80      68     8       9\n",
      "\u001b[90m 3\u001b[39m 六1班 陈欣越 男         57    80      60     9       9\n",
      "\u001b[90m 4\u001b[39m 六2班 徐达政 男         90    86      72     9      10\n",
      "\u001b[90m 5\u001b[39m 六2班 陈华健 男         92    84      70     9      10\n",
      "\u001b[90m 6\u001b[39m 六2班 雷开茂 男         83    80      45     9       7\n",
      "\u001b[90m 7\u001b[39m 六2班 林师满 男         70    74      25     8      10\n",
      "\u001b[90m 8\u001b[39m 六2班 何深润 男         66    63      37    10      10\n",
      "\u001b[90m 9\u001b[39m 六2班 李永升 男         66    54      36     8      10\n",
      "\u001b[90m10\u001b[39m 六3班 雷  帆 男         78    56      66     4       4\n",
      "\u001b[90m# ℹ 14 more rows\u001b[39m\n",
      "\n"
     ]
    }
   ],
   "source": [
    "print(\n",
    "    group_split(df, sex)\n",
    ")"
   ]
  },
  {
   "cell_type": "markdown",
   "metadata": {},
   "source": [
    "如果说`group_split()`函数仍然只能生成列表数据，那么`group_nest()`函数更加一步到位：该函数将数据框分组（group_by()），再<span style = 'color:red'><strong>进行嵌套（nest）生成嵌套式数据框</strong></span>，该函数通常用于批量建模："
   ]
  },
  {
   "cell_type": "code",
   "execution_count": 15,
   "metadata": {
    "vscode": {
     "languageId": "r"
    }
   },
   "outputs": [
    {
     "name": "stdout",
     "output_type": "stream",
     "text": [
      "\u001b[90m# A tibble: 2 × 2\u001b[39m\n",
      "  sex                 data\n",
      "  \u001b[3m\u001b[90m<chr>\u001b[39m\u001b[23m \u001b[3m\u001b[90m<list<tibble[,7]>>\u001b[39m\u001b[23m\n",
      "\u001b[90m1\u001b[39m 女              \u001b[90m[26 × 7]\u001b[39m\n",
      "\u001b[90m2\u001b[39m 男              \u001b[90m[24 × 7]\u001b[39m\n"
     ]
    }
   ],
   "source": [
    "print(\n",
    "    group_nest(df, sex)\n",
    ")"
   ]
  },
  {
   "cell_type": "markdown",
   "metadata": {},
   "source": [
    "还有一些具有purrr风格的分组迭代函数，例如`group_map()`函数可以将.f参数指定的函数依次应用到**分组数据框.data**（已经经过group_by()操作过）的每个分组上，然后得到一个列表:\n",
    "```r\n",
    "group_map(.data, .f, ..., .keep = FALSE)\n",
    "```"
   ]
  },
  {
   "cell_type": "code",
   "execution_count": 16,
   "metadata": {
    "vscode": {
     "languageId": "r"
    }
   },
   "outputs": [
    {
     "data": {
      "text/html": [
       "<ol>\n",
       "\t<li><table class=\"dataframe\">\n",
       "<caption>A tibble: 2 × 7</caption>\n",
       "<thead>\n",
       "\t<tr><th scope=col>class</th><th scope=col>name</th><th scope=col>chinese</th><th scope=col>math</th><th scope=col>english</th><th scope=col>moral</th><th scope=col>science</th></tr>\n",
       "\t<tr><th scope=col>&lt;chr&gt;</th><th scope=col>&lt;chr&gt;</th><th scope=col>&lt;dbl&gt;</th><th scope=col>&lt;dbl&gt;</th><th scope=col>&lt;dbl&gt;</th><th scope=col>&lt;dbl&gt;</th><th scope=col>&lt;dbl&gt;</th></tr>\n",
       "</thead>\n",
       "<tbody>\n",
       "\t<tr><td>六1班</td><td>何娜  </td><td>87</td><td>92</td><td>79</td><td>9</td><td>10</td></tr>\n",
       "\t<tr><td>六1班</td><td>黄才菊</td><td>95</td><td>77</td><td>75</td><td>8</td><td> 9</td></tr>\n",
       "</tbody>\n",
       "</table>\n",
       "</li>\n",
       "\t<li><table class=\"dataframe\">\n",
       "<caption>A tibble: 2 × 7</caption>\n",
       "<thead>\n",
       "\t<tr><th scope=col>class</th><th scope=col>name</th><th scope=col>chinese</th><th scope=col>math</th><th scope=col>english</th><th scope=col>moral</th><th scope=col>science</th></tr>\n",
       "\t<tr><th scope=col>&lt;chr&gt;</th><th scope=col>&lt;chr&gt;</th><th scope=col>&lt;dbl&gt;</th><th scope=col>&lt;dbl&gt;</th><th scope=col>&lt;dbl&gt;</th><th scope=col>&lt;dbl&gt;</th><th scope=col>&lt;dbl&gt;</th></tr>\n",
       "</thead>\n",
       "<tbody>\n",
       "\t<tr><td>六1班</td><td>陈学勤</td><td>82</td><td>79</td><td>66</td><td>9</td><td>10</td></tr>\n",
       "\t<tr><td>六1班</td><td>雷旺  </td><td>56</td><td>80</td><td>68</td><td>8</td><td> 9</td></tr>\n",
       "</tbody>\n",
       "</table>\n",
       "</li>\n",
       "</ol>\n"
      ],
      "text/latex": [
       "\\begin{enumerate}\n",
       "\\item A tibble: 2 × 7\n",
       "\\begin{tabular}{lllllll}\n",
       " class & name & chinese & math & english & moral & science\\\\\n",
       " <chr> & <chr> & <dbl> & <dbl> & <dbl> & <dbl> & <dbl>\\\\\n",
       "\\hline\n",
       "\t 六1班 & 何娜   & 87 & 92 & 79 & 9 & 10\\\\\n",
       "\t 六1班 & 黄才菊 & 95 & 77 & 75 & 8 &  9\\\\\n",
       "\\end{tabular}\n",
       "\n",
       "\\item A tibble: 2 × 7\n",
       "\\begin{tabular}{lllllll}\n",
       " class & name & chinese & math & english & moral & science\\\\\n",
       " <chr> & <chr> & <dbl> & <dbl> & <dbl> & <dbl> & <dbl>\\\\\n",
       "\\hline\n",
       "\t 六1班 & 陈学勤 & 82 & 79 & 66 & 9 & 10\\\\\n",
       "\t 六1班 & 雷旺   & 56 & 80 & 68 & 8 &  9\\\\\n",
       "\\end{tabular}\n",
       "\n",
       "\\end{enumerate}\n"
      ],
      "text/markdown": [
       "1. \n",
       "A tibble: 2 × 7\n",
       "\n",
       "| class &lt;chr&gt; | name &lt;chr&gt; | chinese &lt;dbl&gt; | math &lt;dbl&gt; | english &lt;dbl&gt; | moral &lt;dbl&gt; | science &lt;dbl&gt; |\n",
       "|---|---|---|---|---|---|---|\n",
       "| 六1班 | 何娜   | 87 | 92 | 79 | 9 | 10 |\n",
       "| 六1班 | 黄才菊 | 95 | 77 | 75 | 8 |  9 |\n",
       "\n",
       "\n",
       "2. \n",
       "A tibble: 2 × 7\n",
       "\n",
       "| class &lt;chr&gt; | name &lt;chr&gt; | chinese &lt;dbl&gt; | math &lt;dbl&gt; | english &lt;dbl&gt; | moral &lt;dbl&gt; | science &lt;dbl&gt; |\n",
       "|---|---|---|---|---|---|---|\n",
       "| 六1班 | 陈学勤 | 82 | 79 | 66 | 9 | 10 |\n",
       "| 六1班 | 雷旺   | 56 | 80 | 68 | 8 |  9 |\n",
       "\n",
       "\n",
       "\n",
       "\n"
      ],
      "text/plain": [
       "[[1]]\n",
       "\u001b[90m# A tibble: 2 × 7\u001b[39m\n",
       "  class name   chinese  math english moral science\n",
       "  \u001b[3m\u001b[90m<chr>\u001b[39m\u001b[23m \u001b[3m\u001b[90m<chr>\u001b[39m\u001b[23m    \u001b[3m\u001b[90m<dbl>\u001b[39m\u001b[23m \u001b[3m\u001b[90m<dbl>\u001b[39m\u001b[23m   \u001b[3m\u001b[90m<dbl>\u001b[39m\u001b[23m \u001b[3m\u001b[90m<dbl>\u001b[39m\u001b[23m   \u001b[3m\u001b[90m<dbl>\u001b[39m\u001b[23m\n",
       "\u001b[90m1\u001b[39m 六1班 何娜        87    92      79     9      10\n",
       "\u001b[90m2\u001b[39m 六1班 黄才菊      95    77      75     8       9\n",
       "\n",
       "[[2]]\n",
       "\u001b[90m# A tibble: 2 × 7\u001b[39m\n",
       "  class name   chinese  math english moral science\n",
       "  \u001b[3m\u001b[90m<chr>\u001b[39m\u001b[23m \u001b[3m\u001b[90m<chr>\u001b[39m\u001b[23m    \u001b[3m\u001b[90m<dbl>\u001b[39m\u001b[23m \u001b[3m\u001b[90m<dbl>\u001b[39m\u001b[23m   \u001b[3m\u001b[90m<dbl>\u001b[39m\u001b[23m \u001b[3m\u001b[90m<dbl>\u001b[39m\u001b[23m   \u001b[3m\u001b[90m<dbl>\u001b[39m\u001b[23m\n",
       "\u001b[90m1\u001b[39m 六1班 陈学勤      82    79      66     9      10\n",
       "\u001b[90m2\u001b[39m 六1班 雷旺        56    80      68     8       9\n"
      ]
     },
     "metadata": {},
     "output_type": "display_data"
    }
   ],
   "source": [
    "df %>% \n",
    "group_by(sex) %>%  # 得到分组数据框\n",
    "group_map(~ head(.x, 2)) # 提取每个分组的前两个观测"
   ]
  },
  {
   "cell_type": "markdown",
   "metadata": {},
   "source": [
    "#### 分组修改"
   ]
  },
  {
   "cell_type": "markdown",
   "metadata": {},
   "source": [
    "当想分组并对每组数据进行操作时，应该优先采用“group_by() + mutate()”的思想，而不是“分割数据+循环迭代”。具体来说，一旦对数据框进行分组后。只需要考虑对一个分组（子数据框）做的操作该怎么实现，剩下的事情交给“group_by() + mutate()”即可。"
   ]
  },
  {
   "cell_type": "code",
   "execution_count": 21,
   "metadata": {
    "vscode": {
     "languageId": "r"
    }
   },
   "outputs": [
    {
     "data": {
      "text/html": [
       "<table class=\"dataframe\">\n",
       "<caption>A grouped_df: 6 × 4</caption>\n",
       "<thead>\n",
       "\t<tr><th scope=col>Date</th><th scope=col>Stock</th><th scope=col>Close</th><th scope=col>delta</th></tr>\n",
       "\t<tr><th scope=col>&lt;date&gt;</th><th scope=col>&lt;chr&gt;</th><th scope=col>&lt;dbl&gt;</th><th scope=col>&lt;dbl&gt;</th></tr>\n",
       "</thead>\n",
       "<tbody>\n",
       "\t<tr><td>2017-01-03</td><td>Google</td><td>786.14</td><td>       NA</td></tr>\n",
       "\t<tr><td>2017-01-03</td><td>Amazon</td><td>753.67</td><td>       NA</td></tr>\n",
       "\t<tr><td>2017-01-03</td><td>Apple </td><td>116.15</td><td>       NA</td></tr>\n",
       "\t<tr><td>2017-01-04</td><td>Google</td><td>786.90</td><td> 0.760009</td></tr>\n",
       "\t<tr><td>2017-01-04</td><td>Amazon</td><td>757.18</td><td> 3.510010</td></tr>\n",
       "\t<tr><td>2017-01-04</td><td>Apple </td><td>116.02</td><td>-0.130005</td></tr>\n",
       "</tbody>\n",
       "</table>\n"
      ],
      "text/latex": [
       "A grouped\\_df: 6 × 4\n",
       "\\begin{tabular}{llll}\n",
       " Date & Stock & Close & delta\\\\\n",
       " <date> & <chr> & <dbl> & <dbl>\\\\\n",
       "\\hline\n",
       "\t 2017-01-03 & Google & 786.14 &        NA\\\\\n",
       "\t 2017-01-03 & Amazon & 753.67 &        NA\\\\\n",
       "\t 2017-01-03 & Apple  & 116.15 &        NA\\\\\n",
       "\t 2017-01-04 & Google & 786.90 &  0.760009\\\\\n",
       "\t 2017-01-04 & Amazon & 757.18 &  3.510010\\\\\n",
       "\t 2017-01-04 & Apple  & 116.02 & -0.130005\\\\\n",
       "\\end{tabular}\n"
      ],
      "text/markdown": [
       "\n",
       "A grouped_df: 6 × 4\n",
       "\n",
       "| Date &lt;date&gt; | Stock &lt;chr&gt; | Close &lt;dbl&gt; | delta &lt;dbl&gt; |\n",
       "|---|---|---|---|\n",
       "| 2017-01-03 | Google | 786.14 |        NA |\n",
       "| 2017-01-03 | Amazon | 753.67 |        NA |\n",
       "| 2017-01-03 | Apple  | 116.15 |        NA |\n",
       "| 2017-01-04 | Google | 786.90 |  0.760009 |\n",
       "| 2017-01-04 | Amazon | 757.18 |  3.510010 |\n",
       "| 2017-01-04 | Apple  | 116.02 | -0.130005 |\n",
       "\n"
      ],
      "text/plain": [
       "  Date       Stock  Close  delta    \n",
       "1 2017-01-03 Google 786.14        NA\n",
       "2 2017-01-03 Amazon 753.67        NA\n",
       "3 2017-01-03 Apple  116.15        NA\n",
       "4 2017-01-04 Google 786.90  0.760009\n",
       "5 2017-01-04 Amazon 757.18  3.510010\n",
       "6 2017-01-04 Apple  116.02 -0.130005"
      ]
     },
     "metadata": {},
     "output_type": "display_data"
    }
   ],
   "source": [
    "load(\"data/stocks.rda\")\n",
    "stocks %>% \n",
    "group_by(Stock) %>% \n",
    "mutate(delta = Close - lag(Close)) %>% # 分别计算每种股票每天收盘价与开盘价的差值\n",
    "head()"
   ]
  },
  {
   "cell_type": "markdown",
   "metadata": {},
   "source": [
    "#### 分组筛选"
   ]
  },
  {
   "cell_type": "markdown",
   "metadata": {},
   "source": [
    "如果想要进行分组筛选：分别对每个分组，根据条件筛选行，再将结果合并到一起返回，那么使用“group_by() + filter()”的形式，这与上面的想法是一致的。"
   ]
  },
  {
   "cell_type": "code",
   "execution_count": 18,
   "metadata": {
    "vscode": {
     "languageId": "r"
    }
   },
   "outputs": [
    {
     "data": {
      "text/html": [
       "<table class=\"dataframe\">\n",
       "<caption>A grouped_df: 6 × 3</caption>\n",
       "<thead>\n",
       "\t<tr><th scope=col>Date</th><th scope=col>Stock</th><th scope=col>Close</th></tr>\n",
       "\t<tr><th scope=col>&lt;date&gt;</th><th scope=col>&lt;chr&gt;</th><th scope=col>&lt;dbl&gt;</th></tr>\n",
       "</thead>\n",
       "<tbody>\n",
       "\t<tr><td>2017-01-04</td><td>Google</td><td>786.90</td></tr>\n",
       "\t<tr><td>2017-01-04</td><td>Amazon</td><td>757.18</td></tr>\n",
       "\t<tr><td>2017-01-04</td><td>Apple </td><td>116.02</td></tr>\n",
       "\t<tr><td>2017-01-05</td><td>Google</td><td>794.02</td></tr>\n",
       "\t<tr><td>2017-01-05</td><td>Amazon</td><td>780.45</td></tr>\n",
       "\t<tr><td>2017-01-05</td><td>Apple </td><td>116.61</td></tr>\n",
       "</tbody>\n",
       "</table>\n"
      ],
      "text/latex": [
       "A grouped\\_df: 6 × 3\n",
       "\\begin{tabular}{lll}\n",
       " Date & Stock & Close\\\\\n",
       " <date> & <chr> & <dbl>\\\\\n",
       "\\hline\n",
       "\t 2017-01-04 & Google & 786.90\\\\\n",
       "\t 2017-01-04 & Amazon & 757.18\\\\\n",
       "\t 2017-01-04 & Apple  & 116.02\\\\\n",
       "\t 2017-01-05 & Google & 794.02\\\\\n",
       "\t 2017-01-05 & Amazon & 780.45\\\\\n",
       "\t 2017-01-05 & Apple  & 116.61\\\\\n",
       "\\end{tabular}\n"
      ],
      "text/markdown": [
       "\n",
       "A grouped_df: 6 × 3\n",
       "\n",
       "| Date &lt;date&gt; | Stock &lt;chr&gt; | Close &lt;dbl&gt; |\n",
       "|---|---|---|\n",
       "| 2017-01-04 | Google | 786.90 |\n",
       "| 2017-01-04 | Amazon | 757.18 |\n",
       "| 2017-01-04 | Apple  | 116.02 |\n",
       "| 2017-01-05 | Google | 794.02 |\n",
       "| 2017-01-05 | Amazon | 780.45 |\n",
       "| 2017-01-05 | Apple  | 116.61 |\n",
       "\n"
      ],
      "text/plain": [
       "  Date       Stock  Close \n",
       "1 2017-01-04 Google 786.90\n",
       "2 2017-01-04 Amazon 757.18\n",
       "3 2017-01-04 Apple  116.02\n",
       "4 2017-01-05 Google 794.02\n",
       "5 2017-01-05 Amazon 780.45\n",
       "6 2017-01-05 Apple  116.61"
      ]
     },
     "metadata": {},
     "output_type": "display_data"
    }
   ],
   "source": [
    "stocks %>% \n",
    "group_by(Stock) %>% \n",
    "filter(Close - lag(Close) / lag(Close) > 0.04)  %>% \n",
    "head()"
   ]
  },
  {
   "cell_type": "markdown",
   "metadata": {},
   "source": [
    "group_by()也可以与slice_*()连用，按照分组切片的方式筛选行。"
   ]
  },
  {
   "attachments": {},
   "cell_type": "markdown",
   "metadata": {},
   "source": [
    "#### 分组汇总"
   ]
  },
  {
   "attachments": {},
   "cell_type": "markdown",
   "metadata": {},
   "source": [
    "summarise()可以将数据框折叠成一行。如果不与`group_by()`一起使用，那么`summarise()`也就没什么大用。`group_by()`和`summarise()`的组合构成了使用dplyr包时最常用的操作之一：分组汇总。"
   ]
  },
  {
   "attachments": {},
   "cell_type": "markdown",
   "metadata": {},
   "source": [
    "#### 常用的聚合汇总函数"
   ]
  },
  {
   "cell_type": "markdown",
   "metadata": {},
   "source": [
    "计数\n",
    "1. 在分组后可以使用`n()`计数。或非缺失值的计数sum(!is_na())。又或者统计不重复数值`n_distinct()` 。\n",
    "2. 由于计数常用，dplyr提供了更方便的方法：直接使用`count()`函数作用于分组变量上。（不需要借助summarize函数，直接传入需要进行计数统计的字段）"
   ]
  },
  {
   "cell_type": "code",
   "execution_count": 19,
   "metadata": {
    "vscode": {
     "languageId": "r"
    }
   },
   "outputs": [
    {
     "data": {
      "text/html": [
       "<table class=\"dataframe\">\n",
       "<caption>A tibble: 6 × 2</caption>\n",
       "<thead>\n",
       "\t<tr><th scope=col>tailnum</th><th scope=col>count</th></tr>\n",
       "\t<tr><th scope=col>&lt;chr&gt;</th><th scope=col>&lt;int&gt;</th></tr>\n",
       "</thead>\n",
       "<tbody>\n",
       "\t<tr><td>D942DN</td><td>  4</td></tr>\n",
       "\t<tr><td>N0EGMQ</td><td>352</td></tr>\n",
       "\t<tr><td>N10156</td><td>145</td></tr>\n",
       "\t<tr><td>N102UW</td><td> 48</td></tr>\n",
       "\t<tr><td>N103US</td><td> 46</td></tr>\n",
       "\t<tr><td>N104UW</td><td> 46</td></tr>\n",
       "</tbody>\n",
       "</table>\n"
      ],
      "text/latex": [
       "A tibble: 6 × 2\n",
       "\\begin{tabular}{ll}\n",
       " tailnum & count\\\\\n",
       " <chr> & <int>\\\\\n",
       "\\hline\n",
       "\t D942DN &   4\\\\\n",
       "\t N0EGMQ & 352\\\\\n",
       "\t N10156 & 145\\\\\n",
       "\t N102UW &  48\\\\\n",
       "\t N103US &  46\\\\\n",
       "\t N104UW &  46\\\\\n",
       "\\end{tabular}\n"
      ],
      "text/markdown": [
       "\n",
       "A tibble: 6 × 2\n",
       "\n",
       "| tailnum &lt;chr&gt; | count &lt;int&gt; |\n",
       "|---|---|\n",
       "| D942DN |   4 |\n",
       "| N0EGMQ | 352 |\n",
       "| N10156 | 145 |\n",
       "| N102UW |  48 |\n",
       "| N103US |  46 |\n",
       "| N104UW |  46 |\n",
       "\n"
      ],
      "text/plain": [
       "  tailnum count\n",
       "1 D942DN    4  \n",
       "2 N0EGMQ  352  \n",
       "3 N10156  145  \n",
       "4 N102UW   48  \n",
       "5 N103US   46  \n",
       "6 N104UW   46  "
      ]
     },
     "metadata": {},
     "output_type": "display_data"
    }
   ],
   "source": [
    "library(tidyverse)\n",
    "library(nycflights13)\n",
    "data(\"flights\")\n",
    "filter(flights, !is.na(dep_delay), !is.na(arr_delay)) %>%\n",
    "  group_by(tailnum) %>%\n",
    "    summarize(\n",
    "      count = n()\n",
    "    ) %>% \n",
    "    head()"
   ]
  },
  {
   "cell_type": "code",
   "execution_count": 22,
   "metadata": {
    "vscode": {
     "languageId": "r"
    }
   },
   "outputs": [
    {
     "data": {
      "text/html": [
       "<table class=\"dataframe\">\n",
       "<caption>A tibble: 6 × 2</caption>\n",
       "<thead>\n",
       "\t<tr><th scope=col>tailnum</th><th scope=col>n</th></tr>\n",
       "\t<tr><th scope=col>&lt;chr&gt;</th><th scope=col>&lt;int&gt;</th></tr>\n",
       "</thead>\n",
       "<tbody>\n",
       "\t<tr><td>D942DN</td><td>  4</td></tr>\n",
       "\t<tr><td>N0EGMQ</td><td>352</td></tr>\n",
       "\t<tr><td>N10156</td><td>145</td></tr>\n",
       "\t<tr><td>N102UW</td><td> 48</td></tr>\n",
       "\t<tr><td>N103US</td><td> 46</td></tr>\n",
       "\t<tr><td>N104UW</td><td> 46</td></tr>\n",
       "</tbody>\n",
       "</table>\n"
      ],
      "text/latex": [
       "A tibble: 6 × 2\n",
       "\\begin{tabular}{ll}\n",
       " tailnum & n\\\\\n",
       " <chr> & <int>\\\\\n",
       "\\hline\n",
       "\t D942DN &   4\\\\\n",
       "\t N0EGMQ & 352\\\\\n",
       "\t N10156 & 145\\\\\n",
       "\t N102UW &  48\\\\\n",
       "\t N103US &  46\\\\\n",
       "\t N104UW &  46\\\\\n",
       "\\end{tabular}\n"
      ],
      "text/markdown": [
       "\n",
       "A tibble: 6 × 2\n",
       "\n",
       "| tailnum &lt;chr&gt; | n &lt;int&gt; |\n",
       "|---|---|\n",
       "| D942DN |   4 |\n",
       "| N0EGMQ | 352 |\n",
       "| N10156 | 145 |\n",
       "| N102UW |  48 |\n",
       "| N103US |  46 |\n",
       "| N104UW |  46 |\n",
       "\n"
      ],
      "text/plain": [
       "  tailnum n  \n",
       "1 D942DN    4\n",
       "2 N0EGMQ  352\n",
       "3 N10156  145\n",
       "4 N102UW   48\n",
       "5 N103US   46\n",
       "6 N104UW   46"
      ]
     },
     "metadata": {},
     "output_type": "display_data"
    }
   ],
   "source": [
    "filter(flights, !is.na(dep_delay), !is.na(arr_delay)) %>%\n",
    "  count(tailnum) %>%\n",
    "  head()\n",
    "# 按照tailnum列进行分组计数"
   ]
  },
  {
   "cell_type": "markdown",
   "metadata": {},
   "source": [
    "分散程度\n",
    "1. sd()"
   ]
  },
  {
   "cell_type": "markdown",
   "metadata": {},
   "source": [
    "中心化程度\n",
    "1. mean()\n",
    "2. median()"
   ]
  },
  {
   "cell_type": "markdown",
   "metadata": {},
   "source": [
    "范围\n",
    "1. min()\n",
    "2. max()\n",
    "3. median()"
   ]
  },
  {
   "cell_type": "markdown",
   "metadata": {},
   "source": [
    "有一个小技巧，当mean()和sum()括号里为逻辑判断式时，此时求均值和求和表示符合逻辑判断的个数和比例"
   ]
  },
  {
   "cell_type": "code",
   "execution_count": null,
   "metadata": {
    "vscode": {
     "languageId": "r"
    }
   },
   "outputs": [
    {
     "name": "stderr",
     "output_type": "stream",
     "text": [
      "\u001b[1m\u001b[22m`summarise()` has grouped output by 'year', 'month'. You can override using the\n",
      "`.groups` argument.\n"
     ]
    },
    {
     "name": "stdout",
     "output_type": "stream",
     "text": [
      "\u001b[90m# A tibble: 6 × 5\u001b[39m\n",
      "\u001b[90m# Groups:   year, month [1]\u001b[39m\n",
      "   year month   day n_early hour_perc\n",
      "  \u001b[3m\u001b[90m<int>\u001b[39m\u001b[23m \u001b[3m\u001b[90m<int>\u001b[39m\u001b[23m \u001b[3m\u001b[90m<int>\u001b[39m\u001b[23m   \u001b[3m\u001b[90m<int>\u001b[39m\u001b[23m     \u001b[3m\u001b[90m<dbl>\u001b[39m\u001b[23m\n",
      "\u001b[90m1\u001b[39m  \u001b[4m2\u001b[24m013     1     1       0    0.072\u001b[4m2\u001b[24m\n",
      "\u001b[90m2\u001b[39m  \u001b[4m2\u001b[24m013     1     2       3    0.085\u001b[4m1\u001b[24m\n",
      "\u001b[90m3\u001b[39m  \u001b[4m2\u001b[24m013     1     3       4    0.056\u001b[4m7\u001b[24m\n",
      "\u001b[90m4\u001b[39m  \u001b[4m2\u001b[24m013     1     4       3    0.039\u001b[4m6\u001b[24m\n",
      "\u001b[90m5\u001b[39m  \u001b[4m2\u001b[24m013     1     5       3    0.034\u001b[4m9\u001b[24m\n",
      "\u001b[90m6\u001b[39m  \u001b[4m2\u001b[24m013     1     6       2    0.047\u001b[4m0\u001b[24m\n"
     ]
    }
   ],
   "source": [
    "sum1 <- filter(flights, !is.na(dep_delay), !is.na(arr_delay)) %>%\n",
    "  group_by(year, month, day) %>%\n",
    "  summarize(\n",
    "    n_early = sum(dep_time < 500),\n",
    "    hour_perc = mean(arr_delay > 60)\n",
    "  ) %>%\n",
    "  head()\n",
    "print(sum1)"
   ]
  },
  {
   "cell_type": "markdown",
   "metadata": {},
   "source": [
    "在这里有个提示信息，这是一个细节：当我们使用`group_by()`函数与`summarise()`的时候，`summarise()`函数返回的数据框仍是分组的数据框，且输出的数据框会移除最后一个分组变量，如果要解除分组变成普通的数据框，可以设置`.groups`参数："
   ]
  },
  {
   "cell_type": "code",
   "execution_count": null,
   "metadata": {
    "vscode": {
     "languageId": "r"
    }
   },
   "outputs": [
    {
     "data": {
      "text/html": [
       "<table class=\"dataframe\">\n",
       "<caption>A tibble: 1 × 2</caption>\n",
       "<thead>\n",
       "\t<tr><th scope=col>year</th><th scope=col>month</th></tr>\n",
       "\t<tr><th scope=col>&lt;int&gt;</th><th scope=col>&lt;int&gt;</th></tr>\n",
       "</thead>\n",
       "<tbody>\n",
       "\t<tr><td>2013</td><td>1</td></tr>\n",
       "</tbody>\n",
       "</table>\n"
      ],
      "text/latex": [
       "A tibble: 1 × 2\n",
       "\\begin{tabular}{ll}\n",
       " year & month\\\\\n",
       " <int> & <int>\\\\\n",
       "\\hline\n",
       "\t 2013 & 1\\\\\n",
       "\\end{tabular}\n"
      ],
      "text/markdown": [
       "\n",
       "A tibble: 1 × 2\n",
       "\n",
       "| year &lt;int&gt; | month &lt;int&gt; |\n",
       "|---|---|\n",
       "| 2013 | 1 |\n",
       "\n"
      ],
      "text/plain": [
       "  year month\n",
       "1 2013 1    "
      ]
     },
     "metadata": {},
     "output_type": "display_data"
    }
   ],
   "source": [
    "group_keys(sum1)"
   ]
  },
  {
   "cell_type": "code",
   "execution_count": null,
   "metadata": {
    "vscode": {
     "languageId": "r"
    }
   },
   "outputs": [
    {
     "name": "stdout",
     "output_type": "stream",
     "text": [
      "\u001b[90m# A tibble: 6 × 5\u001b[39m\n",
      "   year month   day n_early hour_perc\n",
      "  \u001b[3m\u001b[90m<int>\u001b[39m\u001b[23m \u001b[3m\u001b[90m<int>\u001b[39m\u001b[23m \u001b[3m\u001b[90m<int>\u001b[39m\u001b[23m   \u001b[3m\u001b[90m<int>\u001b[39m\u001b[23m     \u001b[3m\u001b[90m<dbl>\u001b[39m\u001b[23m\n",
      "\u001b[90m1\u001b[39m  \u001b[4m2\u001b[24m013     1     1       0    0.072\u001b[4m2\u001b[24m\n",
      "\u001b[90m2\u001b[39m  \u001b[4m2\u001b[24m013     1     2       3    0.085\u001b[4m1\u001b[24m\n",
      "\u001b[90m3\u001b[39m  \u001b[4m2\u001b[24m013     1     3       4    0.056\u001b[4m7\u001b[24m\n",
      "\u001b[90m4\u001b[39m  \u001b[4m2\u001b[24m013     1     4       3    0.039\u001b[4m6\u001b[24m\n",
      "\u001b[90m5\u001b[39m  \u001b[4m2\u001b[24m013     1     5       3    0.034\u001b[4m9\u001b[24m\n",
      "\u001b[90m6\u001b[39m  \u001b[4m2\u001b[24m013     1     6       2    0.047\u001b[4m0\u001b[24m\n"
     ]
    }
   ],
   "source": [
    "sum2 <- filter(flights, !is.na(dep_delay), !is.na(arr_delay)) %>%\n",
    "  group_by(year, month, day) %>%\n",
    "  summarize(\n",
    "    n_early = sum(dep_time < 500),\n",
    "    hour_perc = mean(arr_delay > 60),\n",
    "    .groups = \"drop\"\n",
    "  ) %>%\n",
    "  head()\n",
    "print(sum2)"
   ]
  },
  {
   "cell_type": "code",
   "execution_count": null,
   "metadata": {
    "vscode": {
     "languageId": "r"
    }
   },
   "outputs": [
    {
     "data": {
      "text/html": [],
      "text/latex": [],
      "text/markdown": [],
      "text/plain": [
       " \n",
       "1"
      ]
     },
     "metadata": {},
     "output_type": "display_data"
    }
   ],
   "source": [
    "group_keys(sum2) # 不再有分组键值"
   ]
  },
  {
   "cell_type": "markdown",
   "metadata": {},
   "source": [
    "### 使用across()函数对多列进行数据转换"
   ]
  },
  {
   "cell_type": "markdown",
   "metadata": {},
   "source": [
    "之前在讲述选择列时，利用的函数是`select()`。而`across()`函数既可以对列进行选择，也可以将函数应用到选择的列上。恰如其名，`across()`函数让零个/一个/多个函数**穿过**所选择的列。"
   ]
  },
  {
   "cell_type": "markdown",
   "metadata": {},
   "source": [
    "```r\n",
    "across(.cols, .fns, ..., .names = NULL, .unpack = FALSE)\n",
    "```"
   ]
  },
  {
   "cell_type": "markdown",
   "metadata": {},
   "source": [
    "其参数：\n",
    "- `cols`：要转换的列。\n",
    "- `.fns`：要应用于每个选择列的函数。可能的值包括：\n",
    "    - 一个系统函数，例如mean。\n",
    "    - purrr-style的lambda匿名函数，例如~ mean(.x, na.rm = TRUE)。\n",
    "    - 由系统函数或lambda匿名函数组成的命名列表，例如list(mean = mean, n_miss = ~ sum(is.na(.x)))。<span style = 'color:red'><strong>列表中的每个函数都将应用于每个列</strong></span>，并且输出使用`.names`中的glue规范将函数名和列名结合起来进行命名。\n",
    "- `.names`：描述如何命名输出列的glue规范。它可以使用{.col}表示所选列名，使用{.fn}表示正在应用的函数名。默认对于<span style = 'color:red'><strong>单个函数情况，列名等效于\"{.col}\"（所以使用单个函数时，计算的新列会代替旧列）</strong></span>，对于使用函数列表的情况，列名等效于\"{.col}_{.fn}\"。"
   ]
  },
  {
   "cell_type": "markdown",
   "metadata": {},
   "source": [
    "across()函数可以与mutate()，summarize()连用。也可以与group_by()，count()，distinct()函数连用，但此时.fns参数为NULL，<span style = 'color:red'><strong>只起到选择列的作用</strong></span>。"
   ]
  },
  {
   "cell_type": "markdown",
   "metadata": {},
   "source": [
    "#### 与mutate()结合"
   ]
  },
  {
   "cell_type": "markdown",
   "metadata": {},
   "source": [
    "这样可以通过函数实现一个或少数列数据的更新转换，且在原数据框的基础上进行修改。"
   ]
  },
  {
   "cell_type": "code",
   "execution_count": null,
   "metadata": {
    "vscode": {
     "languageId": "r"
    }
   },
   "outputs": [
    {
     "name": "stdout",
     "output_type": "stream",
     "text": [
      "\u001b[90m# A tibble: 6 × 5\u001b[39m\n",
      "  Sepal.Length Sepal.Width Petal.Length Petal.Width Species\n",
      "  \u001b[3m\u001b[90m<chr>\u001b[39m\u001b[23m        \u001b[3m\u001b[90m<chr>\u001b[39m\u001b[23m              \u001b[3m\u001b[90m<dbl>\u001b[39m\u001b[23m       \u001b[3m\u001b[90m<dbl>\u001b[39m\u001b[23m \u001b[3m\u001b[90m<fct>\u001b[39m\u001b[23m  \n",
      "\u001b[90m1\u001b[39m long         middle               1.4         0.2 setosa \n",
      "\u001b[90m2\u001b[39m long         middle               1.4         0.2 setosa \n",
      "\u001b[90m3\u001b[39m long         middle               1.3         0.2 setosa \n",
      "\u001b[90m4\u001b[39m long         middle               1.5         0.2 setosa \n",
      "\u001b[90m5\u001b[39m long         middle               1.4         0.2 setosa \n",
      "\u001b[90m6\u001b[39m long         middle               1.7         0.4 setosa \n"
     ]
    }
   ],
   "source": [
    "library(tidyverse)\n",
    "data1 <- as_tibble(iris) %>%\n",
    "  mutate(\n",
    "    across(Sepal.Length:Sepal.Width,\n",
    "           ~ case_when(\n",
    "             .x > 4 ~ \"long\",\n",
    "             between(.x, 2, 4) ~ \"middle\",\n",
    "             .x < 2 ~ \"short\",\n",
    "             .default = as.character(\"identified\")\n",
    "           ))\n",
    "  ) %>%\n",
    "  slice_head(n = 6)\n",
    "print(data1)\n",
    "# 当.fn只有一个时，不使用.names参数会在原列上进行修改，不会生成新列，反之。当.fn不止一个，用list表示时，不能使用.names参数。"
   ]
  },
  {
   "cell_type": "markdown",
   "metadata": {},
   "source": [
    "#### 与summarise()结合"
   ]
  },
  {
   "cell_type": "markdown",
   "metadata": {},
   "source": [
    "summarise()函数配合across()函数可以对所选择的列进行汇总。这样做的好处是可以借助辅助选择器或判断条件选择多列，还能在这些列上同时执行多个函数做多种汇总（只需将函数放入一个列表中即可）："
   ]
  },
  {
   "cell_type": "code",
   "execution_count": null,
   "metadata": {
    "vscode": {
     "languageId": "r"
    }
   },
   "outputs": [
    {
     "name": "stdout",
     "output_type": "stream",
     "text": [
      "\u001b[90m# A tibble: 5 × 16\u001b[39m\n",
      "  class chinese_max chinese_min chinese_mean math_max math_min math_mean\n",
      "  \u001b[3m\u001b[90m<chr>\u001b[39m\u001b[23m       \u001b[3m\u001b[90m<dbl>\u001b[39m\u001b[23m       \u001b[3m\u001b[90m<dbl>\u001b[39m\u001b[23m        \u001b[3m\u001b[90m<dbl>\u001b[39m\u001b[23m    \u001b[3m\u001b[90m<dbl>\u001b[39m\u001b[23m    \u001b[3m\u001b[90m<dbl>\u001b[39m\u001b[23m     \u001b[3m\u001b[90m<dbl>\u001b[39m\u001b[23m\n",
      "\u001b[90m1\u001b[39m 六1班          95          56         76         92       55      76.5\n",
      "\u001b[90m2\u001b[39m 六2班          94          66         83.6       88       41      73.6\n",
      "\u001b[90m3\u001b[39m 六3班          80          44         68.5       69       18      37  \n",
      "\u001b[90m4\u001b[39m 六4班          92          72         85         94       54      77.1\n",
      "\u001b[90m5\u001b[39m 六5班          88          58         72.6       89       59      72  \n",
      "\u001b[90m# ℹ 9 more variables: english_max <dbl>, english_min <dbl>, english_mean <dbl>,\u001b[39m\n",
      "\u001b[90m#   moral_max <dbl>, moral_min <dbl>, moral_mean <dbl>, science_max <dbl>,\u001b[39m\n",
      "\u001b[90m#   science_min <dbl>, science_mean <dbl>\u001b[39m\n"
     ]
    }
   ],
   "source": [
    "library(openxlsx)\n",
    "library(tidyverse)\n",
    "df <- read.xlsx(\"data/ExamDatas.xlsx\")\n",
    "sum.result <- df %>%\n",
    "  group_by(class) %>%\n",
    "  summarise(across(\n",
    "    where(is.numeric),\n",
    "    list(max = max, min = min, mean = mean)\n",
    "  ))\n",
    "print(head(sum.result))"
   ]
  },
  {
   "cell_type": "markdown",
   "metadata": {},
   "source": [
    "#### 与reframe()结合"
   ]
  },
  {
   "cell_type": "markdown",
   "metadata": {},
   "source": [
    "mutate()函数在原数据框的基础上进行列的数据更新与转换，这对所有列的数据转换和列重命名并不友好。需要在新的数据框上进行操作，reframe()函数是个不错的选择，尽管它仍处于实验阶段。summarise()有同样的效果，但它更多地应用于分组数据后的数据创建。reframe()函数并不会返回分组汇总后的值，所以当需要应用复杂函数且不返回单个汇总值时，reframe()可能特别有帮助。"
   ]
  },
  {
   "cell_type": "code",
   "execution_count": null,
   "metadata": {
    "vscode": {
     "languageId": "r"
    }
   },
   "outputs": [
    {
     "name": "stderr",
     "output_type": "stream",
     "text": [
      "\n",
      "Attaching package: 'scales'\n",
      "\n",
      "\n",
      "The following object is masked from 'package:purrr':\n",
      "\n",
      "    discard\n",
      "\n",
      "\n",
      "The following object is masked from 'package:readr':\n",
      "\n",
      "    col_factor\n",
      "\n",
      "\n"
     ]
    },
    {
     "name": "stdout",
     "output_type": "stream",
     "text": [
      "\u001b[90m# A tibble: 10 × 10\u001b[39m\n",
      "   re_mpg re_cyl re_disp  re_hp re_drat re_wt re_qsec re_vs re_am re_gear\n",
      "    \u001b[3m\u001b[90m<dbl>\u001b[39m\u001b[23m  \u001b[3m\u001b[90m<dbl>\u001b[39m\u001b[23m   \u001b[3m\u001b[90m<dbl>\u001b[39m\u001b[23m  \u001b[3m\u001b[90m<dbl>\u001b[39m\u001b[23m   \u001b[3m\u001b[90m<dbl>\u001b[39m\u001b[23m \u001b[3m\u001b[90m<dbl>\u001b[39m\u001b[23m   \u001b[3m\u001b[90m<dbl>\u001b[39m\u001b[23m \u001b[3m\u001b[90m<dbl>\u001b[39m\u001b[23m \u001b[3m\u001b[90m<dbl>\u001b[39m\u001b[23m   \u001b[3m\u001b[90m<dbl>\u001b[39m\u001b[23m\n",
      "\u001b[90m 1\u001b[39m  0.451    0.5  0.222  0.205    0.525 0.283   0.233     0     1     0.5\n",
      "\u001b[90m 2\u001b[39m  0.451    0.5  0.222  0.205    0.525 0.348   0.3       0     1     0.5\n",
      "\u001b[90m 3\u001b[39m  0.528    0    0.092\u001b[4m0\u001b[24m 0.145    0.502 0.206   0.489     1     1     0.5\n",
      "\u001b[90m 4\u001b[39m  0.468    0.5  0.466  0.205    0.147 0.435   0.588     1     0     0  \n",
      "\u001b[90m 5\u001b[39m  0.353    1    0.721  0.435    0.180 0.493   0.3       0     0     0  \n",
      "\u001b[90m 6\u001b[39m  0.328    0.5  0.384  0.187    0     0.498   0.681     1     0     0  \n",
      "\u001b[90m 7\u001b[39m  0.166    1    0.721  0.682    0.207 0.526   0.160     0     0     0  \n",
      "\u001b[90m 8\u001b[39m  0.596    0    0.189  0.035\u001b[4m3\u001b[24m   0.429 0.429   0.655     1     0     0.5\n",
      "\u001b[90m 9\u001b[39m  0.528    0    0.174  0.152    0.535 0.419   1         1     0     0.5\n",
      "\u001b[90m10\u001b[39m  0.374    0.5  0.241  0.251    0.535 0.493   0.452     1     0     0.5\n"
     ]
    }
   ],
   "source": [
    "library(tidyverse)\n",
    "library(scales)\n",
    "data2 <- mtcars %>% \n",
    "  as_tibble(rownames = \"group\") %>% \n",
    "    reframe(across(-group, rescale, .names = \"re_{.col}\")) %>% \n",
    "        slice_head(n = 10) %>% \n",
    "            select(1:10)\n",
    "print(data2)"
   ]
  },
  {
   "cell_type": "markdown",
   "metadata": {},
   "source": [
    "### 使用join进行数据的连接"
   ]
  },
  {
   "cell_type": "markdown",
   "metadata": {},
   "source": [
    "数据分析经常会涉及相互关联的多个数据表。一个项目的数据通常是若干数据表分别存放的，它们之间通过“键”连接在一起，根据数据分析的需要，通过键匹配进行数据的连接。键列（可以不止一列）能够唯一识别自己或他人的数据表的每一个观测（或样本）。dplyr包提供了一系列类似SQL语法的函数，可以很方便地操作关系数据。"
   ]
  },
  {
   "cell_type": "markdown",
   "metadata": {},
   "source": [
    "#### 根据值匹配合并数据框"
   ]
  },
  {
   "cell_type": "markdown",
   "metadata": {},
   "source": [
    "有六种最常用的合并：**左连接，右连接，全连接，内连接，半连接，反连接**。前四种连接又称为**修改连接**，后两种连接又叫做**过滤连接**。而修改连接中，前三种：**左连接，右连接，全连接**，又叫做**外连接**。"
   ]
  },
  {
   "cell_type": "markdown",
   "metadata": {},
   "source": [
    "```r\n",
    "left_join(x, y, by)\n",
    "right_join(x, y, by)\n",
    "full_join(x, y, by)\n",
    "inner_join(x, y, by)\n",
    "semi_join(x, y, by)\n",
    "anti_join(x, y, by)\n",
    "```"
   ]
  },
  {
   "cell_type": "markdown",
   "metadata": {},
   "source": [
    "六种语法的主要参数如上。对于by参数的使用，有一些细节：若两个表根据一个键列进行匹配且键列名称相同，则令`by = \"name\"`即可（相当于x$name连接到y$name）。若键列名称不同，用`by = c(\"name1\" = \"name2\")`的形式（相当于x$name1连接到y$name2）。若根据多个键列进行匹配且键列名称相同，则令`by = c(\"name1\", \"name2\")`即可（相当于x$name1连接到y$name1和x$name2来连接到y$name2）。若不同，用`by = c(\"name1\" = \"name3\", \"name2\" = \"name4\")`"
   ]
  },
  {
   "cell_type": "code",
   "execution_count": 3,
   "metadata": {
    "vscode": {
     "languageId": "r"
    }
   },
   "outputs": [
    {
     "data": {
      "text/html": [
       "<table class=\"dataframe\">\n",
       "<caption>A tibble: 3 × 2</caption>\n",
       "<thead>\n",
       "\t<tr><th scope=col>name</th><th scope=col>band</th></tr>\n",
       "\t<tr><th scope=col>&lt;chr&gt;</th><th scope=col>&lt;chr&gt;</th></tr>\n",
       "</thead>\n",
       "<tbody>\n",
       "\t<tr><td>Mick</td><td>Stones </td></tr>\n",
       "\t<tr><td>John</td><td>Beatles</td></tr>\n",
       "\t<tr><td>Paul</td><td>Beatles</td></tr>\n",
       "</tbody>\n",
       "</table>\n"
      ],
      "text/latex": [
       "A tibble: 3 × 2\n",
       "\\begin{tabular}{ll}\n",
       " name & band\\\\\n",
       " <chr> & <chr>\\\\\n",
       "\\hline\n",
       "\t Mick & Stones \\\\\n",
       "\t John & Beatles\\\\\n",
       "\t Paul & Beatles\\\\\n",
       "\\end{tabular}\n"
      ],
      "text/markdown": [
       "\n",
       "A tibble: 3 × 2\n",
       "\n",
       "| name &lt;chr&gt; | band &lt;chr&gt; |\n",
       "|---|---|\n",
       "| Mick | Stones  |\n",
       "| John | Beatles |\n",
       "| Paul | Beatles |\n",
       "\n"
      ],
      "text/plain": [
       "  name band   \n",
       "1 Mick Stones \n",
       "2 John Beatles\n",
       "3 Paul Beatles"
      ]
     },
     "metadata": {},
     "output_type": "display_data"
    },
    {
     "data": {
      "text/html": [
       "<table class=\"dataframe\">\n",
       "<caption>A tibble: 3 × 2</caption>\n",
       "<thead>\n",
       "\t<tr><th scope=col>name</th><th scope=col>plays</th></tr>\n",
       "\t<tr><th scope=col>&lt;chr&gt;</th><th scope=col>&lt;chr&gt;</th></tr>\n",
       "</thead>\n",
       "<tbody>\n",
       "\t<tr><td>John </td><td>guitar</td></tr>\n",
       "\t<tr><td>Paul </td><td>bass  </td></tr>\n",
       "\t<tr><td>Keith</td><td>guitar</td></tr>\n",
       "</tbody>\n",
       "</table>\n"
      ],
      "text/latex": [
       "A tibble: 3 × 2\n",
       "\\begin{tabular}{ll}\n",
       " name & plays\\\\\n",
       " <chr> & <chr>\\\\\n",
       "\\hline\n",
       "\t John  & guitar\\\\\n",
       "\t Paul  & bass  \\\\\n",
       "\t Keith & guitar\\\\\n",
       "\\end{tabular}\n"
      ],
      "text/markdown": [
       "\n",
       "A tibble: 3 × 2\n",
       "\n",
       "| name &lt;chr&gt; | plays &lt;chr&gt; |\n",
       "|---|---|\n",
       "| John  | guitar |\n",
       "| Paul  | bass   |\n",
       "| Keith | guitar |\n",
       "\n"
      ],
      "text/plain": [
       "  name  plays \n",
       "1 John  guitar\n",
       "2 Paul  bass  \n",
       "3 Keith guitar"
      ]
     },
     "metadata": {},
     "output_type": "display_data"
    }
   ],
   "source": [
    "library(tidyverse)\n",
    "band <- band_members\n",
    "instrument <- band_instruments\n",
    "band\n",
    "instrument"
   ]
  },
  {
   "cell_type": "markdown",
   "metadata": {},
   "source": [
    "##### 左连接left_join()"
   ]
  },
  {
   "cell_type": "markdown",
   "metadata": {},
   "source": [
    "左连接保留x的所有行，与匹配的y中的列合并。"
   ]
  },
  {
   "cell_type": "code",
   "execution_count": 4,
   "metadata": {
    "vscode": {
     "languageId": "r"
    }
   },
   "outputs": [
    {
     "data": {
      "text/html": [
       "<table class=\"dataframe\">\n",
       "<caption>A tibble: 3 × 3</caption>\n",
       "<thead>\n",
       "\t<tr><th scope=col>name</th><th scope=col>band</th><th scope=col>plays</th></tr>\n",
       "\t<tr><th scope=col>&lt;chr&gt;</th><th scope=col>&lt;chr&gt;</th><th scope=col>&lt;chr&gt;</th></tr>\n",
       "</thead>\n",
       "<tbody>\n",
       "\t<tr><td>Mick</td><td>Stones </td><td>NA    </td></tr>\n",
       "\t<tr><td>John</td><td>Beatles</td><td>guitar</td></tr>\n",
       "\t<tr><td>Paul</td><td>Beatles</td><td>bass  </td></tr>\n",
       "</tbody>\n",
       "</table>\n"
      ],
      "text/latex": [
       "A tibble: 3 × 3\n",
       "\\begin{tabular}{lll}\n",
       " name & band & plays\\\\\n",
       " <chr> & <chr> & <chr>\\\\\n",
       "\\hline\n",
       "\t Mick & Stones  & NA    \\\\\n",
       "\t John & Beatles & guitar\\\\\n",
       "\t Paul & Beatles & bass  \\\\\n",
       "\\end{tabular}\n"
      ],
      "text/markdown": [
       "\n",
       "A tibble: 3 × 3\n",
       "\n",
       "| name &lt;chr&gt; | band &lt;chr&gt; | plays &lt;chr&gt; |\n",
       "|---|---|---|\n",
       "| Mick | Stones  | NA     |\n",
       "| John | Beatles | guitar |\n",
       "| Paul | Beatles | bass   |\n",
       "\n"
      ],
      "text/plain": [
       "  name band    plays \n",
       "1 Mick Stones  NA    \n",
       "2 John Beatles guitar\n",
       "3 Paul Beatles bass  "
      ]
     },
     "metadata": {},
     "output_type": "display_data"
    }
   ],
   "source": [
    "band %>%\n",
    "  left_join(instrument, by = \"name\")"
   ]
  },
  {
   "cell_type": "markdown",
   "metadata": {},
   "source": [
    "##### 右连接right_join()"
   ]
  },
  {
   "cell_type": "markdown",
   "metadata": {},
   "source": [
    "右连接保留y的所有行，与匹配的x中的列合并。"
   ]
  },
  {
   "cell_type": "code",
   "execution_count": 5,
   "metadata": {
    "vscode": {
     "languageId": "r"
    }
   },
   "outputs": [
    {
     "data": {
      "text/html": [
       "<table class=\"dataframe\">\n",
       "<caption>A tibble: 3 × 3</caption>\n",
       "<thead>\n",
       "\t<tr><th scope=col>name</th><th scope=col>band</th><th scope=col>plays</th></tr>\n",
       "\t<tr><th scope=col>&lt;chr&gt;</th><th scope=col>&lt;chr&gt;</th><th scope=col>&lt;chr&gt;</th></tr>\n",
       "</thead>\n",
       "<tbody>\n",
       "\t<tr><td>John </td><td>Beatles</td><td>guitar</td></tr>\n",
       "\t<tr><td>Paul </td><td>Beatles</td><td>bass  </td></tr>\n",
       "\t<tr><td>Keith</td><td>NA     </td><td>guitar</td></tr>\n",
       "</tbody>\n",
       "</table>\n"
      ],
      "text/latex": [
       "A tibble: 3 × 3\n",
       "\\begin{tabular}{lll}\n",
       " name & band & plays\\\\\n",
       " <chr> & <chr> & <chr>\\\\\n",
       "\\hline\n",
       "\t John  & Beatles & guitar\\\\\n",
       "\t Paul  & Beatles & bass  \\\\\n",
       "\t Keith & NA      & guitar\\\\\n",
       "\\end{tabular}\n"
      ],
      "text/markdown": [
       "\n",
       "A tibble: 3 × 3\n",
       "\n",
       "| name &lt;chr&gt; | band &lt;chr&gt; | plays &lt;chr&gt; |\n",
       "|---|---|---|\n",
       "| John  | Beatles | guitar |\n",
       "| Paul  | Beatles | bass   |\n",
       "| Keith | NA      | guitar |\n",
       "\n"
      ],
      "text/plain": [
       "  name  band    plays \n",
       "1 John  Beatles guitar\n",
       "2 Paul  Beatles bass  \n",
       "3 Keith NA      guitar"
      ]
     },
     "metadata": {},
     "output_type": "display_data"
    }
   ],
   "source": [
    "band %>%\n",
    "  right_join(instrument, by = \"name\")"
   ]
  },
  {
   "cell_type": "markdown",
   "metadata": {},
   "source": [
    "##### 全连接full_join()"
   ]
  },
  {
   "cell_type": "markdown",
   "metadata": {},
   "source": [
    "全连接保留x和y中的所有行，合并匹配的列。"
   ]
  },
  {
   "cell_type": "code",
   "execution_count": 4,
   "metadata": {
    "vscode": {
     "languageId": "r"
    }
   },
   "outputs": [
    {
     "data": {
      "text/html": [
       "<table class=\"dataframe\">\n",
       "<caption>A tibble: 4 × 3</caption>\n",
       "<thead>\n",
       "\t<tr><th scope=col>name</th><th scope=col>band</th><th scope=col>plays</th></tr>\n",
       "\t<tr><th scope=col>&lt;chr&gt;</th><th scope=col>&lt;chr&gt;</th><th scope=col>&lt;chr&gt;</th></tr>\n",
       "</thead>\n",
       "<tbody>\n",
       "\t<tr><td>Mick </td><td>Stones </td><td>NA    </td></tr>\n",
       "\t<tr><td>John </td><td>Beatles</td><td>guitar</td></tr>\n",
       "\t<tr><td>Paul </td><td>Beatles</td><td>bass  </td></tr>\n",
       "\t<tr><td>Keith</td><td>NA     </td><td>guitar</td></tr>\n",
       "</tbody>\n",
       "</table>\n"
      ],
      "text/latex": [
       "A tibble: 4 × 3\n",
       "\\begin{tabular}{lll}\n",
       " name & band & plays\\\\\n",
       " <chr> & <chr> & <chr>\\\\\n",
       "\\hline\n",
       "\t Mick  & Stones  & NA    \\\\\n",
       "\t John  & Beatles & guitar\\\\\n",
       "\t Paul  & Beatles & bass  \\\\\n",
       "\t Keith & NA      & guitar\\\\\n",
       "\\end{tabular}\n"
      ],
      "text/markdown": [
       "\n",
       "A tibble: 4 × 3\n",
       "\n",
       "| name &lt;chr&gt; | band &lt;chr&gt; | plays &lt;chr&gt; |\n",
       "|---|---|---|\n",
       "| Mick  | Stones  | NA     |\n",
       "| John  | Beatles | guitar |\n",
       "| Paul  | Beatles | bass   |\n",
       "| Keith | NA      | guitar |\n",
       "\n"
      ],
      "text/plain": [
       "  name  band    plays \n",
       "1 Mick  Stones  NA    \n",
       "2 John  Beatles guitar\n",
       "3 Paul  Beatles bass  \n",
       "4 Keith NA      guitar"
      ]
     },
     "metadata": {},
     "output_type": "display_data"
    }
   ],
   "source": [
    "band %>%\n",
    "  full_join(instrument, by = \"name\")"
   ]
  },
  {
   "cell_type": "markdown",
   "metadata": {},
   "source": [
    "##### 内连接inner_join()"
   ]
  },
  {
   "cell_type": "markdown",
   "metadata": {},
   "source": [
    "内连接是保留两个数据表中所有的观测：只保留x中与y匹配的行，合并匹配的列。"
   ]
  },
  {
   "cell_type": "code",
   "execution_count": 5,
   "metadata": {
    "vscode": {
     "languageId": "r"
    }
   },
   "outputs": [
    {
     "data": {
      "text/html": [
       "<table class=\"dataframe\">\n",
       "<caption>A tibble: 2 × 3</caption>\n",
       "<thead>\n",
       "\t<tr><th scope=col>name</th><th scope=col>band</th><th scope=col>plays</th></tr>\n",
       "\t<tr><th scope=col>&lt;chr&gt;</th><th scope=col>&lt;chr&gt;</th><th scope=col>&lt;chr&gt;</th></tr>\n",
       "</thead>\n",
       "<tbody>\n",
       "\t<tr><td>John</td><td>Beatles</td><td>guitar</td></tr>\n",
       "\t<tr><td>Paul</td><td>Beatles</td><td>bass  </td></tr>\n",
       "</tbody>\n",
       "</table>\n"
      ],
      "text/latex": [
       "A tibble: 2 × 3\n",
       "\\begin{tabular}{lll}\n",
       " name & band & plays\\\\\n",
       " <chr> & <chr> & <chr>\\\\\n",
       "\\hline\n",
       "\t John & Beatles & guitar\\\\\n",
       "\t Paul & Beatles & bass  \\\\\n",
       "\\end{tabular}\n"
      ],
      "text/markdown": [
       "\n",
       "A tibble: 2 × 3\n",
       "\n",
       "| name &lt;chr&gt; | band &lt;chr&gt; | plays &lt;chr&gt; |\n",
       "|---|---|---|\n",
       "| John | Beatles | guitar |\n",
       "| Paul | Beatles | bass   |\n",
       "\n"
      ],
      "text/plain": [
       "  name band    plays \n",
       "1 John Beatles guitar\n",
       "2 Paul Beatles bass  "
      ]
     },
     "metadata": {},
     "output_type": "display_data"
    }
   ],
   "source": [
    "band %>%\n",
    "  inner_join(instrument, by = \"name\")"
   ]
  },
  {
   "cell_type": "markdown",
   "metadata": {},
   "source": [
    "##### 半连接semi_join()"
   ]
  },
  {
   "cell_type": "markdown",
   "metadata": {},
   "source": [
    "半连接保留x表和y表中的行相匹配的所有行，即根据y表中有匹配的部分来筛选x表中的行。"
   ]
  },
  {
   "cell_type": "code",
   "execution_count": 6,
   "metadata": {
    "vscode": {
     "languageId": "r"
    }
   },
   "outputs": [
    {
     "data": {
      "text/html": [
       "<table class=\"dataframe\">\n",
       "<caption>A tibble: 2 × 2</caption>\n",
       "<thead>\n",
       "\t<tr><th scope=col>name</th><th scope=col>band</th></tr>\n",
       "\t<tr><th scope=col>&lt;chr&gt;</th><th scope=col>&lt;chr&gt;</th></tr>\n",
       "</thead>\n",
       "<tbody>\n",
       "\t<tr><td>John</td><td>Beatles</td></tr>\n",
       "\t<tr><td>Paul</td><td>Beatles</td></tr>\n",
       "</tbody>\n",
       "</table>\n"
      ],
      "text/latex": [
       "A tibble: 2 × 2\n",
       "\\begin{tabular}{ll}\n",
       " name & band\\\\\n",
       " <chr> & <chr>\\\\\n",
       "\\hline\n",
       "\t John & Beatles\\\\\n",
       "\t Paul & Beatles\\\\\n",
       "\\end{tabular}\n"
      ],
      "text/markdown": [
       "\n",
       "A tibble: 2 × 2\n",
       "\n",
       "| name &lt;chr&gt; | band &lt;chr&gt; |\n",
       "|---|---|\n",
       "| John | Beatles |\n",
       "| Paul | Beatles |\n",
       "\n"
      ],
      "text/plain": [
       "  name band   \n",
       "1 John Beatles\n",
       "2 Paul Beatles"
      ]
     },
     "metadata": {},
     "output_type": "display_data"
    }
   ],
   "source": [
    "band %>%\n",
    "  semi_join(instrument, by = \"name\")"
   ]
  },
  {
   "cell_type": "markdown",
   "metadata": {},
   "source": [
    "##### 反连接anti_join()"
   ]
  },
  {
   "cell_type": "markdown",
   "metadata": {},
   "source": [
    "反连接根据y表没有匹配的部分来筛选x表中的行。"
   ]
  },
  {
   "cell_type": "code",
   "execution_count": 7,
   "metadata": {
    "vscode": {
     "languageId": "r"
    }
   },
   "outputs": [
    {
     "data": {
      "text/html": [
       "<table class=\"dataframe\">\n",
       "<caption>A tibble: 1 × 2</caption>\n",
       "<thead>\n",
       "\t<tr><th scope=col>name</th><th scope=col>band</th></tr>\n",
       "\t<tr><th scope=col>&lt;chr&gt;</th><th scope=col>&lt;chr&gt;</th></tr>\n",
       "</thead>\n",
       "<tbody>\n",
       "\t<tr><td>Mick</td><td>Stones</td></tr>\n",
       "</tbody>\n",
       "</table>\n"
      ],
      "text/latex": [
       "A tibble: 1 × 2\n",
       "\\begin{tabular}{ll}\n",
       " name & band\\\\\n",
       " <chr> & <chr>\\\\\n",
       "\\hline\n",
       "\t Mick & Stones\\\\\n",
       "\\end{tabular}\n"
      ],
      "text/markdown": [
       "\n",
       "A tibble: 1 × 2\n",
       "\n",
       "| name &lt;chr&gt; | band &lt;chr&gt; |\n",
       "|---|---|\n",
       "| Mick | Stones |\n",
       "\n"
      ],
      "text/plain": [
       "  name band  \n",
       "1 Mick Stones"
      ]
     },
     "metadata": {},
     "output_type": "display_data"
    }
   ],
   "source": [
    "band %>%\n",
    "  anti_join(instrument, by = \"name\")"
   ]
  },
  {
   "cell_type": "markdown",
   "metadata": {},
   "source": [
    "由于前面讨论都是连接两个数据表的情况，若要连接多个表，可以将连接两个数据表的函数结合purrr包的`reduce()`函数使用。"
   ]
  },
  {
   "cell_type": "code",
   "execution_count": 10,
   "metadata": {
    "vscode": {
     "languageId": "r"
    }
   },
   "outputs": [
    {
     "data": {
      "text/html": [
       "<table class=\"dataframe\">\n",
       "<caption>A data.frame: 7 × 4</caption>\n",
       "<thead>\n",
       "\t<tr><th scope=col>人名</th><th scope=col>3月业绩</th><th scope=col>4月业绩</th><th scope=col>5月业绩</th></tr>\n",
       "\t<tr><th scope=col>&lt;chr&gt;</th><th scope=col>&lt;dbl&gt;</th><th scope=col>&lt;dbl&gt;</th><th scope=col>&lt;dbl&gt;</th></tr>\n",
       "</thead>\n",
       "<tbody>\n",
       "\t<tr><td>小明</td><td>80</td><td>NA</td><td> NA</td></tr>\n",
       "\t<tr><td>小李</td><td>85</td><td>NA</td><td> 80</td></tr>\n",
       "\t<tr><td>小张</td><td>90</td><td>50</td><td> NA</td></tr>\n",
       "\t<tr><td>小红</td><td>NA</td><td>70</td><td> 90</td></tr>\n",
       "\t<tr><td>小白</td><td>NA</td><td>60</td><td> NA</td></tr>\n",
       "\t<tr><td>小王</td><td>NA</td><td>40</td><td> NA</td></tr>\n",
       "\t<tr><td>小花</td><td>NA</td><td>NA</td><td>100</td></tr>\n",
       "</tbody>\n",
       "</table>\n"
      ],
      "text/latex": [
       "A data.frame: 7 × 4\n",
       "\\begin{tabular}{llll}\n",
       " 人名 & 3月业绩 & 4月业绩 & 5月业绩\\\\\n",
       " <chr> & <dbl> & <dbl> & <dbl>\\\\\n",
       "\\hline\n",
       "\t 小明 & 80 & NA &  NA\\\\\n",
       "\t 小李 & 85 & NA &  80\\\\\n",
       "\t 小张 & 90 & 50 &  NA\\\\\n",
       "\t 小红 & NA & 70 &  90\\\\\n",
       "\t 小白 & NA & 60 &  NA\\\\\n",
       "\t 小王 & NA & 40 &  NA\\\\\n",
       "\t 小花 & NA & NA & 100\\\\\n",
       "\\end{tabular}\n"
      ],
      "text/markdown": [
       "\n",
       "A data.frame: 7 × 4\n",
       "\n",
       "| 人名 &lt;chr&gt; | 3月业绩 &lt;dbl&gt; | 4月业绩 &lt;dbl&gt; | 5月业绩 &lt;dbl&gt; |\n",
       "|---|---|---|---|\n",
       "| 小明 | 80 | NA |  NA |\n",
       "| 小李 | 85 | NA |  80 |\n",
       "| 小张 | 90 | 50 |  NA |\n",
       "| 小红 | NA | 70 |  90 |\n",
       "| 小白 | NA | 60 |  NA |\n",
       "| 小王 | NA | 40 |  NA |\n",
       "| 小花 | NA | NA | 100 |\n",
       "\n"
      ],
      "text/plain": [
       "  人名 3月业绩 4月业绩 5月业绩\n",
       "1 小明 80      NA       NA    \n",
       "2 小李 85      NA       80    \n",
       "3 小张 90      50       NA    \n",
       "4 小红 NA      70       90    \n",
       "5 小白 NA      60       NA    \n",
       "6 小王 NA      40       NA    \n",
       "7 小花 NA      NA      100    "
      ]
     },
     "metadata": {},
     "output_type": "display_data"
    }
   ],
   "source": [
    "library(readxl)\n",
    "library(openxlsx)\n",
    "path <- \"data/3-5月业绩.xlsx\"\n",
    "map(excel_sheets(path),\n",
    "    ~ read.xlsx(path, sheet = .x)) %>%\n",
    "  reduce(full_join, by = \"人名\")"
   ]
  },
  {
   "cell_type": "markdown",
   "metadata": {},
   "source": [
    "### 其他函数"
   ]
  },
  {
   "cell_type": "markdown",
   "metadata": {},
   "source": [
    "有一些其他函数，用于嵌套于其他函数中起到辅助作用。它们往往能够帮忙对列中的值进行重新编码："
   ]
  },
  {
   "cell_type": "markdown",
   "metadata": {},
   "source": [
    "#### 条件结果函数"
   ]
  },
  {
   "cell_type": "markdown",
   "metadata": {},
   "source": [
    "##### if_else()"
   ]
  },
  {
   "cell_type": "markdown",
   "metadata": {},
   "source": [
    "```r\n",
    "if_else(condition, true, false, missing = NULL, ..., ptype = NULL, size = NULL)\n",
    "```"
   ]
  },
  {
   "cell_type": "markdown",
   "metadata": {},
   "source": [
    "`if_else()`两个条件判断，其主要参数`condition`: 一个逻辑向量，表示条件。`true, false`: 在条件为TRUE和FALSE时使用的向量。true和false将根据condition的大小进行重复。"
   ]
  },
  {
   "cell_type": "markdown",
   "metadata": {},
   "source": [
    "##### case_when()"
   ]
  },
  {
   "cell_type": "markdown",
   "metadata": {},
   "source": [
    "```r\n",
    "case_when(..., .default = NULL, .ptype = NULL, .size = NULL)\n",
    "```"
   ]
  },
  {
   "cell_type": "markdown",
   "metadata": {},
   "source": [
    "`case_when()`函数允许对多个if_else()语句进行向量化操作。每个条件按顺序逐个进行评估，对于每个元素，第一个匹配的条件确定了输出向量中的对应值。如果没有条件匹配，则使用`.default`的值。该函数在R中相当于SQL中的\"searched\" CASE WHEN语句。"
   ]
  },
  {
   "cell_type": "markdown",
   "metadata": {},
   "source": [
    "其主要参数：\n",
    "- `...`：一系列双侧公式（two-sided formulas）。左侧（LHS）确定哪些值匹配这个条件，右侧（RHS）提供替换值。LHS输入必须评估为逻辑向量。左右侧之间用`~`连接。\n",
    "- `.default`：当所有的LHS条件都返回FALSE或NA时使用的默认值。.default必须是大小为1（即标量为1）或与从...中计算得到的公共大小相同的值（即与输入数据的大小相匹配）。"
   ]
  },
  {
   "cell_type": "code",
   "execution_count": null,
   "metadata": {
    "vscode": {
     "languageId": "r"
    }
   },
   "outputs": [
    {
     "name": "stdout",
     "output_type": "stream",
     "text": [
      "   Sepal.Length Sepal.Width Petal.Length Petal.Width Species\n",
      "1           5.1         3.5        short         0.2  setosa\n",
      "2           4.9         3.0        short         0.2  setosa\n",
      "3           4.7         3.2        short         0.2  setosa\n",
      "4           4.6         3.1        short         0.2  setosa\n",
      "5           5.0         3.6        short         0.2  setosa\n",
      "6           5.4         3.9        short         0.4  setosa\n",
      "7           4.6         3.4        short         0.3  setosa\n",
      "8           5.0         3.4        short         0.2  setosa\n",
      "9           4.4         2.9        short         0.2  setosa\n",
      "10          4.9         3.1        short         0.1  setosa\n"
     ]
    }
   ],
   "source": [
    "library(tidyverse)\n",
    "tbl1 <- iris %>%\n",
    "  mutate(Petal.Length = case_when(\n",
    "    Petal.Length > 4 ~ \"long\",\n",
    "    between(Petal.Length, 2, 4) ~ \"middle\",\n",
    "    Petal.Length < 2 ~ \"short\"\n",
    "  )\n",
    ") %>%\n",
    "    slice_head(n = 10)\n",
    "print(tbl1)"
   ]
  },
  {
   "cell_type": "markdown",
   "metadata": {},
   "source": [
    "#### 逻辑判断函数"
   ]
  },
  {
   "cell_type": "markdown",
   "metadata": {},
   "source": [
    "##### between()"
   ]
  },
  {
   "cell_type": "markdown",
   "metadata": {},
   "source": [
    "具体用法：between(x, left, right)。其中x为向量，判断向量x的值是否大于等于left值，同时小于等于right值。"
   ]
  },
  {
   "cell_type": "markdown",
   "metadata": {},
   "source": [
    "#### 合并行列的函数"
   ]
  },
  {
   "cell_type": "markdown",
   "metadata": {},
   "source": [
    "##### bind_cols()和bind_rows()"
   ]
  },
  {
   "cell_type": "markdown",
   "metadata": {},
   "source": [
    "和cbind()和rbind()是相似的效果。"
   ]
  },
  {
   "cell_type": "code",
   "execution_count": null,
   "metadata": {
    "vscode": {
     "languageId": "r"
    }
   },
   "outputs": [
    {
     "name": "stdout",
     "output_type": "stream",
     "text": [
      "\u001b[90m# A tibble: 3 × 2\u001b[39m\n",
      "      x     y\n",
      "  \u001b[3m\u001b[90m<int>\u001b[39m\u001b[23m \u001b[3m\u001b[90m<int>\u001b[39m\u001b[23m\n",
      "\u001b[90m1\u001b[39m     1     3\n",
      "\u001b[90m2\u001b[39m     2     2\n",
      "\u001b[90m3\u001b[39m     3     1\n",
      "\u001b[90m# A tibble: 6 × 1\u001b[39m\n",
      "      x\n",
      "  \u001b[3m\u001b[90m<int>\u001b[39m\u001b[23m\n",
      "\u001b[90m1\u001b[39m     1\n",
      "\u001b[90m2\u001b[39m     2\n",
      "\u001b[90m3\u001b[39m     3\n",
      "\u001b[90m4\u001b[39m     1\n",
      "\u001b[90m5\u001b[39m     2\n",
      "\u001b[90m6\u001b[39m     3\n"
     ]
    }
   ],
   "source": [
    "df1 <- tibble(x = 1:3)\n",
    "df2 <- tibble(y = 3:1)\n",
    "bindcol <- bind_cols(df1, df2)\n",
    "bindrow <- bind_rows(df1, df1)\n",
    "\n",
    "print(bindcol)\n",
    "print(bindrow)"
   ]
  },
  {
   "cell_type": "markdown",
   "metadata": {},
   "source": [
    "##### relocate()"
   ]
  },
  {
   "cell_type": "markdown",
   "metadata": {},
   "source": [
    "通过选中多列进行位置的移动（虽然这种做法并不常见）。relocate()函数的用法：relocate(.data, ..., .before = NULL, .after = NULL)，其中.before，.after参数不可以同时使用且取值可以是列名。"
   ]
  },
  {
   "cell_type": "code",
   "execution_count": null,
   "metadata": {
    "vscode": {
     "languageId": "r"
    }
   },
   "outputs": [
    {
     "name": "stdout",
     "output_type": "stream",
     "text": [
      "\u001b[90m# A tibble: 32 × 11\u001b[39m\n",
      "     mpg   cyl  disp    hp  qsec  drat    wt    vs    am  gear  carb\n",
      "   \u001b[3m\u001b[90m<dbl>\u001b[39m\u001b[23m \u001b[3m\u001b[90m<dbl>\u001b[39m\u001b[23m \u001b[3m\u001b[90m<dbl>\u001b[39m\u001b[23m \u001b[3m\u001b[90m<dbl>\u001b[39m\u001b[23m \u001b[3m\u001b[90m<dbl>\u001b[39m\u001b[23m \u001b[3m\u001b[90m<dbl>\u001b[39m\u001b[23m \u001b[3m\u001b[90m<dbl>\u001b[39m\u001b[23m \u001b[3m\u001b[90m<dbl>\u001b[39m\u001b[23m \u001b[3m\u001b[90m<dbl>\u001b[39m\u001b[23m \u001b[3m\u001b[90m<dbl>\u001b[39m\u001b[23m \u001b[3m\u001b[90m<dbl>\u001b[39m\u001b[23m\n",
      "\u001b[90m 1\u001b[39m  21       6  160    110  16.5  3.9   2.62     0     1     4     4\n",
      "\u001b[90m 2\u001b[39m  21       6  160    110  17.0  3.9   2.88     0     1     4     4\n",
      "\u001b[90m 3\u001b[39m  22.8     4  108     93  18.6  3.85  2.32     1     1     4     1\n",
      "\u001b[90m 4\u001b[39m  21.4     6  258    110  19.4  3.08  3.22     1     0     3     1\n",
      "\u001b[90m 5\u001b[39m  18.7     8  360    175  17.0  3.15  3.44     0     0     3     2\n",
      "\u001b[90m 6\u001b[39m  18.1     6  225    105  20.2  2.76  3.46     1     0     3     1\n",
      "\u001b[90m 7\u001b[39m  14.3     8  360    245  15.8  3.21  3.57     0     0     3     4\n",
      "\u001b[90m 8\u001b[39m  24.4     4  147.    62  20    3.69  3.19     1     0     4     2\n",
      "\u001b[90m 9\u001b[39m  22.8     4  141.    95  22.9  3.92  3.15     1     0     4     2\n",
      "\u001b[90m10\u001b[39m  19.2     6  168.   123  18.3  3.92  3.44     1     0     4     4\n",
      "\u001b[90m# ℹ 22 more rows\u001b[39m\n"
     ]
    }
   ],
   "source": [
    "library(tidyverse)\n",
    "output <- as_tibble(mtcars) %>%\n",
    "  relocate(drat:wt, .after = qsec)\n",
    "print(output)"
   ]
  },
  {
   "attachments": {},
   "cell_type": "markdown",
   "metadata": {},
   "source": [
    "## 使用tidyr进行数据重塑"
   ]
  },
  {
   "cell_type": "markdown",
   "metadata": {},
   "source": [
    "一个整洁的数据，具有如下特点：\n",
    "1. 每个**变量**构成一列\n",
    "2. 每个**观测**构成一行\n",
    "3. 每个观测的每个变量**值**构成一个单元格\n",
    "\n",
    "将不整洁的数据整洁化就是**数据重塑**。而让数据整洁的关键就是要学会<span style = 'color:red'><strong>区分变量，观测，值。</strong></span>"
   ]
  },
  {
   "attachments": {},
   "cell_type": "markdown",
   "metadata": {},
   "source": [
    "### 由宽格式转换成长格式"
   ]
  },
  {
   "attachments": {},
   "cell_type": "markdown",
   "metadata": {},
   "source": [
    "数据经常以宽格式或者长格式进行存储。宽数据每一列都是一个变量，每一行则是一个观测值。我们经常用的数据就是宽格式的。长格式相反，它有一列指示该行中包含的所有变量类型，然后另一列表示该变量的值。每行包含单个变量的单个观察值。长宽格式的转换其实就是旋转的思想。"
   ]
  },
  {
   "attachments": {},
   "cell_type": "markdown",
   "metadata": {},
   "source": [
    "将数据有宽格式转换成长格式有两个函数：`gather()`和`pivot_longer()`。其中gather()功能已完全开发完毕，不再处于积极开发状态。所以建议在新代码中使用`pivot_longer()`函数，其主要参数如下：\n",
    "- `data`：被转换的数据框。\n",
    "- `cols`：想要被转换成长格式的字段列。\n",
    "- `names_to`：该参数会根据存储在cols所指定的数据的列名中的信息，在数据集中创建新列。如果输入names_to参数的向量的长度为 0 或 NULL，则不会创建新列。如果输入向量的长度为 1，则将创建单列，其中将包含cols指定的列名。如果输入向量的长度大于 1（也是最常见的），则将创建多列。在这种情况下，必须提供`names_sep`或`names_pattern`来指定应如何拆分列名。names_to除了指定要创建的新列的列名，还可使用另外两个字符值。第一个是`NA`，它将丢弃变形列列名的相应组件。第二个是<span style = 'color:red'><strong>.value</strong></span>，它将变形列列名的相应组件定义为输出列的名称，且该输出列包含单元格值。（具体看代码示例）\n",
    "- `names_prefix`：此参数用于删除数据集中每个变量名称开头的匹配文本。例如，如果数据集具有 “X1”、“X2”、“X3” 等变量名称，则可以通过令`names_prefix = \"X\"`来删除 “X” 前缀，从而获得更简洁、更一致的变量名称。\n",
    "- `names_sep、names_pattern`：当names_to参数传入多个值时使用这两个参数（因为names_to往往会指定多列）。这些参数控制列名的分解方式。names_sep参数采用与`separate()`函数相同的规范。它可以是数值向量，用于指定要中断的位置；也可以是单个字符串，用于指定要拆分的正则表达式。另一方面，names_pattern参数采用与`extract()`函数相同的规范。它是一个包含捕获分组 `()` 的正则表达式。\n",
    "- `values_to`：通过该参数创建一个新列，该列用来存储单元格中的值的数据。\n",
    "- `values_transform`, `names_transform`：一般将名称列进行旋转合并时都是自动转换成字符串类型的，若想改变旋转后名称列的格式，可以用names_transform。而值列进行旋转合并时，如果不指定values_transform参数，仍按照原来的数据类型转换。问题是数据集的字段列数据类型必须保持一致，原来的多个值列不一定是同一个数据类型，因而此时需要指定values_transform参数统一数据格式j，格式为，例如：<span style = 'color:red'><strong>values_transform = list(value = as.character)</strong></span>\n",
    "- ` values_drop_na`：该参数用于删除values_to列中仅包含缺失值 (NA) 的行。也就是说意味着任何在其他列中缺少值但在values_to列中有值的行都不会被删除。默认为FALSE。"
   ]
  },
  {
   "cell_type": "code",
   "execution_count": null,
   "metadata": {
    "vscode": {
     "languageId": "r"
    }
   },
   "outputs": [
    {
     "name": "stdout",
     "output_type": "stream",
     "text": [
      "\u001b[90m# A tibble: 317 × 79\u001b[39m\n",
      "   artist     track date.entered   wk1   wk2   wk3   wk4   wk5   wk6   wk7   wk8\n",
      "   \u001b[3m\u001b[90m<chr>\u001b[39m\u001b[23m      \u001b[3m\u001b[90m<chr>\u001b[39m\u001b[23m \u001b[3m\u001b[90m<date>\u001b[39m\u001b[23m       \u001b[3m\u001b[90m<dbl>\u001b[39m\u001b[23m \u001b[3m\u001b[90m<dbl>\u001b[39m\u001b[23m \u001b[3m\u001b[90m<dbl>\u001b[39m\u001b[23m \u001b[3m\u001b[90m<dbl>\u001b[39m\u001b[23m \u001b[3m\u001b[90m<dbl>\u001b[39m\u001b[23m \u001b[3m\u001b[90m<dbl>\u001b[39m\u001b[23m \u001b[3m\u001b[90m<dbl>\u001b[39m\u001b[23m \u001b[3m\u001b[90m<dbl>\u001b[39m\u001b[23m\n",
      "\u001b[90m 1\u001b[39m 2 Pac      Baby… 2000-02-26      87    82    72    77    87    94    99    \u001b[31mNA\u001b[39m\n",
      "\u001b[90m 2\u001b[39m 2Ge+her    The … 2000-09-02      91    87    92    \u001b[31mNA\u001b[39m    \u001b[31mNA\u001b[39m    \u001b[31mNA\u001b[39m    \u001b[31mNA\u001b[39m    \u001b[31mNA\u001b[39m\n",
      "\u001b[90m 3\u001b[39m 3 Doors D… Kryp… 2000-04-08      81    70    68    67    66    57    54    53\n",
      "\u001b[90m 4\u001b[39m 3 Doors D… Loser 2000-10-21      76    76    72    69    67    65    55    59\n",
      "\u001b[90m 5\u001b[39m 504 Boyz   Wobb… 2000-04-15      57    34    25    17    17    31    36    49\n",
      "\u001b[90m 6\u001b[39m 98^0       Give… 2000-08-19      51    39    34    26    26    19     2     2\n",
      "\u001b[90m 7\u001b[39m A*Teens    Danc… 2000-07-08      97    97    96    95   100    \u001b[31mNA\u001b[39m    \u001b[31mNA\u001b[39m    \u001b[31mNA\u001b[39m\n",
      "\u001b[90m 8\u001b[39m Aaliyah    I Do… 2000-01-29      84    62    51    41    38    35    35    38\n",
      "\u001b[90m 9\u001b[39m Aaliyah    Try … 2000-03-18      59    53    38    28    21    18    16    14\n",
      "\u001b[90m10\u001b[39m Adams, Yo… Open… 2000-08-26      76    76    74    69    68    67    61    58\n",
      "\u001b[90m# ℹ 307 more rows\u001b[39m\n",
      "\u001b[90m# ℹ 68 more variables: wk9 <dbl>, wk10 <dbl>, wk11 <dbl>, wk12 <dbl>,\u001b[39m\n",
      "\u001b[90m#   wk13 <dbl>, wk14 <dbl>, wk15 <dbl>, wk16 <dbl>, wk17 <dbl>, wk18 <dbl>,\u001b[39m\n",
      "\u001b[90m#   wk19 <dbl>, wk20 <dbl>, wk21 <dbl>, wk22 <dbl>, wk23 <dbl>, wk24 <dbl>,\u001b[39m\n",
      "\u001b[90m#   wk25 <dbl>, wk26 <dbl>, wk27 <dbl>, wk28 <dbl>, wk29 <dbl>, wk30 <dbl>,\u001b[39m\n",
      "\u001b[90m#   wk31 <dbl>, wk32 <dbl>, wk33 <dbl>, wk34 <dbl>, wk35 <dbl>, wk36 <dbl>,\u001b[39m\n",
      "\u001b[90m#   wk37 <dbl>, wk38 <dbl>, wk39 <dbl>, wk40 <dbl>, wk41 <dbl>, wk42 <dbl>, …\u001b[39m\n"
     ]
    }
   ],
   "source": [
    "library(tidyverse)\n",
    "print(billboard)"
   ]
  },
  {
   "cell_type": "code",
   "execution_count": 11,
   "metadata": {
    "vscode": {
     "languageId": "r"
    }
   },
   "outputs": [
    {
     "name": "stdout",
     "output_type": "stream",
     "text": [
      "\u001b[90m# A tibble: 5,307 × 5\u001b[39m\n",
      "   artist  track                   date.entered week   rank\n",
      "   \u001b[3m\u001b[90m<chr>\u001b[39m\u001b[23m   \u001b[3m\u001b[90m<chr>\u001b[39m\u001b[23m                   \u001b[3m\u001b[90m<date>\u001b[39m\u001b[23m       \u001b[3m\u001b[90m<chr>\u001b[39m\u001b[23m \u001b[3m\u001b[90m<dbl>\u001b[39m\u001b[23m\n",
      "\u001b[90m 1\u001b[39m 2 Pac   Baby Don't Cry (Keep... 2000-02-26   wk1      87\n",
      "\u001b[90m 2\u001b[39m 2 Pac   Baby Don't Cry (Keep... 2000-02-26   wk2      82\n",
      "\u001b[90m 3\u001b[39m 2 Pac   Baby Don't Cry (Keep... 2000-02-26   wk3      72\n",
      "\u001b[90m 4\u001b[39m 2 Pac   Baby Don't Cry (Keep... 2000-02-26   wk4      77\n",
      "\u001b[90m 5\u001b[39m 2 Pac   Baby Don't Cry (Keep... 2000-02-26   wk5      87\n",
      "\u001b[90m 6\u001b[39m 2 Pac   Baby Don't Cry (Keep... 2000-02-26   wk6      94\n",
      "\u001b[90m 7\u001b[39m 2 Pac   Baby Don't Cry (Keep... 2000-02-26   wk7      99\n",
      "\u001b[90m 8\u001b[39m 2Ge+her The Hardest Part Of ... 2000-09-02   wk1      91\n",
      "\u001b[90m 9\u001b[39m 2Ge+her The Hardest Part Of ... 2000-09-02   wk2      87\n",
      "\u001b[90m10\u001b[39m 2Ge+her The Hardest Part Of ... 2000-09-02   wk3      92\n",
      "\u001b[90m# ℹ 5,297 more rows\u001b[39m\n"
     ]
    }
   ],
   "source": [
    "result1 <- billboard %>%\n",
    "  pivot_longer(\n",
    "    cols = starts_with(\"wk\"),\n",
    "    names_to = \"week\",\n",
    "    values_to = \"rank\",\n",
    "    values_drop_na = TRUE\n",
    "  )\n",
    "print(result1)"
   ]
  },
  {
   "cell_type": "code",
   "execution_count": 12,
   "metadata": {
    "vscode": {
     "languageId": "r"
    }
   },
   "outputs": [
    {
     "name": "stdout",
     "output_type": "stream",
     "text": [
      "\u001b[90m# A tibble: 5,307 × 5\u001b[39m\n",
      "   artist  track                   date.entered week   rank\n",
      "   \u001b[3m\u001b[90m<chr>\u001b[39m\u001b[23m   \u001b[3m\u001b[90m<chr>\u001b[39m\u001b[23m                   \u001b[3m\u001b[90m<date>\u001b[39m\u001b[23m       \u001b[3m\u001b[90m<chr>\u001b[39m\u001b[23m \u001b[3m\u001b[90m<dbl>\u001b[39m\u001b[23m\n",
      "\u001b[90m 1\u001b[39m 2 Pac   Baby Don't Cry (Keep... 2000-02-26   1        87\n",
      "\u001b[90m 2\u001b[39m 2 Pac   Baby Don't Cry (Keep... 2000-02-26   2        82\n",
      "\u001b[90m 3\u001b[39m 2 Pac   Baby Don't Cry (Keep... 2000-02-26   3        72\n",
      "\u001b[90m 4\u001b[39m 2 Pac   Baby Don't Cry (Keep... 2000-02-26   4        77\n",
      "\u001b[90m 5\u001b[39m 2 Pac   Baby Don't Cry (Keep... 2000-02-26   5        87\n",
      "\u001b[90m 6\u001b[39m 2 Pac   Baby Don't Cry (Keep... 2000-02-26   6        94\n",
      "\u001b[90m 7\u001b[39m 2 Pac   Baby Don't Cry (Keep... 2000-02-26   7        99\n",
      "\u001b[90m 8\u001b[39m 2Ge+her The Hardest Part Of ... 2000-09-02   1        91\n",
      "\u001b[90m 9\u001b[39m 2Ge+her The Hardest Part Of ... 2000-09-02   2        87\n",
      "\u001b[90m10\u001b[39m 2Ge+her The Hardest Part Of ... 2000-09-02   3        92\n",
      "\u001b[90m# ℹ 5,297 more rows\u001b[39m\n"
     ]
    }
   ],
   "source": [
    "result2 <- billboard %>%\n",
    "  pivot_longer(\n",
    "    cols = starts_with(\"wk\"),\n",
    "    names_to = \"week\",\n",
    "    names_prefix = \"wk\",\n",
    "    values_to = \"rank\",\n",
    "    values_drop_na = TRUE\n",
    "  )\n",
    "print(result2)"
   ]
  },
  {
   "cell_type": "code",
   "execution_count": 18,
   "metadata": {
    "vscode": {
     "languageId": "r"
    }
   },
   "outputs": [
    {
     "name": "stdout",
     "output_type": "stream",
     "text": [
      "\u001b[90m# A tibble: 2 × 3\u001b[39m\n",
      "  pregnant  male female\n",
      "  \u001b[3m\u001b[90m<chr>\u001b[39m\u001b[23m    \u001b[3m\u001b[90m<dbl>\u001b[39m\u001b[23m  \u001b[3m\u001b[90m<dbl>\u001b[39m\u001b[23m\n",
      "\u001b[90m1\u001b[39m yes         \u001b[31mNA\u001b[39m     10\n",
      "\u001b[90m2\u001b[39m no          20     12\n"
     ]
    }
   ],
   "source": [
    "test.df <- tribble(\n",
    "  ~pregnant, ~male, ~female,\n",
    "  \"yes\",     NA,    10,\n",
    "  \"no\",      20,    12\n",
    ")\n",
    "print(test.df)"
   ]
  },
  {
   "cell_type": "code",
   "execution_count": null,
   "metadata": {
    "vscode": {
     "languageId": "r"
    }
   },
   "outputs": [
    {
     "name": "stdout",
     "output_type": "stream",
     "text": [
      "\u001b[90m# A tibble: 6 × 2\u001b[39m\n",
      "  solution value\n",
      "  \u001b[3m\u001b[90m<chr>\u001b[39m\u001b[23m    \u001b[3m\u001b[90m<chr>\u001b[39m\u001b[23m\n",
      "\u001b[90m1\u001b[39m pregnant yes  \n",
      "\u001b[90m2\u001b[39m male     \u001b[31mNA\u001b[39m   \n",
      "\u001b[90m3\u001b[39m female   10   \n",
      "\u001b[90m4\u001b[39m pregnant no   \n",
      "\u001b[90m5\u001b[39m male     20   \n",
      "\u001b[90m6\u001b[39m female   12   \n"
     ]
    }
   ],
   "source": [
    "result3 <- pivot_longer(\n",
    "  cols = c(\"pregnant\", \"male\", \"female\"),\n",
    "  names_to = \"solution\",\n",
    "  values_to = \"value\",\n",
    "  values_transform = list(value = as.character)\n",
    ")\n",
    "print(result3)"
   ]
  },
  {
   "cell_type": "code",
   "execution_count": 13,
   "metadata": {
    "vscode": {
     "languageId": "r"
    }
   },
   "outputs": [
    {
     "name": "stdout",
     "output_type": "stream",
     "text": [
      "\u001b[90m# A tibble: 6 × 60\u001b[39m\n",
      "  country   iso2  iso3   year new_sp_m014 new_sp_m1524 new_sp_m2534 new_sp_m3544\n",
      "  \u001b[3m\u001b[90m<chr>\u001b[39m\u001b[23m     \u001b[3m\u001b[90m<chr>\u001b[39m\u001b[23m \u001b[3m\u001b[90m<chr>\u001b[39m\u001b[23m \u001b[3m\u001b[90m<dbl>\u001b[39m\u001b[23m       \u001b[3m\u001b[90m<dbl>\u001b[39m\u001b[23m        \u001b[3m\u001b[90m<dbl>\u001b[39m\u001b[23m        \u001b[3m\u001b[90m<dbl>\u001b[39m\u001b[23m        \u001b[3m\u001b[90m<dbl>\u001b[39m\u001b[23m\n",
      "\u001b[90m1\u001b[39m Afghanis… AF    AFG    \u001b[4m1\u001b[24m980          \u001b[31mNA\u001b[39m           \u001b[31mNA\u001b[39m           \u001b[31mNA\u001b[39m           \u001b[31mNA\u001b[39m\n",
      "\u001b[90m2\u001b[39m Afghanis… AF    AFG    \u001b[4m1\u001b[24m981          \u001b[31mNA\u001b[39m           \u001b[31mNA\u001b[39m           \u001b[31mNA\u001b[39m           \u001b[31mNA\u001b[39m\n",
      "\u001b[90m3\u001b[39m Afghanis… AF    AFG    \u001b[4m1\u001b[24m982          \u001b[31mNA\u001b[39m           \u001b[31mNA\u001b[39m           \u001b[31mNA\u001b[39m           \u001b[31mNA\u001b[39m\n",
      "\u001b[90m4\u001b[39m Afghanis… AF    AFG    \u001b[4m1\u001b[24m983          \u001b[31mNA\u001b[39m           \u001b[31mNA\u001b[39m           \u001b[31mNA\u001b[39m           \u001b[31mNA\u001b[39m\n",
      "\u001b[90m5\u001b[39m Afghanis… AF    AFG    \u001b[4m1\u001b[24m984          \u001b[31mNA\u001b[39m           \u001b[31mNA\u001b[39m           \u001b[31mNA\u001b[39m           \u001b[31mNA\u001b[39m\n",
      "\u001b[90m6\u001b[39m Afghanis… AF    AFG    \u001b[4m1\u001b[24m985          \u001b[31mNA\u001b[39m           \u001b[31mNA\u001b[39m           \u001b[31mNA\u001b[39m           \u001b[31mNA\u001b[39m\n",
      "\u001b[90m# ℹ 52 more variables: new_sp_m4554 <dbl>, new_sp_m5564 <dbl>,\u001b[39m\n",
      "\u001b[90m#   new_sp_m65 <dbl>, new_sp_f014 <dbl>, new_sp_f1524 <dbl>,\u001b[39m\n",
      "\u001b[90m#   new_sp_f2534 <dbl>, new_sp_f3544 <dbl>, new_sp_f4554 <dbl>,\u001b[39m\n",
      "\u001b[90m#   new_sp_f5564 <dbl>, new_sp_f65 <dbl>, new_sn_m014 <dbl>,\u001b[39m\n",
      "\u001b[90m#   new_sn_m1524 <dbl>, new_sn_m2534 <dbl>, new_sn_m3544 <dbl>,\u001b[39m\n",
      "\u001b[90m#   new_sn_m4554 <dbl>, new_sn_m5564 <dbl>, new_sn_m65 <dbl>,\u001b[39m\n",
      "\u001b[90m#   new_sn_f014 <dbl>, new_sn_f1524 <dbl>, new_sn_f2534 <dbl>, …\u001b[39m\n"
     ]
    }
   ],
   "source": [
    "print(head(who))"
   ]
  },
  {
   "cell_type": "code",
   "execution_count": 15,
   "metadata": {
    "vscode": {
     "languageId": "r"
    }
   },
   "outputs": [
    {
     "name": "stdout",
     "output_type": "stream",
     "text": [
      "\u001b[90m# A tibble: 76,046 × 8\u001b[39m\n",
      "   country     iso2  iso3   year diagnosis gender order value\n",
      "   \u001b[3m\u001b[90m<chr>\u001b[39m\u001b[23m       \u001b[3m\u001b[90m<chr>\u001b[39m\u001b[23m \u001b[3m\u001b[90m<chr>\u001b[39m\u001b[23m \u001b[3m\u001b[90m<dbl>\u001b[39m\u001b[23m \u001b[3m\u001b[90m<chr>\u001b[39m\u001b[23m     \u001b[3m\u001b[90m<chr>\u001b[39m\u001b[23m  \u001b[3m\u001b[90m<chr>\u001b[39m\u001b[23m \u001b[3m\u001b[90m<dbl>\u001b[39m\u001b[23m\n",
      "\u001b[90m 1\u001b[39m Afghanistan AF    AFG    \u001b[4m1\u001b[24m997 sp        m      014       0\n",
      "\u001b[90m 2\u001b[39m Afghanistan AF    AFG    \u001b[4m1\u001b[24m997 sp        m      1524     10\n",
      "\u001b[90m 3\u001b[39m Afghanistan AF    AFG    \u001b[4m1\u001b[24m997 sp        m      2534      6\n",
      "\u001b[90m 4\u001b[39m Afghanistan AF    AFG    \u001b[4m1\u001b[24m997 sp        m      3544      3\n",
      "\u001b[90m 5\u001b[39m Afghanistan AF    AFG    \u001b[4m1\u001b[24m997 sp        m      4554      5\n",
      "\u001b[90m 6\u001b[39m Afghanistan AF    AFG    \u001b[4m1\u001b[24m997 sp        m      5564      2\n",
      "\u001b[90m 7\u001b[39m Afghanistan AF    AFG    \u001b[4m1\u001b[24m997 sp        m      65        0\n",
      "\u001b[90m 8\u001b[39m Afghanistan AF    AFG    \u001b[4m1\u001b[24m997 sp        f      014       5\n",
      "\u001b[90m 9\u001b[39m Afghanistan AF    AFG    \u001b[4m1\u001b[24m997 sp        f      1524     38\n",
      "\u001b[90m10\u001b[39m Afghanistan AF    AFG    \u001b[4m1\u001b[24m997 sp        f      2534     36\n",
      "\u001b[90m# ℹ 76,036 more rows\u001b[39m\n"
     ]
    }
   ],
   "source": [
    "result4 <- who %>% pivot_longer(\n",
    "  cols = new_sp_m014:newrel_f65,\n",
    "  names_to = c(\"diagnosis\", \"gender\", \"order\"),\n",
    "  names_pattern = \"new_?(.+)_(.)(.+)\",\n",
    "  values_drop_na = TRUE\n",
    ")\n",
    "print(result4)"
   ]
  },
  {
   "cell_type": "code",
   "execution_count": 14,
   "metadata": {
    "vscode": {
     "languageId": "r"
    }
   },
   "outputs": [
    {
     "name": "stdout",
     "output_type": "stream",
     "text": [
      "\u001b[90m# A tibble: 5 × 5\u001b[39m\n",
      "  family dob_child1 dob_child2 gender_child1 gender_child2\n",
      "   \u001b[3m\u001b[90m<int>\u001b[39m\u001b[23m \u001b[3m\u001b[90m<date>\u001b[39m\u001b[23m     \u001b[3m\u001b[90m<date>\u001b[39m\u001b[23m             \u001b[3m\u001b[90m<int>\u001b[39m\u001b[23m         \u001b[3m\u001b[90m<int>\u001b[39m\u001b[23m\n",
      "\u001b[90m1\u001b[39m      1 1998-11-26 2000-01-29             1             2\n",
      "\u001b[90m2\u001b[39m      2 1996-06-22 \u001b[31mNA\u001b[39m                     2            \u001b[31mNA\u001b[39m\n",
      "\u001b[90m3\u001b[39m      3 2002-07-11 2004-04-05             2             2\n",
      "\u001b[90m4\u001b[39m      4 2004-10-10 2009-08-27             1             1\n",
      "\u001b[90m5\u001b[39m      5 2000-12-05 2005-02-28             2             1\n"
     ]
    }
   ],
   "source": [
    "load(\"data/family.rda\")\n",
    "print(head(family))"
   ]
  },
  {
   "cell_type": "code",
   "execution_count": 37,
   "metadata": {
    "vscode": {
     "languageId": "r"
    }
   },
   "outputs": [
    {
     "name": "stdout",
     "output_type": "stream",
     "text": [
      "\u001b[90m# A tibble: 10 × 4\u001b[39m\n",
      "   family child  dob        gender\n",
      "    \u001b[3m\u001b[90m<int>\u001b[39m\u001b[23m \u001b[3m\u001b[90m<chr>\u001b[39m\u001b[23m  \u001b[3m\u001b[90m<date>\u001b[39m\u001b[23m      \u001b[3m\u001b[90m<int>\u001b[39m\u001b[23m\n",
      "\u001b[90m 1\u001b[39m      1 child1 1998-11-26      1\n",
      "\u001b[90m 2\u001b[39m      1 child2 2000-01-29      2\n",
      "\u001b[90m 3\u001b[39m      2 child1 1996-06-22      2\n",
      "\u001b[90m 4\u001b[39m      2 child2 \u001b[31mNA\u001b[39m             \u001b[31mNA\u001b[39m\n",
      "\u001b[90m 5\u001b[39m      3 child1 2002-07-11      2\n",
      "\u001b[90m 6\u001b[39m      3 child2 2004-04-05      2\n",
      "\u001b[90m 7\u001b[39m      4 child1 2004-10-10      1\n",
      "\u001b[90m 8\u001b[39m      4 child2 2009-08-27      1\n",
      "\u001b[90m 9\u001b[39m      5 child1 2000-12-05      2\n",
      "\u001b[90m10\u001b[39m      5 child2 2005-02-28      1\n"
     ]
    }
   ],
   "source": [
    "result5 <- family %>%\n",
    "  pivot_longer(\n",
    "    -family,\n",
    "    names_to = c(\".value\", \"child\"),\n",
    "    names_sep = \"_\"\n",
    "  )\n",
    "print(result5)"
   ]
  },
  {
   "attachments": {},
   "cell_type": "markdown",
   "metadata": {},
   "source": [
    "### 由长格式转换成宽格式"
   ]
  },
  {
   "attachments": {},
   "cell_type": "markdown",
   "metadata": {},
   "source": [
    "`pivot_wider()`可以将长格式转换成宽格式，他是`pivot_longer()`函数的反向转换，所以两者的参数是相似的。其主要参数：\n",
    "- `data`：被转换的数据集。\n",
    "- `id_cols`：该参数用于指定唯一标识数据集中每个观测值的列。默认是使用数据集中除了names_from和values_from指定列之外的所有列，简单来说就是指旋转names_from和values_from指定的列，其余列保持不变。\n",
    "- `names_from、values_from`：这两个参数分别用于指定应使用数据集中的哪些列来创建输出列名和值。结合pivot_longer()函数来看，names_to参数可以指定多个列，那么对应的，names_from参数也可以指定应用于创建输出列名称的**一个或多个列**。 例如，如果将names_from设置为 “year”，则生成的输出列名称将基于数据集 “year” 列中的值。values_from参数同理。例如，如果将values_from 设置为 “sales”，则生成的输出将包含数据集 “sales” 列中的值。还有一点，就是如果values_from指定的列为多个，那么输出列的名称可能为“year_sale1”，“year_sale2\"。 \n",
    "- `names_prefix`：参数指定一个字符串，可以在每个输出的字段列之前都<span style = 'color:red'><strong>加上字符串</strong></span>。\n",
    "- `names_sep`：在使用pivot_longer()时names_sep参数指定了多组输出的规则，在pivot_wider()函数中指定也是一样的，参数默认为`-`。例如，如果names_from参数指定了多个变量，例如var1, var2, var3，那么旋转后的所有列也是类似“var1_var2_var3”的形式。\n",
    "- `values_fill`：若表变宽后单元格缺失，参数会指定填充的数值。"
   ]
  },
  {
   "cell_type": "code",
   "execution_count": 19,
   "metadata": {
    "vscode": {
     "languageId": "r"
    }
   },
   "outputs": [
    {
     "name": "stdout",
     "output_type": "stream",
     "text": [
      "\u001b[90m# A tibble: 6 × 5\u001b[39m\n",
      "  artist track                   date.entered week   rank\n",
      "  \u001b[3m\u001b[90m<chr>\u001b[39m\u001b[23m  \u001b[3m\u001b[90m<chr>\u001b[39m\u001b[23m                   \u001b[3m\u001b[90m<date>\u001b[39m\u001b[23m       \u001b[3m\u001b[90m<chr>\u001b[39m\u001b[23m \u001b[3m\u001b[90m<dbl>\u001b[39m\u001b[23m\n",
      "\u001b[90m1\u001b[39m 2 Pac  Baby Don't Cry (Keep... 2000-02-26   1        87\n",
      "\u001b[90m2\u001b[39m 2 Pac  Baby Don't Cry (Keep... 2000-02-26   2        82\n",
      "\u001b[90m3\u001b[39m 2 Pac  Baby Don't Cry (Keep... 2000-02-26   3        72\n",
      "\u001b[90m4\u001b[39m 2 Pac  Baby Don't Cry (Keep... 2000-02-26   4        77\n",
      "\u001b[90m5\u001b[39m 2 Pac  Baby Don't Cry (Keep... 2000-02-26   5        87\n",
      "\u001b[90m6\u001b[39m 2 Pac  Baby Don't Cry (Keep... 2000-02-26   6        94\n"
     ]
    }
   ],
   "source": [
    "longer <- billboard %>%\n",
    "  pivot_longer(\n",
    "    cols = starts_with(\"wk\"),\n",
    "    names_to = \"week\",\n",
    "    names_prefix = \"wk\" ,\n",
    "    values_to = \"rank\",\n",
    "    values_drop_na = TRUE\n",
    "  )\n",
    "print(head(longer))"
   ]
  },
  {
   "cell_type": "code",
   "execution_count": 21,
   "metadata": {
    "vscode": {
     "languageId": "r"
    }
   },
   "outputs": [
    {
     "name": "stdout",
     "output_type": "stream",
     "text": [
      "\u001b[90m# A tibble: 6 × 68\u001b[39m\n",
      "  artist      track date.entered   wk1   wk2   wk3   wk4   wk5   wk6   wk7   wk8\n",
      "  \u001b[3m\u001b[90m<chr>\u001b[39m\u001b[23m       \u001b[3m\u001b[90m<chr>\u001b[39m\u001b[23m \u001b[3m\u001b[90m<date>\u001b[39m\u001b[23m       \u001b[3m\u001b[90m<dbl>\u001b[39m\u001b[23m \u001b[3m\u001b[90m<dbl>\u001b[39m\u001b[23m \u001b[3m\u001b[90m<dbl>\u001b[39m\u001b[23m \u001b[3m\u001b[90m<dbl>\u001b[39m\u001b[23m \u001b[3m\u001b[90m<dbl>\u001b[39m\u001b[23m \u001b[3m\u001b[90m<dbl>\u001b[39m\u001b[23m \u001b[3m\u001b[90m<dbl>\u001b[39m\u001b[23m \u001b[3m\u001b[90m<dbl>\u001b[39m\u001b[23m\n",
      "\u001b[90m1\u001b[39m 2 Pac       Baby… 2000-02-26      87    82    72    77    87    94    99    \u001b[31mNA\u001b[39m\n",
      "\u001b[90m2\u001b[39m 2Ge+her     The … 2000-09-02      91    87    92    \u001b[31mNA\u001b[39m    \u001b[31mNA\u001b[39m    \u001b[31mNA\u001b[39m    \u001b[31mNA\u001b[39m    \u001b[31mNA\u001b[39m\n",
      "\u001b[90m3\u001b[39m 3 Doors Do… Kryp… 2000-04-08      81    70    68    67    66    57    54    53\n",
      "\u001b[90m4\u001b[39m 3 Doors Do… Loser 2000-10-21      76    76    72    69    67    65    55    59\n",
      "\u001b[90m5\u001b[39m 504 Boyz    Wobb… 2000-04-15      57    34    25    17    17    31    36    49\n",
      "\u001b[90m6\u001b[39m 98^0        Give… 2000-08-19      51    39    34    26    26    19     2     2\n",
      "\u001b[90m# ℹ 57 more variables: wk9 <dbl>, wk10 <dbl>, wk11 <dbl>, wk12 <dbl>,\u001b[39m\n",
      "\u001b[90m#   wk13 <dbl>, wk14 <dbl>, wk15 <dbl>, wk16 <dbl>, wk17 <dbl>, wk18 <dbl>,\u001b[39m\n",
      "\u001b[90m#   wk19 <dbl>, wk20 <dbl>, wk21 <dbl>, wk22 <dbl>, wk23 <dbl>, wk24 <dbl>,\u001b[39m\n",
      "\u001b[90m#   wk25 <dbl>, wk26 <dbl>, wk27 <dbl>, wk28 <dbl>, wk29 <dbl>, wk30 <dbl>,\u001b[39m\n",
      "\u001b[90m#   wk31 <dbl>, wk32 <dbl>, wk33 <dbl>, wk34 <dbl>, wk35 <dbl>, wk36 <dbl>,\u001b[39m\n",
      "\u001b[90m#   wk37 <dbl>, wk38 <dbl>, wk39 <dbl>, wk40 <dbl>, wk41 <dbl>, wk42 <dbl>,\u001b[39m\n",
      "\u001b[90m#   wk43 <dbl>, wk44 <dbl>, wk45 <dbl>, wk46 <dbl>, wk47 <dbl>, wk48 <dbl>, …\u001b[39m\n"
     ]
    }
   ],
   "source": [
    "result6 <- pivot_wider(\n",
    "  longer,\n",
    "  names_from = week,\n",
    "  values_from =  rank,\n",
    "  names_prefix = \"wk\"\n",
    ")\n",
    "print(head(result6))"
   ]
  },
  {
   "cell_type": "code",
   "execution_count": 22,
   "metadata": {
    "vscode": {
     "languageId": "r"
    }
   },
   "outputs": [
    {
     "name": "stdout",
     "output_type": "stream",
     "text": [
      "\u001b[90m# A tibble: 6 × 5\u001b[39m\n",
      "  GEOID NAME    variable estimate   moe\n",
      "  \u001b[3m\u001b[90m<chr>\u001b[39m\u001b[23m \u001b[3m\u001b[90m<chr>\u001b[39m\u001b[23m   \u001b[3m\u001b[90m<chr>\u001b[39m\u001b[23m       \u001b[3m\u001b[90m<dbl>\u001b[39m\u001b[23m \u001b[3m\u001b[90m<dbl>\u001b[39m\u001b[23m\n",
      "\u001b[90m1\u001b[39m 01    Alabama income      \u001b[4m2\u001b[24m\u001b[4m4\u001b[24m476   136\n",
      "\u001b[90m2\u001b[39m 01    Alabama rent          747     3\n",
      "\u001b[90m3\u001b[39m 02    Alaska  income      \u001b[4m3\u001b[24m\u001b[4m2\u001b[24m940   508\n",
      "\u001b[90m4\u001b[39m 02    Alaska  rent         \u001b[4m1\u001b[24m200    13\n",
      "\u001b[90m5\u001b[39m 04    Arizona income      \u001b[4m2\u001b[24m\u001b[4m7\u001b[24m517   148\n",
      "\u001b[90m6\u001b[39m 04    Arizona rent          972     4\n"
     ]
    }
   ],
   "source": [
    "print(head(us_rent_income))"
   ]
  },
  {
   "cell_type": "code",
   "execution_count": 25,
   "metadata": {
    "vscode": {
     "languageId": "r"
    }
   },
   "outputs": [
    {
     "name": "stdout",
     "output_type": "stream",
     "text": [
      "\u001b[90m# A tibble: 6 × 6\u001b[39m\n",
      "  GEOID NAME       estimate_income estimate_rent moe_income moe_rent\n",
      "  \u001b[3m\u001b[90m<chr>\u001b[39m\u001b[23m \u001b[3m\u001b[90m<chr>\u001b[39m\u001b[23m                \u001b[3m\u001b[90m<dbl>\u001b[39m\u001b[23m         \u001b[3m\u001b[90m<dbl>\u001b[39m\u001b[23m      \u001b[3m\u001b[90m<dbl>\u001b[39m\u001b[23m    \u001b[3m\u001b[90m<dbl>\u001b[39m\u001b[23m\n",
      "\u001b[90m1\u001b[39m 01    Alabama              \u001b[4m2\u001b[24m\u001b[4m4\u001b[24m476           747        136        3\n",
      "\u001b[90m2\u001b[39m 02    Alaska               \u001b[4m3\u001b[24m\u001b[4m2\u001b[24m940          \u001b[4m1\u001b[24m200        508       13\n",
      "\u001b[90m3\u001b[39m 04    Arizona              \u001b[4m2\u001b[24m\u001b[4m7\u001b[24m517           972        148        4\n",
      "\u001b[90m4\u001b[39m 05    Arkansas             \u001b[4m2\u001b[24m\u001b[4m3\u001b[24m789           709        165        5\n",
      "\u001b[90m5\u001b[39m 06    California           \u001b[4m2\u001b[24m\u001b[4m9\u001b[24m454          \u001b[4m1\u001b[24m358        109        3\n",
      "\u001b[90m6\u001b[39m 08    Colorado             \u001b[4m3\u001b[24m\u001b[4m2\u001b[24m401          \u001b[4m1\u001b[24m125        109        5\n"
     ]
    }
   ],
   "source": [
    "result7 <- us_rent_income %>%\n",
    "  pivot_wider(\n",
    "    names_from = variable,\n",
    "    values_from = c(estimate, moe)\n",
    "  )\n",
    "print(head(result7))"
   ]
  },
  {
   "cell_type": "markdown",
   "metadata": {},
   "source": [
    "在转换成宽格式的时候，要注意`id_cols`识别列的选取，<span style = 'color:red'><strong>要保证值能够唯一识别</strong></span>，不然可能得到错误的结果。"
   ]
  },
  {
   "attachments": {},
   "cell_type": "markdown",
   "metadata": {},
   "source": [
    "### 将单列拆分成多列"
   ]
  },
  {
   "attachments": {},
   "cell_type": "markdown",
   "metadata": {},
   "source": [
    "如果一字段列的所有值都是字符串，且有一定的规律。可以将该列的所有值按此规律拆分到许多新列中。`separate()`函数可以实现新功能:"
   ]
  },
  {
   "cell_type": "markdown",
   "metadata": {},
   "source": [
    "```r\n",
    "separate(data, col, into, sep...)\n",
    "```\n",
    "其中col表示要拆分的列，into表示拆开的列，sep指定要根据什么分隔符拆分。"
   ]
  },
  {
   "cell_type": "code",
   "execution_count": 29,
   "metadata": {
    "vscode": {
     "languageId": "r"
    }
   },
   "outputs": [
    {
     "name": "stdout",
     "output_type": "stream",
     "text": [
      "\u001b[90m# A tibble: 6 × 3\u001b[39m\n",
      "  country      year rate             \n",
      "  \u001b[3m\u001b[90m<chr>\u001b[39m\u001b[23m       \u001b[3m\u001b[90m<dbl>\u001b[39m\u001b[23m \u001b[3m\u001b[90m<chr>\u001b[39m\u001b[23m            \n",
      "\u001b[90m1\u001b[39m Afghanistan  \u001b[4m1\u001b[24m999 745/19987071     \n",
      "\u001b[90m2\u001b[39m Afghanistan  \u001b[4m2\u001b[24m000 2666/20595360    \n",
      "\u001b[90m3\u001b[39m Brazil       \u001b[4m1\u001b[24m999 37737/172006362  \n",
      "\u001b[90m4\u001b[39m Brazil       \u001b[4m2\u001b[24m000 80488/174504898  \n",
      "\u001b[90m5\u001b[39m China        \u001b[4m1\u001b[24m999 212258/1272915272\n",
      "\u001b[90m6\u001b[39m China        \u001b[4m2\u001b[24m000 213766/1280428583\n"
     ]
    }
   ],
   "source": [
    "print(table3)"
   ]
  },
  {
   "cell_type": "code",
   "execution_count": 32,
   "metadata": {
    "vscode": {
     "languageId": "r"
    }
   },
   "outputs": [
    {
     "name": "stdout",
     "output_type": "stream",
     "text": [
      "\u001b[90m# A tibble: 6 × 4\u001b[39m\n",
      "  country      year cases  population\n",
      "  \u001b[3m\u001b[90m<chr>\u001b[39m\u001b[23m       \u001b[3m\u001b[90m<dbl>\u001b[39m\u001b[23m \u001b[3m\u001b[90m<chr>\u001b[39m\u001b[23m  \u001b[3m\u001b[90m<chr>\u001b[39m\u001b[23m     \n",
      "\u001b[90m1\u001b[39m Afghanistan  \u001b[4m1\u001b[24m999 745    19987071  \n",
      "\u001b[90m2\u001b[39m Afghanistan  \u001b[4m2\u001b[24m000 2666   20595360  \n",
      "\u001b[90m3\u001b[39m Brazil       \u001b[4m1\u001b[24m999 37737  172006362 \n",
      "\u001b[90m4\u001b[39m Brazil       \u001b[4m2\u001b[24m000 80488  174504898 \n",
      "\u001b[90m5\u001b[39m China        \u001b[4m1\u001b[24m999 212258 1272915272\n",
      "\u001b[90m6\u001b[39m China        \u001b[4m2\u001b[24m000 213766 1280428583\n"
     ]
    }
   ],
   "source": [
    "output1 <- table3 %>%\n",
    "  separate(\n",
    "           rate,\n",
    "           into = c(\"cases\", \"population\"),\n",
    "           sep = \"/\")\n",
    "print(output1)"
   ]
  },
  {
   "cell_type": "markdown",
   "metadata": {},
   "source": [
    "另外`extract()`函数也可以实现此功能，不过是利用正则表达式的分组捕获功能，直接从一列中提取出多组信息，并生成多个列。"
   ]
  },
  {
   "cell_type": "markdown",
   "metadata": {},
   "source": [
    "```r\n",
    "extract(data, col, into, regex...)\n",
    "```\n",
    "regex指定要根据什么正则表达式进行拆分（捕获分组）。"
   ]
  },
  {
   "cell_type": "code",
   "execution_count": 35,
   "metadata": {
    "vscode": {
     "languageId": "r"
    }
   },
   "outputs": [
    {
     "name": "stdout",
     "output_type": "stream",
     "text": [
      "\u001b[90m# A tibble: 4 × 1\u001b[39m\n",
      "  x    \n",
      "  \u001b[3m\u001b[90m<chr>\u001b[39m\u001b[23m\n",
      "\u001b[90m1\u001b[39m a-b  \n",
      "\u001b[90m2\u001b[39m a-d  \n",
      "\u001b[90m3\u001b[39m b-c  \n",
      "\u001b[90m4\u001b[39m d-e  \n"
     ]
    }
   ],
   "source": [
    "df <- tibble(x = c(\"a-b\", \"a-d\", \"b-c\", \"d-e\"))\n",
    "print(df)"
   ]
  },
  {
   "cell_type": "code",
   "execution_count": 43,
   "metadata": {
    "vscode": {
     "languageId": "r"
    }
   },
   "outputs": [
    {
     "name": "stdout",
     "output_type": "stream",
     "text": [
      "\u001b[90m# A tibble: 4 × 2\u001b[39m\n",
      "  first second\n",
      "  \u001b[3m\u001b[90m<chr>\u001b[39m\u001b[23m \u001b[3m\u001b[90m<chr>\u001b[39m\u001b[23m \n",
      "\u001b[90m1\u001b[39m a     b     \n",
      "\u001b[90m2\u001b[39m a     d     \n",
      "\u001b[90m3\u001b[39m b     c     \n",
      "\u001b[90m4\u001b[39m d     e     \n"
     ]
    }
   ],
   "source": [
    "output2 <- df %>%\n",
    "  extract(\n",
    "    col = x,\n",
    "    into = c(\"first\", \"second\"),\n",
    "    regex = \"(\\\\w)-(\\\\w)\"\n",
    "  )\n",
    "print(output2)"
   ]
  },
  {
   "cell_type": "markdown",
   "metadata": {},
   "source": [
    "tidyr新版本中又有三个与此功能类似的函数：`separate_wider_delim()`, `separate_wider_position()`和`separate_wider_regex()`。其中`separate_wider_regex()`函数也是`extract()`函数的替代。"
   ]
  },
  {
   "attachments": {},
   "cell_type": "markdown",
   "metadata": {},
   "source": [
    "#### separate_wider_regex()"
   ]
  },
  {
   "attachments": {},
   "cell_type": "markdown",
   "metadata": {},
   "source": [
    "该函数能够按照正则表达式拆分列，主要参数如下：\n",
    "- `data`：指定数据集。\n",
    "- `cols`：指定要拆分的字符串列。\n",
    "- `patterns`：通过正则表达式确定拆分列。可以写成类似于c(col1 = \" . \", \" . \", col2 = \" . \")的形式。\n",
    "- `too_few`：\"error\", \"debug\", \"align_start\"三个值中任意一个。正则表达式书写不当可能造成拆分时因无法匹配造成缺失值无法成为列。默认取值为“error”，返回报错信息。“debug”，可以帮助找到并解决潜在问题。常常用于调试。 “align_start”，它对齐短匹配的开头，并在末尾添加 NA 值以填充到正确的长度。这意味着，如果一个值分成太少的部分，该函数将在输出列的末尾添加 NA 值，以确保它们的长度与其他列相同。\n"
   ]
  },
  {
   "cell_type": "code",
   "execution_count": 26,
   "metadata": {
    "vscode": {
     "languageId": "r"
    }
   },
   "outputs": [
    {
     "name": "stdout",
     "output_type": "stream",
     "text": [
      "\u001b[90m# A tibble: 3 × 3\u001b[39m\n",
      "     id sex   order\n",
      "  \u001b[3m\u001b[90m<int>\u001b[39m\u001b[23m \u001b[3m\u001b[90m<chr>\u001b[39m\u001b[23m \u001b[3m\u001b[90m<chr>\u001b[39m\u001b[23m\n",
      "\u001b[90m1\u001b[39m     1 m     123  \n",
      "\u001b[90m2\u001b[39m     2 f     455  \n",
      "\u001b[90m3\u001b[39m     3 f     123  \n"
     ]
    }
   ],
   "source": [
    "output1 <- tibble(id = 1:3, x = c(\"m-123\", \"f-455\", \"f-123\"))%>%\n",
    "     separate_wider_regex(col = x, patterns = c(sex = \"\\\\w\", \"-\", order = \"\\\\d+\"))\n",
    "print(output1)"
   ]
  },
  {
   "cell_type": "code",
   "execution_count": 27,
   "metadata": {
    "vscode": {
     "languageId": "r"
    }
   },
   "outputs": [
    {
     "name": "stderr",
     "output_type": "stream",
     "text": [
      "Warning message:\n",
      "\"\u001b[1m\u001b[22mDebug mode activated: adding variables `x_ok`, `x_matches`, and `x_remainder`.\"\n"
     ]
    },
    {
     "name": "stdout",
     "output_type": "stream",
     "text": [
      "\u001b[90m# A tibble: 3 × 7\u001b[39m\n",
      "     id sex   order x      x_ok  x_matches x_remainder\n",
      "  \u001b[3m\u001b[90m<int>\u001b[39m\u001b[23m \u001b[3m\u001b[90m<chr>\u001b[39m\u001b[23m \u001b[3m\u001b[90m<chr>\u001b[39m\u001b[23m \u001b[3m\u001b[90m<chr>\u001b[39m\u001b[23m  \u001b[3m\u001b[90m<lgl>\u001b[39m\u001b[23m     \u001b[3m\u001b[90m<int>\u001b[39m\u001b[23m \u001b[3m\u001b[90m<chr>\u001b[39m\u001b[23m      \n",
      "\u001b[90m1\u001b[39m     1 m     \u001b[31mNA\u001b[39m    m--123 FALSE         2 \u001b[90m\"\u001b[39m-123\u001b[90m\"\u001b[39m     \n",
      "\u001b[90m2\u001b[39m     2 f     \u001b[31mNA\u001b[39m    f455   FALSE         1 \u001b[90m\"\u001b[39m455\u001b[90m\"\u001b[39m      \n",
      "\u001b[90m3\u001b[39m     3 f     123   f-123  TRUE          3 \u001b[90m\"\u001b[39m\u001b[90m\"\u001b[39m         \n"
     ]
    }
   ],
   "source": [
    "output2 <- tibble(id = 1:3, x = c(\"m--123\", \"f455\", \"f-123\"))%>%\n",
    "  separate_wider_regex(\n",
    "    col = x, \n",
    "    patterns = c(sex = \"\\\\w\",\"-\",order = \"\\\\d{3}\"),\n",
    "    too_few = \"debug\")\n",
    "print(output2)"
   ]
  },
  {
   "attachments": {},
   "cell_type": "markdown",
   "metadata": {},
   "source": [
    "### 将多列合并成单列"
   ]
  },
  {
   "attachments": {},
   "cell_type": "markdown",
   "metadata": {},
   "source": [
    "与separate()相反，`unite()`函数将多列合并成多列，其参数：\n",
    "- `data`：被操作的数据集。\n",
    "- `col`：作为合并后新列的名称。\n",
    "- `...`：被合并的所有列。\n",
    "- `sep`：值之间的分隔符号。\n",
    "- `remove`：决定是否去掉合并前的列，默认为TRUE。\n",
    "- `na.rm`：决定以及在合并每个值之前删除缺失值。"
   ]
  },
  {
   "cell_type": "code",
   "execution_count": 45,
   "metadata": {
    "vscode": {
     "languageId": "r"
    }
   },
   "outputs": [
    {
     "name": "stdout",
     "output_type": "stream",
     "text": [
      "\u001b[90m# A tibble: 6 × 4\u001b[39m\n",
      "  country     century year  rate             \n",
      "  \u001b[3m\u001b[90m<chr>\u001b[39m\u001b[23m       \u001b[3m\u001b[90m<chr>\u001b[39m\u001b[23m   \u001b[3m\u001b[90m<chr>\u001b[39m\u001b[23m \u001b[3m\u001b[90m<chr>\u001b[39m\u001b[23m            \n",
      "\u001b[90m1\u001b[39m Afghanistan 19      99    745/19987071     \n",
      "\u001b[90m2\u001b[39m Afghanistan 20      00    2666/20595360    \n",
      "\u001b[90m3\u001b[39m Brazil      19      99    37737/172006362  \n",
      "\u001b[90m4\u001b[39m Brazil      20      00    80488/174504898  \n",
      "\u001b[90m5\u001b[39m China       19      99    212258/1272915272\n",
      "\u001b[90m6\u001b[39m China       20      00    213766/1280428583\n"
     ]
    }
   ],
   "source": [
    "print(table5)"
   ]
  },
  {
   "cell_type": "code",
   "execution_count": 50,
   "metadata": {
    "vscode": {
     "languageId": "r"
    }
   },
   "outputs": [
    {
     "name": "stdout",
     "output_type": "stream",
     "text": [
      "\u001b[90m# A tibble: 6 × 3\u001b[39m\n",
      "  country     date  rate             \n",
      "  \u001b[3m\u001b[90m<chr>\u001b[39m\u001b[23m       \u001b[3m\u001b[90m<chr>\u001b[39m\u001b[23m \u001b[3m\u001b[90m<chr>\u001b[39m\u001b[23m            \n",
      "\u001b[90m1\u001b[39m Afghanistan 1999  745/19987071     \n",
      "\u001b[90m2\u001b[39m Afghanistan 2000  2666/20595360    \n",
      "\u001b[90m3\u001b[39m Brazil      1999  37737/172006362  \n",
      "\u001b[90m4\u001b[39m Brazil      2000  80488/174504898  \n",
      "\u001b[90m5\u001b[39m China       1999  212258/1272915272\n",
      "\u001b[90m6\u001b[39m China       2000  213766/1280428583\n"
     ]
    }
   ],
   "source": [
    "output3 <- table5 %>%\n",
    "  unite(date, c(century, year), sep = \"\")\n",
    "print(output3)"
   ]
  },
  {
   "cell_type": "markdown",
   "metadata": {},
   "source": [
    "以下有个综合例子："
   ]
  },
  {
   "cell_type": "code",
   "execution_count": 51,
   "metadata": {
    "vscode": {
     "languageId": "r"
    }
   },
   "outputs": [
    {
     "name": "stdout",
     "output_type": "stream",
     "text": [
      "\u001b[90m# A tibble: 6 × 20\u001b[39m\n",
      "  country indicator       `2000`  `2001`  `2002`  `2003`  `2004`  `2005`  `2006`\n",
      "  \u001b[3m\u001b[90m<chr>\u001b[39m\u001b[23m   \u001b[3m\u001b[90m<chr>\u001b[39m\u001b[23m            \u001b[3m\u001b[90m<dbl>\u001b[39m\u001b[23m   \u001b[3m\u001b[90m<dbl>\u001b[39m\u001b[23m   \u001b[3m\u001b[90m<dbl>\u001b[39m\u001b[23m   \u001b[3m\u001b[90m<dbl>\u001b[39m\u001b[23m   \u001b[3m\u001b[90m<dbl>\u001b[39m\u001b[23m   \u001b[3m\u001b[90m<dbl>\u001b[39m\u001b[23m   \u001b[3m\u001b[90m<dbl>\u001b[39m\u001b[23m\n",
      "\u001b[90m1\u001b[39m ABW     SP.URB.TOTL     4.16\u001b[90me\u001b[39m4 4.20\u001b[90me\u001b[39m+4 4.22\u001b[90me\u001b[39m+4 4.23\u001b[90me\u001b[39m+4 4.23\u001b[90me\u001b[39m+4 4.24\u001b[90me\u001b[39m+4 4.26\u001b[90me\u001b[39m+4\n",
      "\u001b[90m2\u001b[39m ABW     SP.URB.GROW     1.66\u001b[90me\u001b[39m0 9.56\u001b[90me\u001b[39m\u001b[31m-1\u001b[39m 4.01\u001b[90me\u001b[39m\u001b[31m-1\u001b[39m 1.97\u001b[90me\u001b[39m\u001b[31m-1\u001b[39m 9.46\u001b[90me\u001b[39m\u001b[31m-2\u001b[39m 1.94\u001b[90me\u001b[39m\u001b[31m-1\u001b[39m 3.67\u001b[90me\u001b[39m\u001b[31m-1\u001b[39m\n",
      "\u001b[90m3\u001b[39m ABW     SP.POP.TOTL     8.91\u001b[90me\u001b[39m4 9.07\u001b[90me\u001b[39m+4 9.18\u001b[90me\u001b[39m+4 9.27\u001b[90me\u001b[39m+4 9.35\u001b[90me\u001b[39m+4 9.45\u001b[90me\u001b[39m+4 9.56\u001b[90me\u001b[39m+4\n",
      "\u001b[90m4\u001b[39m ABW     SP.POP.GROW     2.54\u001b[90me\u001b[39m0 1.77\u001b[90me\u001b[39m+0 1.19\u001b[90me\u001b[39m+0 9.97\u001b[90me\u001b[39m\u001b[31m-1\u001b[39m 9.01\u001b[90me\u001b[39m\u001b[31m-1\u001b[39m 1.00\u001b[90me\u001b[39m+0 1.18\u001b[90me\u001b[39m+0\n",
      "\u001b[90m5\u001b[39m AFE     SP.URB.TOTL     1.16\u001b[90me\u001b[39m8 1.20\u001b[90me\u001b[39m+8 1.24\u001b[90me\u001b[39m+8 1.29\u001b[90me\u001b[39m+8 1.34\u001b[90me\u001b[39m+8 1.39\u001b[90me\u001b[39m+8 1.44\u001b[90me\u001b[39m+8\n",
      "\u001b[90m6\u001b[39m AFE     SP.URB.GROW     3.60\u001b[90me\u001b[39m0 3.66\u001b[90me\u001b[39m+0 3.72\u001b[90me\u001b[39m+0 3.71\u001b[90me\u001b[39m+0 3.74\u001b[90me\u001b[39m+0 3.81\u001b[90me\u001b[39m+0 3.81\u001b[90me\u001b[39m+0\n",
      "\u001b[90m# ℹ 11 more variables: `2007` <dbl>, `2008` <dbl>, `2009` <dbl>, `2010` <dbl>,\u001b[39m\n",
      "\u001b[90m#   `2011` <dbl>, `2012` <dbl>, `2013` <dbl>, `2014` <dbl>, `2015` <dbl>,\u001b[39m\n",
      "\u001b[90m#   `2016` <dbl>, `2017` <dbl>\u001b[39m\n"
     ]
    }
   ],
   "source": [
    "print(head(world_bank_pop))"
   ]
  },
  {
   "cell_type": "code",
   "execution_count": 55,
   "metadata": {
    "vscode": {
     "languageId": "r"
    }
   },
   "outputs": [
    {
     "name": "stdout",
     "output_type": "stream",
     "text": [
      "\u001b[90m# A tibble: 6 × 4\u001b[39m\n",
      "  country indicator   year  value\n",
      "  \u001b[3m\u001b[90m<chr>\u001b[39m\u001b[23m   \u001b[3m\u001b[90m<chr>\u001b[39m\u001b[23m       \u001b[3m\u001b[90m<chr>\u001b[39m\u001b[23m \u001b[3m\u001b[90m<dbl>\u001b[39m\u001b[23m\n",
      "\u001b[90m1\u001b[39m ABW     SP.URB.TOTL 2000  \u001b[4m4\u001b[24m\u001b[4m1\u001b[24m625\n",
      "\u001b[90m2\u001b[39m ABW     SP.URB.TOTL 2001  \u001b[4m4\u001b[24m\u001b[4m2\u001b[24m025\n",
      "\u001b[90m3\u001b[39m ABW     SP.URB.TOTL 2002  \u001b[4m4\u001b[24m\u001b[4m2\u001b[24m194\n",
      "\u001b[90m4\u001b[39m ABW     SP.URB.TOTL 2003  \u001b[4m4\u001b[24m\u001b[4m2\u001b[24m277\n",
      "\u001b[90m5\u001b[39m ABW     SP.URB.TOTL 2004  \u001b[4m4\u001b[24m\u001b[4m2\u001b[24m317\n",
      "\u001b[90m6\u001b[39m ABW     SP.URB.TOTL 2005  \u001b[4m4\u001b[24m\u001b[4m2\u001b[24m399\n"
     ]
    }
   ],
   "source": [
    "tidy1 <- world_bank_pop %>%\n",
    "  pivot_longer(\n",
    "    -c(country, indicator),\n",
    "    names_to = \"year\",\n",
    "    values_to = \"value\"\n",
    "  )\n",
    "print(head(tidy1))"
   ]
  },
  {
   "cell_type": "code",
   "execution_count": 62,
   "metadata": {
    "vscode": {
     "languageId": "r"
    }
   },
   "outputs": [
    {
     "name": "stdout",
     "output_type": "stream",
     "text": [
      "\u001b[90m# A tibble: 19,152 × 5\u001b[39m\n",
      "   country area  variable year  value\n",
      "   \u001b[3m\u001b[90m<chr>\u001b[39m\u001b[23m   \u001b[3m\u001b[90m<chr>\u001b[39m\u001b[23m \u001b[3m\u001b[90m<chr>\u001b[39m\u001b[23m    \u001b[3m\u001b[90m<chr>\u001b[39m\u001b[23m \u001b[3m\u001b[90m<dbl>\u001b[39m\u001b[23m\n",
      "\u001b[90m 1\u001b[39m ABW     URB   TOTL     2000  \u001b[4m4\u001b[24m\u001b[4m1\u001b[24m625\n",
      "\u001b[90m 2\u001b[39m ABW     URB   TOTL     2001  \u001b[4m4\u001b[24m\u001b[4m2\u001b[24m025\n",
      "\u001b[90m 3\u001b[39m ABW     URB   TOTL     2002  \u001b[4m4\u001b[24m\u001b[4m2\u001b[24m194\n",
      "\u001b[90m 4\u001b[39m ABW     URB   TOTL     2003  \u001b[4m4\u001b[24m\u001b[4m2\u001b[24m277\n",
      "\u001b[90m 5\u001b[39m ABW     URB   TOTL     2004  \u001b[4m4\u001b[24m\u001b[4m2\u001b[24m317\n",
      "\u001b[90m 6\u001b[39m ABW     URB   TOTL     2005  \u001b[4m4\u001b[24m\u001b[4m2\u001b[24m399\n",
      "\u001b[90m 7\u001b[39m ABW     URB   TOTL     2006  \u001b[4m4\u001b[24m\u001b[4m2\u001b[24m555\n",
      "\u001b[90m 8\u001b[39m ABW     URB   TOTL     2007  \u001b[4m4\u001b[24m\u001b[4m2\u001b[24m729\n",
      "\u001b[90m 9\u001b[39m ABW     URB   TOTL     2008  \u001b[4m4\u001b[24m\u001b[4m2\u001b[24m906\n",
      "\u001b[90m10\u001b[39m ABW     URB   TOTL     2009  \u001b[4m4\u001b[24m\u001b[4m3\u001b[24m079\n",
      "\u001b[90m# ℹ 19,142 more rows\u001b[39m\n"
     ]
    }
   ],
   "source": [
    "tidy2 <- tidy1 %>%\n",
    "  separate(\n",
    "    indicator,\n",
    "    c(NA, \"area\", \"variable\"),\n",
    "    sep = \"\\\\.\"\n",
    "  )\n",
    "print(tidy2)"
   ]
  },
  {
   "cell_type": "code",
   "execution_count": 63,
   "metadata": {
    "vscode": {
     "languageId": "r"
    }
   },
   "outputs": [
    {
     "name": "stdout",
     "output_type": "stream",
     "text": [
      "\u001b[90m# A tibble: 9,576 × 5\u001b[39m\n",
      "   country area  year   TOTL   GROW\n",
      "   \u001b[3m\u001b[90m<chr>\u001b[39m\u001b[23m   \u001b[3m\u001b[90m<chr>\u001b[39m\u001b[23m \u001b[3m\u001b[90m<chr>\u001b[39m\u001b[23m \u001b[3m\u001b[90m<dbl>\u001b[39m\u001b[23m  \u001b[3m\u001b[90m<dbl>\u001b[39m\u001b[23m\n",
      "\u001b[90m 1\u001b[39m ABW     URB   2000  \u001b[4m4\u001b[24m\u001b[4m1\u001b[24m625 1.66  \n",
      "\u001b[90m 2\u001b[39m ABW     URB   2001  \u001b[4m4\u001b[24m\u001b[4m2\u001b[24m025 0.956 \n",
      "\u001b[90m 3\u001b[39m ABW     URB   2002  \u001b[4m4\u001b[24m\u001b[4m2\u001b[24m194 0.401 \n",
      "\u001b[90m 4\u001b[39m ABW     URB   2003  \u001b[4m4\u001b[24m\u001b[4m2\u001b[24m277 0.197 \n",
      "\u001b[90m 5\u001b[39m ABW     URB   2004  \u001b[4m4\u001b[24m\u001b[4m2\u001b[24m317 0.094\u001b[4m6\u001b[24m\n",
      "\u001b[90m 6\u001b[39m ABW     URB   2005  \u001b[4m4\u001b[24m\u001b[4m2\u001b[24m399 0.194 \n",
      "\u001b[90m 7\u001b[39m ABW     URB   2006  \u001b[4m4\u001b[24m\u001b[4m2\u001b[24m555 0.367 \n",
      "\u001b[90m 8\u001b[39m ABW     URB   2007  \u001b[4m4\u001b[24m\u001b[4m2\u001b[24m729 0.408 \n",
      "\u001b[90m 9\u001b[39m ABW     URB   2008  \u001b[4m4\u001b[24m\u001b[4m2\u001b[24m906 0.413 \n",
      "\u001b[90m10\u001b[39m ABW     URB   2009  \u001b[4m4\u001b[24m\u001b[4m3\u001b[24m079 0.402 \n",
      "\u001b[90m# ℹ 9,566 more rows\u001b[39m\n"
     ]
    }
   ],
   "source": [
    "tidy3 <- tidy2 %>%\n",
    "  pivot_wider(\n",
    "    names_from = \"variable\",\n",
    "    values_from = \"value\"\n",
    "  )\n",
    "print(tidy3)"
   ]
  },
  {
   "cell_type": "markdown",
   "metadata": {},
   "source": [
    "### 方形化"
   ]
  },
  {
   "attachments": {},
   "cell_type": "markdown",
   "metadata": {},
   "source": [
    "## 使用magrittr进行管道符操作"
   ]
  },
  {
   "attachments": {},
   "cell_type": "markdown",
   "metadata": {},
   "source": [
    "使用管道符方法时：`x %>% f(y)`会转换为`f(x, y)`，`x %>% f(y) %>% g(z)`会转换为`g(f(x, y), z)`，以此类推。可以使用管道写多种操作，将其变为能够从左到右或从上到下阅读。使用管道时需要注意：数据经过管道默认传给函数的第一个参数（通常直接被省略），如果要在非第一个参数出使用该数据，<span style = 'color:red'><strong>必须要用“.”代替，不可省略！</strong></span>"
   ]
  },
  {
   "cell_type": "code",
   "execution_count": null,
   "metadata": {
    "vscode": {
     "languageId": "r"
    }
   },
   "outputs": [
    {
     "data": {
      "text/plain": [
       "[[1]]\n",
       "\n",
       "Call:\n",
       "lm(formula = mpg ~ disp, data = .)\n",
       "\n",
       "Coefficients:\n",
       "(Intercept)         disp  \n",
       "   24.51557     -0.02577  \n",
       "\n",
       "\n",
       "[[2]]\n",
       "\n",
       "Call:\n",
       "lm(formula = mpg ~ disp, data = .)\n",
       "\n",
       "Coefficients:\n",
       "(Intercept)         disp  \n",
       "    39.5675      -0.1222  \n",
       "\n",
       "\n",
       "[[3]]\n",
       "\n",
       "Call:\n",
       "lm(formula = mpg ~ disp, data = .)\n",
       "\n",
       "Coefficients:\n",
       "(Intercept)         disp  \n",
       "   31.66095     -0.05078  \n",
       "\n"
      ]
     },
     "metadata": {},
     "output_type": "display_data"
    }
   ],
   "source": [
    "library(tidyverse)\n",
    "mtcars %>%\n",
    "  group_split(gear) %>%\n",
    "  map(~ lm(mpg ~ disp, data = .))"
   ]
  },
  {
   "attachments": {},
   "cell_type": "markdown",
   "metadata": {},
   "source": [
    "## 使用stringr处理字符串"
   ]
  },
  {
   "attachments": {},
   "cell_type": "markdown",
   "metadata": {},
   "source": [
    "### 正则表达式(regular expression, regexp)"
   ]
  },
  {
   "attachments": {},
   "cell_type": "markdown",
   "metadata": {},
   "source": [
    "正则表达式是对字符串（包括普通字符（例如a到z之间的字母））和特殊字符（元字符）进行操作的一种逻辑公式，我们需要使用正则表达式进行模式匹配。简单来说，符合逻辑匹配条件的部分会被筛选出来。"
   ]
  },
  {
   "attachments": {},
   "cell_type": "markdown",
   "metadata": {},
   "source": [
    "按照功能对基础的正则表达式进行归纳："
   ]
  },
  {
   "attachments": {},
   "cell_type": "markdown",
   "metadata": {},
   "source": [
    "[正则练习网站]<https://www.codejiaonang.com/>"
   ]
  },
  {
   "attachments": {},
   "cell_type": "markdown",
   "metadata": {},
   "source": [
    "[正则可视化工具]<https://r2coding.com/>"
   ]
  },
  {
   "attachments": {},
   "cell_type": "markdown",
   "metadata": {},
   "source": [
    "#### 字符"
   ]
  },
  {
   "attachments": {},
   "cell_type": "markdown",
   "metadata": {},
   "source": [
    "| 表达式 | 描述 |\n",
    "| --- | --- |\n",
    "| [abc] | 字符集，也叫字符组。匹配集合中所含的任一字符。 |\n",
    "| [^abc] | 否定字符集。匹配任何不在集合中的字符。 |\n",
    "| [a-z] | 字符范围。匹配指定范围内的任意字符。 |\n",
    "| . | 匹配除换行符（`\\n`）以外的任何单个字符。 |\n",
    "| \\ | 转义字符。 |\n",
    "| \\w | 匹配任何字母数字，包括下划线（等价于[A-Za-z0-9_]）。 |\n",
    "| \\W | 匹配任何非字母数字（等价于[^A-Za-z0-9_]）。 |\n",
    "| \\d | 数字。匹配任何数字。 |\n",
    "| \\D | 非数字。匹配任何非数字字符。 |\n",
    "| \\s | 空白。匹配任何空白字符，包括空格、制表符、换行等。 |\n",
    "| \\S | 非空白。匹配任何非空白字符。 |"
   ]
  },
  {
   "attachments": {},
   "cell_type": "markdown",
   "metadata": {},
   "source": [
    "#### 分组与引用"
   ]
  },
  {
   "attachments": {},
   "cell_type": "markdown",
   "metadata": {},
   "source": [
    "未捕获分组在正则表达式中用于对子表达式进行分组，但不将该分组的匹配结果存储在内存中。这种分组形式在某些情况下可以提高正则表达式的性能，减少内存占用。"
   ]
  },
  {
   "attachments": {},
   "cell_type": "markdown",
   "metadata": {},
   "source": [
    "| 表达式 | 描述 |\n",
    "| --- | --- |\n",
    "| (expression) | 分组。匹配括号里的整个表达式。 |\n",
    "| (?:expression) | 非捕获分组。匹配括号里的整个字符串但不获取匹配结果，拿不到分组引用。 |\n",
    "| \\num | 对前面所匹配分组的引用（回溯引用）。\\num 用于引用之前已经匹配的，即表示引用第 num 个分组的内容。 |"
   ]
  },
  {
   "attachments": {},
   "cell_type": "markdown",
   "metadata": {},
   "source": [
    "#### 锚点以及边界"
   ]
  },
  {
   "attachments": {},
   "cell_type": "markdown",
   "metadata": {},
   "source": [
    "正则匹配默认是对字符串的任意位置进行匹配，可以指定锚点以及边界位置。"
   ]
  },
  {
   "attachments": {},
   "cell_type": "markdown",
   "metadata": {},
   "source": [
    "| 表达式 | 描述 |\n",
    "| --- | --- |\n",
    "| ^ | 匹配字符串或行开头。 |\n",
    "| $ | 匹配字符串或行结尾。 |\n",
    "| \\b | 匹配单词边界。例如，`Sheep\\b`可以匹配`CodeSheep`末尾的`Sheep`，不能匹配`CodeSheepCode`中的`Sheep`。 |\n",
    "| \\B | 匹配非单词边界。例如，`Code\\B`可以匹配`HelloCodeSheep`中的`Code`，不能匹配`HelloCode`中的`Code`。 |"
   ]
  },
  {
   "attachments": {},
   "cell_type": "markdown",
   "metadata": {},
   "source": [
    "#### 数量表示"
   ]
  },
  {
   "attachments": {},
   "cell_type": "markdown",
   "metadata": {},
   "source": [
    "| 表达式 | 描述 |\n",
    "| --- | --- |\n",
    "| ? | 匹配前面的表达式0个或1个。即表示可选项。 |\n",
    "| + | 匹配前面的表达式至少1个。相当于`{1,}` |\n",
    "| * | 匹配前面的表达式0个或多个。相当于`{0,}` |\n",
    "| \\| | 或运算符。并集，可以匹配符号前后的表达式。 |\n",
    "| {m} | 匹配前面的表达式m个。 |\n",
    "| {m,} | 匹配前面的表达式最少m个。 |\n",
    "| {m,n} | 匹配前面的表达式最少m个，最多n个。 |"
   ]
  },
  {
   "attachments": {},
   "cell_type": "markdown",
   "metadata": {},
   "source": [
    "#### 预查断言"
   ]
  },
  {
   "attachments": {},
   "cell_type": "markdown",
   "metadata": {},
   "source": [
    "简单来说正向先行断言要求匹配的字符串后面必须为(?=)指定的内容，反向先行断言要求匹配的字符串后面不能为(?!)指定的内容。正向后行断言要求匹配的字符串前面必须为(?<=)指定的内容，反向后行断言要求匹配的字符串前面不能为(?<!)指定的内容。"
   ]
  },
  {
   "attachments": {},
   "cell_type": "markdown",
   "metadata": {},
   "source": [
    "| 表达式 | 描述 |\n",
    "| --- | --- |\n",
    "| (?=) | 正向预查（正向先行断言）。比如Code(?=Sheep)能匹配CodeSheep中的Code，但不能匹配CodePig中的Code。 |\n",
    "| (?! ) | 正向否定预查（反向先行断言）。比如Code(?!Sheep)不能匹配CodeSheep中的Code，但能匹配CodePig中的Code。 |\n",
    "| (?<= ) | 反向预查（正向后行断言）。比如(?<=Code)Sheep能匹配CodeSheep中的Sheep，但不能匹配ReadSheep中的Sheep。 |\n",
    "| (?<! ) | 反向否定预查（反向后行断言）。比如(?<!Code)Sheep不能匹配CodeSheep中的Sheep，但能匹配ReadSheep中的Sheep。 |"
   ]
  },
  {
   "attachments": {},
   "cell_type": "markdown",
   "metadata": {},
   "source": [
    "#### 特殊标志"
   ]
  },
  {
   "attachments": {},
   "cell_type": "markdown",
   "metadata": {},
   "source": [
    "| 表达式 | 描述 |\n",
    "| --- | --- |\n",
    "| /.../i | 忽略大小写。 |\n",
    "| /.../g | 全局匹配。 |\n",
    "| /.../m | 多行修饰符。用于多行匹配。 |"
   ]
  },
  {
   "attachments": {},
   "cell_type": "markdown",
   "metadata": {},
   "source": [
    "#### 贪婪匹配和非贪婪匹配"
   ]
  },
  {
   "attachments": {},
   "cell_type": "markdown",
   "metadata": {},
   "source": [
    "`{m, n}`匹配个数最少m个，最多n个，即可以匹配m个数字也可以匹配n个数字，不过当有n个数字的时候，优先匹配的是n个数字，这是因为正则表达式默认是贪婪模式，即尽可能的匹配更多字符，而要使用非贪婪模式，需要在表达式后面加上`?`号，即`{m,n}?`。此外，`.*?`也是非贪婪匹配。"
   ]
  },
  {
   "attachments": {},
   "cell_type": "markdown",
   "metadata": {},
   "source": [
    "值得注意的是，由于R中使用字符串表示正则表达式，所以一些写法会发生改变。转义符号`\\`在字符串中变成了普通的斜杠，所以需要对其转义，即写成`\\\\`形式，比如`\\d`要写成`\"\\\\d\"`"
   ]
  },
  {
   "attachments": {},
   "cell_type": "markdown",
   "metadata": {},
   "source": [
    "### stringr主要函数介绍"
   ]
  },
  {
   "attachments": {},
   "cell_type": "markdown",
   "metadata": {},
   "source": [
    "stringr不是tidyverse核心的R包，需要导入。"
   ]
  },
  {
   "cell_type": "code",
   "execution_count": null,
   "metadata": {
    "vscode": {
     "languageId": "r"
    }
   },
   "outputs": [],
   "source": [
    "library(stringr)"
   ]
  },
  {
   "attachments": {},
   "cell_type": "markdown",
   "metadata": {},
   "source": [
    "<h4>字符串处理"
   ]
  },
  {
   "attachments": {},
   "cell_type": "markdown",
   "metadata": {},
   "source": [
    "##### str_c()及str_split()"
   ]
  },
  {
   "attachments": {},
   "cell_type": "markdown",
   "metadata": {},
   "source": [
    "str_c()与R语言自带的`paste()`和`paste0()`函数具有相同的作用，可以进行字符串的拼接。`...`参数是一个或多个字符串向量；`sep`参数用于指定连接字符串之间的分隔符；`collapse`参数用于指定最终所有字符串进行连接的分隔符。"
   ]
  },
  {
   "cell_type": "code",
   "execution_count": null,
   "metadata": {
    "vscode": {
     "languageId": "r"
    }
   },
   "outputs": [
    {
     "data": {
      "text/html": [
       "<style>\n",
       ".list-inline {list-style: none; margin:0; padding: 0}\n",
       ".list-inline>li {display: inline-block}\n",
       ".list-inline>li:not(:last-child)::after {content: \"\\00b7\"; padding: 0 .5ex}\n",
       "</style>\n",
       "<ol class=list-inline><li>'a comes before b'</li><li>'b comes before c'</li><li>'c comes before d'</li><li>'d comes before e'</li><li>'e comes before f'</li><li>'f comes before g'</li><li>'g comes before h'</li><li>'h comes before i'</li><li>'i comes before j'</li><li>'j comes before k'</li><li>'k comes before l'</li><li>'l comes before m'</li><li>'m comes before n'</li><li>'n comes before o'</li><li>'o comes before p'</li><li>'p comes before q'</li><li>'q comes before r'</li><li>'r comes before s'</li><li>'s comes before t'</li><li>'t comes before u'</li><li>'u comes before v'</li><li>'v comes before w'</li><li>'w comes before x'</li><li>'x comes before y'</li><li>'y comes before z'</li></ol>\n"
      ],
      "text/latex": [
       "\\begin{enumerate*}\n",
       "\\item 'a comes before b'\n",
       "\\item 'b comes before c'\n",
       "\\item 'c comes before d'\n",
       "\\item 'd comes before e'\n",
       "\\item 'e comes before f'\n",
       "\\item 'f comes before g'\n",
       "\\item 'g comes before h'\n",
       "\\item 'h comes before i'\n",
       "\\item 'i comes before j'\n",
       "\\item 'j comes before k'\n",
       "\\item 'k comes before l'\n",
       "\\item 'l comes before m'\n",
       "\\item 'm comes before n'\n",
       "\\item 'n comes before o'\n",
       "\\item 'o comes before p'\n",
       "\\item 'p comes before q'\n",
       "\\item 'q comes before r'\n",
       "\\item 'r comes before s'\n",
       "\\item 's comes before t'\n",
       "\\item 't comes before u'\n",
       "\\item 'u comes before v'\n",
       "\\item 'v comes before w'\n",
       "\\item 'w comes before x'\n",
       "\\item 'x comes before y'\n",
       "\\item 'y comes before z'\n",
       "\\end{enumerate*}\n"
      ],
      "text/markdown": [
       "1. 'a comes before b'\n",
       "2. 'b comes before c'\n",
       "3. 'c comes before d'\n",
       "4. 'd comes before e'\n",
       "5. 'e comes before f'\n",
       "6. 'f comes before g'\n",
       "7. 'g comes before h'\n",
       "8. 'h comes before i'\n",
       "9. 'i comes before j'\n",
       "10. 'j comes before k'\n",
       "11. 'k comes before l'\n",
       "12. 'l comes before m'\n",
       "13. 'm comes before n'\n",
       "14. 'n comes before o'\n",
       "15. 'o comes before p'\n",
       "16. 'p comes before q'\n",
       "17. 'q comes before r'\n",
       "18. 'r comes before s'\n",
       "19. 's comes before t'\n",
       "20. 't comes before u'\n",
       "21. 'u comes before v'\n",
       "22. 'v comes before w'\n",
       "23. 'w comes before x'\n",
       "24. 'x comes before y'\n",
       "25. 'y comes before z'\n",
       "\n",
       "\n"
      ],
      "text/plain": [
       " [1] \"a comes before b\" \"b comes before c\" \"c comes before d\" \"d comes before e\"\n",
       " [5] \"e comes before f\" \"f comes before g\" \"g comes before h\" \"h comes before i\"\n",
       " [9] \"i comes before j\" \"j comes before k\" \"k comes before l\" \"l comes before m\"\n",
       "[13] \"m comes before n\" \"n comes before o\" \"o comes before p\" \"p comes before q\"\n",
       "[17] \"q comes before r\" \"r comes before s\" \"s comes before t\" \"t comes before u\"\n",
       "[21] \"u comes before v\" \"v comes before w\" \"w comes before x\" \"x comes before y\"\n",
       "[25] \"y comes before z\""
      ]
     },
     "metadata": {},
     "output_type": "display_data"
    },
    {
     "data": {
      "text/html": [
       "'method.A &amp; method.B &amp; method.C &amp; method.D &amp; method.E &amp; method.F'"
      ],
      "text/latex": [
       "'method.A \\& method.B \\& method.C \\& method.D \\& method.E \\& method.F'"
      ],
      "text/markdown": [
       "'method.A &amp; method.B &amp; method.C &amp; method.D &amp; method.E &amp; method.F'"
      ],
      "text/plain": [
       "[1] \"method.A & method.B & method.C & method.D & method.E & method.F\""
      ]
     },
     "metadata": {},
     "output_type": "display_data"
    }
   ],
   "source": [
    "str_c(letters[-26], sep = \" comes before \", letters[-1])\n",
    "str_c(\"method\", LETTERS[1:6], sep = \".\", collapse = \" & \")"
   ]
  },
  {
   "attachments": {},
   "cell_type": "markdown",
   "metadata": {},
   "source": [
    "str_split()可以接受输入的字符串（通常为长字符串），并将其分解为几个部分。"
   ]
  },
  {
   "attachments": {},
   "cell_type": "markdown",
   "metadata": {},
   "source": [
    "str_split()函数用于根据指定的匹配模式拆分字符串。"
   ]
  },
  {
   "attachments": {},
   "cell_type": "markdown",
   "metadata": {},
   "source": [
    "##### str_pad()"
   ]
  },
  {
   "attachments": {},
   "cell_type": "markdown",
   "metadata": {},
   "source": [
    "str_pad()函数可以用来填充字符串，其主要参数：\n",
    "- string：该参数一般直接赋值字符串，可以是单个字符串或者多个字符串组成的向量。\n",
    "- width：该参数表示填充后的字符串所需的总宽度。如果原始字符串短于此宽度，则将添加填充字符以弥补差额。\n",
    "- side：参数指定应将填充字符添加到字符串的哪一边（left，right，both三个值选其一）。\n",
    "- pad：参数指定用于填充的字符。默认情况下，这是一个空格字符。 \n",
    "- use_width：参数决定函数在填充时应指定是使用字符串的宽度（width）还是长度（length）。默认为 TRUE。如果将其设置为 FALSE，将改用字符串的长度。"
   ]
  },
  {
   "attachments": {},
   "cell_type": "markdown",
   "metadata": {},
   "source": [
    ">需要注意字符串的长度和宽度有一定的区别。长度（length）指的是字符串中字符的数量。宽度（width）指的是字符串在显示时所占据的空间宽度。它与字符串的实际字符数量可能并不完全一致，因为某些字符可能占据更多的空间。例如，在一些字体中，全角字符（例如中文字符）可能会比半角字符（例如英文字符）占据更多的宽度。字符串的宽度通常与显示环境、字体和字号等因素有关。"
   ]
  },
  {
   "cell_type": "code",
   "execution_count": null,
   "metadata": {
    "vscode": {
     "languageId": "r"
    }
   },
   "outputs": [
    {
     "data": {
      "text/html": [
       "6"
      ],
      "text/latex": [
       "6"
      ],
      "text/markdown": [
       "6"
      ],
      "text/plain": [
       "[1] 6"
      ]
     },
     "metadata": {},
     "output_type": "display_data"
    },
    {
     "data": {
      "text/html": [
       "3"
      ],
      "text/latex": [
       "3"
      ],
      "text/markdown": [
       "3"
      ],
      "text/plain": [
       "[1] 3"
      ]
     },
     "metadata": {},
     "output_type": "display_data"
    },
    {
     "data": {
      "text/html": [
       "'我爱你'"
      ],
      "text/latex": [
       "'我爱你'"
      ],
      "text/markdown": [
       "'我爱你'"
      ],
      "text/plain": [
       "[1] \"我爱你\""
      ]
     },
     "metadata": {},
     "output_type": "display_data"
    },
    {
     "data": {
      "text/html": [
       "'-我爱你-'"
      ],
      "text/latex": [
       "'-我爱你-'"
      ],
      "text/markdown": [
       "'-我爱你-'"
      ],
      "text/plain": [
       "[1] \"-我爱你-\""
      ]
     },
     "metadata": {},
     "output_type": "display_data"
    }
   ],
   "source": [
    "str1 <- \"我爱你\"\n",
    "str_width(str1)\n",
    "str_length(str1)\n",
    "str_pad(str1, side = \"both\", pad = \"-\", width = 5)\n",
    "str_pad(str1, side = \"both\", pad = \"-\", width = 5, use_width = FALSE)"
   ]
  },
  {
   "attachments": {},
   "cell_type": "markdown",
   "metadata": {},
   "source": [
    "##### str_length()及str_width()"
   ]
  },
  {
   "attachments": {},
   "cell_type": "markdown",
   "metadata": {},
   "source": [
    "基于上面文字的介绍，str_length()和str_width()的区别一目了然，两者都只需输入字符串或字符串向量即可。"
   ]
  },
  {
   "attachments": {},
   "cell_type": "markdown",
   "metadata": {},
   "source": [
    "##### str_trim()及str_squish()"
   ]
  },
  {
   "attachments": {},
   "cell_type": "markdown",
   "metadata": {},
   "source": [
    "1. str_trim()用于删除字符串开头和结尾的所有空格字符（例如空格、制表符和换行符），除了输入要处理的字符串之外，还可以令另外一个参数·等于`left`,`right`,`both`中的任何一个，默认为`both`。\n",
    "2. str_squish()更进一步，它只接受传入字符串，但不仅自动删除字符串开头和结尾的所有空格字符，而且还用单个空格字符替换了任何内部的<span style = 'color:red'><strong>连续</strong></span>空格。"
   ]
  },
  {
   "cell_type": "code",
   "execution_count": null,
   "metadata": {
    "vscode": {
     "languageId": "r"
    }
   },
   "outputs": [
    {
     "data": {
      "text/html": [
       "<span style=white-space:pre-wrap>'String with    trailing and leading white space'</span>"
      ],
      "text/latex": [
       "'String with    trailing and leading white space'"
      ],
      "text/markdown": [
       "<span style=white-space:pre-wrap>'String with    trailing and leading white space'</span>"
      ],
      "text/plain": [
       "[1] \"String with    trailing and leading white space\""
      ]
     },
     "metadata": {},
     "output_type": "display_data"
    },
    {
     "data": {
      "text/html": [
       "'String with trailing and leading white space'"
      ],
      "text/latex": [
       "'String with trailing and leading white space'"
      ],
      "text/markdown": [
       "'String with trailing and leading white space'"
      ],
      "text/plain": [
       "[1] \"String with trailing and leading white space\""
      ]
     },
     "metadata": {},
     "output_type": "display_data"
    }
   ],
   "source": [
    "str1 <- \"\\n\\nString with    trailing and leading white space\\n\\n\"\n",
    "str_trim(str1, \"both\")\n",
    "str_squish(str1)"
   ]
  },
  {
   "attachments": {},
   "cell_type": "markdown",
   "metadata": {},
   "source": [
    "#### 字符串匹配及后续处理"
   ]
  },
  {
   "attachments": {},
   "cell_type": "markdown",
   "metadata": {},
   "source": [
    "##### str_count()"
   ]
  },
  {
   "attachments": {},
   "cell_type": "markdown",
   "metadata": {},
   "source": [
    "str_count()函数统计给定字符串中符合匹配模式的出现次数。`string`参数通常输入字符串向量。`pattern`参数默认为正则表达式。"
   ]
  },
  {
   "cell_type": "code",
   "execution_count": null,
   "metadata": {
    "vscode": {
     "languageId": "r"
    }
   },
   "outputs": [
    {
     "data": {
      "text/html": [
       "<style>\n",
       ".list-inline {list-style: none; margin:0; padding: 0}\n",
       ".list-inline>li {display: inline-block}\n",
       ".list-inline>li:not(:last-child)::after {content: \"\\00b7\"; padding: 0 .5ex}\n",
       "</style>\n",
       "<ol class=list-inline><li>1</li><li>0</li><li>0</li><li>1</li></ol>\n"
      ],
      "text/latex": [
       "\\begin{enumerate*}\n",
       "\\item 1\n",
       "\\item 0\n",
       "\\item 0\n",
       "\\item 1\n",
       "\\end{enumerate*}\n"
      ],
      "text/markdown": [
       "1. 1\n",
       "2. 0\n",
       "3. 0\n",
       "4. 1\n",
       "\n",
       "\n"
      ],
      "text/plain": [
       "[1] 1 0 0 1"
      ]
     },
     "metadata": {},
     "output_type": "display_data"
    }
   ],
   "source": [
    "fruit <- c(\"apple\", \"banana\", \"pear\", \"pineapple\")\n",
    "pattern <- \"ap{2}\"\n",
    "str_count(fruit, pattern)"
   ]
  },
  {
   "attachments": {},
   "cell_type": "markdown",
   "metadata": {},
   "source": [
    "##### str_detect()"
   ]
  },
  {
   "attachments": {},
   "cell_type": "markdown",
   "metadata": {},
   "source": [
    "str_detect()函数检测字符串是否符合匹配模式，返回布尔值。`string`参数通常输入字符串向量。`pattern`参数默认为正则表达式。"
   ]
  },
  {
   "cell_type": "code",
   "execution_count": null,
   "metadata": {
    "vscode": {
     "languageId": "r"
    }
   },
   "outputs": [
    {
     "data": {
      "text/html": [
       "<style>\n",
       ".list-inline {list-style: none; margin:0; padding: 0}\n",
       ".list-inline>li {display: inline-block}\n",
       ".list-inline>li:not(:last-child)::after {content: \"\\00b7\"; padding: 0 .5ex}\n",
       "</style>\n",
       "<ol class=list-inline><li>TRUE</li><li>FALSE</li><li>FALSE</li><li>TRUE</li></ol>\n"
      ],
      "text/latex": [
       "\\begin{enumerate*}\n",
       "\\item TRUE\n",
       "\\item FALSE\n",
       "\\item FALSE\n",
       "\\item TRUE\n",
       "\\end{enumerate*}\n"
      ],
      "text/markdown": [
       "1. TRUE\n",
       "2. FALSE\n",
       "3. FALSE\n",
       "4. TRUE\n",
       "\n",
       "\n"
      ],
      "text/plain": [
       "[1]  TRUE FALSE FALSE  TRUE"
      ]
     },
     "metadata": {},
     "output_type": "display_data"
    },
    {
     "data": {
      "text/html": [
       "2"
      ],
      "text/latex": [
       "2"
      ],
      "text/markdown": [
       "2"
      ],
      "text/plain": [
       "[1] 2"
      ]
     },
     "metadata": {},
     "output_type": "display_data"
    },
    {
     "data": {
      "text/html": [
       "0.5"
      ],
      "text/latex": [
       "0.5"
      ],
      "text/markdown": [
       "0.5"
      ],
      "text/plain": [
       "[1] 0.5"
      ]
     },
     "metadata": {},
     "output_type": "display_data"
    }
   ],
   "source": [
    "fruit <- c(\"apple\", \"banana\", \"pear\", \"pineapple\")\n",
    "pattern <- \"ap{2}\"\n",
    "output <- str_detect(fruit, pattern)\n",
    "output\n",
    "# 由于布尔值的特性，利用求和以及均值函数可以间接求得符合匹配模式的字符串个数以及比例。\n",
    "sum(output)\n",
    "mean(output)"
   ]
  },
  {
   "attachments": {},
   "cell_type": "markdown",
   "metadata": {},
   "source": [
    "##### str_extract()及str_extract_all()"
   ]
  },
  {
   "attachments": {},
   "cell_type": "markdown",
   "metadata": {},
   "source": [
    "两者都是用来提取符合匹配模式部分的函数，两者区别如下\n",
    "- str_extract(string, pattern, group = NULL)\n",
    "    - string参数为输入的字符串，pattern为匹配模式。返回的结果为向量。\n",
    "    - 该函数只提取匹配一次成功的成分。\n",
    "- str_extract_all(string, pattern, simplify = FALSE)\n",
    "    - 前两个参数一致，如果simplify参数取FALSE，则返回列表，否则返回矩阵。\n",
    "    - 该函数会提取所有符合匹配模式的成分。"
   ]
  },
  {
   "cell_type": "code",
   "execution_count": null,
   "metadata": {
    "vscode": {
     "languageId": "r"
    }
   },
   "outputs": [
    {
     "name": "stdout",
     "output_type": "stream",
     "text": [
      "[1] \"4\" NA  NA  \"2\"\n",
      "[[1]]\n",
      "[1] \"4\" \"4\"\n",
      "\n",
      "[[2]]\n",
      "character(0)\n",
      "\n",
      "[[3]]\n",
      "character(0)\n",
      "\n",
      "[[4]]\n",
      "[1] \"2\"\n",
      "\n"
     ]
    },
    {
     "name": "stderr",
     "output_type": "stream",
     "text": [
      "Warning message:\n",
      "\"\u001b[1m\u001b[22mThe `x` argument of `as_tibble.matrix()` must have unique column names if\n",
      "`.name_repair` is omitted as of tibble 2.0.0.\n",
      "\u001b[36mℹ\u001b[39m Using compatibility `.name_repair`.\"\n"
     ]
    },
    {
     "name": "stdout",
     "output_type": "stream",
     "text": [
      "\u001b[90m# A tibble: 4 × 2\u001b[39m\n",
      "  result1 result2\n",
      "  \u001b[3m\u001b[90m<chr>\u001b[39m\u001b[23m   \u001b[3m\u001b[90m<chr>\u001b[39m\u001b[23m  \n",
      "\u001b[90m1\u001b[39m \u001b[90m\"\u001b[39m4\u001b[90m\"\u001b[39m     \u001b[90m\"\u001b[39m4\u001b[90m\"\u001b[39m    \n",
      "\u001b[90m2\u001b[39m \u001b[90m\"\u001b[39m\u001b[90m\"\u001b[39m      \u001b[90m\"\u001b[39m\u001b[90m\"\u001b[39m     \n",
      "\u001b[90m3\u001b[39m \u001b[90m\"\u001b[39m\u001b[90m\"\u001b[39m      \u001b[90m\"\u001b[39m\u001b[90m\"\u001b[39m     \n",
      "\u001b[90m4\u001b[39m \u001b[90m\"\u001b[39m2\u001b[90m\"\u001b[39m     \u001b[90m\"\u001b[39m\u001b[90m\"\u001b[39m     \n"
     ]
    }
   ],
   "source": [
    "shopping_list <- c(\"apples x44\", \"bag of flour\", \"bag of sugar\", \"milk x2\")\n",
    "output1 <- str_extract(shopping_list, \"\\\\d\")\n",
    "output2 <- str_extract_all(shopping_list, \"\\\\d\", simplify = FALSE)\n",
    "output3 <- str_extract_all(shopping_list, \"\\\\d\", simplify = TRUE)\n",
    "print(output1)\n",
    "print(output2)\n",
    "\n",
    "# step 令simlify为TRUE后，我们可以利用矩阵构建tibble数据集，这样操作会简单一点。\n",
    "library(tidyverse)\n",
    "output3 <- as_tibble(output3)\n",
    "colnames(output3) <- str_c(\"result\", 1:ncol(output3))\n",
    "print(output3)"
   ]
  },
  {
   "attachments": {},
   "cell_type": "markdown",
   "metadata": {},
   "source": [
    "##### str_subset()"
   ]
  },
  {
   "attachments": {},
   "cell_type": "markdown",
   "metadata": {},
   "source": [
    "str_subset()与str_extract()/str_extract_all()不同，后两个函数只返回符合匹配模式的成分。而str_subset ()返回至少有一个与指定模式匹配的所有字符串的所有元素。string和pattern参数不再赘述，还有一个参数`negate`默认为FALSE，若指定为TRUE，则会返回所有不匹配模式的字符串。"
   ]
  },
  {
   "cell_type": "code",
   "execution_count": null,
   "metadata": {
    "vscode": {
     "languageId": "r"
    }
   },
   "outputs": [
    {
     "data": {
      "text/html": [
       "<style>\n",
       ".list-inline {list-style: none; margin:0; padding: 0}\n",
       ".list-inline>li {display: inline-block}\n",
       ".list-inline>li:not(:last-child)::after {content: \"\\00b7\"; padding: 0 .5ex}\n",
       "</style>\n",
       "<ol class=list-inline><li>'apples x44'</li><li>'milk x2'</li></ol>\n"
      ],
      "text/latex": [
       "\\begin{enumerate*}\n",
       "\\item 'apples x44'\n",
       "\\item 'milk x2'\n",
       "\\end{enumerate*}\n"
      ],
      "text/markdown": [
       "1. 'apples x44'\n",
       "2. 'milk x2'\n",
       "\n",
       "\n"
      ],
      "text/plain": [
       "[1] \"apples x44\" \"milk x2\"   "
      ]
     },
     "metadata": {},
     "output_type": "display_data"
    },
    {
     "data": {
      "text/html": [
       "<style>\n",
       ".list-inline {list-style: none; margin:0; padding: 0}\n",
       ".list-inline>li {display: inline-block}\n",
       ".list-inline>li:not(:last-child)::after {content: \"\\00b7\"; padding: 0 .5ex}\n",
       "</style>\n",
       "<ol class=list-inline><li>'bag of flour'</li><li>'bag of sugar'</li></ol>\n"
      ],
      "text/latex": [
       "\\begin{enumerate*}\n",
       "\\item 'bag of flour'\n",
       "\\item 'bag of sugar'\n",
       "\\end{enumerate*}\n"
      ],
      "text/markdown": [
       "1. 'bag of flour'\n",
       "2. 'bag of sugar'\n",
       "\n",
       "\n"
      ],
      "text/plain": [
       "[1] \"bag of flour\" \"bag of sugar\""
      ]
     },
     "metadata": {},
     "output_type": "display_data"
    }
   ],
   "source": [
    "shopping_list <- c(\"apples x44\", \"bag of flour\", \"bag of sugar\", \"milk x2\")\n",
    "str_subset(shopping_list, \"\\\\d\")\n",
    "str_subset(shopping_list, \"\\\\d\", negate = TRUE)"
   ]
  },
  {
   "attachments": {},
   "cell_type": "markdown",
   "metadata": {},
   "source": [
    "##### str_remove()/str_remove_all()和str_replace()/str_replace_all()"
   ]
  },
  {
   "attachments": {},
   "cell_type": "markdown",
   "metadata": {},
   "source": [
    "str_replace()/str_replace_all()两者都是用来替换符合匹配模式部分的函数，且有公共的参数：string为输入的字符串，pattern为匹配的正则表达式，replacement为替换的部分。两者区别如下：\n",
    "- str_replace(string, pattern, replacement)\n",
    "    - 该函数只替换匹配一次成功的成分。\n",
    "- str_extract_all(string, pattern, replacement)\n",
    "    - 该函数会替换所有符合匹配模式的成分。\n",
    "\n",
    "而str_remove/str_remove_all是与str_replace(\"\")/str_replace_all(\")等价的。"
   ]
  },
  {
   "cell_type": "code",
   "execution_count": null,
   "metadata": {
    "vscode": {
     "languageId": "r"
    }
   },
   "outputs": [
    {
     "data": {
      "text/html": [
       "<style>\n",
       ".list-inline {list-style: none; margin:0; padding: 0}\n",
       ".list-inline>li {display: inline-block}\n",
       ".list-inline>li:not(:last-child)::after {content: \"\\00b7\"; padding: 0 .5ex}\n",
       "</style>\n",
       "<ol class=list-inline><li>'-ne apple'</li><li>'tw- pears'</li><li>'thr-e bananas'</li></ol>\n"
      ],
      "text/latex": [
       "\\begin{enumerate*}\n",
       "\\item '-ne apple'\n",
       "\\item 'tw- pears'\n",
       "\\item 'thr-e bananas'\n",
       "\\end{enumerate*}\n"
      ],
      "text/markdown": [
       "1. '-ne apple'\n",
       "2. 'tw- pears'\n",
       "3. 'thr-e bananas'\n",
       "\n",
       "\n"
      ],
      "text/plain": [
       "[1] \"-ne apple\"     \"tw- pears\"     \"thr-e bananas\""
      ]
     },
     "metadata": {},
     "output_type": "display_data"
    },
    {
     "data": {
      "text/html": [
       "<style>\n",
       ".list-inline {list-style: none; margin:0; padding: 0}\n",
       ".list-inline>li {display: inline-block}\n",
       ".list-inline>li:not(:last-child)::after {content: \"\\00b7\"; padding: 0 .5ex}\n",
       "</style>\n",
       "<ol class=list-inline><li>'-n- -ppl-'</li><li>'tw- p--rs'</li><li>'thr-- b-n-n-s'</li></ol>\n"
      ],
      "text/latex": [
       "\\begin{enumerate*}\n",
       "\\item '-n- -ppl-'\n",
       "\\item 'tw- p--rs'\n",
       "\\item 'thr-- b-n-n-s'\n",
       "\\end{enumerate*}\n"
      ],
      "text/markdown": [
       "1. '-n- -ppl-'\n",
       "2. 'tw- p--rs'\n",
       "3. 'thr-- b-n-n-s'\n",
       "\n",
       "\n"
      ],
      "text/plain": [
       "[1] \"-n- -ppl-\"     \"tw- p--rs\"     \"thr-- b-n-n-s\""
      ]
     },
     "metadata": {},
     "output_type": "display_data"
    },
    {
     "data": {
      "text/html": [
       "<style>\n",
       ".list-inline {list-style: none; margin:0; padding: 0}\n",
       ".list-inline>li {display: inline-block}\n",
       ".list-inline>li:not(:last-child)::after {content: \"\\00b7\"; padding: 0 .5ex}\n",
       "</style>\n",
       "<ol class=list-inline><li>'ne apple'</li><li>'tw pears'</li><li>'thre bananas'</li></ol>\n"
      ],
      "text/latex": [
       "\\begin{enumerate*}\n",
       "\\item 'ne apple'\n",
       "\\item 'tw pears'\n",
       "\\item 'thre bananas'\n",
       "\\end{enumerate*}\n"
      ],
      "text/markdown": [
       "1. 'ne apple'\n",
       "2. 'tw pears'\n",
       "3. 'thre bananas'\n",
       "\n",
       "\n"
      ],
      "text/plain": [
       "[1] \"ne apple\"     \"tw pears\"     \"thre bananas\""
      ]
     },
     "metadata": {},
     "output_type": "display_data"
    },
    {
     "data": {
      "text/html": [
       "<style>\n",
       ".list-inline {list-style: none; margin:0; padding: 0}\n",
       ".list-inline>li {display: inline-block}\n",
       ".list-inline>li:not(:last-child)::after {content: \"\\00b7\"; padding: 0 .5ex}\n",
       "</style>\n",
       "<ol class=list-inline><li>'n ppl'</li><li>'tw prs'</li><li>'thr bnns'</li></ol>\n"
      ],
      "text/latex": [
       "\\begin{enumerate*}\n",
       "\\item 'n ppl'\n",
       "\\item 'tw prs'\n",
       "\\item 'thr bnns'\n",
       "\\end{enumerate*}\n"
      ],
      "text/markdown": [
       "1. 'n ppl'\n",
       "2. 'tw prs'\n",
       "3. 'thr bnns'\n",
       "\n",
       "\n"
      ],
      "text/plain": [
       "[1] \"n ppl\"    \"tw prs\"   \"thr bnns\""
      ]
     },
     "metadata": {},
     "output_type": "display_data"
    },
    {
     "data": {
      "text/html": [
       "<style>\n",
       ".list-inline {list-style: none; margin:0; padding: 0}\n",
       ".list-inline>li {display: inline-block}\n",
       ".list-inline>li:not(:last-child)::after {content: \"\\00b7\"; padding: 0 .5ex}\n",
       "</style>\n",
       "<ol class=list-inline><li>'n ppl'</li><li>'tw prs'</li><li>'thr bnns'</li></ol>\n"
      ],
      "text/latex": [
       "\\begin{enumerate*}\n",
       "\\item 'n ppl'\n",
       "\\item 'tw prs'\n",
       "\\item 'thr bnns'\n",
       "\\end{enumerate*}\n"
      ],
      "text/markdown": [
       "1. 'n ppl'\n",
       "2. 'tw prs'\n",
       "3. 'thr bnns'\n",
       "\n",
       "\n"
      ],
      "text/plain": [
       "[1] \"n ppl\"    \"tw prs\"   \"thr bnns\""
      ]
     },
     "metadata": {},
     "output_type": "display_data"
    }
   ],
   "source": [
    "fruits <- c(\"one apple\", \"two pears\", \"three bananas\")\n",
    "str_replace(fruits, \"[aeiou]\", replacement = \"-\")\n",
    "str_replace_all(fruits, \"[aeiou]\", \"-\")\n",
    "str_remove(fruits, \"[aeiou]\")\n",
    "str_remove_all(fruits, \"[aeiou]\")\n",
    "str_replace_all(fruits, \"[aeiou]\", \"\")"
   ]
  },
  {
   "cell_type": "markdown",
   "metadata": {},
   "source": [
    "## 读写文件数据"
   ]
  },
  {
   "cell_type": "markdown",
   "metadata": {},
   "source": [
    "### Excel"
   ]
  },
  {
   "cell_type": "markdown",
   "metadata": {},
   "source": [
    "读取excel文件可以使用readxl包，或者openxlsx（openxlsx2）包。"
   ]
  },
  {
   "cell_type": "markdown",
   "metadata": {},
   "source": [
    "#### readxl/writexl"
   ]
  },
  {
   "cell_type": "markdown",
   "metadata": {},
   "source": [
    "readxl包专门读取Excel文件，包括同一个工作簿中的不同工作表，相关函数如下：\n",
    "1. `read_excel()`：自动检测xls或xlsx文件。\n",
    "2. `read_xlsx()`：读取xlsx文件。\n",
    "3. `read_xls()`：读取xls文件。\n",
    "\n",
    "三个函数的参数设置是一样的，以read_xlsx()为例：\n",
    "```r\n",
    "read_xlsx(path, sheet, range, col_names, col_types, skip, na, na_max...)\n",
    "```\n",
    "其中：\n",
    "- `path`：数据文件所在的绝对或者相对路径。\n",
    "- `sheet`：要读取的工作表单。可以是数字或者表单名的字符串。\n",
    "- `range`：要读取的单元格范围。\n",
    "- `col_names`：第一行是否作为列名。\n",
    "- `col_types`：设置列的类型，既可以总体设置一种类型（循环使用），或者为每列单独设置，默认为NULL（全部猜测）。可设置的类型有\"skip\"（跳过该列）, \"guess\"（猜测该列）, \"logical\", \"numeric\", \"date\", \"text\", \"list\"。"
   ]
  },
  {
   "cell_type": "markdown",
   "metadata": {},
   "source": [
    "##### 批量读取Excel文件"
   ]
  },
  {
   "cell_type": "markdown",
   "metadata": {},
   "source": [
    "若每个Excel表都只有一个表单，且它们之间的数据结构不太相同（这是经常发生的），在此情况下若想批量读取，可以使用map()函数进行操作："
   ]
  },
  {
   "cell_type": "markdown",
   "metadata": {},
   "source": [
    "1. 先获取所有文件的路径名"
   ]
  },
  {
   "cell_type": "markdown",
   "metadata": {},
   "source": [
    "fs包中的`dir_ls()`函数可以获取指定文件夹下文件的路径：\n",
    "```r\n",
    "dir_ls(\n",
    "  path = \".\",\n",
    "  all = FALSE,\n",
    "  recurse = FALSE,\n",
    "  type = \"any\",\n",
    "  glob = NULL,\n",
    "  regexp = NULL,\n",
    "  invert = FALSE,\n",
    "  fail = TRUE,\n",
    "  ...\n",
    "  )\n",
    "```"
   ]
  },
  {
   "cell_type": "markdown",
   "metadata": {},
   "source": [
    "主要参数解释：\n",
    "- `path`：一个包含一个或多个路径的字符向量。（可以直接传入文件夹的路径）\n",
    "- `all`：如果设置为TRUE，则返回隐藏文件。\n",
    "- `recurse`：如果设置为TRUE，则完全递归获取文件，如果设置为正数，则表示递归的层数（递归层数可以理解为搜索文件的深度）。\n",
    "- `glob`：通配符或模糊匹配模式（例如，`*.csv`），将其传递给grep()函数以过滤路径。\n",
    "- `regexp`：正则表达式（例如，`[.]csv$`），将其传递给grep()函数以过滤路径。"
   ]
  },
  {
   "cell_type": "code",
   "execution_count": 70,
   "metadata": {
    "vscode": {
     "languageId": "r"
    }
   },
   "outputs": [
    {
     "name": "stdout",
     "output_type": "stream",
     "text": [
      "data/datadirectory/附件1.xlsx data/datadirectory/附件2.xlsx \n",
      "data/datadirectory/附件3.xlsx data/datadirectory/附件4.xlsx \n"
     ]
    }
   ],
   "source": [
    "paths <- fs::dir_ls(\"data/datadirectory\", recurse = TRUE, glob = \"*.xlsx\")\n",
    "print(paths)"
   ]
  },
  {
   "cell_type": "markdown",
   "metadata": {},
   "source": [
    "2. 通过循环机制批量读取文件"
   ]
  },
  {
   "cell_type": "code",
   "execution_count": 74,
   "metadata": {
    "vscode": {
     "languageId": "r"
    }
   },
   "outputs": [
    {
     "name": "stdout",
     "output_type": "stream",
     "text": [
      "$data1\n",
      "\u001b[90m# A tibble: 6 × 4\u001b[39m\n",
      "  单品编码        单品名称     分类编码   分类名称\n",
      "  \u001b[3m\u001b[90m<chr>\u001b[39m\u001b[23m           \u001b[3m\u001b[90m<chr>\u001b[39m\u001b[23m        \u001b[3m\u001b[90m<chr>\u001b[39m\u001b[23m      \u001b[3m\u001b[90m<chr>\u001b[39m\u001b[23m   \n",
      "\u001b[90m1\u001b[39m 102900005115168 牛首生菜     1011010101 花叶类  \n",
      "\u001b[90m2\u001b[39m 102900005115199 四川红香椿   1011010101 花叶类  \n",
      "\u001b[90m3\u001b[39m 102900005115625 本地小毛白菜 1011010101 花叶类  \n",
      "\u001b[90m4\u001b[39m 102900005115748 白菜苔       1011010101 花叶类  \n",
      "\u001b[90m5\u001b[39m 102900005115762 苋菜         1011010101 花叶类  \n",
      "\u001b[90m6\u001b[39m 102900005115779 云南生菜     1011010101 花叶类  \n",
      "\n",
      "$data2\n",
      "\u001b[90m# A tibble: 6 × 7\u001b[39m\n",
      "  销售日期            扫码销售时间 单品编码     `销量(千克)` `销售单价(元/千克)`\n",
      "  \u001b[3m\u001b[90m<dttm>\u001b[39m\u001b[23m              \u001b[3m\u001b[90m<chr>\u001b[39m\u001b[23m        \u001b[3m\u001b[90m<chr>\u001b[39m\u001b[23m               \u001b[3m\u001b[90m<dbl>\u001b[39m\u001b[23m               \u001b[3m\u001b[90m<dbl>\u001b[39m\u001b[23m\n",
      "\u001b[90m1\u001b[39m 2020-07-01 \u001b[90m00:00:00\u001b[39m 09:15:07.924 10290000511…        0.396                 7.6\n",
      "\u001b[90m2\u001b[39m 2020-07-01 \u001b[90m00:00:00\u001b[39m 09:17:27.295 10290000511…        0.849                 3.2\n",
      "\u001b[90m3\u001b[39m 2020-07-01 \u001b[90m00:00:00\u001b[39m 09:17:33.905 10290000511…        0.409                 7.6\n",
      "\u001b[90m4\u001b[39m 2020-07-01 \u001b[90m00:00:00\u001b[39m 09:19:45.450 10290000511…        0.421                10  \n",
      "\u001b[90m5\u001b[39m 2020-07-01 \u001b[90m00:00:00\u001b[39m 09:20:23.686 10290000511…        0.539                 8  \n",
      "\u001b[90m6\u001b[39m 2020-07-01 \u001b[90m00:00:00\u001b[39m 09:21:55.556 10290000511…        0.277                 7.6\n",
      "\u001b[90m# ℹ 2 more variables: 销售类型 <chr>, 是否打折销售 <chr>\u001b[39m\n",
      "\n",
      "$data3\n",
      "\u001b[90m# A tibble: 6 × 3\u001b[39m\n",
      "  日期                单品编码        `批发价格(元/千克)`\n",
      "  \u001b[3m\u001b[90m<dttm>\u001b[39m\u001b[23m              \u001b[3m\u001b[90m<chr>\u001b[39m\u001b[23m                         \u001b[3m\u001b[90m<dbl>\u001b[39m\u001b[23m\n",
      "\u001b[90m1\u001b[39m 2020-07-01 \u001b[90m00:00:00\u001b[39m 102900005115762                3.88\n",
      "\u001b[90m2\u001b[39m 2020-07-01 \u001b[90m00:00:00\u001b[39m 102900005115779                6.72\n",
      "\u001b[90m3\u001b[39m 2020-07-01 \u001b[90m00:00:00\u001b[39m 102900005115786                3.19\n",
      "\u001b[90m4\u001b[39m 2020-07-01 \u001b[90m00:00:00\u001b[39m 102900005115793                9.24\n",
      "\u001b[90m5\u001b[39m 2020-07-01 \u001b[90m00:00:00\u001b[39m 102900005115823                7.03\n",
      "\u001b[90m6\u001b[39m 2020-07-01 \u001b[90m00:00:00\u001b[39m 102900005115908                4.6 \n",
      "\n",
      "$data4\n",
      "\u001b[90m# A tibble: 6 × 3\u001b[39m\n",
      "  小分类编码 小分类名称 `平均损耗率(%)_小分类编码_不同值`\n",
      "  \u001b[3m\u001b[90m<chr>\u001b[39m\u001b[23m      \u001b[3m\u001b[90m<chr>\u001b[39m\u001b[23m                                  \u001b[3m\u001b[90m<dbl>\u001b[39m\u001b[23m\n",
      "\u001b[90m1\u001b[39m 1011010201 花菜类                                 15.5 \n",
      "\u001b[90m2\u001b[39m 1011010402 水生根茎类                             13.6 \n",
      "\u001b[90m3\u001b[39m 1011010101 花叶类                                 12.8 \n",
      "\u001b[90m4\u001b[39m 1011010801 食用菌                                  9.45\n",
      "\u001b[90m5\u001b[39m 1011010504 辣椒类                                  9.24\n",
      "\u001b[90m6\u001b[39m 1011010501 茄类                                    6.68\n",
      "\n"
     ]
    }
   ],
   "source": [
    "datalist <- map(paths, ~ read_xlsx(.x, col_names = TRUE, n_max = 6))\n",
    "names(datalist) <- paste0(\"data\", 1:4)\n",
    "print(datalist)"
   ]
  },
  {
   "cell_type": "markdown",
   "metadata": {},
   "source": [
    "若只有一个Excel表，但这张表有不止一个表单："
   ]
  },
  {
   "cell_type": "markdown",
   "metadata": {},
   "source": [
    "1. 获取表单"
   ]
  },
  {
   "cell_type": "markdown",
   "metadata": {},
   "source": [
    "`excel_sheets()`函数可以获取文件的表单名（一个字符向量），函数只要输入Excel的路径即可："
   ]
  },
  {
   "cell_type": "code",
   "execution_count": 77,
   "metadata": {
    "vscode": {
     "languageId": "r"
    }
   },
   "outputs": [
    {
     "name": "stdout",
     "output_type": "stream",
     "text": [
      "[1] \"六1班\" \"六2班\" \"六3班\" \"六4班\" \"六5班\"\n"
     ]
    }
   ],
   "source": [
    "path <- \"data/学生成绩.xlsx\"\n",
    "sheets <- excel_sheets(path)\n",
    "print(sheets)"
   ]
  },
  {
   "cell_type": "markdown",
   "metadata": {},
   "source": [
    "2. 循环操作"
   ]
  },
  {
   "cell_type": "code",
   "execution_count": 79,
   "metadata": {
    "vscode": {
     "languageId": "r"
    }
   },
   "outputs": [
    {
     "name": "stdout",
     "output_type": "stream",
     "text": [
      "[[1]]\n",
      "\u001b[90m# A tibble: 4 × 6\u001b[39m\n",
      "  班级  姓名   性别   语文  数学  英语\n",
      "  \u001b[3m\u001b[90m<chr>\u001b[39m\u001b[23m \u001b[3m\u001b[90m<chr>\u001b[39m\u001b[23m  \u001b[3m\u001b[90m<chr>\u001b[39m\u001b[23m \u001b[3m\u001b[90m<dbl>\u001b[39m\u001b[23m \u001b[3m\u001b[90m<dbl>\u001b[39m\u001b[23m \u001b[3m\u001b[90m<dbl>\u001b[39m\u001b[23m\n",
      "\u001b[90m1\u001b[39m 六1班 何娜   女       87    92    79\n",
      "\u001b[90m2\u001b[39m 六1班 黄才菊 女       95    77    75\n",
      "\u001b[90m3\u001b[39m 六1班 陈芳妹 女       79    87    66\n",
      "\u001b[90m4\u001b[39m 六1班 陈学勤 男       82    79    66\n",
      "\n",
      "[[2]]\n",
      "\u001b[90m# A tibble: 4 × 6\u001b[39m\n",
      "  班级  姓名   性别   语文  数学  英语\n",
      "  \u001b[3m\u001b[90m<chr>\u001b[39m\u001b[23m \u001b[3m\u001b[90m<chr>\u001b[39m\u001b[23m  \u001b[3m\u001b[90m<chr>\u001b[39m\u001b[23m \u001b[3m\u001b[90m<dbl>\u001b[39m\u001b[23m \u001b[3m\u001b[90m<dbl>\u001b[39m\u001b[23m \u001b[3m\u001b[90m<dbl>\u001b[39m\u001b[23m\n",
      "\u001b[90m1\u001b[39m 六2班 黄祖娜 女       94    88    75\n",
      "\u001b[90m2\u001b[39m 六2班 徐雅琦 女       92    86    72\n",
      "\u001b[90m3\u001b[39m 六2班 徐达政 男       90    86    72\n",
      "\u001b[90m4\u001b[39m 六2班 陈华健 男       92    84    70\n",
      "\n",
      "[[3]]\n",
      "\u001b[90m# A tibble: 4 × 6\u001b[39m\n",
      "  班级  姓名   性别   语文  数学  英语\n",
      "  \u001b[3m\u001b[90m<chr>\u001b[39m\u001b[23m \u001b[3m\u001b[90m<chr>\u001b[39m\u001b[23m  \u001b[3m\u001b[90m<chr>\u001b[39m\u001b[23m \u001b[3m\u001b[90m<dbl>\u001b[39m\u001b[23m \u001b[3m\u001b[90m<dbl>\u001b[39m\u001b[23m \u001b[3m\u001b[90m<dbl>\u001b[39m\u001b[23m\n",
      "\u001b[90m1\u001b[39m 六3班 江佳欣 女       80    69    75\n",
      "\u001b[90m2\u001b[39m 六3班 何诗婷 女       76    53    72\n",
      "\u001b[90m3\u001b[39m 六3班 林可莉 女       72    52    72\n",
      "\u001b[90m4\u001b[39m 六3班 雷帆   男       78    56    66\n",
      "\n",
      "[[4]]\n",
      "\u001b[90m# A tibble: 4 × 6\u001b[39m\n",
      "  班级  姓名   性别   语文  数学  英语\n",
      "  \u001b[3m\u001b[90m<chr>\u001b[39m\u001b[23m \u001b[3m\u001b[90m<chr>\u001b[39m\u001b[23m  \u001b[3m\u001b[90m<chr>\u001b[39m\u001b[23m \u001b[3m\u001b[90m<dbl>\u001b[39m\u001b[23m \u001b[3m\u001b[90m<dbl>\u001b[39m\u001b[23m \u001b[3m\u001b[90m<dbl>\u001b[39m\u001b[23m\n",
      "\u001b[90m1\u001b[39m 六4班 周婵   女       92    94    77\n",
      "\u001b[90m2\u001b[39m 六4班 李小龄 男       90    87    69\n",
      "\u001b[90m3\u001b[39m 六4班 陈丽丽 女       87    93    61\n",
      "\u001b[90m4\u001b[39m 六4班 杨昌晟 男       84    85    64\n",
      "\n",
      "[[5]]\n",
      "\u001b[90m# A tibble: 4 × 6\u001b[39m\n",
      "  班级  姓名   性别   语文  数学  英语\n",
      "  \u001b[3m\u001b[90m<chr>\u001b[39m\u001b[23m \u001b[3m\u001b[90m<chr>\u001b[39m\u001b[23m  \u001b[3m\u001b[90m<chr>\u001b[39m\u001b[23m \u001b[3m\u001b[90m<dbl>\u001b[39m\u001b[23m \u001b[3m\u001b[90m<dbl>\u001b[39m\u001b[23m \u001b[3m\u001b[90m<dbl>\u001b[39m\u001b[23m\n",
      "\u001b[90m1\u001b[39m 六5班 符苡榕 女       85    89    76\n",
      "\u001b[90m2\u001b[39m 六5班 陆曼   女       88    84    69\n",
      "\u001b[90m3\u001b[39m 六5班 容唐   女       83    71    56\n",
      "\u001b[90m4\u001b[39m 六5班 蒙丽梅 女       72    72    64\n",
      "\n"
     ]
    }
   ],
   "source": [
    "datalist2 <- map(sheets, ~ read_xlsx(path, sheet = .x, col_names = TRUE))\n",
    "print(datalist2)"
   ]
  },
  {
   "cell_type": "markdown",
   "metadata": {},
   "source": [
    "##### 批量写出Excel"
   ]
  },
  {
   "cell_type": "markdown",
   "metadata": {},
   "source": [
    "如果需要将数据写出Excel文件，writexl包的`write_xlsx()`函数是个不错的选择：\n",
    "```r\n",
    "write_xlsx(\n",
    "  x,\n",
    "  path = tempfile(fileext = \".xlsx\"),\n",
    "  col_names = TRUE,\n",
    "  format_headers = TRUE,\n",
    "  use_zip64 = FALSE\n",
    ")\n",
    "```"
   ]
  },
  {
   "cell_type": "markdown",
   "metadata": {},
   "source": [
    "在此基础上可以实现批量写出Excel文件，用到walk系列函数（不关注输出结果）："
   ]
  },
  {
   "cell_type": "code",
   "execution_count": 3,
   "metadata": {
    "vscode": {
     "languageId": "r"
    }
   },
   "outputs": [],
   "source": [
    "#! 一种是借助列表进行循环操作\n",
    "library(writexl)\n",
    "library(tidyverse)\n",
    "df_list <- as_tibble(iris) %>%\n",
    "  group_split(Species)\n",
    "filenames <- str_c(\"data/writeexcel1/\", levels(iris$Species), \".xlsx\")\n",
    "walk2(df_list, filenames, ~ write_xlsx(x = ..1, path = ..2))\n"
   ]
  },
  {
   "cell_type": "code",
   "execution_count": 11,
   "metadata": {
    "vscode": {
     "languageId": "r"
    }
   },
   "outputs": [],
   "source": [
    "#! 另一种是借助嵌套数据进行循环操作\n",
    "library(writexl)\n",
    "library(tidyverse)\n",
    "as_tibble(mpg) %>%\n",
    "  mutate(manufacturer = fct(manufacturer)) %>%\n",
    "  group_nest(manufacturer) %>%\n",
    "  mutate(manufacturer = str_c(\n",
    "    \"data/writeexcel2/\", manufacturer, \".xlsx\"\n",
    "  )\n",
    "  ) %>%\n",
    "  pwalk(~ write_xlsx(x = ..2, path = ..1))"
   ]
  },
  {
   "cell_type": "markdown",
   "metadata": {},
   "source": [
    "当然，如果不想将多个数据框写出到多个表格，而是希望写出到单个文件的多个表单中，这样也是可以实现的。首先需要将多个数据框存入一个列表（列表名就是写出的表单名），然后再进行写出操作。"
   ]
  },
  {
   "cell_type": "code",
   "execution_count": 2,
   "metadata": {
    "vscode": {
     "languageId": "r"
    }
   },
   "outputs": [],
   "source": [
    "library(tidyverse)\n",
    "library(writexl)\n",
    "as_tibble(iris) %>%\n",
    "  group_split(Species) %>%\n",
    "  set_names(levels(iris$Species)) %>%\n",
    "  write_xlsx(\"data/writexlsx3.xlsx\")"
   ]
  },
  {
   "cell_type": "markdown",
   "metadata": {},
   "source": [
    "#### openxlsx2"
   ]
  },
  {
   "cell_type": "markdown",
   "metadata": {},
   "source": [
    "openxlsx2是功能更加强大的读写Excel包："
   ]
  },
  {
   "cell_type": "markdown",
   "metadata": {},
   "source": [
    "## 数据预处理"
   ]
  },
  {
   "cell_type": "markdown",
   "metadata": {},
   "source": [
    "### 数据特征缩放"
   ]
  },
  {
   "cell_type": "markdown",
   "metadata": {},
   "source": [
    "### 数据缺失值处理"
   ]
  },
  {
   "cell_type": "markdown",
   "metadata": {},
   "source": [
    "缺失值是数据分析中一个重要的步骤，一个完整的处理方法通常包含以下几个步骤：\n",
    "1. 识别缺失数据；\n",
    "2. 检查导致数据缺失的原因；\n",
    "3. 删除包含缺失值的实例或用合理的数值代替（插补）缺失值。\n",
    "\n",
    "遗憾的是，往往只有识别缺失数据是最清晰明确的步骤。明白数据为何缺失依赖于对数据生成过程的理解，而决定如何处理缺失值则需要判断哪种方法的结果最为可靠和精确。"
   ]
  },
  {
   "cell_type": "markdown",
   "metadata": {},
   "source": [
    "缺失数据可以分为以下三种类型：\n",
    "1. 完全随机缺失（MCAR）：若某变量的缺失数据与其他任何观测或未观测变量都不相关，则数据为完全随机缺失。也就是说，如果每个有缺失值的变量都是MCAR，那么可以将数据完整的实例看作对更大数据集的一个简单随机抽样。\n",
    "2. 随机缺失（MAR）：若某变量上的缺失数据与其他观测变量相关，与它自己的未观测值不相关，则数据为随机缺失。\n",
    "3. 非随机缺失（NMAR）：若缺失数据不属于MCAR和MAR，则数据为非随机缺失。\n",
    "   \n",
    "大部分处理缺失数据的方法都<span style = 'color:red'><strong>假定数据是MCAR或MAR</strong></span>。此时，可以忽略缺失数据的生成机制，并且（在替换或删除缺失数据后）可以直接对感兴趣的关系进行建模。当数据是NMAR时，想对它进行恰当的分析比较困难，你既要对感兴趣的关系进行建模，又要对缺失值的生成机制进行建模。NMAR数据的分析十分复杂。   "
   ]
  },
  {
   "cell_type": "markdown",
   "metadata": {},
   "source": [
    "![](图片素材\\处理缺失值.png)"
   ]
  },
  {
   "cell_type": "markdown",
   "metadata": {},
   "source": [
    "#### 识别缺失值"
   ]
  },
  {
   "cell_type": "markdown",
   "metadata": {},
   "source": [
    "##### is.na(), is.nan(), is.infinite()"
   ]
  },
  {
   "cell_type": "markdown",
   "metadata": {},
   "source": [
    "R使用NA（不可得）代表<span style = 'color:red'><strong>缺失值</strong></span>，NaN（不是一个数）代表<span style = 'color:red'><strong>不可能值</strong></span>。另外，符号Inf和-Inf分别代表正无穷和负无穷。函数`is.na()`、`is.nan()`和`is.infinite()`可分别用来识别缺失值、不可能值和无穷值。一般用于检测向量。"
   ]
  },
  {
   "cell_type": "markdown",
   "metadata": {},
   "source": [
    "##### complete.cases()"
   ]
  },
  {
   "cell_type": "markdown",
   "metadata": {},
   "source": [
    "`complete.cases()`函数可以用来识别矩阵或数据框中没有缺失值的行（因为数据框每一行代表一个观测）。它将NA和NaN识别为缺失值，无穷值（Inf和-Inf）被当作有效值。若每行都包含完整的实例，则返回TRUE的逻辑向量，反之。"
   ]
  },
  {
   "cell_type": "code",
   "execution_count": null,
   "metadata": {
    "vscode": {
     "languageId": "r"
    }
   },
   "outputs": [
    {
     "data": {
      "text/html": [
       "<table class=\"dataframe\">\n",
       "<caption>A data.frame: 6 × 10</caption>\n",
       "<thead>\n",
       "\t<tr><th></th><th scope=col>BodyWgt</th><th scope=col>BrainWgt</th><th scope=col>NonD</th><th scope=col>Dream</th><th scope=col>Sleep</th><th scope=col>Span</th><th scope=col>Gest</th><th scope=col>Pred</th><th scope=col>Exp</th><th scope=col>Danger</th></tr>\n",
       "\t<tr><th></th><th scope=col>&lt;dbl&gt;</th><th scope=col>&lt;dbl&gt;</th><th scope=col>&lt;dbl&gt;</th><th scope=col>&lt;dbl&gt;</th><th scope=col>&lt;dbl&gt;</th><th scope=col>&lt;dbl&gt;</th><th scope=col>&lt;dbl&gt;</th><th scope=col>&lt;int&gt;</th><th scope=col>&lt;int&gt;</th><th scope=col>&lt;int&gt;</th></tr>\n",
       "</thead>\n",
       "<tbody>\n",
       "\t<tr><th scope=row>2</th><td>   1.000</td><td>   6.6</td><td> 6.3</td><td>2.0</td><td> 8.3</td><td> 4.5</td><td> 42</td><td>3</td><td>1</td><td>3</td></tr>\n",
       "\t<tr><th scope=row>5</th><td>2547.000</td><td>4603.0</td><td> 2.1</td><td>1.8</td><td> 3.9</td><td>69.0</td><td>624</td><td>3</td><td>5</td><td>4</td></tr>\n",
       "\t<tr><th scope=row>6</th><td>  10.550</td><td> 179.5</td><td> 9.1</td><td>0.7</td><td> 9.8</td><td>27.0</td><td>180</td><td>4</td><td>4</td><td>4</td></tr>\n",
       "\t<tr><th scope=row>7</th><td>   0.023</td><td>   0.3</td><td>15.8</td><td>3.9</td><td>19.7</td><td>19.0</td><td> 35</td><td>1</td><td>1</td><td>1</td></tr>\n",
       "\t<tr><th scope=row>8</th><td> 160.000</td><td> 169.0</td><td> 5.2</td><td>1.0</td><td> 6.2</td><td>30.4</td><td>392</td><td>4</td><td>5</td><td>4</td></tr>\n",
       "\t<tr><th scope=row>9</th><td>   3.300</td><td>  25.6</td><td>10.9</td><td>3.6</td><td>14.5</td><td>28.0</td><td> 63</td><td>1</td><td>2</td><td>1</td></tr>\n",
       "</tbody>\n",
       "</table>\n"
      ],
      "text/latex": [
       "A data.frame: 6 × 10\n",
       "\\begin{tabular}{r|llllllllll}\n",
       "  & BodyWgt & BrainWgt & NonD & Dream & Sleep & Span & Gest & Pred & Exp & Danger\\\\\n",
       "  & <dbl> & <dbl> & <dbl> & <dbl> & <dbl> & <dbl> & <dbl> & <int> & <int> & <int>\\\\\n",
       "\\hline\n",
       "\t2 &    1.000 &    6.6 &  6.3 & 2.0 &  8.3 &  4.5 &  42 & 3 & 1 & 3\\\\\n",
       "\t5 & 2547.000 & 4603.0 &  2.1 & 1.8 &  3.9 & 69.0 & 624 & 3 & 5 & 4\\\\\n",
       "\t6 &   10.550 &  179.5 &  9.1 & 0.7 &  9.8 & 27.0 & 180 & 4 & 4 & 4\\\\\n",
       "\t7 &    0.023 &    0.3 & 15.8 & 3.9 & 19.7 & 19.0 &  35 & 1 & 1 & 1\\\\\n",
       "\t8 &  160.000 &  169.0 &  5.2 & 1.0 &  6.2 & 30.4 & 392 & 4 & 5 & 4\\\\\n",
       "\t9 &    3.300 &   25.6 & 10.9 & 3.6 & 14.5 & 28.0 &  63 & 1 & 2 & 1\\\\\n",
       "\\end{tabular}\n"
      ],
      "text/markdown": [
       "\n",
       "A data.frame: 6 × 10\n",
       "\n",
       "| <!--/--> | BodyWgt &lt;dbl&gt; | BrainWgt &lt;dbl&gt; | NonD &lt;dbl&gt; | Dream &lt;dbl&gt; | Sleep &lt;dbl&gt; | Span &lt;dbl&gt; | Gest &lt;dbl&gt; | Pred &lt;int&gt; | Exp &lt;int&gt; | Danger &lt;int&gt; |\n",
       "|---|---|---|---|---|---|---|---|---|---|---|\n",
       "| 2 |    1.000 |    6.6 |  6.3 | 2.0 |  8.3 |  4.5 |  42 | 3 | 1 | 3 |\n",
       "| 5 | 2547.000 | 4603.0 |  2.1 | 1.8 |  3.9 | 69.0 | 624 | 3 | 5 | 4 |\n",
       "| 6 |   10.550 |  179.5 |  9.1 | 0.7 |  9.8 | 27.0 | 180 | 4 | 4 | 4 |\n",
       "| 7 |    0.023 |    0.3 | 15.8 | 3.9 | 19.7 | 19.0 |  35 | 1 | 1 | 1 |\n",
       "| 8 |  160.000 |  169.0 |  5.2 | 1.0 |  6.2 | 30.4 | 392 | 4 | 5 | 4 |\n",
       "| 9 |    3.300 |   25.6 | 10.9 | 3.6 | 14.5 | 28.0 |  63 | 1 | 2 | 1 |\n",
       "\n"
      ],
      "text/plain": [
       "  BodyWgt  BrainWgt NonD Dream Sleep Span Gest Pred Exp Danger\n",
       "2    1.000    6.6    6.3 2.0    8.3   4.5  42  3    1   3     \n",
       "5 2547.000 4603.0    2.1 1.8    3.9  69.0 624  3    5   4     \n",
       "6   10.550  179.5    9.1 0.7    9.8  27.0 180  4    4   4     \n",
       "7    0.023    0.3   15.8 3.9   19.7  19.0  35  1    1   1     \n",
       "8  160.000  169.0    5.2 1.0    6.2  30.4 392  4    5   4     \n",
       "9    3.300   25.6   10.9 3.6   14.5  28.0  63  1    2   1     "
      ]
     },
     "metadata": {},
     "output_type": "display_data"
    },
    {
     "data": {
      "text/html": [
       "42"
      ],
      "text/latex": [
       "42"
      ],
      "text/markdown": [
       "42"
      ],
      "text/plain": [
       "[1] 42"
      ]
     },
     "metadata": {},
     "output_type": "display_data"
    }
   ],
   "source": [
    "data(sleep, package=\"VIM\") \n",
    "rows <- complete.cases(sleep)\n",
    "head(sleep[rows, ])\n",
    "# 查看没有缺失值的行数\n",
    "sum(rows)"
   ]
  },
  {
   "cell_type": "markdown",
   "metadata": {},
   "source": [
    "##### 探索缺失值的模式"
   ]
  },
  {
   "cell_type": "markdown",
   "metadata": {},
   "source": [
    "除了上述的两种基本函数以外，还可以采用其他方式，包括但不限于："
   ]
  },
  {
   "cell_type": "markdown",
   "metadata": {},
   "source": [
    "1. 列联表显示缺失值"
   ]
  },
  {
   "cell_type": "markdown",
   "metadata": {},
   "source": [
    "`mice`包中的`md.pattern()`函数可生成一个以矩阵或数据框形式展示缺失值模式的列联表：\n",
    "```r\n",
    "md.pattern(x, plot = TRUE, rotate.names = FALSE)\n",
    "```\n",
    "参数：\n",
    "- `x`：一个包含不完整数据的数据框(data frame)或矩阵(matrix)。缺失值被编码为NA。\n",
    "- `plot`：是否应该将缺失数据模式绘制成图表。\n",
    "- `rotate.names`：参数决定变量名称在绘制的图中中是否应水平或垂直放置。"
   ]
  },
  {
   "cell_type": "code",
   "execution_count": null,
   "metadata": {
    "vscode": {
     "languageId": "r"
    }
   },
   "outputs": [
    {
     "data": {
      "text/html": [
       "<table class=\"dataframe\">\n",
       "<caption>A matrix: 9 × 11 of type dbl</caption>\n",
       "<thead>\n",
       "\t<tr><th></th><th scope=col>BodyWgt</th><th scope=col>BrainWgt</th><th scope=col>Pred</th><th scope=col>Exp</th><th scope=col>Danger</th><th scope=col>Sleep</th><th scope=col>Span</th><th scope=col>Gest</th><th scope=col>Dream</th><th scope=col>NonD</th><th scope=col></th></tr>\n",
       "</thead>\n",
       "<tbody>\n",
       "\t<tr><th scope=row>42</th><td>1</td><td>1</td><td>1</td><td>1</td><td>1</td><td>1</td><td>1</td><td>1</td><td> 1</td><td> 1</td><td> 0</td></tr>\n",
       "\t<tr><th scope=row>9</th><td>1</td><td>1</td><td>1</td><td>1</td><td>1</td><td>1</td><td>1</td><td>1</td><td> 0</td><td> 0</td><td> 2</td></tr>\n",
       "\t<tr><th scope=row>3</th><td>1</td><td>1</td><td>1</td><td>1</td><td>1</td><td>1</td><td>1</td><td>0</td><td> 1</td><td> 1</td><td> 1</td></tr>\n",
       "\t<tr><th scope=row>2</th><td>1</td><td>1</td><td>1</td><td>1</td><td>1</td><td>1</td><td>0</td><td>1</td><td> 1</td><td> 1</td><td> 1</td></tr>\n",
       "\t<tr><th scope=row>1</th><td>1</td><td>1</td><td>1</td><td>1</td><td>1</td><td>1</td><td>0</td><td>1</td><td> 0</td><td> 0</td><td> 3</td></tr>\n",
       "\t<tr><th scope=row>1</th><td>1</td><td>1</td><td>1</td><td>1</td><td>1</td><td>1</td><td>0</td><td>0</td><td> 1</td><td> 1</td><td> 2</td></tr>\n",
       "\t<tr><th scope=row>2</th><td>1</td><td>1</td><td>1</td><td>1</td><td>1</td><td>0</td><td>1</td><td>1</td><td> 1</td><td> 0</td><td> 2</td></tr>\n",
       "\t<tr><th scope=row>2</th><td>1</td><td>1</td><td>1</td><td>1</td><td>1</td><td>0</td><td>1</td><td>1</td><td> 0</td><td> 0</td><td> 3</td></tr>\n",
       "\t<tr><th scope=row></th><td>0</td><td>0</td><td>0</td><td>0</td><td>0</td><td>4</td><td>4</td><td>4</td><td>12</td><td>14</td><td>38</td></tr>\n",
       "</tbody>\n",
       "</table>\n"
      ],
      "text/latex": [
       "A matrix: 9 × 11 of type dbl\n",
       "\\begin{tabular}{r|lllllllllll}\n",
       "  & BodyWgt & BrainWgt & Pred & Exp & Danger & Sleep & Span & Gest & Dream & NonD & \\\\\n",
       "\\hline\n",
       "\t42 & 1 & 1 & 1 & 1 & 1 & 1 & 1 & 1 &  1 &  1 &  0\\\\\n",
       "\t9 & 1 & 1 & 1 & 1 & 1 & 1 & 1 & 1 &  0 &  0 &  2\\\\\n",
       "\t3 & 1 & 1 & 1 & 1 & 1 & 1 & 1 & 0 &  1 &  1 &  1\\\\\n",
       "\t2 & 1 & 1 & 1 & 1 & 1 & 1 & 0 & 1 &  1 &  1 &  1\\\\\n",
       "\t1 & 1 & 1 & 1 & 1 & 1 & 1 & 0 & 1 &  0 &  0 &  3\\\\\n",
       "\t1 & 1 & 1 & 1 & 1 & 1 & 1 & 0 & 0 &  1 &  1 &  2\\\\\n",
       "\t2 & 1 & 1 & 1 & 1 & 1 & 0 & 1 & 1 &  1 &  0 &  2\\\\\n",
       "\t2 & 1 & 1 & 1 & 1 & 1 & 0 & 1 & 1 &  0 &  0 &  3\\\\\n",
       "\t & 0 & 0 & 0 & 0 & 0 & 4 & 4 & 4 & 12 & 14 & 38\\\\\n",
       "\\end{tabular}\n"
      ],
      "text/markdown": [
       "\n",
       "A matrix: 9 × 11 of type dbl\n",
       "\n",
       "| <!--/--> | BodyWgt | BrainWgt | Pred | Exp | Danger | Sleep | Span | Gest | Dream | NonD | <!----> |\n",
       "|---|---|---|---|---|---|---|---|---|---|---|---|\n",
       "| 42 | 1 | 1 | 1 | 1 | 1 | 1 | 1 | 1 |  1 |  1 |  0 |\n",
       "| 9 | 1 | 1 | 1 | 1 | 1 | 1 | 1 | 1 |  0 |  0 |  2 |\n",
       "| 3 | 1 | 1 | 1 | 1 | 1 | 1 | 1 | 0 |  1 |  1 |  1 |\n",
       "| 2 | 1 | 1 | 1 | 1 | 1 | 1 | 0 | 1 |  1 |  1 |  1 |\n",
       "| 1 | 1 | 1 | 1 | 1 | 1 | 1 | 0 | 1 |  0 |  0 |  3 |\n",
       "| 1 | 1 | 1 | 1 | 1 | 1 | 1 | 0 | 0 |  1 |  1 |  2 |\n",
       "| 2 | 1 | 1 | 1 | 1 | 1 | 0 | 1 | 1 |  1 |  0 |  2 |\n",
       "| 2 | 1 | 1 | 1 | 1 | 1 | 0 | 1 | 1 |  0 |  0 |  3 |\n",
       "| <!----> | 0 | 0 | 0 | 0 | 0 | 4 | 4 | 4 | 12 | 14 | 38 |\n",
       "\n"
      ],
      "text/plain": [
       "   BodyWgt BrainWgt Pred Exp Danger Sleep Span Gest Dream NonD   \n",
       "42 1       1        1    1   1      1     1    1     1     1    0\n",
       "9  1       1        1    1   1      1     1    1     0     0    2\n",
       "3  1       1        1    1   1      1     1    0     1     1    1\n",
       "2  1       1        1    1   1      1     0    1     1     1    1\n",
       "1  1       1        1    1   1      1     0    1     0     0    3\n",
       "1  1       1        1    1   1      1     0    0     1     1    2\n",
       "2  1       1        1    1   1      0     1    1     1     0    2\n",
       "2  1       1        1    1   1      0     1    1     0     0    3\n",
       "   0       0        0    0   0      4     4    4    12    14   38"
      ]
     },
     "metadata": {},
     "output_type": "display_data"
    }
   ],
   "source": [
    "library(mice)\n",
    "data(sleep, package = \"VIM\") \n",
    "md.pattern(sleep, plot = FALSE)"
   ]
  },
  {
   "cell_type": "markdown",
   "metadata": {},
   "source": [
    "该列联表需要这么看：0表示变量的列中有缺失值，1则表示没有缺失值。每一行都显示了缺失的模式，第一行表示观测无缺失值，第二行表示观测除了变量Span之外无缺失值。第一列表示各缺失值模式的观测个数，最后一列表示各缺失模式中有缺失值的变量的个数。可以看到，有42个观测没有缺失值，仅2个观测缺失了Span变量。数据集包含了总共(42×0)+(2×1)+…+(1×3)=38个缺失值。最后一行给出了每个变量中缺失值的数目。"
   ]
  },
  {
   "cell_type": "markdown",
   "metadata": {},
   "source": [
    "2. 聚合统计缺失值"
   ]
  },
  {
   "cell_type": "markdown",
   "metadata": {},
   "source": [
    "一种更直观的方法研究变量的缺失值情况，就是对它们进行聚合统计，`VIM`包的`aggr()`函数提供了此功能：\n",
    "```r\n",
    "aggr(x, delimiter = NULL, plot = TRUE, ...)\n",
    "```\n",
    "参数：\n",
    "- `x`：一个属于\"summary.aggr\"类的对象，一般传入含有缺失值的数据框即可。\n",
    "- `delimiter`：一个字符向量，用于区分变量和用于插补变量的插补索引（因此，传入的x需要具有列名）。如果提供了这个参数，它将用于确定任何插补变量的相应插补索引（一个逻辑向量，指示变量的哪些值已被插补）。如果找到这些插补索引，它们将用于突出显示，并且颜色将根据给定的插补变量颜色进行调整。\n",
    "- `plot`：一个逻辑值，决定是否进行绘图。"
   ]
  },
  {
   "cell_type": "markdown",
   "metadata": {},
   "source": [
    "此外，函数执行后的`aggr`对象包含以下组件，并可以通过`$`来获取：\n",
    "- `x`：所使用的数据。\n",
    "- `combinations`：一个字符向量，其中的每一个字符串都表示变量的缺失模式。\n",
    "- `count`：这些缺失模式的频率。\n",
    "- `percent`：这些缺失的占比。\n",
    "- `missings`：一个数据框，包含每个变量中缺失值的数量。\n",
    "- `tabcomb`：缺失模式组合的指示矩阵。\n",
    "\n",
    "对于`summary.aggr`对象，它包含以下组件：\n",
    "- `combinations`：一个数据框，其中包含表示缺失组合的字符向量，以及它们的频数和百分比。。\n",
    "- `missings`：一个数据框，包含每个变量中缺失值的数量。"
   ]
  },
  {
   "cell_type": "code",
   "execution_count": null,
   "metadata": {
    "vscode": {
     "languageId": "r"
    }
   },
   "outputs": [
    {
     "data": {
      "text/html": [
       "<style>\n",
       ".list-inline {list-style: none; margin:0; padding: 0}\n",
       ".list-inline>li {display: inline-block}\n",
       ".list-inline>li:not(:last-child)::after {content: \"\\00b7\"; padding: 0 .5ex}\n",
       "</style>\n",
       "<ol class=list-inline><li>'0:0:0:0:0:0:0:0:0:0'</li><li>'0:0:0:0:0:0:1:0:0:0'</li><li>'0:0:0:0:0:1:0:0:0:0'</li><li>'0:0:0:0:0:1:1:0:0:0'</li><li>'0:0:1:0:1:0:0:0:0:0'</li><li>'0:0:1:1:0:0:0:0:0:0'</li><li>'0:0:1:1:0:1:0:0:0:0'</li><li>'0:0:1:1:1:0:0:0:0:0'</li></ol>\n"
      ],
      "text/latex": [
       "\\begin{enumerate*}\n",
       "\\item '0:0:0:0:0:0:0:0:0:0'\n",
       "\\item '0:0:0:0:0:0:1:0:0:0'\n",
       "\\item '0:0:0:0:0:1:0:0:0:0'\n",
       "\\item '0:0:0:0:0:1:1:0:0:0'\n",
       "\\item '0:0:1:0:1:0:0:0:0:0'\n",
       "\\item '0:0:1:1:0:0:0:0:0:0'\n",
       "\\item '0:0:1:1:0:1:0:0:0:0'\n",
       "\\item '0:0:1:1:1:0:0:0:0:0'\n",
       "\\end{enumerate*}\n"
      ],
      "text/markdown": [
       "1. '0:0:0:0:0:0:0:0:0:0'\n",
       "2. '0:0:0:0:0:0:1:0:0:0'\n",
       "3. '0:0:0:0:0:1:0:0:0:0'\n",
       "4. '0:0:0:0:0:1:1:0:0:0'\n",
       "5. '0:0:1:0:1:0:0:0:0:0'\n",
       "6. '0:0:1:1:0:0:0:0:0:0'\n",
       "7. '0:0:1:1:0:1:0:0:0:0'\n",
       "8. '0:0:1:1:1:0:0:0:0:0'\n",
       "\n",
       "\n"
      ],
      "text/plain": [
       "[1] \"0:0:0:0:0:0:0:0:0:0\" \"0:0:0:0:0:0:1:0:0:0\" \"0:0:0:0:0:1:0:0:0:0\"\n",
       "[4] \"0:0:0:0:0:1:1:0:0:0\" \"0:0:1:0:1:0:0:0:0:0\" \"0:0:1:1:0:0:0:0:0:0\"\n",
       "[7] \"0:0:1:1:0:1:0:0:0:0\" \"0:0:1:1:1:0:0:0:0:0\""
      ]
     },
     "metadata": {},
     "output_type": "display_data"
    },
    {
     "data": {
      "text/html": [
       "<style>\n",
       ".list-inline {list-style: none; margin:0; padding: 0}\n",
       ".list-inline>li {display: inline-block}\n",
       ".list-inline>li:not(:last-child)::after {content: \"\\00b7\"; padding: 0 .5ex}\n",
       "</style>\n",
       "<ol class=list-inline><li>42</li><li>3</li><li>2</li><li>1</li><li>2</li><li>9</li><li>1</li><li>2</li></ol>\n"
      ],
      "text/latex": [
       "\\begin{enumerate*}\n",
       "\\item 42\n",
       "\\item 3\n",
       "\\item 2\n",
       "\\item 1\n",
       "\\item 2\n",
       "\\item 9\n",
       "\\item 1\n",
       "\\item 2\n",
       "\\end{enumerate*}\n"
      ],
      "text/markdown": [
       "1. 42\n",
       "2. 3\n",
       "3. 2\n",
       "4. 1\n",
       "5. 2\n",
       "6. 9\n",
       "7. 1\n",
       "8. 2\n",
       "\n",
       "\n"
      ],
      "text/plain": [
       "[1] 42  3  2  1  2  9  1  2"
      ]
     },
     "metadata": {},
     "output_type": "display_data"
    },
    {
     "data": {
      "text/html": [
       "<style>\n",
       ".list-inline {list-style: none; margin:0; padding: 0}\n",
       ".list-inline>li {display: inline-block}\n",
       ".list-inline>li:not(:last-child)::after {content: \"\\00b7\"; padding: 0 .5ex}\n",
       "</style>\n",
       "<ol class=list-inline><li>67.741935483871</li><li>4.83870967741935</li><li>3.2258064516129</li><li>1.61290322580645</li><li>3.2258064516129</li><li>14.5161290322581</li><li>1.61290322580645</li><li>3.2258064516129</li></ol>\n"
      ],
      "text/latex": [
       "\\begin{enumerate*}\n",
       "\\item 67.741935483871\n",
       "\\item 4.83870967741935\n",
       "\\item 3.2258064516129\n",
       "\\item 1.61290322580645\n",
       "\\item 3.2258064516129\n",
       "\\item 14.5161290322581\n",
       "\\item 1.61290322580645\n",
       "\\item 3.2258064516129\n",
       "\\end{enumerate*}\n"
      ],
      "text/markdown": [
       "1. 67.741935483871\n",
       "2. 4.83870967741935\n",
       "3. 3.2258064516129\n",
       "4. 1.61290322580645\n",
       "5. 3.2258064516129\n",
       "6. 14.5161290322581\n",
       "7. 1.61290322580645\n",
       "8. 3.2258064516129\n",
       "\n",
       "\n"
      ],
      "text/plain": [
       "[1] 67.741935  4.838710  3.225806  1.612903  3.225806 14.516129  1.612903\n",
       "[8]  3.225806"
      ]
     },
     "metadata": {},
     "output_type": "display_data"
    },
    {
     "data": {
      "text/html": [
       "<table class=\"dataframe\">\n",
       "<caption>A data.frame: 10 × 2</caption>\n",
       "<thead>\n",
       "\t<tr><th></th><th scope=col>Variable</th><th scope=col>Count</th></tr>\n",
       "\t<tr><th></th><th scope=col>&lt;chr&gt;</th><th scope=col>&lt;int&gt;</th></tr>\n",
       "</thead>\n",
       "<tbody>\n",
       "\t<tr><th scope=row>BodyWgt</th><td>BodyWgt </td><td> 0</td></tr>\n",
       "\t<tr><th scope=row>BrainWgt</th><td>BrainWgt</td><td> 0</td></tr>\n",
       "\t<tr><th scope=row>NonD</th><td>NonD    </td><td>14</td></tr>\n",
       "\t<tr><th scope=row>Dream</th><td>Dream   </td><td>12</td></tr>\n",
       "\t<tr><th scope=row>Sleep</th><td>Sleep   </td><td> 4</td></tr>\n",
       "\t<tr><th scope=row>Span</th><td>Span    </td><td> 4</td></tr>\n",
       "\t<tr><th scope=row>Gest</th><td>Gest    </td><td> 4</td></tr>\n",
       "\t<tr><th scope=row>Pred</th><td>Pred    </td><td> 0</td></tr>\n",
       "\t<tr><th scope=row>Exp</th><td>Exp     </td><td> 0</td></tr>\n",
       "\t<tr><th scope=row>Danger</th><td>Danger  </td><td> 0</td></tr>\n",
       "</tbody>\n",
       "</table>\n"
      ],
      "text/latex": [
       "A data.frame: 10 × 2\n",
       "\\begin{tabular}{r|ll}\n",
       "  & Variable & Count\\\\\n",
       "  & <chr> & <int>\\\\\n",
       "\\hline\n",
       "\tBodyWgt & BodyWgt  &  0\\\\\n",
       "\tBrainWgt & BrainWgt &  0\\\\\n",
       "\tNonD & NonD     & 14\\\\\n",
       "\tDream & Dream    & 12\\\\\n",
       "\tSleep & Sleep    &  4\\\\\n",
       "\tSpan & Span     &  4\\\\\n",
       "\tGest & Gest     &  4\\\\\n",
       "\tPred & Pred     &  0\\\\\n",
       "\tExp & Exp      &  0\\\\\n",
       "\tDanger & Danger   &  0\\\\\n",
       "\\end{tabular}\n"
      ],
      "text/markdown": [
       "\n",
       "A data.frame: 10 × 2\n",
       "\n",
       "| <!--/--> | Variable &lt;chr&gt; | Count &lt;int&gt; |\n",
       "|---|---|---|\n",
       "| BodyWgt | BodyWgt  |  0 |\n",
       "| BrainWgt | BrainWgt |  0 |\n",
       "| NonD | NonD     | 14 |\n",
       "| Dream | Dream    | 12 |\n",
       "| Sleep | Sleep    |  4 |\n",
       "| Span | Span     |  4 |\n",
       "| Gest | Gest     |  4 |\n",
       "| Pred | Pred     |  0 |\n",
       "| Exp | Exp      |  0 |\n",
       "| Danger | Danger   |  0 |\n",
       "\n"
      ],
      "text/plain": [
       "         Variable Count\n",
       "BodyWgt  BodyWgt   0   \n",
       "BrainWgt BrainWgt  0   \n",
       "NonD     NonD     14   \n",
       "Dream    Dream    12   \n",
       "Sleep    Sleep     4   \n",
       "Span     Span      4   \n",
       "Gest     Gest      4   \n",
       "Pred     Pred      0   \n",
       "Exp      Exp       0   \n",
       "Danger   Danger    0   "
      ]
     },
     "metadata": {},
     "output_type": "display_data"
    }
   ],
   "source": [
    "library(VIM)\n",
    "result <- aggr(sleep, plot = FALSE)\n",
    "result$combinations\n",
    "result$count\n",
    "result$percent\n",
    "result$missings"
   ]
  },
  {
   "cell_type": "code",
   "execution_count": null,
   "metadata": {
    "vscode": {
     "languageId": "r"
    }
   },
   "outputs": [
    {
     "data": {
      "text/html": [
       "<table class=\"dataframe\">\n",
       "<caption>A data.frame: 10 × 2</caption>\n",
       "<thead>\n",
       "\t<tr><th></th><th scope=col>Variable</th><th scope=col>Count</th></tr>\n",
       "\t<tr><th></th><th scope=col>&lt;chr&gt;</th><th scope=col>&lt;int&gt;</th></tr>\n",
       "</thead>\n",
       "<tbody>\n",
       "\t<tr><th scope=row>BodyWgt</th><td>BodyWgt </td><td> 0</td></tr>\n",
       "\t<tr><th scope=row>BrainWgt</th><td>BrainWgt</td><td> 0</td></tr>\n",
       "\t<tr><th scope=row>NonD</th><td>NonD    </td><td>14</td></tr>\n",
       "\t<tr><th scope=row>Dream</th><td>Dream   </td><td>12</td></tr>\n",
       "\t<tr><th scope=row>Sleep</th><td>Sleep   </td><td> 4</td></tr>\n",
       "\t<tr><th scope=row>Span</th><td>Span    </td><td> 4</td></tr>\n",
       "\t<tr><th scope=row>Gest</th><td>Gest    </td><td> 4</td></tr>\n",
       "\t<tr><th scope=row>Pred</th><td>Pred    </td><td> 0</td></tr>\n",
       "\t<tr><th scope=row>Exp</th><td>Exp     </td><td> 0</td></tr>\n",
       "\t<tr><th scope=row>Danger</th><td>Danger  </td><td> 0</td></tr>\n",
       "</tbody>\n",
       "</table>\n"
      ],
      "text/latex": [
       "A data.frame: 10 × 2\n",
       "\\begin{tabular}{r|ll}\n",
       "  & Variable & Count\\\\\n",
       "  & <chr> & <int>\\\\\n",
       "\\hline\n",
       "\tBodyWgt & BodyWgt  &  0\\\\\n",
       "\tBrainWgt & BrainWgt &  0\\\\\n",
       "\tNonD & NonD     & 14\\\\\n",
       "\tDream & Dream    & 12\\\\\n",
       "\tSleep & Sleep    &  4\\\\\n",
       "\tSpan & Span     &  4\\\\\n",
       "\tGest & Gest     &  4\\\\\n",
       "\tPred & Pred     &  0\\\\\n",
       "\tExp & Exp      &  0\\\\\n",
       "\tDanger & Danger   &  0\\\\\n",
       "\\end{tabular}\n"
      ],
      "text/markdown": [
       "\n",
       "A data.frame: 10 × 2\n",
       "\n",
       "| <!--/--> | Variable &lt;chr&gt; | Count &lt;int&gt; |\n",
       "|---|---|---|\n",
       "| BodyWgt | BodyWgt  |  0 |\n",
       "| BrainWgt | BrainWgt |  0 |\n",
       "| NonD | NonD     | 14 |\n",
       "| Dream | Dream    | 12 |\n",
       "| Sleep | Sleep    |  4 |\n",
       "| Span | Span     |  4 |\n",
       "| Gest | Gest     |  4 |\n",
       "| Pred | Pred     |  0 |\n",
       "| Exp | Exp      |  0 |\n",
       "| Danger | Danger   |  0 |\n",
       "\n"
      ],
      "text/plain": [
       "         Variable Count\n",
       "BodyWgt  BodyWgt   0   \n",
       "BrainWgt BrainWgt  0   \n",
       "NonD     NonD     14   \n",
       "Dream    Dream    12   \n",
       "Sleep    Sleep     4   \n",
       "Span     Span      4   \n",
       "Gest     Gest      4   \n",
       "Pred     Pred      0   \n",
       "Exp      Exp       0   \n",
       "Danger   Danger    0   "
      ]
     },
     "metadata": {},
     "output_type": "display_data"
    },
    {
     "data": {
      "text/html": [
       "<table class=\"dataframe\">\n",
       "<caption>A data.frame: 8 × 3</caption>\n",
       "<thead>\n",
       "\t<tr><th scope=col>Combinations</th><th scope=col>Count</th><th scope=col>Percent</th></tr>\n",
       "\t<tr><th scope=col>&lt;chr&gt;</th><th scope=col>&lt;int&gt;</th><th scope=col>&lt;dbl&gt;</th></tr>\n",
       "</thead>\n",
       "<tbody>\n",
       "\t<tr><td>0:0:0:0:0:0:0:0:0:0</td><td>42</td><td>67.741935</td></tr>\n",
       "\t<tr><td>0:0:0:0:0:0:1:0:0:0</td><td> 3</td><td> 4.838710</td></tr>\n",
       "\t<tr><td>0:0:0:0:0:1:0:0:0:0</td><td> 2</td><td> 3.225806</td></tr>\n",
       "\t<tr><td>0:0:0:0:0:1:1:0:0:0</td><td> 1</td><td> 1.612903</td></tr>\n",
       "\t<tr><td>0:0:1:0:1:0:0:0:0:0</td><td> 2</td><td> 3.225806</td></tr>\n",
       "\t<tr><td>0:0:1:1:0:0:0:0:0:0</td><td> 9</td><td>14.516129</td></tr>\n",
       "\t<tr><td>0:0:1:1:0:1:0:0:0:0</td><td> 1</td><td> 1.612903</td></tr>\n",
       "\t<tr><td>0:0:1:1:1:0:0:0:0:0</td><td> 2</td><td> 3.225806</td></tr>\n",
       "</tbody>\n",
       "</table>\n"
      ],
      "text/latex": [
       "A data.frame: 8 × 3\n",
       "\\begin{tabular}{lll}\n",
       " Combinations & Count & Percent\\\\\n",
       " <chr> & <int> & <dbl>\\\\\n",
       "\\hline\n",
       "\t 0:0:0:0:0:0:0:0:0:0 & 42 & 67.741935\\\\\n",
       "\t 0:0:0:0:0:0:1:0:0:0 &  3 &  4.838710\\\\\n",
       "\t 0:0:0:0:0:1:0:0:0:0 &  2 &  3.225806\\\\\n",
       "\t 0:0:0:0:0:1:1:0:0:0 &  1 &  1.612903\\\\\n",
       "\t 0:0:1:0:1:0:0:0:0:0 &  2 &  3.225806\\\\\n",
       "\t 0:0:1:1:0:0:0:0:0:0 &  9 & 14.516129\\\\\n",
       "\t 0:0:1:1:0:1:0:0:0:0 &  1 &  1.612903\\\\\n",
       "\t 0:0:1:1:1:0:0:0:0:0 &  2 &  3.225806\\\\\n",
       "\\end{tabular}\n"
      ],
      "text/markdown": [
       "\n",
       "A data.frame: 8 × 3\n",
       "\n",
       "| Combinations &lt;chr&gt; | Count &lt;int&gt; | Percent &lt;dbl&gt; |\n",
       "|---|---|---|\n",
       "| 0:0:0:0:0:0:0:0:0:0 | 42 | 67.741935 |\n",
       "| 0:0:0:0:0:0:1:0:0:0 |  3 |  4.838710 |\n",
       "| 0:0:0:0:0:1:0:0:0:0 |  2 |  3.225806 |\n",
       "| 0:0:0:0:0:1:1:0:0:0 |  1 |  1.612903 |\n",
       "| 0:0:1:0:1:0:0:0:0:0 |  2 |  3.225806 |\n",
       "| 0:0:1:1:0:0:0:0:0:0 |  9 | 14.516129 |\n",
       "| 0:0:1:1:0:1:0:0:0:0 |  1 |  1.612903 |\n",
       "| 0:0:1:1:1:0:0:0:0:0 |  2 |  3.225806 |\n",
       "\n"
      ],
      "text/plain": [
       "  Combinations        Count Percent  \n",
       "1 0:0:0:0:0:0:0:0:0:0 42    67.741935\n",
       "2 0:0:0:0:0:0:1:0:0:0  3     4.838710\n",
       "3 0:0:0:0:0:1:0:0:0:0  2     3.225806\n",
       "4 0:0:0:0:0:1:1:0:0:0  1     1.612903\n",
       "5 0:0:1:0:1:0:0:0:0:0  2     3.225806\n",
       "6 0:0:1:1:0:0:0:0:0:0  9    14.516129\n",
       "7 0:0:1:1:0:1:0:0:0:0  1     1.612903\n",
       "8 0:0:1:1:1:0:0:0:0:0  2     3.225806"
      ]
     },
     "metadata": {},
     "output_type": "display_data"
    }
   ],
   "source": [
    "library(VIM)\n",
    "library(tidyverse)\n",
    "result <- aggr(sleep, plot = FALSE) %>%\n",
    "    summary()\n",
    "result$missings\n",
    "result$combinations"
   ]
  },
  {
   "cell_type": "markdown",
   "metadata": {},
   "source": [
    "3. 图形探索缺失值"
   ]
  },
  {
   "cell_type": "markdown",
   "metadata": {},
   "source": [
    "另一种发掘缺失值的办法就是可视化。"
   ]
  },
  {
   "cell_type": "markdown",
   "metadata": {},
   "source": [
    "- 缺失变量个数统计"
   ]
  },
  {
   "cell_type": "code",
   "execution_count": null,
   "metadata": {
    "vscode": {
     "languageId": "r"
    }
   },
   "outputs": [
    {
     "data": {
      "image/png": "[encoded data removed]",
      "text/plain": [
       "plot without title"
      ]
     },
     "metadata": {
      "image/png": {
       "height": 420,
       "width": 420
      }
     },
     "output_type": "display_data"
    }
   ],
   "source": [
    "library(VIM)\n",
    "library(tidyverse)\n",
    "library(ggpubr)\n",
    "library(showtext)\n",
    "library(scales)\n",
    "font_path <- \"C:/USERS/LENOVO/APPDATA/LOCAL/MICROSOFT/WINDOWS/FONTS/MISANS-NORMAL.TTF\"\n",
    "font_add(\"misans\", font_path)\n",
    "data <- summary(aggr(sleep, plot = FALSE))$missings\n",
    "ggplot(\n",
    "  data = data, \n",
    "  mapping = aes(x = Variable, y = Count, fill = Count)\n",
    "  )+\n",
    "  geom_col()+\n",
    "  scale_y_continuous(\n",
    "    breaks = breaks_width(width = 2),\n",
    "    expand = expansion(add = c(0.1, 1))\n",
    "    )+\n",
    "  theme_pubr()+\n",
    "  theme(\n",
    "    legend.position = \"none\",\n",
    "    panel.grid.major = element_line(),\n",
    "    axis.text.x = element_text(angle = 60, vjust = .5, size = 12),\n",
    "    axis.title.x = element_blank(),\n",
    "    axis.title.y = element_text(size = 15),\n",
    "  )"
   ]
  },
  {
   "cell_type": "markdown",
   "metadata": {},
   "source": [
    "- 缺失模式统计"
   ]
  },
  {
   "cell_type": "code",
   "execution_count": null,
   "metadata": {
    "vscode": {
     "languageId": "r"
    }
   },
   "outputs": [
    {
     "data": {
      "image/png": "[encoded data removed]",
      "text/plain": [
       "plot without title"
      ]
     },
     "metadata": {
      "image/png": {
       "height": 420,
       "width": 420
      }
     },
     "output_type": "display_data"
    }
   ],
   "source": [
    "library(VIM)\n",
    "library(mice)\n",
    "library(tidyverse)\n",
    "library(ggpubr)\n",
    "library(showtext)\n",
    "library(scales)\n",
    "font_path <- \"C:/USERS/LENOVO/APPDATA/LOCAL/MICROSOFT/WINDOWS/FONTS/MISANS-NORMAL.TTF\"\n",
    "font_add(\"misans\", font_path)\n",
    "showtext_auto()\n",
    "count = head(rownames(md.pattern(sleep, plot = FALSE)), -1)\n",
    "data <- as.data.frame(md.pattern(sleep, plot = FALSE))\n",
    "head(data, -1)%>%\n",
    "  select(-V11)%>%\n",
    "    pivot_longer(\n",
    "      cols = BodyWgt:NonD,\n",
    "      names_to = \"variable\",\n",
    "      values_to = \"is_na\"\n",
    "    ) %>%\n",
    "      mutate(\n",
    "        variable = fct(variable),\n",
    "        is_na = factor(is_na),\n",
    "        pattern = rep(seq(1, 8), each = 10))%>%\n",
    "        ggplot()+\n",
    "        geom_tile(\n",
    "          mapping = aes(x = variable, y = pattern, fill = is_na), \n",
    "          color = \"white\"\n",
    "          )+\n",
    "        scale_fill_manual(values =  c(\"1\" = \"#008c8c\", \"0\" = \"white\"))+\n",
    "        scale_y_continuous(\n",
    "          breaks = breaks_width(width = 1),\n",
    "          sec.axis = sec_axis(\n",
    "            trans = ~.x,\n",
    "            name = \"count\",\n",
    "            breaks = seq(1, 8), \n",
    "            labels = count\n",
    "          ),\n",
    "          expand = expansion(mult = c(0, 0))\n",
    "        )+\n",
    "        theme_pubr()+\n",
    "        theme(\n",
    "          text = element_text(family = \"misans\"),\n",
    "          plot.margin = margin(1.5, 0.2, 0.5, 0.2, \"cm\"),\n",
    "          legend.position = \"none\",\n",
    "          axis.line  = element_blank(),\n",
    "          axis.ticks = element_blank(),\n",
    "          axis.title.y.left = element_text(size = 16, hjust = 1),\n",
    "          axis.title.y.right = element_text(size = 16, hjust = 1),\n",
    "          axis.title.x = element_blank(),\n",
    "          axis.text = element_text(size = 11),\n",
    "          axis.text.x  = element_text(angle = 90)\n",
    "        )"
   ]
  },
  {
   "cell_type": "markdown",
   "metadata": {},
   "source": [
    "- 所有实例数据可视化"
   ]
  },
  {
   "cell_type": "markdown",
   "metadata": {},
   "source": [
    "这种方法先将所有数据重新转换到[0,1]区间，并着色：浅色表示值小，深色表示值大。缺失值是另一种显眼的颜色（如白色）。"
   ]
  },
  {
   "cell_type": "code",
   "execution_count": null,
   "metadata": {
    "vscode": {
     "languageId": "r"
    }
   },
   "outputs": [
    {
     "data": {
      "image/png": "[encoded data removed]",
      "text/plain": [
       "plot without title"
      ]
     },
     "metadata": {
      "image/png": {
       "height": 420,
       "width": 420
      }
     },
     "output_type": "display_data"
    }
   ],
   "source": [
    "library(VIM)\n",
    "library(mice)\n",
    "library(tidyverse)\n",
    "library(ggpubr)\n",
    "library(showtext)\n",
    "library(scales)\n",
    "font_path <- \"C:/USERS/LENOVO/APPDATA/LOCAL/MICROSOFT/WINDOWS/FONTS/MISANS-NORMAL.TTF\"\n",
    "font_add(\"misans\", font_path)\n",
    "reframe(\n",
    "  .data = sleep,\n",
    "  across(\n",
    "    .cols = 1:ncol(sleep),\n",
    "    .fns = rescale\n",
    "  )\n",
    "  ) %>%\n",
    "  pivot_longer(\n",
    "    cols = BodyWgt:Danger,\n",
    "    names_to = \"variable\",\n",
    "    values_to = \"num\"\n",
    "  ) %>%\n",
    "  mutate(\n",
    "    variable = fct(variable),\n",
    "    index = rep(1:nrow(sleep),each = ncol(sleep))) %>%\n",
    "  ggplot()+\n",
    "    geom_tile(\n",
    "      mapping = aes(x = variable, y = index, fill = num)\n",
    "      )+\n",
    "      scale_fill_viridis_c(\n",
    "        na.value = \"white\",\n",
    "        option = \"magma\",\n",
    "        direction = -1,\n",
    "        begin = .1,\n",
    "        end = .9,\n",
    "        alpha = .9\n",
    "        )+\n",
    "      scale_y_continuous(\n",
    "                breaks = breaks_width(width = 5),\n",
    "                expand = expansion(mult = c(0, 0)),\n",
    "                \n",
    "      )+\n",
    "      theme_pubr()+\n",
    "      theme(\n",
    "        text = element_text(family = \"misans\"),\n",
    "        plot.margin = margin(1, 0.2, 0.5, 0.2, \"cm\"),\n",
    "        legend.position = \"none\",\n",
    "        axis.line  = element_blank(),\n",
    "        axis.ticks = element_blank(),\n",
    "        axis.title.y.left = element_text(size = 16, hjust = 1),\n",
    "        axis.title.y.right = element_text(size = 16, hjust = 1),\n",
    "        axis.title.x = element_blank(),\n",
    "        axis.text = element_text(size = 11),\n",
    "        axis.text.x  = element_text(angle = 90)\n",
    "      )"
   ]
  },
  {
   "cell_type": "markdown",
   "metadata": {},
   "source": [
    "#### 理解缺失数据的来由和影响"
   ]
  },
  {
   "cell_type": "markdown",
   "metadata": {
    "vscode": {
     "languageId": "r"
    }
   },
   "source": [
    "在识别缺失数据的数目、分布和模式后，我们有两个目的：(1) 分析生成缺失数据的潜在机制；(2) 评价缺失数据对回答实质性问题的影响。具体来讲，我们需要了解：\n",
    "- 缺失数据的比例多大？\n",
    "- 缺失数据是否集中在少数几个变量上，抑或广泛存在？\n",
    "- 缺失是随机产生的吗？\n",
    "- 缺失数据间的相关性或与可观测数据间的相关性，是否可以表明产生缺失值的机制？\n",
    "\n",
    "这些问题的识别能够帮助我们分析缺失数据的类型：进而选择是删除数据还是尝试恢复数据。"
   ]
  },
  {
   "cell_type": "markdown",
   "metadata": {},
   "source": [
    "#### 缺失值处理"
   ]
  },
  {
   "cell_type": "markdown",
   "metadata": {},
   "source": [
    "##### 单纯的数据处理"
   ]
  },
  {
   "cell_type": "markdown",
   "metadata": {},
   "source": [
    "这种方法更注重于数据的完整性，可能会忽略一定的科学性与合理性。"
   ]
  },
  {
   "cell_type": "markdown",
   "metadata": {},
   "source": [
    "`replace_na()`函数可以实现对缺失值的替换：\n",
    "```r\n",
    "replace_na(data, replace, ...)\n",
    "```\n",
    "其中data可以表示数据框或者向量。如果data参数是一个数据框，那么replace参数需要接受一个具有命名值的列表，其成分为“列名 = 值”："
   ]
  },
  {
   "cell_type": "code",
   "execution_count": null,
   "metadata": {
    "vscode": {
     "languageId": "r"
    }
   },
   "outputs": [
    {
     "data": {
      "text/html": [
       "<table class=\"dataframe\">\n",
       "<caption>A tibble: 6 × 14</caption>\n",
       "<thead>\n",
       "\t<tr><th scope=col>name</th><th scope=col>height</th><th scope=col>mass</th><th scope=col>hair_color</th><th scope=col>skin_color</th><th scope=col>eye_color</th><th scope=col>birth_year</th><th scope=col>sex</th><th scope=col>gender</th><th scope=col>homeworld</th><th scope=col>species</th><th scope=col>films</th><th scope=col>vehicles</th><th scope=col>starships</th></tr>\n",
       "\t<tr><th scope=col>&lt;chr&gt;</th><th scope=col>&lt;int&gt;</th><th scope=col>&lt;dbl&gt;</th><th scope=col>&lt;chr&gt;</th><th scope=col>&lt;chr&gt;</th><th scope=col>&lt;chr&gt;</th><th scope=col>&lt;dbl&gt;</th><th scope=col>&lt;chr&gt;</th><th scope=col>&lt;chr&gt;</th><th scope=col>&lt;chr&gt;</th><th scope=col>&lt;chr&gt;</th><th scope=col>&lt;list&gt;</th><th scope=col>&lt;list&gt;</th><th scope=col>&lt;list&gt;</th></tr>\n",
       "</thead>\n",
       "<tbody>\n",
       "\t<tr><td>Luke Skywalker</td><td>172</td><td> 77</td><td>blond      </td><td>fair       </td><td>blue  </td><td> 19.0</td><td>male  </td><td>masculine</td><td>Tatooine</td><td>Human</td><td>The Empire Strikes Back, Revenge of the Sith    , Return of the Jedi     , A New Hope             , The Force Awakens      </td><td>Snowspeeder          , Imperial Speeder Bike</td><td>X-wing          , Imperial shuttle</td></tr>\n",
       "\t<tr><td>C-3PO         </td><td>167</td><td> 75</td><td>NA         </td><td>gold       </td><td>yellow</td><td>112.0</td><td>none  </td><td>masculine</td><td>Tatooine</td><td>Droid</td><td>The Empire Strikes Back, Attack of the Clones   , The Phantom Menace     , Revenge of the Sith    , Return of the Jedi     , A New Hope             </td><td></td><td></td></tr>\n",
       "\t<tr><td>R2-D2         </td><td> 96</td><td> 32</td><td>NA         </td><td>white, blue</td><td>red   </td><td> 33.0</td><td>none  </td><td>masculine</td><td>Naboo   </td><td>Droid</td><td>The Empire Strikes Back, Attack of the Clones   , The Phantom Menace     , Revenge of the Sith    , Return of the Jedi     , A New Hope             , The Force Awakens      </td><td></td><td></td></tr>\n",
       "\t<tr><td>Darth Vader   </td><td>202</td><td>136</td><td>none       </td><td>white      </td><td>yellow</td><td> 41.9</td><td>male  </td><td>masculine</td><td>Tatooine</td><td>Human</td><td>The Empire Strikes Back, Revenge of the Sith    , Return of the Jedi     , A New Hope             </td><td></td><td>TIE Advanced x1</td></tr>\n",
       "\t<tr><td>Leia Organa   </td><td>150</td><td> 49</td><td>brown      </td><td>light      </td><td>brown </td><td> 19.0</td><td>female</td><td>feminine </td><td>Alderaan</td><td>Human</td><td>The Empire Strikes Back, Revenge of the Sith    , Return of the Jedi     , A New Hope             , The Force Awakens      </td><td>Imperial Speeder Bike</td><td></td></tr>\n",
       "\t<tr><td>Owen Lars     </td><td>178</td><td>120</td><td>brown, grey</td><td>light      </td><td>blue  </td><td> 52.0</td><td>male  </td><td>masculine</td><td>Tatooine</td><td>Human</td><td>Attack of the Clones, Revenge of the Sith , A New Hope          </td><td></td><td></td></tr>\n",
       "</tbody>\n",
       "</table>\n"
      ],
      "text/latex": [
       "A tibble: 6 × 14\n",
       "\\begin{tabular}{llllllllllllll}\n",
       " name & height & mass & hair\\_color & skin\\_color & eye\\_color & birth\\_year & sex & gender & homeworld & species & films & vehicles & starships\\\\\n",
       " <chr> & <int> & <dbl> & <chr> & <chr> & <chr> & <dbl> & <chr> & <chr> & <chr> & <chr> & <list> & <list> & <list>\\\\\n",
       "\\hline\n",
       "\t Luke Skywalker & 172 &  77 & blond       & fair        & blue   &  19.0 & male   & masculine & Tatooine & Human & The Empire Strikes Back, Revenge of the Sith    , Return of the Jedi     , A New Hope             , The Force Awakens       & Snowspeeder          , Imperial Speeder Bike & X-wing          , Imperial shuttle\\\\\n",
       "\t C-3PO          & 167 &  75 & NA          & gold        & yellow & 112.0 & none   & masculine & Tatooine & Droid & The Empire Strikes Back, Attack of the Clones   , The Phantom Menace     , Revenge of the Sith    , Return of the Jedi     , A New Hope              &  & \\\\\n",
       "\t R2-D2          &  96 &  32 & NA          & white, blue & red    &  33.0 & none   & masculine & Naboo    & Droid & The Empire Strikes Back, Attack of the Clones   , The Phantom Menace     , Revenge of the Sith    , Return of the Jedi     , A New Hope             , The Force Awakens       &  & \\\\\n",
       "\t Darth Vader    & 202 & 136 & none        & white       & yellow &  41.9 & male   & masculine & Tatooine & Human & The Empire Strikes Back, Revenge of the Sith    , Return of the Jedi     , A New Hope              &  & TIE Advanced x1\\\\\n",
       "\t Leia Organa    & 150 &  49 & brown       & light       & brown  &  19.0 & female & feminine  & Alderaan & Human & The Empire Strikes Back, Revenge of the Sith    , Return of the Jedi     , A New Hope             , The Force Awakens       & Imperial Speeder Bike & \\\\\n",
       "\t Owen Lars      & 178 & 120 & brown, grey & light       & blue   &  52.0 & male   & masculine & Tatooine & Human & Attack of the Clones, Revenge of the Sith , A New Hope           &  & \\\\\n",
       "\\end{tabular}\n"
      ],
      "text/markdown": [
       "\n",
       "A tibble: 6 × 14\n",
       "\n",
       "| name &lt;chr&gt; | height &lt;int&gt; | mass &lt;dbl&gt; | hair_color &lt;chr&gt; | skin_color &lt;chr&gt; | eye_color &lt;chr&gt; | birth_year &lt;dbl&gt; | sex &lt;chr&gt; | gender &lt;chr&gt; | homeworld &lt;chr&gt; | species &lt;chr&gt; | films &lt;list&gt; | vehicles &lt;list&gt; | starships &lt;list&gt; |\n",
       "|---|---|---|---|---|---|---|---|---|---|---|---|---|---|\n",
       "| Luke Skywalker | 172 |  77 | blond       | fair        | blue   |  19.0 | male   | masculine | Tatooine | Human | The Empire Strikes Back, Revenge of the Sith    , Return of the Jedi     , A New Hope             , The Force Awakens       | Snowspeeder          , Imperial Speeder Bike | X-wing          , Imperial shuttle |\n",
       "| C-3PO          | 167 |  75 | NA          | gold        | yellow | 112.0 | none   | masculine | Tatooine | Droid | The Empire Strikes Back, Attack of the Clones   , The Phantom Menace     , Revenge of the Sith    , Return of the Jedi     , A New Hope              | <!----> | <!----> |\n",
       "| R2-D2          |  96 |  32 | NA          | white, blue | red    |  33.0 | none   | masculine | Naboo    | Droid | The Empire Strikes Back, Attack of the Clones   , The Phantom Menace     , Revenge of the Sith    , Return of the Jedi     , A New Hope             , The Force Awakens       | <!----> | <!----> |\n",
       "| Darth Vader    | 202 | 136 | none        | white       | yellow |  41.9 | male   | masculine | Tatooine | Human | The Empire Strikes Back, Revenge of the Sith    , Return of the Jedi     , A New Hope              | <!----> | TIE Advanced x1 |\n",
       "| Leia Organa    | 150 |  49 | brown       | light       | brown  |  19.0 | female | feminine  | Alderaan | Human | The Empire Strikes Back, Revenge of the Sith    , Return of the Jedi     , A New Hope             , The Force Awakens       | Imperial Speeder Bike | <!----> |\n",
       "| Owen Lars      | 178 | 120 | brown, grey | light       | blue   |  52.0 | male   | masculine | Tatooine | Human | Attack of the Clones, Revenge of the Sith , A New Hope           | <!----> | <!----> |\n",
       "\n"
      ],
      "text/plain": [
       "  name           height mass hair_color  skin_color  eye_color birth_year\n",
       "1 Luke Skywalker 172     77  blond       fair        blue       19.0     \n",
       "2 C-3PO          167     75  NA          gold        yellow    112.0     \n",
       "3 R2-D2           96     32  NA          white, blue red        33.0     \n",
       "4 Darth Vader    202    136  none        white       yellow     41.9     \n",
       "5 Leia Organa    150     49  brown       light       brown      19.0     \n",
       "6 Owen Lars      178    120  brown, grey light       blue       52.0     \n",
       "  sex    gender    homeworld species\n",
       "1 male   masculine Tatooine  Human  \n",
       "2 none   masculine Tatooine  Droid  \n",
       "3 none   masculine Naboo     Droid  \n",
       "4 male   masculine Tatooine  Human  \n",
       "5 female feminine  Alderaan  Human  \n",
       "6 male   masculine Tatooine  Human  \n",
       "  films                                                                                                                                                                        \n",
       "1 The Empire Strikes Back, Revenge of the Sith    , Return of the Jedi     , A New Hope             , The Force Awakens                                                        \n",
       "2 The Empire Strikes Back, Attack of the Clones   , The Phantom Menace     , Revenge of the Sith    , Return of the Jedi     , A New Hope                                      \n",
       "3 The Empire Strikes Back, Attack of the Clones   , The Phantom Menace     , Revenge of the Sith    , Return of the Jedi     , A New Hope             , The Force Awakens      \n",
       "4 The Empire Strikes Back, Revenge of the Sith    , Return of the Jedi     , A New Hope                                                                                        \n",
       "5 The Empire Strikes Back, Revenge of the Sith    , Return of the Jedi     , A New Hope             , The Force Awakens                                                        \n",
       "6 Attack of the Clones, Revenge of the Sith , A New Hope                                                                                                                       \n",
       "  vehicles                                    \n",
       "1 Snowspeeder          , Imperial Speeder Bike\n",
       "2                                             \n",
       "3                                             \n",
       "4                                             \n",
       "5 Imperial Speeder Bike                       \n",
       "6                                             \n",
       "  starships                         \n",
       "1 X-wing          , Imperial shuttle\n",
       "2                                   \n",
       "3                                   \n",
       "4 TIE Advanced x1                   \n",
       "5                                   \n",
       "6                                   "
      ]
     },
     "metadata": {},
     "output_type": "display_data"
    }
   ],
   "source": [
    "library(tidyverse)\n",
    "head(starwars)"
   ]
  },
  {
   "cell_type": "code",
   "execution_count": null,
   "metadata": {
    "vscode": {
     "languageId": "r"
    }
   },
   "outputs": [],
   "source": [
    "exam1 <- starwars %>% \n",
    "replace_na(list(\n",
    "    hair_color = \"unknown\",\n",
    "    height = round(\n",
    "        mean(.[[\"height\"]])\n",
    "    )\n",
    "))"
   ]
  },
  {
   "cell_type": "markdown",
   "metadata": {},
   "source": [
    "如果data参数接受的是向量而不是数据框，那么replace只要接受一个单一值即可。该单一值将会替换向量中的所有缺失值："
   ]
  },
  {
   "cell_type": "code",
   "execution_count": null,
   "metadata": {
    "vscode": {
     "languageId": "r"
    }
   },
   "outputs": [],
   "source": [
    "exam2 <- starwars %>% \n",
    "    mutate(\n",
    "        across(\n",
    "            where(is.double), \n",
    "            ~ replace_na(.x, mean(.x, na.rm = TRUE))\n",
    "            )\n",
    "        )"
   ]
  },
  {
   "cell_type": "markdown",
   "metadata": {},
   "source": [
    "##### 理性处理不完整数据"
   ]
  },
  {
   "cell_type": "markdown",
   "metadata": {},
   "source": [
    "这种处理方法基于推理方法，这会根据变量间的数学或者逻辑关系来填补或恢复缺失值。"
   ]
  },
  {
   "cell_type": "markdown",
   "metadata": {},
   "source": [
    "##### 完整实例分析（行删除）"
   ]
  },
  {
   "cell_type": "markdown",
   "metadata": {},
   "source": [
    "在完整实例分析中，只有每个变量都包含了有效数据值的观测才会保留下来做进一步的分析。于是我们有时候会采用将包含一个或多个缺失值的观测直接删去。但需要注意的是：<span style = 'color:red'><strong>行删除法假定数据是MCAR（即完整的观测只是全数据集的一个随机子样本）</strong></span>。"
   ]
  },
  {
   "cell_type": "markdown",
   "metadata": {},
   "source": [
    "##### 多重插补"
   ]
  },
  {
   "cell_type": "markdown",
   "metadata": {},
   "source": [
    "多重插补（MI）是一种基于<span style = 'color:red'><strong>模型估计和重复模拟</strong></span>的处理缺失值的方法。在面对复杂的缺失值问题时，MI是最常选用的方法。R中可以利用mice包进行多重插补，大致步骤如下："
   ]
  },
  {
   "cell_type": "markdown",
   "metadata": {},
   "source": [
    "![](图片素材\\多重插补.png)"
   ]
  },
  {
   "cell_type": "markdown",
   "metadata": {},
   "source": [
    "函数`mice()`首先从一个包含缺失数据的数据框开始，然后返回包含多个完整数据集的对象。每个完整数据集都是通过对原始数据框中的缺失数据进行插补而生成的。由于插补有随机的成分，因此每个完整数据集都略有不同。缺失值的插补通过Gibbs抽样完成。每个包含缺失值的变量都默认可通过数据集中的其他变量预测得来，于是这些预测方程便可用来预测缺失数据的有效值。该过程不断迭代直到所有的缺失值都收敛为止。对于每个变量，用户可以选择预测模型的形式和待选入的变量。"
   ]
  },
  {
   "cell_type": "markdown",
   "metadata": {},
   "source": [
    "```r\n",
    "mice(\n",
    "  data,\n",
    "  m = 5,\n",
    "  method = NULL,\n",
    "  predictorMatrix,\n",
    "  ignore = NULL,\n",
    "  where = NULL,\n",
    "  blocks,\n",
    "  visitSequence = NULL,\n",
    "  formulas,\n",
    "  blots = NULL,\n",
    "  post = NULL,\n",
    "  defaultMethod = c(\"pmm\", \"logreg\", \"polyreg\", \"polr\"),\n",
    "  maxit = 5,\n",
    "  printFlag = TRUE,\n",
    "  seed = NA,\n",
    "  data.init = NULL,\n",
    "  ...\n",
    ")\n",
    "```"
   ]
  },
  {
   "cell_type": "markdown",
   "metadata": {},
   "source": [
    "参数解释：\n",
    "- `data`：包含不完整数据的数据框或矩阵。缺失值被编码为NA。\n",
    "- `m`：多次插补的数量（即生成m个插补数据集）。默认为m = 5。\n",
    "- `method`：可以是单个字符串，也可以是长度为`length(blocks)`的字符串向量，指定要用于数据中每列的插补方法。如果指定为单个字符串，则所有blocks都将使用相同的方法。默认的插补方法（当没有指定参数时）取决于目标列的测量水平---由`defaultMethod`参数调节。不需要插补的列使用空方法\"\"。对于单变量插补方法主要有：\n",
    "  - `pmm`：Predictive mean matching（预测均值匹配），适用于任意变量类型。\n",
    "  - `midastouch`：Weighted predictive mean matching（加权预测均值匹配），适用于任意变量类型。\n",
    "  - `sample`：从观察值中随机抽取作为插值，适用于任意变量类型。\n",
    "  - `cart`：分类和回归树，适用于任意变量类型。\n",
    "  - `rf`：随机森林插补，适用于任意变量类型。\n",
    "  - `mean`：无条件均值插补，适用于数值变量类型。\n",
    "  - `norm`：贝叶斯线性回归，适用于数值变量类型。\n",
    "  - `norm.boot`：使用Bootstrap的线性回归，适用于数值变量类型。\n",
    "  - `lasso.norm`：lasso线性回归，适用于数值变量类型。\n",
    "  - `lasso.select.norm`：lasso选择 + 线性回归，适用于数值变量类型。\n",
    "  - `quadratic`：二次项插补，适用于数值变量类型。\n",
    "  - `logreg`：逻辑回归，适用于二元变量类型。\n",
    "  - `logreg.boot`：带有Bootstrap的逻辑回归，适用于二元变量类型。\n",
    "  - `lasso.logreg`：lasso逻辑回归，适用于二元变量类型。\n",
    "  - `lasso.select.logreg`：lasso特征选择 + 逻辑回归，适用于二元变量类型。\n",
    "  - `polr`：比例几率模型，适用于有序变量类型。\n",
    "- `predictorMatrix`：一个大小为`length(blocks)`行和`ncol(data)`列的数值矩阵，该矩阵只包含0，1数据。矩阵每行对应一个block，即要插补的变量集，每列对应一个变量。值为1意味着列变量将用作目标block的预测变量。默认情况下，predictorMatrix是一个`ncol(data)`行和列的方阵，该方阵除对角线外全部为1。注意：对于具有\"2l\"（两级）的插补模型，还允许使用其他代码（例如2或-2）。\n",
    "- `ignore`：一个逻辑向量，包含`nrow(data)`个元素，指示在创建插补模型时要忽略哪些行。默认为NULL，包括具有要插补变量的观察值的所有行。将ignore设置为TRUE的行不会影响插补模型的参数，但仍会被插补。可以使用ignore参数将数据分为训练集（构建插补模型）和测试集（不影响插补模型估计）。\n",
    "- `where`：一个与数据相同维度的逻辑数据框或矩阵，指示应在哪里创建插补。默认情况下，where = is.na(data)指定要插补缺失数据。可以使用where参数来过度插补观察数据，或跳过选定的缺失值插补。\n",
    "- `blocks`：参数传入一个列表，列表的每一个元素---block 的值，都是变量名向量。同时列表的每一个元素都可以被命名，以识别不同的block。block内的指定的变量通过多变量的插补方法进行插补（method参数所指定）。默认情况下，每个变量都放置在自己的block中。只有其名称出现在blocks中的变量才会被插补。在不同的块中，同一变量可以重复出现。在这种情况下，每次访问时都会重新插补它。\n",
    "- `visitSequence`：一个任意长度的向量，向量是包含block名称的向量。向量用于指定在Gibbs采样的一次迭代中要插补的block的顺序。前面讲过，一个block是一个变量集合。同一block可以有一个及以上的变量，所有成员变量在访问block时进行插补。同时属于多个block的变量在同一次迭代内进行重新插补。默认visitSequence = \"roman\"按照块在blocks中出现的顺序（从左到右）访问块。还可以使用以下关键字之一：\"arabic\"（从右到左），\"monotone\"（按缺失数据的升序比例排序）和\"revmonotone\"（monotone的反转）\n",
    "- `defaultMethod`：一个长度为4的向量，包含默认的插补方法，分别适用于（1）数值数据（2）具有2个水平的因子数据（3）具有多于2个无序水平的因子数据和（4）具有多于2个有序水平的因子数据。默认情况下，对应使用的方法为pmm（predictive mean matching，预测均值匹配）（数值数据）、logreg（logistic regression，逻辑回归插补）（二元数据，具有2个水平的因子）、polyreg（多类别逻辑回归插补）（无序分类数据，具有>2个水平的因子）和polr（proportional odds model，比例几率模型插补）（有序，> 2个水平的因子）。\n",
    "- `maxit`：一个标量，表示迭代次数。默认值为5。\n",
    "- `printFlag`：如果为TRUE，则mice将在控制台上打印历史记录。对于静默计算，如果不需打印，使用<span style = 'color:red'><strong>print = FALSE</strong></span>。\n",
    "- `seed`：一个整数，用作set.seed()的参数，用于设定随机数种子。\n",
    "- `data.init`：一个与data大小和类型相同的数据框，不包含缺失数据，在迭代过程开始之前用于初始化插补。默认为NULL，这意味着起始插补是通过从data数据中简单随机抽取进行的。"
   ]
  },
  {
   "cell_type": "code",
   "execution_count": null,
   "metadata": {
    "vscode": {
     "languageId": "r"
    }
   },
   "outputs": [
    {
     "data": {
      "text/plain": [
       "Class: mids\n",
       "Number of multiple imputations:  5 \n",
       "Imputation methods:\n",
       " BodyWgt BrainWgt     NonD    Dream    Sleep     Span     Gest     Pred \n",
       "      \"\"       \"\"     \"rf\"     \"rf\"     \"rf\"     \"rf\"     \"rf\"       \"\" \n",
       "     Exp   Danger \n",
       "      \"\"       \"\" \n",
       "PredictorMatrix:\n",
       "         BodyWgt BrainWgt NonD Dream Sleep Span Gest Pred Exp Danger\n",
       "BodyWgt        0        1    1     1     1    1    1    1   1      1\n",
       "BrainWgt       1        0    1     1     1    1    1    1   1      1\n",
       "NonD           1        1    0     1     1    1    1    1   1      1\n",
       "Dream          1        1    1     0     1    1    1    1   1      1\n",
       "Sleep          1        1    1     1     0    1    1    1   1      1\n",
       "Span           1        1    1     1     1    0    1    1   1      1"
      ]
     },
     "metadata": {},
     "output_type": "display_data"
    }
   ],
   "source": [
    "library(mice)\n",
    "data(sleep, package = \"VIM\")\n",
    "imp1 <- mice(\n",
    "  data = sleep,\n",
    "  m = 5,\n",
    "  method = \"rf\",\n",
    "  maxit = 10,\n",
    "  seed = 12345,\n",
    "  print = FALSE\n",
    "  )\n",
    "imp1"
   ]
  },
  {
   "cell_type": "markdown",
   "metadata": {},
   "source": [
    "提取插补后变量值"
   ]
  },
  {
   "cell_type": "code",
   "execution_count": null,
   "metadata": {
    "vscode": {
     "languageId": "r"
    }
   },
   "outputs": [
    {
     "name": "stdout",
     "output_type": "stream",
     "text": [
      "$BodyWgt\n",
      "[1] 1 2 3 4 5\n",
      "<0 rows> (or 0-length row.names)\n",
      "\n",
      "$BrainWgt\n",
      "[1] 1 2 3 4 5\n",
      "<0 rows> (or 0-length row.names)\n",
      "\n",
      "$NonD\n",
      "      1    2    3    4    5\n",
      "1   3.2  3.2  3.2  3.2  4.9\n",
      "3  11.9 11.0 10.0 15.2 11.0\n",
      "4  11.9  6.3 10.6 11.0 17.9\n",
      "14  2.1  2.1  3.2  2.1  3.3\n",
      "21  6.1 10.0  2.1  3.2  2.1\n",
      "24  9.7 10.9  9.1  8.3  8.4\n",
      "26 10.9  7.4  8.3 12.8 10.8\n",
      "30  7.4 10.9 15.2  6.1  7.4\n",
      "31  7.5  8.4  2.1  8.2 10.0\n",
      "41  3.2  4.9  7.5  3.3  2.1\n",
      "47  9.7 12.0 11.0 15.2  9.7\n",
      "53  7.5 11.9  8.4  3.3  3.2\n",
      "55  8.2  6.3  6.5 14.3  8.4\n",
      "62 15.8  6.3  8.3 11.9  8.6\n",
      "\n",
      "$Dream\n",
      "     1   2   3   4   5\n",
      "1  1.0 0.3 0.3 1.9 1.0\n",
      "3  3.1 2.4 2.0 3.9 3.1\n",
      "4  2.3 0.5 0.6 2.0 2.0\n",
      "14 0.8 0.5 1.8 0.6 1.0\n",
      "24 1.5 1.5 1.9 0.6 0.9\n",
      "26 4.1 1.9 4.1 2.0 0.9\n",
      "30 2.2 1.9 6.1 1.4 3.1\n",
      "31 0.0 0.5 0.6 0.8 3.6\n",
      "47 3.6 1.2 0.0 1.8 1.8\n",
      "53 0.6 0.5 0.6 0.9 0.5\n",
      "55 2.6 4.1 3.6 3.1 1.2\n",
      "62 5.6 1.4 2.0 2.6 0.9\n",
      "\n",
      "$Sleep\n",
      "      1    2    3    4    5\n",
      "21  8.0  3.1  3.1  2.9  8.4\n",
      "31  3.8 12.5  3.8  2.6 12.5\n",
      "41  3.8  3.9  3.8  3.8  3.1\n",
      "62 19.4  8.0 10.7 12.5 11.0\n",
      "\n",
      "$Span\n",
      "     1   2    3    4  5\n",
      "4  5.0 9.0  2.6  9.0 18\n",
      "13 2.6 4.5  3.5  3.9  5\n",
      "35 4.5 4.5  3.5  6.0  6\n",
      "36 7.6 4.7 13.0 13.0 28\n",
      "\n",
      "$Gest\n",
      "     1   2   3     4   5\n",
      "13  17  45  42  21.5  28\n",
      "19 225 392 267 120.0 310\n",
      "20 400 100 120 120.0 151\n",
      "56  46  30  19  30.0  60\n",
      "\n",
      "$Pred\n",
      "[1] 1 2 3 4 5\n",
      "<0 rows> (or 0-length row.names)\n",
      "\n",
      "$Exp\n",
      "[1] 1 2 3 4 5\n",
      "<0 rows> (or 0-length row.names)\n",
      "\n",
      "$Danger\n",
      "[1] 1 2 3 4 5\n",
      "<0 rows> (or 0-length row.names)\n",
      "\n"
     ]
    }
   ],
   "source": [
    "print(imp1$imp)"
   ]
  },
  {
   "cell_type": "code",
   "execution_count": null,
   "metadata": {
    "vscode": {
     "languageId": "r"
    }
   },
   "outputs": [
    {
     "name": "stdout",
     "output_type": "stream",
     "text": [
      "      1    2    3    4    5\n",
      "21  8.0  3.1  3.1  2.9  8.4\n",
      "31  3.8 12.5  3.8  2.6 12.5\n",
      "41  3.8  3.9  3.8  3.8  3.1\n",
      "62 19.4  8.0 10.7 12.5 11.0\n"
     ]
    }
   ],
   "source": [
    "# 继续提取单个变量\n",
    "print(imp1$imp$Sleep)"
   ]
  },
  {
   "cell_type": "markdown",
   "metadata": {},
   "source": [
    "提取插补变量块"
   ]
  },
  {
   "cell_type": "code",
   "execution_count": null,
   "metadata": {
    "vscode": {
     "languageId": "r"
    }
   },
   "outputs": [
    {
     "name": "stdout",
     "output_type": "stream",
     "text": [
      "$BodyWgt\n",
      "[1] \"BodyWgt\"\n",
      "\n",
      "$BrainWgt\n",
      "[1] \"BrainWgt\"\n",
      "\n",
      "$NonD\n",
      "[1] \"NonD\"\n",
      "\n",
      "$Dream\n",
      "[1] \"Dream\"\n",
      "\n",
      "$Sleep\n",
      "[1] \"Sleep\"\n",
      "\n",
      "$Span\n",
      "[1] \"Span\"\n",
      "\n",
      "$Gest\n",
      "[1] \"Gest\"\n",
      "\n",
      "$Pred\n",
      "[1] \"Pred\"\n",
      "\n",
      "$Exp\n",
      "[1] \"Exp\"\n",
      "\n",
      "$Danger\n",
      "[1] \"Danger\"\n",
      "\n",
      "attr(,\"calltype\")\n",
      " BodyWgt BrainWgt     NonD    Dream    Sleep     Span     Gest     Pred \n",
      "  \"type\"   \"type\"   \"type\"   \"type\"   \"type\"   \"type\"   \"type\"   \"type\" \n",
      "     Exp   Danger \n",
      "  \"type\"   \"type\" \n"
     ]
    }
   ],
   "source": [
    "print(imp1$blocks)"
   ]
  },
  {
   "cell_type": "markdown",
   "metadata": {},
   "source": [
    "改变插值方法"
   ]
  },
  {
   "cell_type": "code",
   "execution_count": null,
   "metadata": {
    "vscode": {
     "languageId": "r"
    }
   },
   "outputs": [
    {
     "name": "stdout",
     "output_type": "stream",
     "text": [
      " BodyWgt BrainWgt     NonD    Dream    Sleep     Span     Gest     Pred \n",
      "      \"\"       \"\"     \"rf\"     \"rf\"     \"rf\"     \"rf\"     \"rf\"       \"\" \n",
      "     Exp   Danger \n",
      "      \"\"       \"\" \n"
     ]
    }
   ],
   "source": [
    "meth <- imp1$method\n",
    "print(meth)"
   ]
  },
  {
   "cell_type": "code",
   "execution_count": null,
   "metadata": {
    "vscode": {
     "languageId": "r"
    }
   },
   "outputs": [
    {
     "name": "stdout",
     "output_type": "stream",
     "text": [
      "      1    2    3    4    5\n",
      "21  5.4  3.1  2.9  3.1  3.9\n",
      "31 14.5  5.4  9.8  8.4  3.8\n",
      "41  3.1  3.9  3.3  8.6  6.2\n",
      "62 13.8 13.3 15.8 13.3 12.5\n"
     ]
    }
   ],
   "source": [
    "meth[\"Sleep\"] <- \"pmm\"\n",
    "# 再运行一遍\n",
    "imp2 <- mice(\n",
    "  data = sleep,\n",
    "  m = 5,\n",
    "  method = meth,\n",
    "  maxit = 10,\n",
    "  seed = 12345,\n",
    "  print = FALSE\n",
    "  )\n",
    "print(imp2$imp$Sleep)"
   ]
  },
  {
   "cell_type": "markdown",
   "metadata": {},
   "source": [
    "改变目标插值变量的预测变量"
   ]
  },
  {
   "cell_type": "code",
   "execution_count": null,
   "metadata": {
    "vscode": {
     "languageId": "r"
    }
   },
   "outputs": [
    {
     "name": "stdout",
     "output_type": "stream",
     "text": [
      "         BodyWgt BrainWgt NonD Dream Sleep Span Gest Pred Exp Danger\n",
      "BodyWgt        0        1    1     1     1    1    1    1   1      1\n",
      "BrainWgt       1        0    1     1     1    1    1    1   1      1\n",
      "NonD           1        1    0     1     1    1    1    1   1      1\n",
      "Dream          1        1    1     0     1    1    1    1   1      1\n",
      "Sleep          1        1    1     1     0    1    1    1   1      1\n",
      "Span           1        1    1     1     1    0    1    1   1      1\n",
      "Gest           1        1    1     1     1    1    0    1   1      1\n",
      "Pred           1        1    1     1     1    1    1    0   1      1\n",
      "Exp            1        1    1     1     1    1    1    1   0      1\n",
      "Danger         1        1    1     1     1    1    1    1   1      0\n"
     ]
    }
   ],
   "source": [
    "pred <- imp1$pred\n",
    "print(pred)"
   ]
  },
  {
   "cell_type": "code",
   "execution_count": null,
   "metadata": {
    "vscode": {
     "languageId": "r"
    }
   },
   "outputs": [
    {
     "name": "stdout",
     "output_type": "stream",
     "text": [
      "      1   2    3    4    5\n",
      "21  3.3 5.4  3.3  3.9  3.1\n",
      "31  8.3 8.4 13.8 10.3  5.4\n",
      "41  3.9 3.9  6.2  8.2  2.6\n",
      "62 11.0 9.8 14.5 13.8 13.8\n"
     ]
    }
   ],
   "source": [
    "pred[, \"Danger\"] <- 0\n",
    "# 重新插补\n",
    "imp3 <- mice(\n",
    "  data = sleep,\n",
    "  m = 5,\n",
    "  method = meth,\n",
    "  predictorMatrix = pred,\n",
    "  maxit = 10,\n",
    "  seed = 12345,\n",
    "  print = FALSE\n",
    "  )\n",
    "print(imp3$imp$Sleep)"
   ]
  },
  {
   "cell_type": "markdown",
   "metadata": {},
   "source": [
    "提取任意一个插补数据集"
   ]
  },
  {
   "cell_type": "markdown",
   "metadata": {},
   "source": [
    "可以利用`complete()`函数，用法如下：\n"
   ]
  },
  {
   "cell_type": "code",
   "execution_count": null,
   "metadata": {
    "vscode": {
     "languageId": "r"
    }
   },
   "outputs": [
    {
     "name": "stdout",
     "output_type": "stream",
     "text": [
      "    BodyWgt BrainWgt NonD Dream Sleep  Span  Gest Pred Exp Danger\n",
      "1  6654.000  5712.00  2.1   1.9   3.3  38.6 645.0    3   5      3\n",
      "2     1.000     6.60  6.3   2.0   8.3   4.5  42.0    3   1      3\n",
      "3     3.385    44.50 12.0   2.0  12.5  14.0  60.0    1   1      1\n",
      "4     0.920     5.70  7.4   2.0  16.5   5.0  25.0    5   2      3\n",
      "5  2547.000  4603.00  2.1   1.8   3.9  69.0 624.0    3   5      4\n",
      "6    10.550   179.50  9.1   0.7   9.8  27.0 180.0    4   4      4\n",
      "7     0.023     0.30 15.8   3.9  19.7  19.0  35.0    1   1      1\n",
      "8   160.000   169.00  5.2   1.0   6.2  30.4 392.0    4   5      4\n",
      "9     3.300    25.60 10.9   3.6  14.5  28.0  63.0    1   2      1\n",
      "10   52.160   440.00  8.3   1.4   9.7  50.0 230.0    1   1      1\n",
      "11    0.425     6.40 11.0   1.5  12.5   7.0 112.0    5   4      4\n",
      "12  465.000   423.00  3.2   0.7   3.9  30.0 281.0    5   5      5\n",
      "13    0.550     2.40  7.6   2.7  10.3   3.5  42.0    2   1      2\n",
      "14  187.100   419.00  3.3   0.3   3.1  40.0 365.0    5   5      5\n",
      "15    0.075     1.20  6.3   2.1   8.4   3.5  42.0    1   1      1\n",
      "16    3.000    25.00  8.6   0.0   8.6  50.0  28.0    2   2      2\n",
      "17    0.785     3.50  6.6   4.1  10.7   6.0  42.0    2   2      2\n",
      "18    0.200     5.00  9.5   1.2  10.7  10.4 120.0    2   2      2\n",
      "19    1.410    17.50  4.8   1.3   6.1  34.0 225.0    1   2      1\n",
      "20   60.000    81.00 12.0   6.1  18.1   7.0  52.0    1   1      1\n",
      "21  529.000   680.00  3.3   0.3   3.9  28.0 400.0    5   5      5\n",
      "22   27.660   115.00  3.3   0.5   3.8  20.0 148.0    5   5      5\n",
      "23    0.120     1.00 11.0   3.4  14.4   3.9  16.0    3   1      2\n",
      "24  207.000   406.00  8.6   0.6  12.0  39.3 252.0    1   4      1\n",
      "25   85.000   325.00  4.7   1.5   6.2  41.0 310.0    1   3      1\n",
      "26   36.330   119.50  8.4   2.4  13.0  16.2  63.0    1   1      1\n",
      "27    0.101     4.00 10.4   3.4  13.8   9.0  28.0    5   1      3\n",
      "28    1.040     5.50  7.4   0.8   8.2   7.6  68.0    5   3      4\n",
      "29  521.000   655.00  2.1   0.8   2.9  46.0 336.0    5   5      5\n",
      "30  100.000   157.00  6.1   3.1  10.8  22.4 100.0    1   1      1\n",
      "31   35.000    56.00  5.2   0.9   3.9  16.3  33.0    3   5      4\n",
      "32    0.005     0.14  7.7   1.4   9.1   2.6  21.5    5   2      4\n",
      "33    0.010     0.25 17.9   2.0  19.9  24.0  50.0    1   1      1\n",
      "34   62.000  1320.00  6.1   1.9   8.0 100.0 267.0    1   1      1\n",
      "35    0.122     3.00  8.2   2.4  10.6   4.7  30.0    2   1      1\n",
      "36    1.350     8.10  8.4   2.8  11.2   4.5  45.0    3   1      3\n",
      "37    0.023     0.40 11.9   1.3  13.2   3.2  19.0    4   1      3\n",
      "38    0.048     0.33 10.8   2.0  12.8   2.0  30.0    4   1      3\n",
      "39    1.700     6.30 13.8   5.6  19.4   5.0  12.0    2   1      1\n",
      "40    3.500    10.80 14.3   3.1  17.4   6.5 120.0    2   1      1\n",
      "41  250.000   490.00  3.2   1.0   2.9  23.6 440.0    5   5      5\n",
      "42    0.480    15.50 15.2   1.8  17.0  12.0 140.0    2   2      2\n",
      "43   10.000   115.00 10.0   0.9  10.9  20.2 170.0    4   4      4\n",
      "44    1.620    11.40 11.9   1.8  13.7  13.0  17.0    2   1      2\n",
      "45  192.000   180.00  6.5   1.9   8.4  27.0 115.0    4   4      4\n",
      "46    2.500    12.10  7.5   0.9   8.4  18.0  31.0    5   5      5\n",
      "47    4.288    39.20 12.0   6.1  12.5  13.7  63.0    2   2      2\n",
      "48    0.280     1.90 10.6   2.6  13.2   4.7  21.0    3   1      3\n",
      "49    4.235    50.40  7.4   2.4   9.8   9.8  52.0    1   1      1\n",
      "50    6.800   179.00  8.4   1.2   9.6  29.0 164.0    2   3      2\n",
      "51    0.750    12.30  5.7   0.9   6.6   7.0 225.0    2   2      2\n",
      "52    3.600    21.00  4.9   0.5   5.4   6.0 225.0    3   2      3\n",
      "53   14.830    98.20  3.2   0.6   2.6  17.0 150.0    5   5      5\n",
      "54   55.500   175.00  3.2   0.6   3.8  20.0 151.0    5   5      5\n",
      "55    1.400    12.50  7.4   0.9  11.0  12.7  90.0    2   2      2\n",
      "56    0.060     1.00  8.1   2.2  10.3   3.5  21.5    3   1      2\n",
      "57    0.900     2.60 11.0   2.3  13.3   4.5  60.0    2   1      2\n",
      "58    2.000    12.30  4.9   0.5   5.4   7.5 200.0    3   1      3\n",
      "59    0.104     2.50 13.2   2.6  15.8   2.3  46.0    3   2      2\n",
      "60    4.190    58.00  9.7   0.6  10.3  24.0 210.0    4   3      4\n",
      "61    3.500     3.90 12.8   6.6  19.4   3.0  14.0    2   1      1\n",
      "62    4.050    17.00  7.4   3.1  10.3  13.0  38.0    3   1      1\n"
     ]
    }
   ],
   "source": [
    "imp4 <- mice(\n",
    "  data = sleep,\n",
    "  m = 5,\n",
    "  defaultMethod = c(\"rf\", \"logreg.boot\", \"polyreg\", \"polr\"),\n",
    "  maxit = 30,\n",
    "  seed = 12345,\n",
    "  print = FALSE\n",
    "  )\n",
    "# 利用complete()函数可以观察m个插补数据集中的任意一个。\n",
    "data1 <- complete(imp4, action = 1)\n",
    "print(data1)"
   ]
  },
  {
   "cell_type": "markdown",
   "metadata": {},
   "source": [
    "追踪线可视化"
   ]
  },
  {
   "cell_type": "code",
   "execution_count": null,
   "metadata": {
    "vscode": {
     "languageId": "r"
    }
   },
   "outputs": [
    {
     "data": {
      "image/png": "[encoded data removed]",
      "text/plain": [
       "plot without title"
      ]
     },
     "metadata": {
      "image/png": {
       "height": 420,
       "width": 420
      }
     },
     "output_type": "display_data"
    }
   ],
   "source": [
    "# 以Span变量为例，若追踪线线迹充分混合且没有趋势，表明算法收敛良好\n",
    "library(mice)\n",
    "library(VIM)\n",
    "library(tidyverse)\n",
    "library(scales)\n",
    "library(ggpubr)\n",
    "library(showtext)\n",
    "library(ggsci)\n",
    "library(patchwork)\n",
    "library(ggpp)\n",
    "\n",
    "font_path <- \"C:/USERS/LENOVO/APPDATA/LOCAL/MICROSOFT/WINDOWS/FONTS/MISANS-NORMAL.TTF\"\n",
    "font_add(\"misans\", font_path)\n",
    "showtext_auto()\n",
    "\n",
    "theme_fan <- function(...){\n",
    "  theme_pubr()+\n",
    "  theme(\n",
    "    text = element_text(size = 12, family = \"misans\"),\n",
    "    title = element_blank(),\n",
    "    panel.grid.major = element_line()\n",
    "  )\n",
    "}\n",
    "data1 <- imp4$chainMean\n",
    "lapply(1:5, function(i) data1[,,i][6,]) %>%\n",
    "  unlist() -> mean\n",
    "p1 <- tibble(\n",
    "  iter = rep(1:30, times = 5),\n",
    "  mean = mean,\n",
    "  chain = factor(rep(1:5, each = 30))\n",
    ") %>%\n",
    "  ggplot(aes(x = iter, y = mean)) +\n",
    "    geom_line(\n",
    "      mapping = aes(group = chain, color = chain), \n",
    "      linewidth = 1,\n",
    "      show.legend = F\n",
    "      )+\n",
    "    geom_text_npc(\n",
    "      mapping = aes(npcx = 1, npcy = 1, label = \"Mean\"),\n",
    "      size = 10\n",
    "      )+\n",
    "    scale_colour_aaas()+\n",
    "    theme_fan()\n",
    "\n",
    "data2 <- imp4$chainVar\n",
    "lapply(1:5, function(i) data2[,,i][6,]) %>%\n",
    "  unlist %>%\n",
    "  sqrt() -> sd\n",
    "p2 <- tibble(\n",
    "  iter = rep(1:30, times = 5),\n",
    "  sd = sd,\n",
    "  chain = factor(rep(1:5, each = 30))\n",
    ") %>%\n",
    "  ggplot(aes(x = iter, y = sd)) +\n",
    "  geom_line(\n",
    "    mapping = aes(group = chain, color = chain), \n",
    "    linewidth = 1,\n",
    "    show.legend = F\n",
    "  )+\n",
    "  geom_text_npc(\n",
    "  mapping = aes(npcx = 1, npcy = 1, label = \"Sd\"),\n",
    "  size = 10\n",
    "  )+\n",
    "  scale_colour_aaas()+\n",
    "  theme_fan()\n",
    "p1/p2"
   ]
  },
  {
   "cell_type": "markdown",
   "metadata": {},
   "source": []
  },
  {
   "cell_type": "markdown",
   "metadata": {},
   "source": [
    "然后，利用`with()`函数可依次对每个完整数据集应用统计模型（如线性模型或广义线性模型）。也可以进一步查看每一个插补数据集的拟合结果。"
   ]
  },
  {
   "cell_type": "code",
   "execution_count": null,
   "metadata": {
    "vscode": {
     "languageId": "r"
    }
   },
   "outputs": [
    {
     "name": "stdout",
     "output_type": "stream",
     "text": [
      "\u001b[90m# A tibble: 15 × 6\u001b[39m\n",
      "   term        estimate std.error statistic  p.value  nobs\n",
      "   \u001b[3m\u001b[90m<chr>\u001b[39m\u001b[23m          \u001b[3m\u001b[90m<dbl>\u001b[39m\u001b[23m     \u001b[3m\u001b[90m<dbl>\u001b[39m\u001b[23m     \u001b[3m\u001b[90m<dbl>\u001b[39m\u001b[23m    \u001b[3m\u001b[90m<dbl>\u001b[39m\u001b[23m \u001b[3m\u001b[90m<int>\u001b[39m\u001b[23m\n",
      "\u001b[90m 1\u001b[39m (Intercept)  2.60      0.259      10.1   2.06\u001b[90me\u001b[39m\u001b[31m-14\u001b[39m    62\n",
      "\u001b[90m 2\u001b[39m Span        -\u001b[31m0\u001b[39m\u001b[31m.\u001b[39m\u001b[31m00\u001b[39m\u001b[31m6\u001b[4m9\u001b[24m\u001b[4m8\u001b[24m\u001b[39m   0.012\u001b[4m5\u001b[24m     -\u001b[31m0\u001b[39m\u001b[31m.\u001b[39m\u001b[31m557\u001b[39m 5.80\u001b[90me\u001b[39m\u001b[31m- 1\u001b[39m    62\n",
      "\u001b[90m 3\u001b[39m Gest        -\u001b[31m0\u001b[39m\u001b[31m.\u001b[39m\u001b[31m00\u001b[39m\u001b[31m3\u001b[4m5\u001b[24m\u001b[4m8\u001b[24m\u001b[39m   0.001\u001b[4m5\u001b[24m\u001b[4m7\u001b[24m    -\u001b[31m2\u001b[39m\u001b[31m.\u001b[39m\u001b[31m28\u001b[39m  2.60\u001b[90me\u001b[39m\u001b[31m- 2\u001b[39m    62\n",
      "\u001b[90m 4\u001b[39m (Intercept)  2.64      0.288       9.18  5.79\u001b[90me\u001b[39m\u001b[31m-13\u001b[39m    62\n",
      "\u001b[90m 5\u001b[39m Span        -\u001b[31m0\u001b[39m\u001b[31m.\u001b[39m\u001b[31m00\u001b[39m\u001b[31m7\u001b[4m2\u001b[24m\u001b[4m0\u001b[24m\u001b[39m   0.013\u001b[4m8\u001b[24m     -\u001b[31m0\u001b[39m\u001b[31m.\u001b[39m\u001b[31m522\u001b[39m 6.03\u001b[90me\u001b[39m\u001b[31m- 1\u001b[39m    62\n",
      "\u001b[90m 6\u001b[39m Gest        -\u001b[31m0\u001b[39m\u001b[31m.\u001b[39m\u001b[31m00\u001b[39m\u001b[31m3\u001b[4m4\u001b[24m\u001b[4m7\u001b[24m\u001b[39m   0.001\u001b[4m7\u001b[24m\u001b[4m1\u001b[24m    -\u001b[31m2\u001b[39m\u001b[31m.\u001b[39m\u001b[31m0\u001b[39m\u001b[31m2\u001b[39m  4.75\u001b[90me\u001b[39m\u001b[31m- 2\u001b[39m    62\n",
      "\u001b[90m 7\u001b[39m (Intercept)  2.66      0.266      10.0   2.52\u001b[90me\u001b[39m\u001b[31m-14\u001b[39m    62\n",
      "\u001b[90m 8\u001b[39m Span        -\u001b[31m0\u001b[39m\u001b[31m.\u001b[39m\u001b[31m00\u001b[39m\u001b[31m8\u001b[4m9\u001b[24m\u001b[4m5\u001b[24m\u001b[39m   0.012\u001b[4m7\u001b[24m     -\u001b[31m0\u001b[39m\u001b[31m.\u001b[39m\u001b[31m703\u001b[39m 4.85\u001b[90me\u001b[39m\u001b[31m- 1\u001b[39m    62\n",
      "\u001b[90m 9\u001b[39m Gest        -\u001b[31m0\u001b[39m\u001b[31m.\u001b[39m\u001b[31m00\u001b[39m\u001b[31m3\u001b[4m2\u001b[24m\u001b[4m6\u001b[24m\u001b[39m   0.001\u001b[4m5\u001b[24m\u001b[4m8\u001b[24m    -\u001b[31m2\u001b[39m\u001b[31m.\u001b[39m\u001b[31m0\u001b[39m\u001b[31m6\u001b[39m  4.38\u001b[90me\u001b[39m\u001b[31m- 2\u001b[39m    62\n",
      "\u001b[90m10\u001b[39m (Intercept)  2.41      0.245       9.83  4.88\u001b[90me\u001b[39m\u001b[31m-14\u001b[39m    62\n",
      "\u001b[90m11\u001b[39m Span        -\u001b[31m0\u001b[39m\u001b[31m.\u001b[39m\u001b[31m00\u001b[39m\u001b[31m8\u001b[4m0\u001b[24m\u001b[4m6\u001b[24m\u001b[39m   0.011\u001b[4m8\u001b[24m     -\u001b[31m0\u001b[39m\u001b[31m.\u001b[39m\u001b[31m681\u001b[39m 4.98\u001b[90me\u001b[39m\u001b[31m- 1\u001b[39m    62\n",
      "\u001b[90m12\u001b[39m Gest        -\u001b[31m0\u001b[39m\u001b[31m.\u001b[39m\u001b[31m00\u001b[39m\u001b[31m2\u001b[4m7\u001b[24m\u001b[4m8\u001b[24m\u001b[39m   0.001\u001b[4m4\u001b[24m\u001b[4m8\u001b[24m    -\u001b[31m1\u001b[39m\u001b[31m.\u001b[39m\u001b[31m88\u001b[39m  6.56\u001b[90me\u001b[39m\u001b[31m- 2\u001b[39m    62\n",
      "\u001b[90m13\u001b[39m (Intercept)  2.48      0.240      10.3   7.38\u001b[90me\u001b[39m\u001b[31m-15\u001b[39m    62\n",
      "\u001b[90m14\u001b[39m Span        -\u001b[31m0\u001b[39m\u001b[31m.\u001b[39m\u001b[31m00\u001b[39m\u001b[31m3\u001b[4m1\u001b[24m\u001b[4m7\u001b[24m\u001b[39m   0.011\u001b[4m6\u001b[24m     -\u001b[31m0\u001b[39m\u001b[31m.\u001b[39m\u001b[31m274\u001b[39m 7.85\u001b[90me\u001b[39m\u001b[31m- 1\u001b[39m    62\n",
      "\u001b[90m15\u001b[39m Gest        -\u001b[31m0\u001b[39m\u001b[31m.\u001b[39m\u001b[31m00\u001b[39m\u001b[31m3\u001b[4m6\u001b[24m\u001b[4m6\u001b[24m\u001b[39m   0.001\u001b[4m4\u001b[24m\u001b[4m5\u001b[24m    -\u001b[31m2\u001b[39m\u001b[31m.\u001b[39m\u001b[31m53\u001b[39m  1.42\u001b[90me\u001b[39m\u001b[31m- 2\u001b[39m    62\n"
     ]
    }
   ],
   "source": [
    "fit <- with(imp4, lm(Dream ~ Span + Gest)) \n",
    "print(summary(fit))"
   ]
  },
  {
   "cell_type": "markdown",
   "metadata": {},
   "source": [
    "最后，`pool()`函数将这些单独的分析结果整合为一组结果---一个包含这m个统计分析平均结果的列表对象。最终模型的标准误和p值都将准确地反映出由于缺失值和多重插补而产生的不确定性。"
   ]
  },
  {
   "cell_type": "code",
   "execution_count": null,
   "metadata": {
    "vscode": {
     "languageId": "r"
    }
   },
   "outputs": [
    {
     "name": "stdout",
     "output_type": "stream",
     "text": [
      "         term     estimate   std.error statistic       df      p.value\n",
      "1 (Intercept)  2.558821088 0.286253706  8.938997 34.67683 1.592399e-10\n",
      "2        Span -0.006872543 0.012747305 -0.539137 54.07182 5.920054e-01\n",
      "3        Gest -0.003349887 0.001609061 -2.081890 51.42229 4.234733e-02\n"
     ]
    }
   ],
   "source": [
    "pooled <- pool(fit)\n",
    "print(summary(pooled))"
   ]
  },
  {
   "cell_type": "markdown",
   "metadata": {},
   "source": [
    "## 循环操作"
   ]
  },
  {
   "cell_type": "markdown",
   "metadata": {},
   "source": [
    "### for, while循环"
   ]
  },
  {
   "cell_type": "markdown",
   "metadata": {},
   "source": [
    "在做此类循环时，需要注意以下两个关键点：\n",
    "1. 提前为保存循环结果分配存储空间。\n",
    "2. 为循环体中涉及到的数据选择合适的数据结构。"
   ]
  },
  {
   "cell_type": "markdown",
   "metadata": {},
   "source": [
    "### apply函数族"
   ]
  },
  {
   "cell_type": "markdown",
   "metadata": {},
   "source": [
    "apply函数族可以代替大部分的for循环、while循环，其大意是“应用（apply）”某函数（fun）到一系列的对象上。根据应用到的对象的不同，是一族apply函数。\n",
    "常用的有：\n",
    "- 分组计算：`apply()`和`tapply()`\n",
    "- 循环迭代：`lapply()`和`sapply()`\n",
    "- 多变量计算：`mapply()`"
   ]
  },
  {
   "cell_type": "markdown",
   "metadata": {},
   "source": [
    "#### apply()函数"
   ]
  },
  {
   "cell_type": "markdown",
   "metadata": {},
   "source": [
    "apply()函数是最常用的代替for循环的函数。apply函数可以对矩阵、数据框、数组(二维、多维)，按行或列进行循环计算，对子元素进行迭代，并把子元素以参数传递的形式给自定义的FUN函数中，并以返回计算结果。基本格式为：\n",
    "```r\n",
    "apply(X, MARGIN, FUN, ..., simplify = TRUE)\n",
    "```"
   ]
  },
  {
   "cell_type": "markdown",
   "metadata": {},
   "source": [
    "- `X`：计算对象\n",
    "- `MARGIN`：一个向量，指定要应用函数的子脚本。例如，对于一个矩阵，<span style = 'color:red'><strong>1表示行，2表示列，c(1, 2)表示行和列</span></strong>。对于一个数组，参数的值指定对应数组的维度。如果X具有命名的dimnames，它可以是一个字符向量，选择维度名称。\n",
    "- `FUN`：要应用的函数。对于像+，%*%，等等这样的函数，函数名称必须用反引号或引号括起来。\n",
    "- `...`：FUN的可选参数。\n",
    "- `simplify`：一个逻辑值，指示是否在可能的情况下简化结果。如果为FALSE，结果返回列表。"
   ]
  },
  {
   "cell_type": "markdown",
   "metadata": {},
   "source": [
    "#### tapply()函数"
   ]
  },
  {
   "cell_type": "markdown",
   "metadata": {},
   "source": [
    "按一组因子INDEX对数据列 x 分组，再分别对每组作用上函数fun。基本格式为：\n",
    "```r\n",
    "tapply(X, INDEX, FUN = NULL, ..., default = NA, simplify = TRUE)\n",
    "```"
   ]
  },
  {
   "cell_type": "markdown",
   "metadata": {},
   "source": [
    "其中，X通常为向量；INDEX为与x长度相同的因子列表（若不是因子，R会强制转化为因子）；simplify = FALSE，返回值为list对象"
   ]
  },
  {
   "cell_type": "markdown",
   "metadata": {},
   "source": [
    "### lapply()函数"
   ]
  },
  {
   "cell_type": "markdown",
   "metadata": {},
   "source": [
    "该函数是一个最基础循环操作函数，用来对vector、list、data.frame<span style = 'color:red'><strong>逐元、逐成分、逐列</strong></span>分别应用函数fun，并返回和X长度同样的`list`列表作为结果。\n",
    "```r\n",
    "lapply(X, FUN, ...)\n",
    "```"
   ]
  },
  {
   "cell_type": "markdown",
   "metadata": {},
   "source": [
    "#### sapply()函数"
   ]
  },
  {
   "cell_type": "markdown",
   "metadata": {},
   "source": [
    "该函数是lapply()的简化版本，多了一个参数simplify，默认为TRUE。若simplify = FALSE，则同lapply()，若为TRUE，则将输出的list简化为向量或矩阵。基本格式为：\n",
    "```r\n",
    "sapply(X, FUN, ..., simplify = TRUE, USE.NAMES = TRUE)\n",
    "```"
   ]
  },
  {
   "cell_type": "markdown",
   "metadata": {},
   "source": [
    "#### mapply()函数"
   ]
  },
  {
   "cell_type": "markdown",
   "metadata": {},
   "source": [
    "mapply()函数是sapply()函数的<span style = 'color:red'><strong>多变量版本</strong></span>。mapply()将函数FUN应用于每个`...`参数的第一个元素，第二个元素，第三个元素，依此类推。如果需要，参数将被循环使用。总的来说该函数的FUN需要传入多参数。\n",
    "```r\n",
    "mapply(FUN, ..., MoreArgs = NULL, SIMPLIFY = TRUE,\n",
    "       USE.NAMES = TRUE)\n",
    "```"
   ]
  },
  {
   "cell_type": "markdown",
   "metadata": {},
   "source": [
    "其中`MoreArgs`是一个包含其他要传递给FUN函数的参数<span style = 'color:red'><strong>列表</strong></span>。也就是说，除了`FUN`和`...`参数之外，可以使用`MoreArgs`来传递额外的参数给`FUN`函数，这些参数将在函数调用中使用。"
   ]
  },
  {
   "cell_type": "code",
   "execution_count": null,
   "metadata": {
    "vscode": {
     "languageId": "r"
    }
   },
   "outputs": [
    {
     "name": "stdout",
     "output_type": "stream",
     "text": [
      "[[1]]\n",
      "[1] 1 2 3 4\n",
      "\n",
      "[[2]]\n",
      "[1] 1 2 3 4 1 2 3 4\n",
      "\n",
      "[[3]]\n",
      " [1] 1 2 3 4 1 2 3 4 1 2 3 4\n",
      "\n",
      "[[4]]\n",
      " [1] 1 2 3 4 1 2 3 4 1 2 3 4 1 2 3 4\n",
      "\n"
     ]
    }
   ],
   "source": [
    "result1 <- mapply(rep, 1:4, MoreArgs = list(x = 1:4))\n",
    "print(result1)"
   ]
  },
  {
   "cell_type": "markdown",
   "metadata": {},
   "source": [
    "不过mapply()是完全不需要研究的base语法，有更好的map语法实现。"
   ]
  },
  {
   "cell_type": "markdown",
   "metadata": {},
   "source": [
    "### map泛型函数"
   ]
  },
  {
   "cell_type": "markdown",
   "metadata": {},
   "source": [
    "泛型函数，相当于数学中的“泛函”，即函数的函数。“传递一个函数给另一个函数”是非常强大的思想，这也是R作为泛函型编程语言的表现之一。`purrr`包提供的函数足以代替许多通常的for循环。虽然apply函数族也能解决类似的问题，但purrr包更具有一致性，从而也更容易学习。另外，purrr包还支持一些快捷用法，且所有函数都是用C语言写的，<span style = 'color:red'><strong>速度更快</strong></span>。用purrr包的解决问题的逻辑是：\n",
    "1. 针对列表每个单独的元，你怎么解决某问题？一旦你解决了该问题，purrr包就可以将你的求解推广到列表中的每一个元。\n",
    "2. 若你正在解决一个复杂问题，你怎么把它分解成若干小问题，使得你能够逐步完成求解？用purrr包，你就可以将这些小问题的求解步骤用管道组合到一起。"
   ]
  },
  {
   "cell_type": "markdown",
   "metadata": {},
   "source": [
    "#### map函数族"
   ]
  },
  {
   "cell_type": "markdown",
   "metadata": {},
   "source": [
    "我们知道循环迭代就是将函数依次应用（映射）到序列的每一个元素上，做相同的操作。序列由一系列可以根据位置索引的元素构成，元素可以很复杂，也可以是不同类型的。`purrr`包提供了一族`map`函数来做这种迭代思想。`map`将定义的函数映射到序列中的每个元素（注意数据框作为特殊的列表，其序列元素为`df[[1]], df[[2]]`等），并返回与输入**相同长度**的结果（每个元素作用后返回一个结果），最后再将这些结果打包到一起返回。`map`函数的后缀决定打包结果，<span style = 'color:red'><strong>如果能打包到一起，就选择合适的后缀打包到一起</strong></span>：\n",
    "- `map(.x, .f)`：打包成**列表**，基本等同于lapply()。\n",
    "- `map_lgl(.x, .f)`：打包成**逻辑向量**。\n",
    "- `map_int(.x, .f)`：打包成**整数型向量**。\n",
    "- `map_dbl(.x, .f)`：打包成**浮点数（实数型）向量**。\n",
    "- `map_chr(.x, .f)`：打包成**字符型向量**。 \n",
    "- `map_dfc(.x, .f)`：打包成**数据框列表**，在通过`bind_cols`按行合并为一个数据框。\n",
    "- `map_dfr(.x, .f)`：打包成**数据框列表**，在通过`bind_rows`按行合并为一个数据框。\n",
    "\n",
    "参数解释：\n",
    "- `.f`：表示一个函数，可以用以下方式指定（更推荐前两种，purrr风格的书写有一定的局限性）：\n",
    "    - 命名函数，例如`mean`等。\n",
    "    - 匿名函数，例如`\\(x) x + 1`或`function(x) x + 1`，为了书写的简洁，更推荐第一种。\n",
    "    - purrr风格的公式，例如`~ .x + 1`。\n",
    "- `...`：传递给映射函数的其他参数。不过现在通常不建议使用`...`来传递额外的（常量）参数给.f 函数。这是因为这种方式可能会导致参数传递不清晰，容易混淆哪些参数属于哪个函数，也可能导致错误消息不够明确。相反，使用简写的匿名函数。这样更容易理解哪些参数属于哪个函数，并且通常会生成更好的错误消息。"
   ]
  },
  {
   "cell_type": "code",
   "execution_count": null,
   "metadata": {
    "vscode": {
     "languageId": "r"
    }
   },
   "outputs": [
    {
     "name": "stdout",
     "output_type": "stream",
     "text": [
      "        a         b         c \n",
      "0.4016410 0.1711823 0.1776984 \n",
      "\u001b[90m# A tibble: 1 × 3\u001b[39m\n",
      "      a     b     c\n",
      "  \u001b[3m\u001b[90m<dbl>\u001b[39m\u001b[23m \u001b[3m\u001b[90m<dbl>\u001b[39m\u001b[23m \u001b[3m\u001b[90m<dbl>\u001b[39m\u001b[23m\n",
      "\u001b[90m1\u001b[39m 0.402 0.171 0.178\n"
     ]
    }
   ],
   "source": [
    "library(tidyverse)\n",
    "set.seed(77)\n",
    "df <- tibble(\n",
    "  a = rnorm(10),\n",
    "  b = rnorm(10),\n",
    "  c = rnorm(10)\n",
    ")\n",
    "\n",
    "print(map_dbl(df, mean))\n",
    "print(map_dfr(df, mean))\n"
   ]
  },
  {
   "cell_type": "markdown",
   "metadata": {},
   "source": [
    "`map2()`函数依次应用二元函数到两个序列的每对元素："
   ]
  },
  {
   "cell_type": "markdown",
   "metadata": {},
   "source": [
    "```r\n",
    "map2(.x, .y, .f, ..., .progress = FALSE)\n",
    "map2_*(.x, .y, .f, ..., .progress = FALSE)\n",
    "```\n",
    "同样，这里的.f函数可以选择三种不同的写法。如果要写成purrr风格的，注意函数只能传入.x，.y参数，例如`~ log(.x + .y)`"
   ]
  },
  {
   "cell_type": "markdown",
   "metadata": {},
   "source": [
    "`map2()`函数也会存在后缀的情况。参数`.x`表示序列1，`.y`表示序列2，`.f`表示映射的二元函数。"
   ]
  },
  {
   "cell_type": "code",
   "execution_count": null,
   "metadata": {
    "vscode": {
     "languageId": "r"
    }
   },
   "outputs": [
    {
     "name": "stdout",
     "output_type": "stream",
     "text": [
      "[[1]]\n",
      "[1] 11\n",
      "\n",
      "[[2]]\n",
      "[1] 21\n",
      "\n",
      "[[3]]\n",
      "[1] 31\n",
      "\n"
     ]
    }
   ],
   "source": [
    "x <- list(1, 1, 1)\n",
    "y <- list(10, 20, 30)\n",
    "mapping <- map2(x, y, \\(x, y) x + y)\n",
    "print(mapping)"
   ]
  },
  {
   "cell_type": "code",
   "execution_count": null,
   "metadata": {
    "vscode": {
     "languageId": "r"
    }
   },
   "outputs": [
    {
     "name": "stdout",
     "output_type": "stream",
     "text": [
      "[[1]]\n",
      "[1] 4.845669 4.045689 5.667252 5.388489 5.549162\n",
      "\n",
      "[[2]]\n",
      "[1]  3.475094 14.434681 21.679839 12.515820 -1.339873\n",
      "\n",
      "[[3]]\n",
      "[1] -23.315439  -4.380738 -12.525207  12.776613 -15.478600\n",
      "\n"
     ]
    }
   ],
   "source": [
    "mu  <-  c(5, 10, -3)\n",
    "sigma  <-  c(1, 5, 10)\n",
    "print(map2(mu, sigma, rnorm, n = 5))"
   ]
  },
  {
   "cell_type": "markdown",
   "metadata": {},
   "source": [
    "`pmap()`函数可以应用多元函数到多个序列的每组元素。"
   ]
  },
  {
   "cell_type": "markdown",
   "metadata": {},
   "source": [
    "```r\n",
    "pmap(.l, .f, ..., .progress = FALSE)\n",
    "pmap_*(.l, .f, ..., .progress = FALSE)\n",
    "```"
   ]
  },
  {
   "cell_type": "markdown",
   "metadata": {},
   "source": [
    "`pmap()`与`map2()`传入两个序列（.x，.y）的思想不一样。其`.l`参数需要指定一个向量列表。<span style = 'color:red'><strong>.l的长度决定了.f将被调用的参数数量</strong></span>。如果参数没有命名，则按位置提供参数；如果命名了，则按名称提供。而这种按名称提供的思想，purrr风格的公式可以给出答案：可以写例如`~ log(..1 + ..2 + ..3)`的形式，或者`~ mean(c(...))`的形式（`...`传入的是x个单值对象，必须要套一个`c(...)`合并为一个向量对象，才能正确传参）。"
   ]
  },
  {
   "cell_type": "code",
   "execution_count": 4,
   "metadata": {
    "vscode": {
     "languageId": "r"
    }
   },
   "outputs": [
    {
     "name": "stdout",
     "output_type": "stream",
     "text": [
      "[1] 5 6 7 8\n"
     ]
    }
   ],
   "source": [
    "library(tidyverse)\n",
    "numlist <- list(a = 1:4, b = 5:8, c = 9:12)\n",
    "mapresult <- pmap_dbl(numlist, ~ mean(c(...)))\n",
    "print(mapresult)"
   ]
  },
  {
   "cell_type": "markdown",
   "metadata": {},
   "source": [
    "数据框是`.l`的一个重要特例。它将导致.f为每一行被调用一次。也就是说 pmap(df, f) 相当于 f(df[1,1],df[1,2],...,d[1,m]), f(df[2,1],df[2,2],...,d[2,m])"
   ]
  },
  {
   "cell_type": "code",
   "execution_count": 5,
   "metadata": {
    "vscode": {
     "languageId": "r"
    }
   },
   "outputs": [
    {
     "name": "stdout",
     "output_type": "stream",
     "text": [
      "\u001b[90m# A tibble: 3 × 3\u001b[39m\n",
      "      n  mean    sd\n",
      "  \u001b[3m\u001b[90m<dbl>\u001b[39m\u001b[23m \u001b[3m\u001b[90m<dbl>\u001b[39m\u001b[23m \u001b[3m\u001b[90m<dbl>\u001b[39m\u001b[23m\n",
      "\u001b[90m1\u001b[39m     1     5     1\n",
      "\u001b[90m2\u001b[39m     3    10     5\n",
      "\u001b[90m3\u001b[39m     5    -\u001b[31m3\u001b[39m    10\n"
     ]
    }
   ],
   "source": [
    "tibb <- tibble(\n",
    "  n = c(1, 3, 5),\n",
    "  mean = c(5, 10, -3),\n",
    "  sd = c(1, 5, 10)\n",
    ")\n",
    "print(tibb)"
   ]
  },
  {
   "cell_type": "code",
   "execution_count": 8,
   "metadata": {
    "vscode": {
     "languageId": "r"
    }
   },
   "outputs": [
    {
     "name": "stdout",
     "output_type": "stream",
     "text": [
      "[[1]]\n",
      "[1] 4.497808\n",
      "\n",
      "[[2]]\n",
      "[1] 10.657656  9.605415 14.433924\n",
      "\n",
      "[[3]]\n",
      "[1]  -1.8302873   0.1863009  -8.8179068   4.1453271 -11.2525943\n",
      "\n"
     ]
    }
   ],
   "source": [
    "set.seed(100)\n",
    "print(\n",
    "  pmap(tibb, ~ rnorm(n = ..1, mean = ..2, sd = ..3))\n",
    ")"
   ]
  },
  {
   "cell_type": "markdown",
   "metadata": {},
   "source": [
    "### walk系列函数"
   ]
  },
  {
   "cell_type": "markdown",
   "metadata": {},
   "source": [
    "walk系列函数与map系列函数的思想是一样的，将函数依次作用到序列上。但与map不同的是，walk系列函数并不关注返回的结果，所以walk系列函数更加适用于批量保存数据绘图文件等：\n",
    "```r\n",
    "walk(.x, .f, ..., .progress = FALSE)\n",
    "walk2(.x, .y, .f, ..., .progress = FALSE)\n",
    "pwalk(.l, .f, ..., .progress = FALSE)\n",
    "```"
   ]
  }
 ],
 "metadata": {
  "kernelspec": {
   "display_name": "R",
   "language": "R",
   "name": "ir"
  },
  "language_info": {
   "codemirror_mode": "r",
   "file_extension": ".r",
   "mimetype": "text/x-r-source",
   "name": "R",
   "pygments_lexer": "r",
   "version": "4.2.3"
  },
  "orig_nbformat": 4
 },
 "nbformat": 4,
 "nbformat_minor": 2
}
