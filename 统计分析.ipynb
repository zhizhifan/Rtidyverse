{
 "cells": [
  {
   "attachments": {},
   "cell_type": "markdown",
   "metadata": {},
   "source": [
    "# 统计建模与R语言"
   ]
  },
  {
   "attachments": {},
   "cell_type": "markdown",
   "metadata": {},
   "source": [
    "## 数据描述性分析"
   ]
  },
  {
   "attachments": {},
   "cell_type": "markdown",
   "metadata": {},
   "source": [
    "### 位置的统计量"
   ]
  },
  {
   "attachments": {},
   "cell_type": "markdown",
   "metadata": {},
   "source": [
    "#### 平均数"
   ]
  },
  {
   "attachments": {},
   "cell_type": "markdown",
   "metadata": {},
   "source": [
    "mean()函数的常见参数：\n",
    "- `x`: 必需参数，表示要计算平均值的数值向量或数值对象（矩阵、数组、数据框都可以）。\n",
    "- `trim`: 可选参数，用于指定要从计算中删除的极值比例。默认值为0，表示不删除任何极值。如果设置为0.1，则将删除最高和最低的10%的极值。\n",
    "- `na.rm`: 可选参数，用于控制是否删除包含缺失值（NA）的元素。默认为FALSE，表示保留包含缺失值的元素；如果设置为TRUE，则在计算平均值时会忽略缺失值。\n",
    "- `weights`: 可选参数，用于指定每个元素的权重。权重应该是与x的长度相同的数值向量。（加权平均）"
   ]
  },
  {
   "cell_type": "code",
   "execution_count": 3,
   "metadata": {
    "vscode": {
     "languageId": "r"
    }
   },
   "outputs": [
    {
     "data": {
      "text/html": [
       "5.5"
      ],
      "text/latex": [
       "5.5"
      ],
      "text/markdown": [
       "5.5"
      ],
      "text/plain": [
       "[1] 5.5"
      ]
     },
     "metadata": {},
     "output_type": "display_data"
    }
   ],
   "source": [
    "data <- seq(1, 10)\n",
    "weights  <- seq(0, 1)\n",
    "mean(x = data, weights = weights)"
   ]
  },
  {
   "attachments": {},
   "cell_type": "markdown",
   "metadata": {},
   "source": [
    "#### 极值"
   ]
  },
  {
   "attachments": {},
   "cell_type": "markdown",
   "metadata": {},
   "source": [
    "用`min()`,  `max()`, `range()`函数（返回最值的向量）"
   ]
  },
  {
   "cell_type": "code",
   "execution_count": 16,
   "metadata": {
    "vscode": {
     "languageId": "r"
    }
   },
   "outputs": [
    {
     "data": {
      "text/html": [
       "47.4"
      ],
      "text/latex": [
       "47.4"
      ],
      "text/markdown": [
       "47.4"
      ],
      "text/plain": [
       "[1] 47.4"
      ]
     },
     "metadata": {},
     "output_type": "display_data"
    },
    {
     "data": {
      "text/html": [
       "75"
      ],
      "text/latex": [
       "75"
      ],
      "text/markdown": [
       "75"
      ],
      "text/plain": [
       "[1] 75"
      ]
     },
     "metadata": {},
     "output_type": "display_data"
    },
    {
     "data": {
      "text/html": [
       "<style>\n",
       ".list-inline {list-style: none; margin:0; padding: 0}\n",
       ".list-inline>li {display: inline-block}\n",
       ".list-inline>li:not(:last-child)::after {content: \"\\00b7\"; padding: 0 .5ex}\n",
       "</style>\n",
       "<ol class=list-inline><li>47.4</li><li>75</li></ol>\n"
      ],
      "text/latex": [
       "\\begin{enumerate*}\n",
       "\\item 47.4\n",
       "\\item 75\n",
       "\\end{enumerate*}\n"
      ],
      "text/markdown": [
       "1. 47.4\n",
       "2. 75\n",
       "\n",
       "\n"
      ],
      "text/plain": [
       "[1] 47.4 75.0"
      ]
     },
     "metadata": {},
     "output_type": "display_data"
    },
    {
     "data": {
      "text/html": [
       "47.4"
      ],
      "text/latex": [
       "47.4"
      ],
      "text/markdown": [
       "47.4"
      ],
      "text/plain": [
       "[1] 47.4"
      ]
     },
     "metadata": {},
     "output_type": "display_data"
    }
   ],
   "source": [
    "data <- c(75, 64, 47.4, 66.9, 62.2, 62.2, 58.7, 63.5)\n",
    "min(data)\n",
    "max(data)\n",
    "range(data)\n",
    "range(data)[1]"
   ]
  },
  {
   "attachments": {},
   "cell_type": "markdown",
   "metadata": {},
   "source": [
    "#### 顺序统计量"
   ]
  },
  {
   "attachments": {},
   "cell_type": "markdown",
   "metadata": {},
   "source": [
    "sort()函数常用的参数：\n",
    "- `x`: 必需参数，表示要排序的向量、列表、数组或数据框。\n",
    "- `decreasing`: 可选参数，用于指定排序的顺序。默认值为FALSE，表示升序排序；如果设置为TRUE，则表示降序排序。\n",
    "- `na.last`: 可选参数，用于指定缺失值的位置。默认值为NA，表示将缺失值放在排序的最后；如果设置为TRUE，则表示将缺失值放在排序的最后；如果设置为FALSE，则表示将缺失值放在排序的最前面。\n",
    "- `index.return`: 可选参数，用于指定是否返回排序的索引。默认值为FALSE，表示不返回排序的索引；如果设置为TRUE，则返回排序后的元素在原始向量中的索引。"
   ]
  },
  {
   "cell_type": "code",
   "execution_count": 1,
   "metadata": {
    "vscode": {
     "languageId": "r"
    }
   },
   "outputs": [
    {
     "data": {
      "text/html": [
       "<style>\n",
       ".list-inline {list-style: none; margin:0; padding: 0}\n",
       ".list-inline>li {display: inline-block}\n",
       ".list-inline>li:not(:last-child)::after {content: \"\\00b7\"; padding: 0 .5ex}\n",
       "</style>\n",
       "<ol class=list-inline><li>47.4</li><li>58.7</li><li>62.2</li><li>62.2</li><li>63.5</li><li>64</li><li>66.9</li><li>75</li></ol>\n"
      ],
      "text/latex": [
       "\\begin{enumerate*}\n",
       "\\item 47.4\n",
       "\\item 58.7\n",
       "\\item 62.2\n",
       "\\item 62.2\n",
       "\\item 63.5\n",
       "\\item 64\n",
       "\\item 66.9\n",
       "\\item 75\n",
       "\\end{enumerate*}\n"
      ],
      "text/markdown": [
       "1. 47.4\n",
       "2. 58.7\n",
       "3. 62.2\n",
       "4. 62.2\n",
       "5. 63.5\n",
       "6. 64\n",
       "7. 66.9\n",
       "8. 75\n",
       "\n",
       "\n"
      ],
      "text/plain": [
       "[1] 47.4 58.7 62.2 62.2 63.5 64.0 66.9 75.0"
      ]
     },
     "metadata": {},
     "output_type": "display_data"
    },
    {
     "data": {
      "text/html": [
       "<dl>\n",
       "\t<dt>$x</dt>\n",
       "\t\t<dd><style>\n",
       ".list-inline {list-style: none; margin:0; padding: 0}\n",
       ".list-inline>li {display: inline-block}\n",
       ".list-inline>li:not(:last-child)::after {content: \"\\00b7\"; padding: 0 .5ex}\n",
       "</style>\n",
       "<ol class=list-inline><li>75</li><li>66.9</li><li>64</li><li>63.5</li><li>62.2</li><li>62.2</li><li>58.7</li><li>47.4</li></ol>\n",
       "</dd>\n",
       "\t<dt>$ix</dt>\n",
       "\t\t<dd><style>\n",
       ".list-inline {list-style: none; margin:0; padding: 0}\n",
       ".list-inline>li {display: inline-block}\n",
       ".list-inline>li:not(:last-child)::after {content: \"\\00b7\"; padding: 0 .5ex}\n",
       "</style>\n",
       "<ol class=list-inline><li>1</li><li>4</li><li>2</li><li>8</li><li>5</li><li>6</li><li>7</li><li>3</li></ol>\n",
       "</dd>\n",
       "</dl>\n"
      ],
      "text/latex": [
       "\\begin{description}\n",
       "\\item[\\$x] \\begin{enumerate*}\n",
       "\\item 75\n",
       "\\item 66.9\n",
       "\\item 64\n",
       "\\item 63.5\n",
       "\\item 62.2\n",
       "\\item 62.2\n",
       "\\item 58.7\n",
       "\\item 47.4\n",
       "\\end{enumerate*}\n",
       "\n",
       "\\item[\\$ix] \\begin{enumerate*}\n",
       "\\item 1\n",
       "\\item 4\n",
       "\\item 2\n",
       "\\item 8\n",
       "\\item 5\n",
       "\\item 6\n",
       "\\item 7\n",
       "\\item 3\n",
       "\\end{enumerate*}\n",
       "\n",
       "\\end{description}\n"
      ],
      "text/markdown": [
       "$x\n",
       ":   1. 75\n",
       "2. 66.9\n",
       "3. 64\n",
       "4. 63.5\n",
       "5. 62.2\n",
       "6. 62.2\n",
       "7. 58.7\n",
       "8. 47.4\n",
       "\n",
       "\n",
       "\n",
       "$ix\n",
       ":   1. 1\n",
       "2. 4\n",
       "3. 2\n",
       "4. 8\n",
       "5. 5\n",
       "6. 6\n",
       "7. 7\n",
       "8. 3\n",
       "\n",
       "\n",
       "\n",
       "\n",
       "\n"
      ],
      "text/plain": [
       "$x\n",
       "[1] 75.0 66.9 64.0 63.5 62.2 62.2 58.7 47.4\n",
       "\n",
       "$ix\n",
       "[1] 1 4 2 8 5 6 7 3\n"
      ]
     },
     "metadata": {},
     "output_type": "display_data"
    },
    {
     "data": {
      "text/html": [
       "<style>\n",
       ".list-inline {list-style: none; margin:0; padding: 0}\n",
       ".list-inline>li {display: inline-block}\n",
       ".list-inline>li:not(:last-child)::after {content: \"\\00b7\"; padding: 0 .5ex}\n",
       "</style>\n",
       "<ol class=list-inline><li>75</li><li>66.9</li><li>64</li><li>63.5</li><li>62.2</li><li>62.2</li><li>58.7</li><li>47.4</li></ol>\n"
      ],
      "text/latex": [
       "\\begin{enumerate*}\n",
       "\\item 75\n",
       "\\item 66.9\n",
       "\\item 64\n",
       "\\item 63.5\n",
       "\\item 62.2\n",
       "\\item 62.2\n",
       "\\item 58.7\n",
       "\\item 47.4\n",
       "\\end{enumerate*}\n"
      ],
      "text/markdown": [
       "1. 75\n",
       "2. 66.9\n",
       "3. 64\n",
       "4. 63.5\n",
       "5. 62.2\n",
       "6. 62.2\n",
       "7. 58.7\n",
       "8. 47.4\n",
       "\n",
       "\n"
      ],
      "text/plain": [
       "[1] 75.0 66.9 64.0 63.5 62.2 62.2 58.7 47.4"
      ]
     },
     "metadata": {},
     "output_type": "display_data"
    }
   ],
   "source": [
    "data <- c(75, 64, 47.4, 66.9, 62.2, 62.2, 58.7, 63.5)\n",
    "sort(x = data)\n",
    "sort(x = data, decreasing = TRUE, index.return = TRUE)\n",
    "rev(sort(x = data)) # reverse翻转"
   ]
  },
  {
   "attachments": {},
   "cell_type": "markdown",
   "metadata": {},
   "source": [
    "order函数可以直接按照升序返回索引值"
   ]
  },
  {
   "cell_type": "code",
   "execution_count": 6,
   "metadata": {
    "vscode": {
     "languageId": "r"
    }
   },
   "outputs": [
    {
     "data": {
      "text/html": [
       "<style>\n",
       ".list-inline {list-style: none; margin:0; padding: 0}\n",
       ".list-inline>li {display: inline-block}\n",
       ".list-inline>li:not(:last-child)::after {content: \"\\00b7\"; padding: 0 .5ex}\n",
       "</style>\n",
       "<ol class=list-inline><li>3</li><li>7</li><li>5</li><li>6</li><li>8</li><li>2</li><li>4</li><li>1</li></ol>\n"
      ],
      "text/latex": [
       "\\begin{enumerate*}\n",
       "\\item 3\n",
       "\\item 7\n",
       "\\item 5\n",
       "\\item 6\n",
       "\\item 8\n",
       "\\item 2\n",
       "\\item 4\n",
       "\\item 1\n",
       "\\end{enumerate*}\n"
      ],
      "text/markdown": [
       "1. 3\n",
       "2. 7\n",
       "3. 5\n",
       "4. 6\n",
       "5. 8\n",
       "6. 2\n",
       "7. 4\n",
       "8. 1\n",
       "\n",
       "\n"
      ],
      "text/plain": [
       "[1] 3 7 5 6 8 2 4 1"
      ]
     },
     "metadata": {},
     "output_type": "display_data"
    },
    {
     "data": {
      "text/html": [
       "<style>\n",
       ".list-inline {list-style: none; margin:0; padding: 0}\n",
       ".list-inline>li {display: inline-block}\n",
       ".list-inline>li:not(:last-child)::after {content: \"\\00b7\"; padding: 0 .5ex}\n",
       "</style>\n",
       "<ol class=list-inline><li>47.4</li><li>58.7</li><li>62.2</li><li>62.2</li><li>63.5</li><li>64</li><li>66.9</li><li>75</li></ol>\n"
      ],
      "text/latex": [
       "\\begin{enumerate*}\n",
       "\\item 47.4\n",
       "\\item 58.7\n",
       "\\item 62.2\n",
       "\\item 62.2\n",
       "\\item 63.5\n",
       "\\item 64\n",
       "\\item 66.9\n",
       "\\item 75\n",
       "\\end{enumerate*}\n"
      ],
      "text/markdown": [
       "1. 47.4\n",
       "2. 58.7\n",
       "3. 62.2\n",
       "4. 62.2\n",
       "5. 63.5\n",
       "6. 64\n",
       "7. 66.9\n",
       "8. 75\n",
       "\n",
       "\n"
      ],
      "text/plain": [
       "[1] 47.4 58.7 62.2 62.2 63.5 64.0 66.9 75.0"
      ]
     },
     "metadata": {},
     "output_type": "display_data"
    }
   ],
   "source": [
    "order(data)\n",
    "data[order(data)]"
   ]
  },
  {
   "attachments": {},
   "cell_type": "markdown",
   "metadata": {},
   "source": [
    "#### 中位数和百分位数"
   ]
  },
  {
   "attachments": {},
   "cell_type": "markdown",
   "metadata": {},
   "source": [
    "- median()求中位数就常用`x`和`na.rm`两个参数。\n",
    "\n",
    "- quantile()函数的常见参数：\n",
    "    - `x`: 必需参数，表示要计算分位数的向量或数值对象。\n",
    "    - `prbs`: 可选参数，表示要计算的概率或分位数值。可以是单个概率值，也可以是一个概率值的向量。默认值为0.25，表示计算第一个四分位数。\n",
    "    - `na.rm`: 可选参数，用于控制是否忽略缺失值。默认值为FALSE，表示在计算分位数时包含缺失值；如果设置为TRUE，则在计算分位数时将忽略缺失值。\n",
    "    - `type`: 可选参数，用于指定分位数的计算方法。可选值包括1（计算第一个四分位数，即25%分位数，默认值）、2（计算第二个四分位数，即中位数）、3（计算第三个四分位数，即75%分位数）等。"
   ]
  },
  {
   "cell_type": "code",
   "execution_count": 1,
   "metadata": {
    "vscode": {
     "languageId": "r"
    }
   },
   "outputs": [
    {
     "data": {
      "text/html": [
       "<style>\n",
       ".dl-inline {width: auto; margin:0; padding: 0}\n",
       ".dl-inline>dt, .dl-inline>dd {float: none; width: auto; display: inline-block}\n",
       ".dl-inline>dt::after {content: \":\\0020\"; padding-right: .5ex}\n",
       ".dl-inline>dt:not(:first-of-type) {padding-left: .5ex}\n",
       "</style><dl class=dl-inline><dt>0%</dt><dd>47.4</dd><dt>20%</dt><dd>56.98</dd><dt>40%</dt><dd>62.2</dd><dt>60%</dt><dd>64</dd><dt>80%</dt><dd>67.32</dd><dt>100%</dt><dd>75</dd></dl>\n"
      ],
      "text/latex": [
       "\\begin{description*}\n",
       "\\item[0\\textbackslash{}\\%] 47.4\n",
       "\\item[20\\textbackslash{}\\%] 56.98\n",
       "\\item[40\\textbackslash{}\\%] 62.2\n",
       "\\item[60\\textbackslash{}\\%] 64\n",
       "\\item[80\\textbackslash{}\\%] 67.32\n",
       "\\item[100\\textbackslash{}\\%] 75\n",
       "\\end{description*}\n"
      ],
      "text/markdown": [
       "0%\n",
       ":   47.420%\n",
       ":   56.9840%\n",
       ":   62.260%\n",
       ":   6480%\n",
       ":   67.32100%\n",
       ":   75\n",
       "\n"
      ],
      "text/plain": [
       "   0%   20%   40%   60%   80%  100% \n",
       "47.40 56.98 62.20 64.00 67.32 75.00 "
      ]
     },
     "metadata": {},
     "output_type": "display_data"
    }
   ],
   "source": [
    "data <- c(75.0, 64.0, 47.4, 66.9, 62.2, 62.2, 58.7, 63.5, 66.6, 64.0, 57.0, 69.0, 56.9, 50.0, 72.0)\n",
    "quantile(x = data, probs = seq(0, 1, 0.2))"
   ]
  },
  {
   "attachments": {},
   "cell_type": "markdown",
   "metadata": {},
   "source": [
    "### 分散程度的统计量"
   ]
  },
  {
   "attachments": {},
   "cell_type": "markdown",
   "metadata": {
    "vscode": {
     "languageId": "r"
    }
   },
   "source": [
    "#### 方差与标准差"
   ]
  },
  {
   "attachments": {},
   "cell_type": "markdown",
   "metadata": {},
   "source": [
    "`var()`, `sd()`函数用于计算一组数据的方差/标准差的常用参数：\n",
    "- `x`: 要计算方差的数据向量或数据框。\n",
    "- `na.rm`: 逻辑值，表示是否移除包含缺失值（NA）的观测值。默认为FALSE，表示不移除缺失值。"
   ]
  },
  {
   "cell_type": "code",
   "execution_count": 7,
   "metadata": {
    "vscode": {
     "languageId": "r"
    }
   },
   "outputs": [
    {
     "data": {
      "text/html": [
       "56.4725714285714"
      ],
      "text/latex": [
       "56.4725714285714"
      ],
      "text/markdown": [
       "56.4725714285714"
      ],
      "text/plain": [
       "[1] 56.47257"
      ]
     },
     "metadata": {},
     "output_type": "display_data"
    },
    {
     "data": {
      "text/html": [
       "7.51482344626748"
      ],
      "text/latex": [
       "7.51482344626748"
      ],
      "text/markdown": [
       "7.51482344626748"
      ],
      "text/plain": [
       "[1] 7.514823"
      ]
     },
     "metadata": {},
     "output_type": "display_data"
    },
    {
     "data": {
      "text/html": [
       "52.7077333333333"
      ],
      "text/latex": [
       "52.7077333333333"
      ],
      "text/markdown": [
       "52.7077333333333"
      ],
      "text/plain": [
       "[1] 52.70773"
      ]
     },
     "metadata": {},
     "output_type": "display_data"
    }
   ],
   "source": [
    "data <- c(75.0, 64.0, 47.4, 66.9, 62.2, 62.2, 58.7, 63.5, 66.6, 64.0, 57.0, 69.0, 56.9, 50.0, 72.0)\n",
    "var(x = data)\n",
    "sd(x = data)\n",
    "\n",
    "# var()求的是样本方差， 进一步由样本方差求得总体方差\n",
    "n <- length(data)\n",
    "sample_var <- (n-1) * var(data) / n\n",
    "sample_var"
   ]
  },
  {
   "attachments": {},
   "cell_type": "markdown",
   "metadata": {},
   "source": [
    "cor(), cov()用于计算相关系数、协方差，其主要参数：\n",
    "- `x和y`：要计算协方差的向量、因子或数据框。\n",
    "- `method`：指定计算协方差的方法，默认为\"pearson\"，表示使用皮尔逊相关系数。其他选项包括\"kendall\"（肯德尔相关系数）和\"spearman\"（斯皮尔曼相关系数）。"
   ]
  },
  {
   "cell_type": "code",
   "execution_count": 5,
   "metadata": {
    "vscode": {
     "languageId": "r"
    }
   },
   "outputs": [
    {
     "data": {
      "text/html": [
       "0.00728486212972795"
      ],
      "text/latex": [
       "0.00728486212972795"
      ],
      "text/markdown": [
       "0.00728486212972795"
      ],
      "text/plain": [
       "[1] 0.007284862"
      ]
     },
     "metadata": {},
     "output_type": "display_data"
    },
    {
     "data": {
      "text/html": [
       "10"
      ],
      "text/latex": [
       "10"
      ],
      "text/markdown": [
       "10"
      ],
      "text/plain": [
       "[1] 10"
      ]
     },
     "metadata": {},
     "output_type": "display_data"
    },
    {
     "data": {
      "text/html": [
       "1.72222222222222"
      ],
      "text/latex": [
       "1.72222222222222"
      ],
      "text/markdown": [
       "1.72222222222222"
      ],
      "text/plain": [
       "[1] 1.722222"
      ]
     },
     "metadata": {},
     "output_type": "display_data"
    },
    {
     "data": {
      "text/html": [
       "0.0167645884425438"
      ],
      "text/latex": [
       "0.0167645884425438"
      ],
      "text/markdown": [
       "0.0167645884425438"
      ],
      "text/plain": [
       "[1] 0.01676459"
      ]
     },
     "metadata": {},
     "output_type": "display_data"
    },
    {
     "data": {
      "text/html": [
       "<table class=\"dataframe\">\n",
       "<caption>A matrix: 2 × 2 of type dbl</caption>\n",
       "<thead>\n",
       "\t<tr><th></th><th scope=col>x</th><th scope=col>y</th></tr>\n",
       "</thead>\n",
       "<tbody>\n",
       "\t<tr><th scope=row>x</th><td>252.7667</td><td>60.60000</td></tr>\n",
       "\t<tr><th scope=row>y</th><td> 60.6000</td><td>17.15556</td></tr>\n",
       "</tbody>\n",
       "</table>\n"
      ],
      "text/latex": [
       "A matrix: 2 × 2 of type dbl\n",
       "\\begin{tabular}{r|ll}\n",
       "  & x & y\\\\\n",
       "\\hline\n",
       "\tx & 252.7667 & 60.60000\\\\\n",
       "\ty &  60.6000 & 17.15556\\\\\n",
       "\\end{tabular}\n"
      ],
      "text/markdown": [
       "\n",
       "A matrix: 2 × 2 of type dbl\n",
       "\n",
       "| <!--/--> | x | y |\n",
       "|---|---|---|\n",
       "| x | 252.7667 | 60.60000 |\n",
       "| y |  60.6000 | 17.15556 |\n",
       "\n"
      ],
      "text/plain": [
       "  x        y       \n",
       "x 252.7667 60.60000\n",
       "y  60.6000 17.15556"
      ]
     },
     "metadata": {},
     "output_type": "display_data"
    },
    {
     "data": {
      "text/html": [
       "<table class=\"dataframe\">\n",
       "<caption>A matrix: 2 × 2 of type dbl</caption>\n",
       "<thead>\n",
       "\t<tr><th></th><th scope=col>x</th><th scope=col>y</th></tr>\n",
       "</thead>\n",
       "<tbody>\n",
       "\t<tr><th scope=row>x</th><td>1.0000000</td><td>0.9202595</td></tr>\n",
       "\t<tr><th scope=row>y</th><td>0.9202595</td><td>1.0000000</td></tr>\n",
       "</tbody>\n",
       "</table>\n"
      ],
      "text/latex": [
       "A matrix: 2 × 2 of type dbl\n",
       "\\begin{tabular}{r|ll}\n",
       "  & x & y\\\\\n",
       "\\hline\n",
       "\tx & 1.0000000 & 0.9202595\\\\\n",
       "\ty & 0.9202595 & 1.0000000\\\\\n",
       "\\end{tabular}\n"
      ],
      "text/markdown": [
       "\n",
       "A matrix: 2 × 2 of type dbl\n",
       "\n",
       "| <!--/--> | x | y |\n",
       "|---|---|---|\n",
       "| x | 1.0000000 | 0.9202595 |\n",
       "| y | 0.9202595 | 1.0000000 |\n",
       "\n"
      ],
      "text/plain": [
       "  x         y        \n",
       "x 1.0000000 0.9202595\n",
       "y 0.9202595 1.0000000"
      ]
     },
     "metadata": {},
     "output_type": "display_data"
    }
   ],
   "source": [
    "set.seed(1000)\n",
    "data1 <- rnorm(10, mean = 2, sd = 4)\n",
    "data2 <- rt(10, df = 10)\n",
    "cor(x = data1, y = data2, method = \"pearson\")\n",
    "\n",
    "\n",
    "cov(x = data1, y = data2, method = \"kendall\")\n",
    "cov(x = data1, y = data2, method = \"spearman\")\n",
    "cov(x = data1, y = data2, method = \"pearson\")\n",
    "\n",
    "ore <-data.frame(\n",
    "     x=c(67, 54, 72, 64, 39, 22, 58, 43, 46, 34),\n",
    "     y=c(24, 15, 23, 19, 16, 11, 20, 16, 17, 13)\n",
    ")\n",
    "# 返回协方差和相关系数矩阵\n",
    "cov(ore)\n",
    "cor(ore)"
   ]
  },
  {
   "attachments": {},
   "cell_type": "markdown",
   "metadata": {},
   "source": [
    "相关系数的检验"
   ]
  },
  {
   "cell_type": "code",
   "execution_count": 4,
   "metadata": {
    "vscode": {
     "languageId": "r"
    }
   },
   "outputs": [
    {
     "data": {
      "text/plain": [
       "\n",
       "\tPearson's product-moment correlation\n",
       "\n",
       "data:  data1 and data2\n",
       "t = 0.020605, df = 8, p-value = 0.9841\n",
       "alternative hypothesis: true correlation is not equal to 0\n",
       "95 percent confidence interval:\n",
       " -0.6252091  0.6340032\n",
       "sample estimates:\n",
       "        cor \n",
       "0.007284862 \n"
      ]
     },
     "metadata": {},
     "output_type": "display_data"
    },
    {
     "data": {
      "text/plain": [
       "\n",
       "\tSpearman's rank correlation rho\n",
       "\n",
       "data:  data1 and data2\n",
       "S = 134, p-value = 0.6076\n",
       "alternative hypothesis: true rho is not equal to 0\n",
       "sample estimates:\n",
       "      rho \n",
       "0.1878788 \n"
      ]
     },
     "metadata": {},
     "output_type": "display_data"
    }
   ],
   "source": [
    "cor.test(data1, data2, method = \"pearson\")\n",
    "cor.test(data1, data2, method = \"spearman\")"
   ]
  },
  {
   "attachments": {},
   "cell_type": "markdown",
   "metadata": {},
   "source": [
    "#### 变异系数"
   ]
  },
  {
   "attachments": {},
   "cell_type": "markdown",
   "metadata": {},
   "source": [
    "变异系数是无量纲处理，用标准差除以均值得到。"
   ]
  },
  {
   "attachments": {},
   "cell_type": "markdown",
   "metadata": {},
   "source": [
    "### 分布形状的统计量"
   ]
  },
  {
   "attachments": {},
   "cell_type": "markdown",
   "metadata": {},
   "source": [
    "#### 偏度和峰度"
   ]
  },
  {
   "cell_type": "code",
   "execution_count": 13,
   "metadata": {
    "vscode": {
     "languageId": "r"
    }
   },
   "outputs": [
    {
     "data": {
      "text/html": [
       "-0.385707252365013"
      ],
      "text/latex": [
       "-0.385707252365013"
      ],
      "text/markdown": [
       "-0.385707252365013"
      ],
      "text/plain": [
       "[1] -0.3857073"
      ]
     },
     "metadata": {},
     "output_type": "display_data"
    },
    {
     "data": {
      "text/html": [
       "2.69223284612021"
      ],
      "text/latex": [
       "2.69223284612021"
      ],
      "text/markdown": [
       "2.69223284612021"
      ],
      "text/plain": [
       "[1] 2.692233"
      ]
     },
     "metadata": {},
     "output_type": "display_data"
    }
   ],
   "source": [
    "data <- c(75.0, 64.0, 47.4, 66.9, 62.2, 62.2, 58.7, 63.5, 66.6, 64.0, 57.0, 69.0, 56.9, 50.0, 72.0)\n",
    "skewness(data)  # 偏度\n",
    "kurtosis(data)  # 峰度"
   ]
  },
  {
   "attachments": {},
   "cell_type": "markdown",
   "metadata": {},
   "source": [
    "#### summary?"
   ]
  },
  {
   "cell_type": "code",
   "execution_count": 24,
   "metadata": {
    "vscode": {
     "languageId": "r"
    }
   },
   "outputs": [
    {
     "data": {
      "text/plain": [
       "   Min. 1st Qu.  Median    Mean 3rd Qu.    Max. \n",
       "  47.40   57.85   63.50   62.36   66.75   75.00 "
      ]
     },
     "metadata": {},
     "output_type": "display_data"
    },
    {
     "data": {
      "text/plain": [
       "Min. \n",
       "47.4 "
      ]
     },
     "metadata": {},
     "output_type": "display_data"
    }
   ],
   "source": [
    "data <- c(75.0, 64.0, 47.4, 66.9, 62.2, 62.2, 58.7, 63.5, 66.6, 64.0, 57.0, 69.0, 56.9, 50.0, 72.0)\n",
    "summary(data)\n",
    "summary(data)[\"Min.\"]"
   ]
  },
  {
   "attachments": {},
   "cell_type": "markdown",
   "metadata": {},
   "source": [
    "## 数据分布"
   ]
  },
  {
   "attachments": {},
   "cell_type": "markdown",
   "metadata": {},
   "source": [
    "### 正态分布（高斯分布）"
   ]
  },
  {
   "attachments": {},
   "cell_type": "markdown",
   "metadata": {},
   "source": [
    "qnorm()函数是R中用于计算正态分布的累积分布函数的逆函数。它可以根据给定的概率值计算对应的分位数（即给定概率下的观测值）。以下是qnorm()函数的常用参数：\n",
    "- `p`：表示累积概率值，即要计算的分位数对应的概率值。\n",
    "- ` mean`：表示正态分布的均值（默认为0）。\n",
    "- `sd`：表示正态分布的标准差（默认为1）。\n",
    "- `lower.tail`：一个逻辑值，用于指定计算累积分布函数的方式。当lower.tail=TRUE时（默认值），计算累积分布函数的左侧概率；当lower.tail=FALSE时，计算右侧概率。"
   ]
  },
  {
   "cell_type": "code",
   "execution_count": 26,
   "metadata": {
    "vscode": {
     "languageId": "r"
    }
   },
   "outputs": [
    {
     "data": {
      "text/html": [
       "-1.64485362695147"
      ],
      "text/latex": [
       "-1.64485362695147"
      ],
      "text/markdown": [
       "-1.64485362695147"
      ],
      "text/plain": [
       "[1] -1.644854"
      ]
     },
     "metadata": {},
     "output_type": "display_data"
    },
    {
     "data": {
      "text/html": [
       "1.64485362695147"
      ],
      "text/latex": [
       "1.64485362695147"
      ],
      "text/markdown": [
       "1.64485362695147"
      ],
      "text/plain": [
       "[1] 1.644854"
      ]
     },
     "metadata": {},
     "output_type": "display_data"
    },
    {
     "data": {
      "text/html": [
       "1.64485362695147"
      ],
      "text/latex": [
       "1.64485362695147"
      ],
      "text/markdown": [
       "1.64485362695147"
      ],
      "text/plain": [
       "[1] 1.644854"
      ]
     },
     "metadata": {},
     "output_type": "display_data"
    }
   ],
   "source": [
    "qnorm(p = 0.05, mean = 0, sd = 1)\n",
    "qnorm(p = 0.95, mean = 0, sd = 1)\n",
    "qnorm(p = 0.05, mean = 0, sd = 1, lower.tail = FALSE)"
   ]
  },
  {
   "attachments": {},
   "cell_type": "markdown",
   "metadata": {},
   "source": [
    "pnorm()函数是R中用于计算正态分布的累积分布函数。它可以计算给定值的累积概率（即小于或等于给定值的概率）。以下是pnorm()函数的常用参数：\n",
    "- `q`：表示要计算累积概率的值。\n",
    "- `mean`：表示正态分布的均值（默认为0）。\n",
    "- `sd`：表示正态分布的标准差（默认为1）。\n",
    "- `lower.tail`：一个逻辑值，用于指定计算累积分布函数的方式。当lower.tail=TRUE时（默认值），计算累积分布函数的左侧概率；当lower.tail=FALSE时，计算右侧概率。"
   ]
  },
  {
   "cell_type": "code",
   "execution_count": 28,
   "metadata": {
    "vscode": {
     "languageId": "r"
    }
   },
   "outputs": [
    {
     "data": {
      "text/html": [
       "0.308537538725987"
      ],
      "text/latex": [
       "0.308537538725987"
      ],
      "text/markdown": [
       "0.308537538725987"
      ],
      "text/plain": [
       "[1] 0.3085375"
      ]
     },
     "metadata": {},
     "output_type": "display_data"
    },
    {
     "data": {
      "text/html": [
       "0.691462461274013"
      ],
      "text/latex": [
       "0.691462461274013"
      ],
      "text/markdown": [
       "0.691462461274013"
      ],
      "text/plain": [
       "[1] 0.6914625"
      ]
     },
     "metadata": {},
     "output_type": "display_data"
    }
   ],
   "source": [
    "pnorm(q = -0.5, mean = 0, sd = 1)\n",
    "pnorm(q = -0.5, mean = 0, sd = 1, lower.tail = FALSE)"
   ]
  },
  {
   "attachments": {},
   "cell_type": "markdown",
   "metadata": {},
   "source": [
    "dnorm()函数是R中用于计算正态分布的概率密度函数（Probability Density Function, PDF）。它可以计算给定值处的概率密度。以下是dnorm()函数的常用参数：\n",
    "- `x`：表示要计算概率密度的值。\n",
    "- `mean`：表示正态分布的均值（默认为0）。\n",
    "- `sd`：表示正态分布的标准差（默认为1）。"
   ]
  },
  {
   "cell_type": "code",
   "execution_count": 29,
   "metadata": {
    "vscode": {
     "languageId": "r"
    }
   },
   "outputs": [
    {
     "data": {
      "text/html": [
       "0.3332246028918"
      ],
      "text/latex": [
       "0.3332246028918"
      ],
      "text/markdown": [
       "0.3332246028918"
      ],
      "text/plain": [
       "[1] 0.3332246"
      ]
     },
     "metadata": {},
     "output_type": "display_data"
    }
   ],
   "source": [
    "dnorm(x = 0.6, mean = 0, sd = 1)"
   ]
  },
  {
   "attachments": {},
   "cell_type": "markdown",
   "metadata": {},
   "source": [
    "rnorm()函数是R中用于生成服从正态分布（高斯分布）的随机数的函数。它可以生成指定数量的随机数样本。以下是rnorm()函数的常用参数：\n",
    "- `n`：表示要生成的随机数样本的数量。\n",
    "- `mean`：表示正态分布的均值（默认为0）。\n",
    "- `sd`：表示正态分布的标准差（默认为1）。"
   ]
  },
  {
   "cell_type": "code",
   "execution_count": 33,
   "metadata": {
    "vscode": {
     "languageId": "r"
    }
   },
   "outputs": [
    {
     "data": {
      "text/html": [
       "<style>\n",
       ".list-inline {list-style: none; margin:0; padding: 0}\n",
       ".list-inline>li {display: inline-block}\n",
       ".list-inline>li:not(:last-child)::after {content: \"\\00b7\"; padding: 0 .5ex}\n",
       "</style>\n",
       "<ol class=list-inline><li>-1.37810255888946</li><li>-0.968182883154639</li><li>0.251711380123191</li><li>-1.0946936973485</li><li>0.397642844960184</li></ol>\n"
      ],
      "text/latex": [
       "\\begin{enumerate*}\n",
       "\\item -1.37810255888946\n",
       "\\item -0.968182883154639\n",
       "\\item 0.251711380123191\n",
       "\\item -1.0946936973485\n",
       "\\item 0.397642844960184\n",
       "\\end{enumerate*}\n"
      ],
      "text/markdown": [
       "1. -1.37810255888946\n",
       "2. -0.968182883154639\n",
       "3. 0.251711380123191\n",
       "4. -1.0946936973485\n",
       "5. 0.397642844960184\n",
       "\n",
       "\n"
      ],
      "text/plain": [
       "[1] -1.3781026 -0.9681829  0.2517114 -1.0946937  0.3976428"
      ]
     },
     "metadata": {},
     "output_type": "display_data"
    }
   ],
   "source": [
    "rnorm(5, mean = 0, sd = 1)"
   ]
  },
  {
   "attachments": {},
   "cell_type": "markdown",
   "metadata": {},
   "source": [
    "Shapiro-Wilk的正态分布检验"
   ]
  },
  {
   "cell_type": "code",
   "execution_count": 44,
   "metadata": {
    "vscode": {
     "languageId": "r"
    }
   },
   "outputs": [
    {
     "data": {
      "text/plain": [
       "\n",
       "\tShapiro-Wilk normality test\n",
       "\n",
       "data:  data\n",
       "W = 0.96862, p-value = 0.8371\n"
      ]
     },
     "metadata": {},
     "output_type": "display_data"
    }
   ],
   "source": [
    "data <- c(75.0, 64.0, 47.4, 66.9, 62.2, 62.2, 58.7, 63.5, 66.6, 64.0, 57.0, 69.0, 56.9, 50.0, 72.0)\n",
    "shapiro.test(data)"
   ]
  },
  {
   "attachments": {},
   "cell_type": "markdown",
   "metadata": {},
   "source": [
    "### 卡方分布（Chi-Square）"
   ]
  },
  {
   "attachments": {},
   "cell_type": "markdown",
   "metadata": {},
   "source": [
    "卡方分布的特殊之处只有`df`参数的设置。"
   ]
  },
  {
   "cell_type": "code",
   "execution_count": 32,
   "metadata": {
    "vscode": {
     "languageId": "r"
    }
   },
   "outputs": [
    {
     "data": {
      "text/html": [
       "3.94029913611906"
      ],
      "text/latex": [
       "3.94029913611906"
      ],
      "text/markdown": [
       "3.94029913611906"
      ],
      "text/plain": [
       "[1] 3.940299"
      ]
     },
     "metadata": {},
     "output_type": "display_data"
    },
    {
     "data": {
      "text/html": [
       "18.3070380532751"
      ],
      "text/latex": [
       "18.3070380532751"
      ],
      "text/markdown": [
       "18.3070380532751"
      ],
      "text/plain": [
       "[1] 18.30704"
      ]
     },
     "metadata": {},
     "output_type": "display_data"
    },
    {
     "data": {
      "text/html": [
       "0.00365984682734371"
      ],
      "text/latex": [
       "0.00365984682734371"
      ],
      "text/markdown": [
       "0.00365984682734371"
      ],
      "text/plain": [
       "[1] 0.003659847"
      ]
     },
     "metadata": {},
     "output_type": "display_data"
    },
    {
     "data": {
      "text/html": [
       "0.00766415502440505"
      ],
      "text/latex": [
       "0.00766415502440505"
      ],
      "text/markdown": [
       "0.00766415502440505"
      ],
      "text/plain": [
       "[1] 0.007664155"
      ]
     },
     "metadata": {},
     "output_type": "display_data"
    },
    {
     "data": {
      "text/html": [
       "<style>\n",
       ".list-inline {list-style: none; margin:0; padding: 0}\n",
       ".list-inline>li {display: inline-block}\n",
       ".list-inline>li:not(:last-child)::after {content: \"\\00b7\"; padding: 0 .5ex}\n",
       "</style>\n",
       "<ol class=list-inline><li>9.80406011110999</li><li>8.81558737824172</li><li>8.33148009619644</li><li>10.0007664017474</li><li>9.46239983333492</li></ol>\n"
      ],
      "text/latex": [
       "\\begin{enumerate*}\n",
       "\\item 9.80406011110999\n",
       "\\item 8.81558737824172\n",
       "\\item 8.33148009619644\n",
       "\\item 10.0007664017474\n",
       "\\item 9.46239983333492\n",
       "\\end{enumerate*}\n"
      ],
      "text/markdown": [
       "1. 9.80406011110999\n",
       "2. 8.81558737824172\n",
       "3. 8.33148009619644\n",
       "4. 10.0007664017474\n",
       "5. 9.46239983333492\n",
       "\n",
       "\n"
      ],
      "text/plain": [
       "[1]  9.804060  8.815587  8.331480 10.000766  9.462400"
      ]
     },
     "metadata": {},
     "output_type": "display_data"
    }
   ],
   "source": [
    "qchisq(p = 0.05, df = 10)\n",
    "qchisq(p = 0.05, df = 10, lower.tail = FALSE)\n",
    "pchisq(q = 2, df = 10)\n",
    "dchisq(x = 2, df = 10)\n",
    "rchisq(n = 5, df = 10)"
   ]
  },
  {
   "attachments": {},
   "cell_type": "markdown",
   "metadata": {},
   "source": [
    "### 分布检验"
   ]
  },
  {
   "attachments": {},
   "cell_type": "markdown",
   "metadata": {},
   "source": [
    "#### Kolmogorov-Smirnov test（ks检验）"
   ]
  },
  {
   "attachments": {},
   "cell_type": "markdown",
   "metadata": {},
   "source": [
    "KS检验（Kolmogorov-Smirnov test）是一种非参数统计检验方法，用于检验两个样本是否来自同一个分布或者一个样本是否来自某个特定的理论分布。它基于经验分布函数（empirical distribution function，简称EDF）与理论分布函数之间的最大差异。有如下几个常用参数：\n",
    "- `x`：待检验的数据向量，包含数值型的数据值。\n",
    "- `y`：可选参数，可以是另一个数据向量，或者是指定累积分布函数的字符字符串，如pnorm。只有连续型的累积分布函数是有效的。\n",
    "- `...`：对于默认方法，是传递给或从方法中传出的分布参数。可以是分布的字符字符串形式。对于其他方法，是其他需要传递的参数。\n",
    "- `alternative`：指定备择假设的类型，可取值为\"two.sided\"（双侧检验，默认）、\"less\"（左侧检验）或\"greater\"（右侧检验）。\n",
    "- `exact`：指定是否计算精确的p值，可以是NULL或逻辑值。详细解释请参考文档中的说明。"
   ]
  },
  {
   "cell_type": "code",
   "execution_count": 49,
   "metadata": {
    "vscode": {
     "languageId": "r"
    }
   },
   "outputs": [
    {
     "data": {
      "text/plain": [
       "\n",
       "\tExact one-sample Kolmogorov-Smirnov test\n",
       "\n",
       "data:  data\n",
       "D = 0.046175, p-value = 0.9768\n",
       "alternative hypothesis: two-sided\n"
      ]
     },
     "metadata": {},
     "output_type": "display_data"
    },
    {
     "data": {
      "text/plain": [
       "\n",
       "\tExact one-sample Kolmogorov-Smirnov test\n",
       "\n",
       "data:  data\n",
       "D^+ = 0.046175, p-value = 0.6335\n",
       "alternative hypothesis: the CDF of x lies above the null hypothesis\n"
      ]
     },
     "metadata": {},
     "output_type": "display_data"
    }
   ],
   "source": [
    "data <- rnorm(100, mean = 1, sd = 2)\n",
    "ks.test(x = data, y = \"pnorm\", mean = 1, sd = 2, exact = TRUE)\n",
    "ks.test(x = data, y = \"pnorm\", mean = 1, sd = 2, alternative = \"greater\", exact = TRUE)"
   ]
  },
  {
   "attachments": {},
   "cell_type": "markdown",
   "metadata": {},
   "source": [
    "ks检验不能出现重复值，在检验前需要用相关方法进行去重。"
   ]
  },
  {
   "attachments": {},
   "cell_type": "markdown",
   "metadata": {},
   "source": [
    "## 参数检验"
   ]
  },
  {
   "attachments": {},
   "cell_type": "markdown",
   "metadata": {},
   "source": [
    "### 二项分布的检验"
   ]
  },
  {
   "attachments": {},
   "cell_type": "markdown",
   "metadata": {},
   "source": [
    "```r\n",
    "binom.test(x = , n = , p = , alternative = c(\"two.sided\", \"greater\", \"less\"), conf.level = )\n",
    "```"
   ]
  },
  {
   "cell_type": "code",
   "execution_count": 9,
   "metadata": {
    "vscode": {
     "languageId": "r"
    }
   },
   "outputs": [
    {
     "data": {
      "text/plain": [
       "\n",
       "\tExact binomial test\n",
       "\n",
       "data:  445 and 500\n",
       "number of successes = 445, number of trials = 500, p-value = 0.01207\n",
       "alternative hypothesis: true probability of success is not equal to 0.85\n",
       "95 percent confidence interval:\n",
       " 0.8592342 0.9160509\n",
       "sample estimates:\n",
       "probability of success \n",
       "                  0.89 \n"
      ]
     },
     "metadata": {},
     "output_type": "display_data"
    }
   ],
   "source": [
    "binom.test(x = 445, n = 500, p = 0.85, alternative = \"two.sided\", conf.level = 0.95)"
   ]
  }
 ],
 "metadata": {
  "kernelspec": {
   "display_name": "R",
   "language": "R",
   "name": "ir"
  },
  "language_info": {
   "codemirror_mode": "r",
   "file_extension": ".r",
   "mimetype": "text/x-r-source",
   "name": "R",
   "pygments_lexer": "r",
   "version": "4.2.3"
  },
  "orig_nbformat": 4
 },
 "nbformat": 4,
 "nbformat_minor": 2
}
